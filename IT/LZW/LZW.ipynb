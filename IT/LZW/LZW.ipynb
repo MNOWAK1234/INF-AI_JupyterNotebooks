{
 "cells": [
  {
   "cell_type": "markdown",
   "metadata": {},
   "source": [
    "# LZW Compression\n",
    "\n",
    "The goal of this task is to implement the LZW algorithm for data compression. Let's begin by importing all the necessary libraries in Python.\n"
   ]
  },
  {
   "cell_type": "code",
   "execution_count": 28,
   "metadata": {},
   "outputs": [],
   "source": [
    "import struct\n",
    "from PIL import Image\n",
    "import os"
   ]
  },
  {
   "cell_type": "markdown",
   "metadata": {},
   "source": [
    "Then, let's write the basic functions for compression and decompression and check if they work correctly.\n"
   ]
  },
  {
   "cell_type": "code",
   "execution_count": 29,
   "metadata": {},
   "outputs": [
    {
     "name": "stdout",
     "output_type": "stream",
     "text": [
      "Original text: Sample text for LZW compression\n",
      "Text after compression and decompression: Sample text for LZW compression\n"
     ]
    }
   ],
   "source": [
    "def lzw_compress(data):\n",
    "    dictionary = {chr(i): i for i in range(256)}\n",
    "    dict_size = 256\n",
    "    result = []\n",
    "    w = \"\"\n",
    "\n",
    "    for c in data:\n",
    "        wc = w + c\n",
    "        if wc in dictionary:\n",
    "            w = wc\n",
    "        else:\n",
    "            result.append(dictionary[w])\n",
    "            dictionary[wc] = dict_size\n",
    "            dict_size += 1\n",
    "            w = c\n",
    "\n",
    "    if w:\n",
    "        result.append(dictionary[w])\n",
    "\n",
    "    return result\n",
    "\n",
    "def lzw_decompress(compressed):\n",
    "    \"\"\"Decompress a list of output ks to a string using LZW.\"\"\"\n",
    "    dictionary = {i: chr(i) for i in range(256)}\n",
    "    dict_size = 256\n",
    "    result = []\n",
    "\n",
    "    w = chr(compressed.pop(0))\n",
    "    result.append(w)\n",
    "\n",
    "    for k in compressed:\n",
    "        if k in dictionary:\n",
    "            entry = dictionary[k]\n",
    "        elif k == dict_size:\n",
    "            entry = w + w[0]\n",
    "        else:\n",
    "            raise ValueError(\"Bad compressed k: %s\" % k)\n",
    "\n",
    "        result.append(entry)\n",
    "\n",
    "        dictionary[dict_size] = w + entry[0]\n",
    "        dict_size += 1\n",
    "\n",
    "        w = entry\n",
    "\n",
    "    return \"\".join(result)\n",
    "\n",
    "text_original = \"Sample text for LZW compression\"\n",
    "print(f\"Original text: {text_original}\")\n",
    "compressed = lzw_compress(text_original)\n",
    "print(f\"Text after compression and decompression: {lzw_decompress(compressed)}\")"
   ]
  },
  {
   "cell_type": "markdown",
   "metadata": {},
   "source": [
    "The goal of this task is to apply LZW compression on `.txt` and `.bmp` files, so we also need some functions for reading and saving data before and after compression.\n"
   ]
  },
  {
   "cell_type": "code",
   "execution_count": 30,
   "metadata": {},
   "outputs": [],
   "source": [
    "def read_text_file(filepath):\n",
    "    with open(filepath, 'r', encoding='utf-8') as f:\n",
    "        return f.read()\n",
    "\n",
    "def save_compressed_file(filepath, compressed_data):\n",
    "    with open(filepath, 'wb') as f:\n",
    "        for code in compressed_data:\n",
    "            f.write(struct.pack('>I', code))  # Use 32-bit unsigned integers\n",
    "\n",
    "def read_compressed_file(filepath):\n",
    "    with open(filepath, 'rb') as f:\n",
    "        compressed_data = []\n",
    "        while byte := f.read(4):  # Read 4 bytes for 32-bit integers\n",
    "            compressed_data.append(struct.unpack('>I', byte)[0])\n",
    "    return compressed_data\n",
    "\n",
    "def decompress_file(input_binary_path):\n",
    "    compressed_data = read_compressed_file(input_binary_path)\n",
    "    decompressed_data = lzw_decompress(compressed_data)\n",
    "    \n",
    "    return decompressed_data\n",
    "\n",
    "\n",
    "def compress_image(input_image_path, output_binary_path):\n",
    "    with open(input_image_path, 'rb') as f:\n",
    "        image_data = f.read()\n",
    "    compressed_data = lzw_compress(image_data.decode('latin1'))\n",
    "    save_compressed_file(output_binary_path, compressed_data)\n"
   ]
  },
  {
   "cell_type": "markdown",
   "metadata": {},
   "source": [
    "Finally, compress all the files specified in the task description.\n"
   ]
  },
  {
   "cell_type": "code",
   "execution_count": 31,
   "metadata": {},
   "outputs": [
    {
     "name": "stdout",
     "output_type": "stream",
     "text": [
      "\n",
      "Testing LZW on norm_wiki_sample.txt:\n",
      "Original size: 10.29 MB\n",
      "Compressed size: 6.03 MB\n",
      "\n",
      "Testing LZW on wiki_sample.txt:\n",
      "Original size: 11.36 MB\n",
      "Compressed size: 6.84 MB\n",
      "\n",
      "Testing LZW on lena.bmp:\n",
      "Original image size: 10.99 MB\n",
      "Compressed image size: 10.24 MB\n"
     ]
    }
   ],
   "source": [
    "def get_file_size_in_mb(file_path):\n",
    "    return os.path.getsize(file_path) / (1024 * 1024)  # Convert bytes to MB\n",
    "\n",
    "text_files = [\"norm_wiki_sample.txt\", \"wiki_sample.txt\"]\n",
    "for text_file in text_files:\n",
    "    print(f\"\\nTesting LZW on {text_file}:\")\n",
    "    \n",
    "    original_size = get_file_size_in_mb(text_file)\n",
    "    print(f\"Original size: {original_size:.2f} MB\")\n",
    "    \n",
    "    data = read_text_file(text_file)\n",
    "    compressed = lzw_compress(data)\n",
    "    compressed_binary_file = text_file.replace(\".txt\", \"_compressed.bin\")\n",
    "    save_compressed_file(compressed_binary_file, compressed)\n",
    "    \n",
    "    compressed_size = get_file_size_in_mb(compressed_binary_file)\n",
    "    print(f\"Compressed size: {compressed_size:.2f} MB\")\n",
    "    decompressed = decompress_file(compressed_binary_file)\n",
    "\n",
    "    assert data == decompressed, \"Decompression failed from compressed binary file!\"\n",
    "\n",
    "print(\"\\nTesting LZW on lena.bmp:\")\n",
    "image_size = get_file_size_in_mb(\"lena.bmp\")\n",
    "print(f\"Original image size: {image_size:.2f} MB\")\n",
    "compress_image(\"lena.bmp\", \"lena_compressed.lzw\")\n",
    "compressed_image_size = get_file_size_in_mb(\"lena_compressed.lzw\")\n",
    "print(f\"Compressed image size: {compressed_image_size:.2f} MB\")\n"
   ]
  }
 ],
 "metadata": {
  "kernelspec": {
   "display_name": "Python 3",
   "language": "python",
   "name": "python3"
  },
  "language_info": {
   "codemirror_mode": {
    "name": "ipython",
    "version": 3
   },
   "file_extension": ".py",
   "mimetype": "text/x-python",
   "name": "python",
   "nbconvert_exporter": "python",
   "pygments_lexer": "ipython3",
   "version": "3.12.4"
  }
 },
 "nbformat": 4,
 "nbformat_minor": 2
}
