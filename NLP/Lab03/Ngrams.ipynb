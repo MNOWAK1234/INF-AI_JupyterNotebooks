{
  "cells": [
    {
      "cell_type": "markdown",
      "metadata": {
        "id": "mEdmAZsqklfo"
      },
      "source": [
        "# Modele językowe - n-gramy \n",
        "\n",
        "---\n",
        "\n",
        "## 1. N-gramy słów w klasyfikacji\n",
        "Poniżej stworzono kod, który przeprowadza klasyfikację dokumentów należących do 4 kategorii. W odróżnieniu do poprzednich zajęć - tu zaproponowano klasyfikator SVC (algorytm SVM, popularna alternatywa dla NaiveBayes), która również świetnie się spisuje w problemach klasyfikacji tekstu.\n",
        "\n",
        "**<span style=\"color: red\">Zadanie 1a (0.5 punktu)</span>** Uruchom kod, przyjrzyj się wygenerowanym wynikom (a najlepiej zachowaj je gdzieś, będą potrzebne). <br/>\n",
        "Zapoznaj się z dokumentacją TfIdfVectorizer, odnajdź opcję uwzględnienia nie tylko pojedynczych słów jako cechy, ale także ich par i **zmodyfikuj poniższy kod tak, aby klasyfikacja uwzględniała zarówno pojedyncze słowa jak i pary (pozostaw parametr max_df=0.1 nienaruszony).** <span style=\"color: red\"> Zmodyfikuj linię 30.</span><br/> <br/>\n",
        "**<span style=\"color: red\">Zadanie 1b (0.5 punktu)</span>** Jak zmieniła się liczba cech po uwzględnieniu tych par? Czy coś się zmieniło w raporcie z klasyfikacji? Uzupełnij odpowiedzi na pytania w komórce poniżej kodu."
      ]
    },
    {
      "cell_type": "code",
      "execution_count": 2,
      "metadata": {
        "id": "SO0jQYNKklfw"
      },
      "outputs": [
        {
          "name": "stdout",
          "output_type": "stream",
          "text": [
            "W słowniku znajduje się 287718 różnych cech\n",
            "              precision    recall  f1-score   support\n",
            "\n",
            "           0       0.87      0.94      0.91       389\n",
            "           1       0.92      0.94      0.93       385\n",
            "           2       0.95      0.90      0.92       394\n",
            "           3       0.97      0.90      0.93       310\n",
            "\n",
            "    accuracy                           0.92      1478\n",
            "   macro avg       0.93      0.92      0.92      1478\n",
            "weighted avg       0.92      0.92      0.92      1478\n",
            "\n"
          ]
        }
      ],
      "source": [
        "from sklearn.pipeline import Pipeline\n",
        "from sklearn.svm import SVC\n",
        "from sklearn.feature_extraction.text import TfidfVectorizer\n",
        "from sklearn.metrics import classification_report\n",
        "from sklearn.datasets import fetch_20newsgroups # zbiór danych zawarty w Sklearn, który zawiera dane z 20 grup newsowych\n",
        "import numpy as np\n",
        "\n",
        "# ------------------- WCZYTANIE DANYCH -----------\n",
        "\n",
        "np.random.seed(0) # ustaw seed na 0, aby zapewnić powtarzalność eksperymentu\n",
        "\n",
        "categories = ['sci.space', 'comp.graphics', 'talk.politics.misc', 'comp.sys.mac.hardware'] # kategorie do analizy\n",
        "\n",
        "train = fetch_20newsgroups(subset='train',\n",
        "                                   categories=categories,\n",
        "                                   shuffle=True,\n",
        "                                   random_state=42) # pobieramy zbiór uczący (na nim będziemy trenować) dla wybranych kategorii.\n",
        "    \n",
        "\n",
        "test = fetch_20newsgroups(subset='test',\n",
        "                                  categories=categories,\n",
        "                                  shuffle=True,\n",
        "                                  random_state=42) # pobieramy zbiór testowy (na nim będziemy testować) dla wybranych kategorii\n",
        "\n",
        "\n",
        "\n",
        "# ------------------- STWORZENIE PIPELINE'U -----------\n",
        "    \n",
        "pipeline = Pipeline([             # stwórzmy pipeline surowy tekst -> TFIDF vectorizer -> klasyfikator \n",
        "    ('tfidf', TfidfVectorizer(max_df=0.1, ngram_range=(1,2))), # linijka 30\n",
        "    ('clf', SVC(C=1.0, kernel='linear')),\n",
        "])\n",
        "\n",
        "# ------------------- TRANSFORMACJA I UCZENIE -----------\n",
        "\n",
        "pipeline.fit(train.data, train.target) # zwektoryzujmy dane i wytrenujmy klasyfikator na zbiorze treningowym\n",
        "\n",
        "\n",
        "print(\"W słowniku znajduje się {n} różnych cech\".format(\n",
        "    n=len(pipeline.named_steps['tfidf'].vocabulary_.keys())\n",
        "))\n",
        "\n",
        "# ------------------- OCENA KLASYFIKATORA -----------\n",
        "print(classification_report(test.target, pipeline.predict(test.data))) # testowanie klasyfikatora - szerokie podsumowanie uwzględniające miary: precision, recall, f1"
      ]
    },
    {
      "cell_type": "markdown",
      "metadata": {},
      "source": [
        "Zapamiętane wyniki:\n",
        "\n",
        "W słowniku znajduje się 34774 różnych cech\n",
        "              precision    recall  f1-score   support\n",
        "\n",
        "           0       0.88      0.93      0.90       389\n",
        "           1       0.91      0.93      0.92       385\n",
        "           2       0.94      0.91      0.92       394\n",
        "           3       0.96      0.90      0.93       310\n",
        "\n",
        "    accuracy                           0.92      1478\n",
        "   macro avg       0.92      0.92      0.92      1478\n",
        "   \n",
        "weighted avg       0.92      0.92      0.92      1478"
      ]
    },
    {
      "cell_type": "markdown",
      "metadata": {},
      "source": [
        "<span style=\"color: red\"> 1. O ile zwiększyła się liczba cech w klasyfikatorze? </span> Znacząco wzrosła z 34774 do 287718. <br> \n",
        "<span style=\"color: red\"> 2. Czy precyzja w którejkolwiek klasie wzrosła? w której/których? </span> Tak, w 1 i 3. <br>\n",
        "<span style=\"color: red\"> 3. Czy recall w którejkolwiek klasie wzrósł? w której/których? </span> Tak, w 0 i 1. <br>\n"
      ]
    },
    {
      "cell_type": "markdown",
      "metadata": {
        "id": "5PX6uWjNklfy"
      },
      "source": [
        "## 2. N-gramy liter w klasyfikacji\n",
        "Poza n-gramami stworzonymi z następujących po sobie wyrazów - bardzo często używane są również n-gramy znakowe, stworzone z następujących po sobie liter. <br/><br/>\n",
        "Dla przykładu. wszystkie 3-gramy (trigramy) znakowe z napisu \"Hello world\" to: <br/>\n",
        "\"Hel\", \"ell\", \"llo\", \"lo \", \"o w\", \" wo\", \"wor\", \"orl\", \"rld\". <br/><br/>\n",
        "Do czego mogłaby być użyta taka reprezentacja tekstów? Okazuje się, że całkiem mocno pomaga to w rozwiązywaniiu problemu detekcji języka w którym został zapisany dokument, szczególnie w sytuacji, kiedy teksty są bardzo krótkie (np. tweety, smsy).\n",
        "<br/>\n",
        "Poniżej znajduje się szkielet klasyfikatora rozpoznającego język w którym zapisany jest dokument.\n",
        "Języków jest 6: polski, angielski, niemiecki, francuski, hiszpański i włoski.\n",
        "<br/>\n",
        "**<span style=\"color: red\">Zadanie 2 (1 punkt)</span>**: Przedstawiony klasyfikator jest znanym już z poprzednich przykładów kodem. Waszym zadaniem jest:\n",
        "<ol>\n",
        "    <li>Zapoznanie się dokumentacją Tf-Idf vectorizera, aby znaleźć funkcjonalność, która zamiast całych słów, stworzy cechy na podstawie liter i wykorzystanie tej funkcjonalności w kodzie</li>\n",
        "    <li>Ustawienie takiego zakresu n-gramów, aby zmaksymalizować uzyskany wynik (Oczekiwane 1.0 precyzji i recallu we wszystkich kategoriach przy pozostawieniu wartośi max_features = 300 elementów)</li>\n",
        "    <li>Poprawnie zaklasyfikuje krotki przykład zapisany w linii 43 (Bonjour przypisze do kategorii 'french').</li>\n",
        "</ol>"
      ]
    },
    {
      "cell_type": "code",
      "execution_count": 3,
      "metadata": {
        "id": "ULRDlJwzklfz"
      },
      "outputs": [
        {
          "name": "stdout",
          "output_type": "stream",
          "text": [
            "Oto kilka przykładowych cech stworzonych przez TfidfVectorizer: [' do', 'do ', ' wi', 'prz', 'rze']\n",
            "\n",
            "\n",
            "Tekst: Bonjour! został zaklasyfikowany jako: french\n",
            "\n",
            "\n",
            "              precision    recall  f1-score   support\n",
            "\n",
            "     english       1.00      1.00      1.00       303\n",
            "      french       1.00      1.00      1.00       280\n",
            "      german       1.00      1.00      1.00       337\n",
            "     italian       1.00      1.00      1.00       273\n",
            "      polish       1.00      1.00      1.00       291\n",
            "     spanish       1.00      1.00      1.00       299\n",
            "\n",
            "    accuracy                           1.00      1783\n",
            "   macro avg       1.00      1.00      1.00      1783\n",
            "weighted avg       1.00      1.00      1.00      1783\n",
            "\n"
          ]
        }
      ],
      "source": [
        "from sklearn.pipeline import Pipeline\n",
        "from sklearn.feature_extraction.text import TfidfVectorizer\n",
        "from sklearn.linear_model import LogisticRegression\n",
        "from sklearn.preprocessing import StandardScaler\n",
        "from sklearn.metrics import classification_report\n",
        "import pandas\n",
        "import numpy as np\n",
        "\n",
        "# -------------------- FUNKCJE POMOCNICZNE --------\n",
        "\n",
        "# Funkcja mapująca identyfikator liczbowy kategorii na wartość tekstową, np: 0->\"polish\", 1->\"english\"\n",
        "def get_class_name_from_id(ids, mapping):\n",
        "    return [mapping[id] for id in ids]\n",
        "# ------------------- WCZYTANIE DANYCH -----------\n",
        "full_dataset = pandas.read_csv('language_detection_1000.csv', encoding='utf-8') # wczytaj dane z pliku CSV\n",
        "lang_to_id = {'polish': 0, 'english': 1, 'french': 2,\n",
        "              'german': 3, 'italian': 4, 'spanish': 5}\n",
        "id_to_lang = {v: k for k,v in lang_to_id.items()}\n",
        "full_dataset['label_num'] = full_dataset.lang.map(lang_to_id)  # ponieważ nazwy kategorii zapisane są z użyciem stringów: \"ham\"/\"spam\", wykonujemy mapowanie tych wartości na liczby, aby móc wykonać klasyfikację. \n",
        "\n",
        "np.random.seed(0)                                       # ustaw seed na 0, aby zapewnić powtarzalność eksperymentu\n",
        "train_indices = np.random.rand(len(full_dataset)) < 0.7 # wylosuj 70% wierszy, które znajdą się w zbiorze treningowym\n",
        "\n",
        "train = full_dataset[train_indices] # wybierz zbior treningowy (70%)\n",
        "test = full_dataset[~train_indices] # wybierz zbiór testowy (dopełnienie treningowego - 30%)\n",
        "\n",
        "\n",
        "# ------------------- STWORZENIE PIPELINE'U -----------  \n",
        "pipeline = Pipeline([             # stwórzmy pipeline surowy tekst -> TFIDF vectorizer -> klasyfikator \n",
        "    ('tfidf', TfidfVectorizer(max_features=300, ngram_range=(3,3), analyzer='char_wb')),\n",
        "    ('scaler', StandardScaler(with_mean = False)),\n",
        "    ('clf', LogisticRegression()),\n",
        "])\n",
        "# ------------------- TRANSFORMACJA I UCZENIE -----------\n",
        "\n",
        "pipeline.fit(train['text'], train['label_num']) # zwektoryzujmy dane i wytrenujmy klasyfikator na zbiorze treningowym\n",
        "\n",
        "print(\"Oto kilka przykładowych cech stworzonych przez TfidfVectorizer: {n}\".format(\n",
        "    n=list(pipeline.named_steps['tfidf'].vocabulary_.keys())[:5]))\n",
        "\n",
        "# ------------------- WERYFIKACJA NA KRÓTKIM TEKŚCIE ----\n",
        "\n",
        "text_to_predict = \"Bonjour!\"\n",
        "predicted = pipeline.predict([text_to_predict])\n",
        "print(\"\\n\\nTekst: {t} został zaklasyfikowany jako: {p}\\n\\n\".format(\n",
        "    t=text_to_predict,\n",
        "    p=id_to_lang[predicted[0]]\n",
        "))\n",
        "\n",
        "\n",
        "# ------------------- OCENA KLASYFIKATORA -----------\n",
        "print(classification_report(\n",
        "    get_class_name_from_id(test['label_num'], id_to_lang), \n",
        "    get_class_name_from_id(pipeline.predict(test['text']), id_to_lang)\n",
        "))"
      ]
    },
    {
      "cell_type": "markdown",
      "metadata": {
        "id": "2o4W7uRsklf0"
      },
      "source": [
        "Widzimy, że problem jest stosunkowo prosty. Po co zatem używać n-gramów znakowych? Aby zaoszczędzić pamięć i podołać sytuacjom, w których zbiór testowy składa się ze słów, które nie występują w korpusie uczącym. <br/>\n",
        "\n",
        "O ile wszystkich słów w tych 6 językach jest \"30078\", to trigramów znakowych jest już tylko \"15274\", a bigramów - \"2059\". W związku z tym: <ol>\n",
        "<li>Używając n-gramów znakowych często możemy ograniczyć liczbę cech</li>\n",
        "<li>N-gramy znakowe pomogą nam w sytuacjach, kiedy dane słowo nie wystąpiło w tekście uczącym. Jeśli opieramy uczenie na pełnych słowach i cały nasz tekst testowy to niewystępujące w korpusie uczącym - \"bonjour\", wtedy wektor BOW będzie zawierał same zera, przez co będzie miał problem z przydziałem do odpowiedniej klasy. <br/> N-gramy znakowe nawet jeśli nie napotkały danego słowa podczas analizy korpusu, to na podstawie budowy samego słowa są w stanie przewidywać do jakiego języka słowo należy. Np. cokolwiek zawierającego trigram \"żeb\" należeć będzie raczej do języka polskiego.</li>\n",
        "</ol>\n",
        "\n",
        "---\n",
        "\n",
        "### 2a - istotność cech\n",
        "\n",
        "Ponieważ w zadaniu 2 użyliśmy znanego z zajęć z przedmiotu \"Sztuczna Inteligencja\" klasyfikatora liniowego - regresji logistycznej, podejrzeć możemy jakie cechy najsilniej sugerują nam przynależność do danej klasy. Uruchom poniższy kod, aby zobaczyć jakie cechy są najważniejsze dla danych kategorii. Modyfikując parametry TfidfVectorizer możesz zobaczyć jakie słowa/ciągi znaków są najistotniejsze do detekcji danego języka."
      ]
    },
    {
      "cell_type": "code",
      "execution_count": 5,
      "metadata": {
        "collapsed": true,
        "id": "1F01zfofklf1"
      },
      "outputs": [
        {
          "name": "stdout",
          "output_type": "stream",
          "text": [
            "W rozpoznaniu języka polish najważniejsze cechy to:\n",
            "\t' w ': 0.2897523578307207\n",
            "\t'dzi': 0.2623696727452865\n",
            "\t' po': 0.24653825702443577\n",
            "\t'owa': 0.24349982093287356\n",
            "\t'rze': 0.2338494676925721\n",
            "W rozpoznaniu języka english najważniejsze cechy to:\n",
            "\t'the': 0.4408454804664215\n",
            "\t' th': 0.41405398063555277\n",
            "\t'ing': 0.271858271418333\n",
            "\t' an': 0.26851892824620105\n",
            "\t'ed ': 0.2543240806703816\n",
            "W rozpoznaniu języka french najważniejsze cechy to:\n",
            "\t' ce': 0.3167282684769287\n",
            "\t' à ': 0.26087793588261954\n",
            "\t'ce ': 0.260265426215297\n",
            "\t' et': 0.24470420947649163\n",
            "\t'nt ': 0.23515278929622102\n",
            "W rozpoznaniu języka german najważniejsze cechy to:\n",
            "\t'der': 0.3252823040306388\n",
            "\t'die': 0.25592666806156383\n",
            "\t'en ': 0.25150810316920186\n",
            "\t' ge': 0.22961029312957934\n",
            "\t'er ': 0.2288158660596224\n",
            "W rozpoznaniu języka italian najważniejsze cechy to:\n",
            "\t'di ': 0.39076479901219885\n",
            "\t' e ': 0.3143000441042705\n",
            "\t'lla': 0.25708490932132716\n",
            "\t'zio': 0.24676876532474845\n",
            "\t'ti ': 0.22825473272397032\n",
            "W rozpoznaniu języka spanish najważniejsze cechy to:\n",
            "\t'os ': 0.3949019945809723\n",
            "\t'el ': 0.28390752389080526\n",
            "\t' el': 0.2387789446151614\n",
            "\t'de ': 0.21163617208298427\n",
            "\t' es': 0.20835496563559242\n"
          ]
        }
      ],
      "source": [
        "# Funkcja, z użyciem której możemy ocenić które cechy najsilniej skojarzone są z danymi klasami.\n",
        "# Wyświetli listę słów/n-gramów znakowych, których obecność najsilniej wpływa na przydział do danej klasy\n",
        "def language_indicators(feature_names, feature_importances, id_to_lang):\n",
        "    for i, language in enumerate(feature_importances): # iterujemy po macierzy feature_importances (wymiarów: język x cechy) wierszami (czyli język po języku)\n",
        "        scored_features = list(zip(feature_names, language)) # tworzymy skojarzenie nazw cech z wagami modelu (ponieważ używamy regresji logistycznej - każda cecha (słowo/n-gram) ma swoją wagę, która jest optymalizowana w procesie uczenia! Cechy z wysokimi wagami są ważne dla danej klasy. Każda klasa ma osobny model ze swoimi wagami!)\n",
        "        scored_features = sorted(scored_features, key=lambda x: x[1], reverse=True) # posortujmy cechy skojarzone z wagami malejąco \n",
        "        print(\"W rozpoznaniu języka {lang} najważniejsze cechy to:\".format(\n",
        "            lang=id_to_lang[i]) #zamieńmy identyfikator numeryczny kategorii na nazwę języka\n",
        "        )\n",
        "        for feature, score in scored_features[:5]: # wybierzmy po 5 najważniejszych cech (najwyższe wartości uczonych współczynników)\n",
        "            print(\"\\t'{feature}': {score}\".format(feature=feature, score=score))\n",
        "        \n",
        "\n",
        "# ------------------- WYŚWIETLENIE NAJWAŻNIEJSZYCH CECH DLA KAŻDEJ KATEGORII\n",
        "language_indicators(\n",
        "    pipeline.named_steps['tfidf'].get_feature_names_out(), # pobierz nazwy cech\n",
        "    pipeline.named_steps['clf'].coef_, # pobierz wyuczone współczynniki (regresja logistyczna to stworzenie modelu opisanego wzorem y = e^(-wx - b), gdzie uczymy się współczynników w. Pole coef_ zawiera te współczynniki dla każdego języka z osobna)\n",
        "    id_to_lang # mapowanie z identyfikatora numerycznego na pełną nazwę języka - zwiększa czytelność wygenerowanego raportu\n",
        ")"
      ]
    },
    {
      "cell_type": "markdown",
      "metadata": {
        "id": "TT4vAt5Kklf2"
      },
      "source": [
        "---\n",
        "\n",
        "## 3. N-gramy słów w generowaniu tekstu\n",
        "\n",
        "Innym, bardzo ciekawym zastosowaniem n-gramów jest możliwość generowania tekstu z użyciem tzw. łańcuchów Markova. Stwórzmy funkcję generującą n-gramy słów, aby później móc ją wykorzystać do tworzenia tekstów.\n",
        "\n",
        "**<span style=\"color: red\">Zadanie 3 (1 punkt)</span>** stwórz funkcję, która wygeneruje n-gramy słów zadanego stopnia n (n_gram_len). Aby podzielić zdanie na słowa nie musisz używać tokenizatora z biblioteki, na potrzeby zadania wystarczy uznać, że spacja oddziela poszczególne słowa.\n",
        "<br/>\n",
        "<br/>\n",
        "<div class=\"alert alert-success\">\n",
        "Oczekiwany rezultat dla zadanych danych: <br/><br/>[['The', 'big', 'brown'], ['big', 'brown', 'fox'], ['brown', 'fox', 'jumped'], ['fox', 'jumped', 'over'], ['jumped', 'over', 'the'], ['over', 'the', 'fence.']]\n",
        "</div>\n",
        "<br/>"
      ]
    },
    {
      "cell_type": "code",
      "execution_count": 7,
      "metadata": {
        "id": "ooeUA4Gbklf3"
      },
      "outputs": [
        {
          "name": "stdout",
          "output_type": "stream",
          "text": [
            "[['The', 'big', 'brown'], ['big', 'brown', 'fox'], ['brown', 'fox', 'jumped'], ['fox', 'jumped', 'over'], ['jumped', 'over', 'the'], ['over', 'the', 'fence.']]\n"
          ]
        }
      ],
      "source": [
        "def get_word_ngrams(data, n_gram_len):\n",
        "    words = data.split(' ')\n",
        "    ngrams = []\n",
        "    for i in range (len(words) - n_gram_len + 1):\n",
        "        ngram = []\n",
        "        for j in range(n_gram_len):\n",
        "            ngram.append(words[i+j])\n",
        "        ngrams.append(ngram)\n",
        "    return ngrams\n",
        "print(get_word_ngrams(\"The big brown fox jumped over the fence.\", 3))"
      ]
    },
    {
      "cell_type": "markdown",
      "metadata": {
        "id": "4p93tpUzklf4"
      },
      "source": [
        "Jeśli udało Ci się napisać funkcję get_word_ngrams - zapoznaj się z poniższym kodem i uruchom go, aby wytworzyć tekst!"
      ]
    },
    {
      "cell_type": "code",
      "execution_count": 9,
      "metadata": {
        "id": "2GrZxjouklf4"
      },
      "outputs": [
        {
          "name": "stdout",
          "output_type": "stream",
          "text": [
            "Średnio co dwa miesiące od początku sprzeciwiali się utworzeniu esdz, uważając, że globalne partnerstwa mają charakter komercyjny, a zatem mniejszej biurokracji, a także nadmierna biurokracja w kraju.\n",
            "skuteczne zarządzanie imigracją i korupcją, a osobiście nie wierzę, aby kontrole graniczne i, jeśli to prawda, że indie będą się utrzymywały, a taka jest ostatecznie reakcja europy.\n",
            "pakt na rzecz stworzenia równego pola gry.\n",
            "takie zbilansowanie płatności będzie nie tylko wymiar miejski nie zyskał jak dotąd w dużym stopniu zazębiają się z sześciu sytuacji, w której wielka brytania nie wprowadziła jednej waluty; ze względu na to, że firmy ponoszą społeczną odpowiedzialność wobec swoich pracowników do zatrudnienia i spraw socjalnych - panie przewodniczący! cieszę się, że do pewnego stopnia usankcjonowane w porozumieniach międzynarodowych i przedostanie się na wzajemnym zaufaniu, i wszystkie regiony europejskiej polityki handlu w wymiarze humanitarnym i problemem imigracji i proponować go innym instytucjom, w tym obszarze.\n",
            "dlatego też wyrażam zgodę na przeprowadzenie reformy rady bezpieczeństwa organizacji narodów zjednoczonych, przyjmuje się w społeczeństwie europejskim, wyraźnie wezwał do gromadzenia i wymiany informacji, najlepiej koordynowanego przez fao, odgrywając czynną i konstruktywną rolę w skutecznym działaniu postanowień ooś leży niekoniecznie we wdrażaniu [small business act] (sba) oraz do tworzenia miejsc pracy.\n",
            "ponadto akt oskarżenia rozszerzono nagle o cztery nowe zarzuty. sędzia wręcz dał do zrozumienia, że nie osiągnęliśmy naszych celów w zakresie finansowania, aby zapewnić gwarantowane sygnały do cywilnych zastosowań i zadbać o przyszłe wspieranie kształcenia i szkolenia zawodowego do potrzeb rynku.\n",
            "dlatego wzywamy komisję i radę o dalszych działaniach, jakie zamierzają podjąć w ramach zbliżających się rozmów. państwa dzisiejsze uwagi i środków niż innym poziomom kształcenia.\n",
            "zażywanie nielegalnych narkotyków i narkomanii (emcdda).\n",
            "wynika to nie będzie systemu sesar, a bez odpowiedniego etykietowania mogą oni kupić produkt zawierające te tekstylia nieświadomi takiej sytuacji.\n",
            "zgodnie z przewidywaniami wybory w nigerii przebiegają w sposób efektywny.\n",
            "obecne wydarzenia to jak się zdaje przejawy złego planowania, a teraz też musimy powiązać system schengen z silniej scentralizowanym zarządzaniem.\n",
            ", na piśmie parlament europejski korzystać z potencjału oferowanego przez morze śródziemne, i bronili się przed podjęciem dalszych kroków parlament musiał czekać na kolejne dziesięć lat, tak aby w przyszłości europa miała żywność o odpowiednio dobrej jakości miejsc pracy.\n",
            "bardzo ważne jest, by unia europejska i jej organizacji.\n",
            "rodzice są pierwszymi i najważniejszymi nauczycielami swoich dzieci, dlatego też jest kwestią podstawową, biorąc pod uwagę, gdyż jest zupełnie nie zważając na niezależność obywateli państw członkowskich a ambasadorami ue, a dorobek schengen w przeszłości. sądzę, że dla małych i średnich przedsiębiorstw (mśp) lub nowych przedsiębiorstw.\n",
            "bezrobocie młodzieży jest wyższa od stopy bezrobocia wśród młodzieży. sądzę, że państwo musi wzmocnić swoją pozycję w handlu międzynarodowym, stanowi lepsze zabezpieczenie dla niektórych sektorów wrażliwych z punktu widzenia innowacyjności we wszystkich dziedzinach związanych ze środowiskiem, ale nie wiem, w jaki sposób komisja przekona wszystkie państwa członkowskie wdrożą działania na rzecz konkurencyjności przedsiębiorstw z krajów bałtyckich, jakoby kraje bałtyckie same wybrały socjalizm? dlaczego ja i moi rodacy wciąż musimy wiele osiągnąć w dostępnych nam obecnie dojść do porozumienia, gdyż jest pod tym względem w sprawozdaniu parlament europejski powinien dołożyć wysiłków na rzecz kultury.\n",
            "jestem bardzo wdzięczny osobom, które ucierpiały, zrozumiała ich ból i stała u ich boku,\n"
          ]
        }
      ],
      "source": [
        "from collections import Counter\n",
        "import random\n",
        "import itertools\n",
        "\n",
        "def generate_ngram_markov(n_gram_len):\n",
        "    markov_dict = dict() # stwórz słownik, który wskaże listę dozwolonych słów po zaobserwowanych n-poprzednich słowach.\n",
        "    with open(\"polish_europarl.txt\", 'r', encoding=\"utf8\") as f: # wczytaj korpus danych\n",
        "        data = f.read().lower()                                           # zamień wszystkie wielkie litery na małe\n",
        "        n_grams = get_word_ngrams(data, n_gram_len)                   # wygeneruj wszystkie n-gramy słów z korpusu\n",
        "        for n_gram in n_grams:                   # dla każdego n-gramu...\n",
        "            context = \" \".join(n_gram[:-1])      # weź wszystkie słowa z n-gramu poza ostatnim i połącz w 1 string spacją\n",
        "            last_word = str(n_gram[-1])          # weź ostatnie słowo n-gramu\n",
        "            \n",
        "            if context not in markov_dict.keys(): # jeśli n-gram ubiedzony o ostatnie słowo nie występuje jeszcze w słowniku\n",
        "                markov_dict[context] = list()     # to dopiszmy go do słownika i stwórzmy mu listę\n",
        "            markov_dict[context].append(last_word) # wiedząc, że ubiedzony n-gram jest w słowniku - dopiszmy ostatnie słowo do listy\n",
        "    \n",
        "    for context in markov_dict.keys():                        # dla każdego kontekstu (ubiedzonego n-gramu)\n",
        "        markov_dict[context] = Counter(markov_dict[context])  # stwórz histogram słów jakie występują w korpusie po tym kontekście\n",
        "    \n",
        "    return markov_dict\n",
        "\n",
        "\n",
        "n_gram_len = 3  # liczba słów do stworznia n-gramu\n",
        "markov_dict = generate_ngram_markov(n_gram_len)  # stworzenie słownika z histogramami słów dla poszczególnych kontekstów\n",
        "\n",
        "text = 'Średnio co dwa' # tekst, od którego zaczniemy generowanie\n",
        "\n",
        "for i in range(500):               # powtórzmy 500 razy ...\n",
        "    text_spl = text.split(\" \")     # podzielmy istniejący tekst po spacji (przeprowadźmy naiwną 'tokenizację')\n",
        "    context = \" \".join(text_spl[-n_gram_len+1:])   # pobierzmy ostatnie n_gram_len - 1 słów\n",
        "    idx = random.randrange(sum(markov_dict[context].values())) # sprawdźmy słowa, które są dozwolone jako następniki naszego kontekstu (context) i wybierzmy taki następnik, który zostanie wylosowany zgodnie z rozkładem stworzonym przez histogram.\n",
        "    new_word = next(itertools.islice(markov_dict[context].elements(), idx, None)) # wybierzmy wylosowane słowo\n",
        "    text = text + \" \" + new_word # doklejmy wylosowane słowo na końcu\n",
        "print(text)"
      ]
    },
    {
      "cell_type": "markdown",
      "metadata": {
        "id": "Wd4Jmapgklf4"
      },
      "source": [
        "---\n",
        "\n",
        "## 4. N-gramy znakowe w generowaniu tekstu\n",
        "\n",
        "W bardzo podobny sposób do zadania 3, możemy stworzyć model, który generować będzie tekst literka po literce. <br/>\n",
        "**<span style=\"color: red\">Zadanie 4 (1 punkt)</span>** stwórz funkcję, która wygeneruje n-gramy znakowe zadanego stopnia n (n_gram_len).\n",
        "<br/>\n",
        "<br/>\n",
        "<div class=\"alert alert-success\">\n",
        "Oczekiwany rezultat dla zadanych danych: ['The', 'he ', 'e b', ' bi', 'big', 'ig ', 'g b', ' br', 'bro', 'row', 'own', 'wn ', 'n f', ' fo', 'fox', 'ox ', 'x j', ' ju', 'jum', 'ump', 'mpe', 'ped', 'ed ', 'd o', ' ov', 'ove', 'ver', 'er ', 'r t', ' th', 'the', 'he ', 'e f', ' fe', 'fen', 'enc', 'nce', 'ce.']\n",
        "</div>\n",
        "<br/>"
      ]
    },
    {
      "cell_type": "code",
      "execution_count": 11,
      "metadata": {
        "id": "Egh-HRhaklf5"
      },
      "outputs": [
        {
          "name": "stdout",
          "output_type": "stream",
          "text": [
            "['The', 'he ', 'e b', ' bi', 'big', 'ig ', 'g b', ' br', 'bro', 'row', 'own', 'wn ', 'n f', ' fo', 'fox', 'ox ', 'x j', ' ju', 'jum', 'ump', 'mpe', 'ped', 'ed ', 'd o', ' ov', 'ove', 'ver', 'er ', 'r t', ' th', 'the', 'he ', 'e f', ' fe', 'fen', 'enc', 'nce', 'ce.']\n"
          ]
        }
      ],
      "source": [
        "def get_character_ngrams(data, n_gram_len):\n",
        "    ngrams = []\n",
        "    for i in range(len(data) - n_gram_len + 1):\n",
        "        ngrams.append(data[i:i+n_gram_len])\n",
        "    return ngrams\n",
        "print(get_character_ngrams(\"The big brown fox jumped over the fence.\", 3))"
      ]
    },
    {
      "cell_type": "markdown",
      "metadata": {
        "id": "PYGnivfiklf5"
      },
      "source": [
        "Po stworzeniu funkcji **get_character_ngrams()** możemy uruchomić generator znakowy."
      ]
    },
    {
      "cell_type": "code",
      "execution_count": 13,
      "metadata": {
        "id": "qMzT3HLaklf5"
      },
      "outputs": [
        {
          "name": "stdout",
          "output_type": "stream",
          "text": [
            "U szlachty tłuszcza;\n",
            "bo pan bóg, kiedy karę na naród przypuszcza,\n",
            "słania się pokornie,\n",
            "dama raczyła się obrócić; dziewczyna wstydliwa\n",
            "obraca się, lecz mu nie brak męstwa,\n",
            "na miejscu swym siadła\n",
            "pomiędzy piołunu i chwastu,\n",
            "wznoszą się z nim stało, różnie powiadał, że sobie poradzić,\n",
            "umyśliłem zakopać go razem z zamkiem oddać raczy».\n",
            "\n",
            "    «jużci — bąknął tadeusz szczerze chciał zjeść izbę całą;\n",
            "łatwo zgadnąć, że szlachcica.\n",
            "czasem telimeny, czoło pochylony,\n",
            "z palcami zadzwoniło w strunę skrzydło muchy,\n",
            "wyda\n"
          ]
        }
      ],
      "source": [
        "from collections import Counter\n",
        "import random\n",
        "import itertools\n",
        "\n",
        "def generate_ngram_markov(n_gram_len):\n",
        "    markov_dict = dict() # stwórz słownik, który wskaże listę dozwolonych słów po zaobserwowanych n-poprzednich słowach.\n",
        "    with open('pan_tadeusz.txt', 'r', encoding=\"utf8\") as f: # wczytaj korpus danych\n",
        "        data = f.read().lower()                                           # zamień wszystkie wielkie litery na małe\n",
        "        n_grams = get_character_ngrams(data, n_gram_len)                   # wygeneruj wszystkie n-gramy słów z korpusu\n",
        "        for n_gram in n_grams:                   # dla każdego n-gramu...\n",
        "            context = n_gram[:-1]  # weź wszystkie znaki n-gramu poza ostatnim \n",
        "            last_char = n_gram[-1] # weź ostatni znak n-gramu\n",
        "            if context not in markov_dict.keys(): # jeśli n-gram ubiedzony o ostatni znak nie występuje jeszcze w słowniku\n",
        "                markov_dict[context] = list()     # to dopiszmy go do słownika i stwórzmy mu listę\n",
        "            markov_dict[context].append(last_char) # wiedząc, że ubiedzony n-gram jest w słowniku - dopiszmy ostatni znak do listy\n",
        "    \n",
        "    for context in markov_dict.keys():                        # dla każdego kontekstu (ubiedzonego n-gramu)\n",
        "        markov_dict[context] = Counter(markov_dict[context])  # stwórz histogram liter jakie występują w korpusie po tym kontekście\n",
        "    \n",
        "    return markov_dict\n",
        "\n",
        "\n",
        "text = 'U szlachty' # tekst, od którego zaczniemy generowanie\n",
        "n_gram_len = len(text)  # liczba znaków do stworznia n-gramu\n",
        "markov_dict = generate_ngram_markov(n_gram_len)  # stworzenie słownika z histogramami słów dla poszczególnych kontekstów\n",
        "\n",
        "for i in range(500):               # powtórzmy 500 razy ...\n",
        "    context = text[-n_gram_len+1:]   # pobierzmy ostatnie n_gram_len - 1 słów\n",
        "    idx = random.randrange(sum(markov_dict[context].values())) # sprawdźmy słowa, które są dozwolone jako następniki naszego kontekstu (context) i wybierzmy taki następnik, który zostanie wylosowany zgodnie z rozkładem stworzonym przez histogram.\n",
        "    new_char = next(itertools.islice(markov_dict[context].elements(), idx, None)) # wybierzmy wylosowane słowo\n",
        "    text = text + new_char # doklejmy wylosowany znak na końcu\n",
        "\n",
        "print(text)"
      ]
    },
    {
      "cell_type": "markdown",
      "metadata": {
        "id": "FZo5XHlmklf5"
      },
      "source": [
        "---\n",
        "\n",
        "## 5. Ngramy do generowania tekstu - długość ngramu a jakość tekstu\n",
        "<span style=\"color: red\">**Zadanie 5 (1 punkt)**</span>\n",
        "Obswerując wyniki z zadań 3 i 4 i sprawdzając różne długości n-gramów (znakowych i słów) zastanów się:\n",
        "<ol>\n",
        "<li>Jakie ryzyko w kontekście jakości tekstu niesie ze sobą tworzenie tekstu z bardzo **krótkich** n-gramów?</li>\n",
        "<li>Jakie ryzyko w kontekście jakości tekstu niesie ze sobą tworzenie tekstu z bardzo **długich** n-gramów?</li>\n",
        "</ol>\n",
        "Odpowiedzi zawrzyj w komentarzu poniżej"
      ]
    },
    {
      "cell_type": "code",
      "execution_count": null,
      "metadata": {
        "collapsed": true,
        "id": "4zrSMJRJklf6"
      },
      "outputs": [],
      "source": [
        "# Zad 5:\n",
        "#  Pytanie 1: Często generowany tekst nie ma sensu, bo brakuje informacji o kontekście i otoczeniu\n",
        "#  Pytanie 2: Może pojawić się Key Error, gdy dana kombinacja nie występuje w słowniku"
      ]
    },
    {
      "cell_type": "markdown",
      "metadata": {
        "id": "RB6xEAwIklf6"
      },
      "source": [
        "---\n",
        "\n",
        "## 6. Bonus: Prawdopodobieństwo wystąpienia zdania - bez punktów\n",
        "Dodatkowo ciekawym zastosowaniem n-gramów jest również ocena - jak bardzo prawdopodobnym jest wystąpienie danego zdania w rzeczywistości. Kiedy rozwiązujemy zadanie translacji mowy na tekst, spotykamy się z sytuacjami, w których nie do końca wiemy, czy słowo, które zostało wypowiedziane to np. \"morze\" czy \"może\". Model językowy oparty o n-gramy może ocenić szansę wystąpienia danego ciągu wyrazów, a więc również wybrać bardziej prawdopodobny ciąg wyrazów w danym języku. <br/>\n",
        "\n",
        "Biorąc pod uwagę, że zdanie to ciąg wyrazów    $w_1, w_2, w_3, ..., w_n$\n",
        "Możemy poczynić upraszczające założenie, że aktualne słowo zależne jest jedynie od słowa poprzedniego, zatem prawdopodobieństwo wystąpienia zdania $P(sentence) = p(w_1|beginOfSentence)*p(w_2|w_1)*p(w_3|w_2)*...*p(w_n|w_(n-1))$\n",
        "\n",
        "Obliczając prawdopodobieństwa warunkowe, może się okazać, że w testowanym przez nas zdaniu mogą wystąpić dwie problematyczne sytuacje:\n",
        "<ol>\n",
        "    <li>słowo konteksowe $w_c$ ze wzoru $p(w_n|w_c)$ nie występuje w korpusie - bardzo mała szansa jeśli korpus jest wystarczająco duży</li>\n",
        "    <li>słowo następujące po kontekstowym ($w_n$) nie współwystępuje w korpusie ze słowem kontekstowym (więc $p(w_n|w_c) = 0$ - całkiem możliwy stan, dość łatwo można sobie wyobrazić sytuację braku współwystępowania pewnych słów nawet przetwarzając duży korpus</li>\n",
        "</ol>\n",
        "\n",
        "Aby poradzić sobie z sytuacją, w której chcemy aby pewne słowo rozpoczynało/kończyło tekst, możemy dodać sztuczne znaczniki początku (BOS - Begin of Sentence) i końca (EOS - End of Sentence) zdania. Wprowadzając te znaczniki, będziemy mogli obliczyć prawdopodobieństwo wystąpienia słowa, pod warunkiem, że rozpoczyna ono zdanie $p(w_n|BOS)$\n",
        "\n",
        "Poniżej znajduje się kod oceniający prawdopodobieństwo wystąpienia zdań. Widzimy, że jedno z tych zdań ma sensowniejszy tekst i chcielibyśmy, aby komputer był w stanie wybrać sensowniejszą opcję.\n",
        "\n",
        "Problematyczne sytuacje rozwiązane zostały następująco:\n",
        "<ol>\n",
        "<li>Jeśli brak słowa kontekstowego w wygenerowanym modelu - uznaj, że prawdopodobieństwo całego zania wynosi 0</li>\n",
        "<li>Jeśli słowo następujące po kontekstowym nie współwystępuje z kontekstowym - użyj wygładzania aby ustawić prawdopodobieństwo na bardzo małą wartość (ale niezerową)</li>\n",
        "</ol>\n",
        "\n",
        "**Zapoznaj się z kodem i urochom go, tutaj nie trzeba nic zmieniać, to jedynie wizualizacja zastosowania. Uwaga - aby poprawnie oszacować prawdopodobieństwa potrzeba posiadać wykonane zadanie 3 (stworzona funkcja get_word_ngrams)**\n"
      ]
    },
    {
      "cell_type": "code",
      "execution_count": 15,
      "metadata": {
        "id": "5-mX7pfoklf6"
      },
      "outputs": [
        {
          "name": "stdout",
          "output_type": "stream",
          "text": [
            "Prawdopodobieństwo wystąpienia zdania 1: 5.004813141346049e-20\n",
            "Prawdopodobieństwo wystąpienia zdania 2: 5.7541016227754555e-24\n"
          ]
        }
      ],
      "source": [
        "text1 = \"i heard that the european union is a valuable concept.\" # tekst do oceny\n",
        "text2 = \"i had that the euro bean union is a variable concept.\"  # tekst do oceny\n",
        "\n",
        "from nltk import sent_tokenize                                   # będziemy dzielić na zdania\n",
        "import re                                                        # i czyścić tekst\n",
        "\n",
        "from collections import Counter, defaultdict\n",
        "import random\n",
        "import itertools\n",
        "\n",
        "markov_dict = defaultdict(list)               # słownik zawierający częstości występowania słów w zależności od poprzedzającego je słowa\n",
        "\n",
        "def clean_text(text):\n",
        "    return re.sub(\"[\\n\\t ]+\", \" \", text) # czyszczenie tekstu ze znaków nowej linii, tabulatorów, spacji (wielokrotnych)\n",
        "\n",
        "def make_begin_end_of_sentences(text):\n",
        "    result = \"\"\n",
        "    sentences = sent_tokenize(text)\n",
        "    for sent in sentences:\n",
        "        result += \" <BOS> {s} <EOS> \".format(s=sent) # dla każdego zdania dodajemy specjalne tagi <BOS> = begin of sentence oraz <EOS> - end of sentence\n",
        "    return clean_text(result)\n",
        "\n",
        "def get_sentence_probability(sentence, markov_dict):\n",
        "    sentence = \" <BOS> {s} <EOS> \".format(s=sentence)\n",
        "    sentence = clean_text(sentence)\n",
        "    \n",
        "    sentence = sentence.split(' ')\n",
        "    prob = 1.0\n",
        "    for i in range(len(sentence)):\n",
        "        if i < 1:\n",
        "            continue\n",
        "            \n",
        "        context = sentence[i-1] # słowo poprzedzające\n",
        "        word = sentence[i]      # aktualne słowo\n",
        "        \n",
        "        if context in markov_dict.keys():        # jeśli słowo kontekstowe występuje w modelu - OK\n",
        "            if word in markov_dict[context].keys(): # jeśli słowo 'word' współwystępowało z 'context' w korpusie - obliczmy prawdopodobieństwo tej sytuacji p(wn|wc)\n",
        "                prob *= 1.0* markov_dict[context][word]/sum(markov_dict[context].values())\n",
        "            else:\n",
        "                prob *= 1/(sum(markov_dict[context].values())+1) # smoothing, jeśli dane slowo 'word' nie występowało po słowie 'context' w korpusie, ustalmy wartość prawdopodobieństwa na bardzo neiwielką. \n",
        "    return prob\n",
        "    \n",
        "\n",
        "with open('english_europarl.txt', 'r', encoding=\"utf8\") as f:\n",
        "    text = clean_text(f.read().lower())\n",
        "    text = make_begin_end_of_sentences(text)\n",
        "    \n",
        "    n_grams = get_word_ngrams(text, 2)  # wygeneruj wszystkie 2-gramy słów z korpusu\n",
        "    for n_gram in n_grams:              # dla każdego n-gramu...\n",
        "        context = n_gram[-2]            # weź przedostatnie słowo jako kontekst\n",
        "        last_word = n_gram[-1]          # weź ostatnie słowo jako kontekst\n",
        "        markov_dict[context].append(last_word) # dopiszmy następniki, które występują w korpusie po kontekście\n",
        "\n",
        "    for context in markov_dict.keys():                        # dla każdego kontekstu\n",
        "        markov_dict[context] = Counter(markov_dict[context])  # stwórz histogram słów jakie występują w korpusie po tym kontekście\n",
        "    \n",
        "    probability_of_sent1 = get_sentence_probability(text1, markov_dict) # wyznacz prawdopodobieństwo wystąpienia text1\n",
        "    probability_of_sent2 = get_sentence_probability(text2, markov_dict) # wyznacz prawdopodobieństwo wystąpienia text2\n",
        "    \n",
        "    print(\"Prawdopodobieństwo wystąpienia zdania 1: {p}\".format(p=get_sentence_probability(text1, markov_dict)))\n",
        "    print(\"Prawdopodobieństwo wystąpienia zdania 2: {p}\".format(p=get_sentence_probability(text2, markov_dict)))"
      ]
    }
  ],
  "metadata": {
    "colab": {
      "collapsed_sections": [],
      "name": "Zadania_lab3.ipynb",
      "provenance": []
    },
    "kernelspec": {
      "display_name": "Python 3",
      "language": "python",
      "name": "python3"
    },
    "language_info": {
      "codemirror_mode": {
        "name": "ipython",
        "version": 3
      },
      "file_extension": ".py",
      "mimetype": "text/x-python",
      "name": "python",
      "nbconvert_exporter": "python",
      "pygments_lexer": "ipython3",
      "version": "3.10.7"
    }
  },
  "nbformat": 4,
  "nbformat_minor": 0
}
