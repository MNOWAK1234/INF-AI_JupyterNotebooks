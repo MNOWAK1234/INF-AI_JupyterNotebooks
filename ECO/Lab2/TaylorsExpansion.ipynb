{
 "cells": [
  {
   "cell_type": "markdown",
   "metadata": {},
   "source": [
    "# Elements of Convex Optimization 2025 - Homework 2\n",
    "\n",
    "### Solution author: <Mikołaj Nowak, 151813>\n",
    "\n",
    "\n",
    "The purpose of this notebook is to play with Taylor's series.\n",
    "\n",
    "This exercise requires **numpy**, **matplotlib** and **[autograd](https://github.com/HIPS/autograd)** libraries:"
   ]
  },
  {
   "cell_type": "code",
   "execution_count": 1,
   "metadata": {
    "pycharm": {
     "name": "#%%\n"
    }
   },
   "outputs": [],
   "source": [
    "# This line makes the graphs show up in the notebook, so you can safely ignore it (but run it!).\n",
    "%matplotlib inline\n",
    "import autograd.numpy as anp\n",
    "import autograd"
   ]
  },
  {
   "cell_type": "markdown",
   "metadata": {
    "pycharm": {
     "name": "#%% md\n"
    }
   },
   "source": [
    "# A reminder of what the Taylor series around point $x_0$ looks like:\n",
    "$P_m(x,x_0) = \\sum\\limits_{i=0}^{m}\\frac{f^{(i)}(x_0)}{i!}(x-x_0)^i $\n",
    "\n",
    "During implementation remember that factorial and $(x-x_0)^i$ both grow\n",
    "exponentially fast so it's not a good idea to update them separately."
   ]
  },
  {
   "cell_type": "markdown",
   "metadata": {},
   "source": [
    "# Task 1\n",
    "\n",
    "Find e (the math constant known as Euler's number) using your knowledge about all derivatives of e and it's value at some known point. Check the lecture about Taylor's series if you don't know what to do."
   ]
  },
  {
   "cell_type": "code",
   "execution_count": 2,
   "metadata": {
    "pycharm": {
     "name": "#%%\n"
    }
   },
   "outputs": [
    {
     "name": "stdout",
     "output_type": "stream",
     "text": [
      "2.7182818284590455 2.718281828459045\n"
     ]
    }
   ],
   "source": [
    "import numpy as np\n",
    "\n",
    "def find_e(n):\n",
    "    return sum(1 / np.math.factorial(i) for i in range(n))\n",
    "    \n",
    "print(find_e(20), np.e)"
   ]
  },
  {
   "cell_type": "markdown",
   "metadata": {},
   "source": [
    "# Task 2\n",
    "\n",
    "Implement Taylor's expansion to a limited arbitrary degree and for an arbitrary function, and visualize some approximations."
   ]
  },
  {
   "cell_type": "code",
   "execution_count": 3,
   "metadata": {
    "pycharm": {
     "name": "#%%\n"
    }
   },
   "outputs": [],
   "source": [
    "import numpy as np\n",
    "from matplotlib import pyplot as plt\n",
    "\n",
    "# Handy function, which takes the original function and its approximation\n",
    "# and plots it from <a> to <b> using <points_num> number of points.\n",
    "def visualize(f, f_approx, a=-3, b=3, points_num=100,):\n",
    "    x = np.linspace(a, b, points_num)\n",
    "    f = f(x)\n",
    "    f_approx = np.array([f_approx(xi) for xi in x])\n",
    "\n",
    "    plt.plot(x, f,label=\"f(x)\")\n",
    "    plt.plot(x, f_approx, label=\"approximation\")\n",
    "    plt.legend()\n",
    "    plt.show()"
   ]
  },
  {
   "cell_type": "code",
   "execution_count": 4,
   "metadata": {
    "pycharm": {
     "name": "#%%\n"
    }
   },
   "outputs": [],
   "source": [
    "# Don't change the function name or the arguments, as it will be tested automatically.\n",
    "\n",
    "def fake_taylor_expansion(x, x_0, func, n):\n",
    "    x = anp.array(x)  \n",
    "    x_0 = anp.array(x_0)  \n",
    "    \n",
    "    taylor_approx = func(x_0) # The base function\n",
    "    factorial = 1\n",
    "    grad_func = func\n",
    "    \n",
    "    for i in range(1, n+1):\n",
    "        grad_func = autograd.grad(grad_func)  # Next derivative\n",
    "        factorial*=i\n",
    "        derivative_at_x0 = grad_func(x_0)\n",
    "        taylor_approx += (derivative_at_x0 / factorial) * (x - x_0)**i       \n",
    "        \n",
    "    return taylor_approx"
   ]
  },
  {
   "cell_type": "code",
   "execution_count": 5,
   "metadata": {
    "pycharm": {
     "name": "#%%\n"
    }
   },
   "outputs": [
    {
     "data": {
      "image/png": "[encoded data removed]",
      "text/plain": [
       "<Figure size 640x480 with 1 Axes>"
      ]
     },
     "metadata": {},
     "output_type": "display_data"
    }
   ],
   "source": [
    "import autograd.numpy as anp\n",
    "import autograd\n",
    "func = anp.exp\n",
    "#func = anp.sin #from -4,4 perhaps?\n",
    "\n",
    "degree = 7\n",
    "a,b = -5,5\n",
    "\n",
    "my_approx_f = lambda x: fake_taylor_expansion(x, 0, func, n=degree)\n",
    "\n",
    "visualize(f=func, f_approx=my_approx_f, a=a, b=b, points_num=100)"
   ]
  }
 ],
 "metadata": {
  "kernelspec": {
   "display_name": "Python 3",
   "language": "python",
   "name": "python3"
  },
  "language_info": {
   "codemirror_mode": {
    "name": "ipython",
    "version": 3
   },
   "file_extension": ".py",
   "mimetype": "text/x-python",
   "name": "python",
   "nbconvert_exporter": "python",
   "pygments_lexer": "ipython3",
   "version": "3.11.3"
  }
 },
 "nbformat": 4,
 "nbformat_minor": 1
}
