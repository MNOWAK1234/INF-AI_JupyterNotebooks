{
  "cells": [
    {
      "cell_type": "code",
      "execution_count": 1,
      "id": "initial_id",
      "metadata": {
        "ExecuteTime": {
          "end_time": "2025-03-26T12:29:21.906563Z",
          "start_time": "2025-03-26T12:29:18.258734Z"
        },
        "collapsed": true,
        "id": "initial_id"
      },
      "outputs": [],
      "source": [
        "from pathlib import Path\n",
        "from typing import Any, Literal\n",
        "\n",
        "import numpy as np\n",
        "import pandas as pd\n",
        "import torch\n",
        "from PIL import Image\n",
        "from numpy.typing import NDArray\n",
        "from sentence_transformers import SentenceTransformer\n",
        "from sklearn.decomposition import PCA\n",
        "from sklearn.feature_extraction.text import TfidfVectorizer\n",
        "from sklearn.manifold import TSNE\n",
        "from transformers import AutoFeatureExtractor, AutoModel"
      ]
    },
    {
      "cell_type": "code",
      "execution_count": 2,
      "id": "ab76a8aad981ed46",
      "metadata": {
        "ExecuteTime": {
          "end_time": "2025-03-26T12:29:22.091398Z",
          "start_time": "2025-03-26T12:29:21.907622Z"
        },
        "colab": {
          "base_uri": "https://localhost:8080/"
        },
        "id": "ab76a8aad981ed46",
        "outputId": "3957a399-a671-47dc-d9dc-006da6cf0431"
      },
      "outputs": [
        {
          "output_type": "stream",
          "name": "stdout",
          "text": [
            "False\n"
          ]
        }
      ],
      "source": [
        "print(torch.cuda.is_available())\n",
        "# pip requirements txt"
      ]
    },
    {
      "cell_type": "code",
      "execution_count": 3,
      "id": "d62fb4e88e4d1a32",
      "metadata": {
        "ExecuteTime": {
          "end_time": "2025-03-26T12:27:48.988065Z",
          "start_time": "2025-03-26T12:27:48.976065Z"
        },
        "id": "d62fb4e88e4d1a32"
      },
      "outputs": [],
      "source": [
        "# Notice this is a similarity function, not a distance function\n",
        "def cosine_similarity(vector_a: NDArray, vector_b: NDArray) -> float:\n",
        "    return float(np.dot(vector_a, vector_b) / (np.linalg.norm(vector_a) * np.linalg.norm(vector_b)))\n",
        "\n",
        "\n",
        "# Notice this is a distance function, not a similarity function\n",
        "def euclidean_distance(vector_a: NDArray, vector_b: NDArray) -> float:\n",
        "    return float(np.linalg.norm(vector_a - vector_b))\n",
        "\n",
        "\n",
        "# Calculate cosine similarities between a query embedding and a list of item embeddings\n",
        "def calculate_cosine_similarities(query_embedding: NDArray,\n",
        "                                  all_embeddings: NDArray) -> list[float]:\n",
        "    similarities = [cosine_similarity(query_embedding, all_embeddings[i]) for i in range(0, len(all_embeddings))]\n",
        "    return list(map(lambda x: round(x, 3), similarities))\n",
        "\n",
        "\n",
        "# Calculate cosine distances between a query embedding and a list of item embeddings\n",
        "def calculate_euclidean_distances(query_embedding: NDArray,\n",
        "                                  all_embeddings: NDArray) -> list[float]:\n",
        "    distances = [euclidean_distance(query_embedding, all_embeddings[i]) for i in range(0, len(all_embeddings))]\n",
        "    return list(map(lambda x: round(x, 3), distances))\n",
        "\n",
        "\n",
        "# Use argument sorting to return most similar objects\n",
        "# depending on the metric used\n",
        "# If metric is \"distance\", smaller values are more similar\n",
        "# If metric is \"similarity\", larger values are more similar\n",
        "def most_similar_objects(distances: NDArray, objects: list[Any],\n",
        "                         metric: Literal[\"distance\", \"similarity\"] = \"distance\", n: int = 3) -> list:\n",
        "    if metric == \"distance\":\n",
        "        similar_indices = np.argsort(distances)\n",
        "    elif metric == \"similarity\":\n",
        "        similar_indices = np.argsort(distances)[::-1]\n",
        "    else:\n",
        "        raise ValueError(\"Invalid metric. Choose from 'distance' or 'similarity'.\")\n",
        "    closest_n_objects = [objects[i] for i in similar_indices[:n]]\n",
        "    return closest_n_objects"
      ]
    },
    {
      "cell_type": "code",
      "execution_count": 4,
      "id": "2c7a00c24751b2db",
      "metadata": {
        "ExecuteTime": {
          "end_time": "2025-03-26T12:27:49.209068Z",
          "start_time": "2025-03-26T12:27:49.184065Z"
        },
        "colab": {
          "base_uri": "https://localhost:8080/"
        },
        "id": "2c7a00c24751b2db",
        "outputId": "7ce39c6c-45e8-4d62-ee88-6aa16477c3e1"
      },
      "outputs": [
        {
          "output_type": "execute_result",
          "data": {
            "text/plain": [
              "14"
            ]
          },
          "metadata": {},
          "execution_count": 4
        }
      ],
      "source": [
        "sentences = [\n",
        "    \"Intellectual growth expands our capacity to engage with diverse perspectives.\",\n",
        "    \"Natural environments offer a peaceful respite from daily stress.\",\n",
        "    \"Persistence in the face of challenges is the key to accomplishing your goals.\",\n",
        "    \"The natural world provides essential balance to our technological lives.\",\n",
        "    \"Education provides the tools needed to navigate life's complexities.\",\n",
        "    \"Steadfast commitment to your path will bring rewards, even when progress seems slow.\",\n",
        "    \"Regular contact with nature improves overall well-being.\",\n",
        "    \"Continued determination in difficult circumstances yields achievement in the end.\",\n",
        "    \"The pursuit of knowledge opens doors to new possibilities.\",\n",
        "    \"Immersion in wilderness settings restores mental clarity.\",\n",
        "    \"Those who maintain effort despite obstacles will ultimately triumph.\",\n",
        "    \"Learning enriches our understanding of the world around us.\",\n",
        "    \"Spending time outdoors rejuvenates the human spirit.\",\n",
        "    \"Hard work and dedication eventually lead to success.\"\n",
        "]\n",
        "len(sentences)"
      ]
    },
    {
      "cell_type": "code",
      "execution_count": 5,
      "id": "fa7d21ec26421868",
      "metadata": {
        "ExecuteTime": {
          "end_time": "2025-03-26T12:27:49.369064Z",
          "start_time": "2025-03-26T12:27:49.351065Z"
        },
        "colab": {
          "base_uri": "https://localhost:8080/"
        },
        "id": "fa7d21ec26421868",
        "outputId": "6a8f2cc9-941a-4677-ede0-0cff46d5ade0"
      },
      "outputs": [
        {
          "output_type": "execute_result",
          "data": {
            "text/plain": [
              "(14, 104)"
            ]
          },
          "metadata": {},
          "execution_count": 5
        }
      ],
      "source": [
        "vectorizer = TfidfVectorizer()\n",
        "embedded_sentences = vectorizer.fit_transform(sentences)\n",
        "embedded_sentences = embedded_sentences.toarray()\n",
        "# embedded_sentences.shape\n",
        "embedded_sentences.shape"
      ]
    },
    {
      "cell_type": "code",
      "execution_count": 6,
      "id": "711f1b8608f941c7",
      "metadata": {
        "ExecuteTime": {
          "end_time": "2025-03-26T12:27:52.445774Z",
          "start_time": "2025-03-26T12:27:49.512718Z"
        },
        "colab": {
          "base_uri": "https://localhost:8080/"
        },
        "id": "711f1b8608f941c7",
        "outputId": "a0280bde-9374-4af7-cf98-85906fa007b1"
      },
      "outputs": [
        {
          "output_type": "stream",
          "name": "stderr",
          "text": [
            "/usr/local/lib/python3.11/dist-packages/huggingface_hub/utils/_auth.py:94: UserWarning: \n",
            "The secret `HF_TOKEN` does not exist in your Colab secrets.\n",
            "To authenticate with the Hugging Face Hub, create a token in your settings tab (https://huggingface.co/settings/tokens), set it as secret in your Google Colab and restart your session.\n",
            "You will be able to reuse this secret in all of your notebooks.\n",
            "Please note that authentication is recommended but still optional to access public models or datasets.\n",
            "  warnings.warn(\n"
          ]
        },
        {
          "output_type": "execute_result",
          "data": {
            "text/plain": [
              "(14, 384)"
            ]
          },
          "metadata": {},
          "execution_count": 6
        }
      ],
      "source": [
        "embedder = SentenceTransformer(\"all-MiniLM-L6-v2\")\n",
        "embedded_sentences = embedder.encode(sentences)\n",
        "embedded_sentences.shape"
      ]
    },
    {
      "cell_type": "code",
      "execution_count": 7,
      "id": "b02698e81492199d",
      "metadata": {
        "ExecuteTime": {
          "end_time": "2025-03-26T12:27:52.461031Z",
          "start_time": "2025-03-26T12:27:52.447029Z"
        },
        "id": "b02698e81492199d"
      },
      "outputs": [],
      "source": [
        "# embedded_sentences"
      ]
    },
    {
      "cell_type": "code",
      "execution_count": 8,
      "id": "f44a21cc3ffd3ed7",
      "metadata": {
        "ExecuteTime": {
          "end_time": "2025-03-26T12:27:52.477031Z",
          "start_time": "2025-03-26T12:27:52.462056Z"
        },
        "colab": {
          "base_uri": "https://localhost:8080/",
          "height": 36
        },
        "id": "f44a21cc3ffd3ed7",
        "outputId": "61e72219-155f-4978-ddbb-f222b15bb3ab"
      },
      "outputs": [
        {
          "output_type": "execute_result",
          "data": {
            "text/plain": [
              "'Immersion in wilderness settings restores mental clarity.'"
            ],
            "application/vnd.google.colaboratory.intrinsic+json": {
              "type": "string"
            }
          },
          "metadata": {},
          "execution_count": 8
        }
      ],
      "source": [
        "idx = 9\n",
        "sentences[idx]"
      ]
    },
    {
      "cell_type": "code",
      "execution_count": 9,
      "id": "cf1bf194df8bc7f0",
      "metadata": {
        "ExecuteTime": {
          "end_time": "2025-03-26T12:27:52.493031Z",
          "start_time": "2025-03-26T12:27:52.479031Z"
        },
        "colab": {
          "base_uri": "https://localhost:8080/"
        },
        "id": "cf1bf194df8bc7f0",
        "outputId": "4fd878d4-c9dd-4638-97e2-51fb373ac572"
      },
      "outputs": [
        {
          "output_type": "stream",
          "name": "stdout",
          "text": [
            "[0.34, 0.397, 0.255, 0.234, 0.3, 0.221, 0.451, 0.254, 0.311, 1.0, 0.209, 0.373, 0.56, 0.174]\n"
          ]
        }
      ],
      "source": [
        "cosine_similarities = calculate_cosine_similarities(embedded_sentences[idx], embedded_sentences)\n",
        "print(cosine_similarities)"
      ]
    },
    {
      "cell_type": "code",
      "execution_count": 10,
      "id": "280b02b4080495d9",
      "metadata": {
        "ExecuteTime": {
          "end_time": "2025-03-26T12:27:52.509005Z",
          "start_time": "2025-03-26T12:27:52.494036Z"
        },
        "colab": {
          "base_uri": "https://localhost:8080/"
        },
        "id": "280b02b4080495d9",
        "outputId": "f48ab020-1530-4035-b61d-7eccb23b3a47"
      },
      "outputs": [
        {
          "output_type": "execute_result",
          "data": {
            "text/plain": [
              "['Immersion in wilderness settings restores mental clarity.',\n",
              " 'Spending time outdoors rejuvenates the human spirit.',\n",
              " 'Regular contact with nature improves overall well-being.',\n",
              " 'Natural environments offer a peaceful respite from daily stress.']"
            ]
          },
          "metadata": {},
          "execution_count": 10
        }
      ],
      "source": [
        "similar_sentences = most_similar_objects(cosine_similarities, sentences, \"similarity\", 4)\n",
        "similar_sentences"
      ]
    },
    {
      "cell_type": "code",
      "execution_count": 11,
      "id": "fc861345ca712a3f",
      "metadata": {
        "ExecuteTime": {
          "end_time": "2025-03-26T12:27:52.525005Z",
          "start_time": "2025-03-26T12:27:52.511001Z"
        },
        "colab": {
          "base_uri": "https://localhost:8080/"
        },
        "id": "fc861345ca712a3f",
        "outputId": "a3a5853c-25ed-4df9-a306-9106c06c49c7"
      },
      "outputs": [
        {
          "output_type": "stream",
          "name": "stdout",
          "text": [
            "[1.149, 1.098, 1.221, 1.238, 1.183, 1.248, 1.048, 1.221, 1.174, 0.0, 1.258, 1.119, 0.938, 1.285]\n"
          ]
        }
      ],
      "source": [
        "euclidean_distances = calculate_euclidean_distances(\n",
        "    embedded_sentences[idx],\n",
        "    embedded_sentences)\n",
        "print(euclidean_distances)"
      ]
    },
    {
      "cell_type": "code",
      "execution_count": 12,
      "id": "d0d94f8bb4ba823c",
      "metadata": {
        "ExecuteTime": {
          "end_time": "2025-03-26T12:27:52.540344Z",
          "start_time": "2025-03-26T12:27:52.526001Z"
        },
        "colab": {
          "base_uri": "https://localhost:8080/"
        },
        "id": "d0d94f8bb4ba823c",
        "outputId": "f76ff45e-7495-4f09-db74-730d1142e104"
      },
      "outputs": [
        {
          "output_type": "execute_result",
          "data": {
            "text/plain": [
              "['Hard work and dedication eventually lead to success.',\n",
              " 'Those who maintain effort despite obstacles will ultimately triumph.',\n",
              " 'Steadfast commitment to your path will bring rewards, even when progress seems slow.',\n",
              " 'The natural world provides essential balance to our technological lives.']"
            ]
          },
          "metadata": {},
          "execution_count": 12
        }
      ],
      "source": [
        "similar_sentences = most_similar_objects(euclidean_distances, sentences, \"similarity\", 4)\n",
        "similar_sentences"
      ]
    },
    {
      "cell_type": "code",
      "execution_count": 13,
      "id": "fd943ae3b29a00a4",
      "metadata": {
        "ExecuteTime": {
          "end_time": "2025-03-26T12:27:52.555350Z",
          "start_time": "2025-03-26T12:27:52.541348Z"
        },
        "colab": {
          "base_uri": "https://localhost:8080/"
        },
        "id": "fd943ae3b29a00a4",
        "outputId": "98b82215-1fa1-4731-a59e-750c7af03984"
      },
      "outputs": [
        {
          "output_type": "stream",
          "name": "stdout",
          "text": [
            "[0.34  0.397 0.255 0.234 0.3   0.221 0.451 0.254 0.311 1.    0.209 0.373\n",
            " 0.56  0.174]\n"
          ]
        }
      ],
      "source": [
        "similarities = embedder.similarity(embedded_sentences[idx], embedded_sentences)\n",
        "similarities = similarities.cpu().view(-1).numpy()\n",
        "similarities = similarities.round(3)\n",
        "print(similarities)"
      ]
    },
    {
      "cell_type": "code",
      "execution_count": 14,
      "id": "e5396f25ea91e683",
      "metadata": {
        "ExecuteTime": {
          "end_time": "2025-03-26T12:27:52.571347Z",
          "start_time": "2025-03-26T12:27:52.558348Z"
        },
        "id": "e5396f25ea91e683"
      },
      "outputs": [],
      "source": [
        "def project_vectors(data: NDArray, technique: str = \"tsne\", **options):\n",
        "    if technique == \"pca\":\n",
        "        transformer = PCA(**options)\n",
        "    elif technique == \"tsne\":\n",
        "        transformer = TSNE(**options)\n",
        "    elif technique == \"umap\":\n",
        "        raise NotImplementedError(\"UMAP is not yet supported.\")\n",
        "    else:\n",
        "        raise ValueError(\n",
        "            f\"Invalid technique: {technique}. Choose from 'pca', 'tsne', or 'umap'.\"\n",
        "        )\n",
        "\n",
        "    transformed_data = transformer.fit_transform(data)\n",
        "    return transformed_data"
      ]
    },
    {
      "cell_type": "code",
      "execution_count": 15,
      "id": "80b0786612b3046f",
      "metadata": {
        "ExecuteTime": {
          "end_time": "2025-03-26T12:27:52.789347Z",
          "start_time": "2025-03-26T12:27:52.575348Z"
        },
        "colab": {
          "base_uri": "https://localhost:8080/"
        },
        "id": "80b0786612b3046f",
        "outputId": "52b82c80-d60a-434e-a297-df36ec72188a"
      },
      "outputs": [
        {
          "output_type": "execute_result",
          "data": {
            "text/plain": [
              "(14, 2)"
            ]
          },
          "metadata": {},
          "execution_count": 15
        }
      ],
      "source": [
        "reduced_embeddings = project_vectors(embedded_sentences, technique=\"tsne\", n_components=2, random_state=0, perplexity=5)\n",
        "reduced_embeddings.shape\n",
        "# reduced_embeddings"
      ]
    },
    {
      "cell_type": "code",
      "execution_count": 16,
      "id": "f5c09236d3e4e12c",
      "metadata": {
        "ExecuteTime": {
          "end_time": "2025-03-26T12:27:52.804347Z",
          "start_time": "2025-03-26T12:27:52.790349Z"
        },
        "colab": {
          "base_uri": "https://localhost:8080/",
          "height": 488
        },
        "id": "f5c09236d3e4e12c",
        "outputId": "3b970a4c-2818-4823-9ba2-10dbf3e7c7e9"
      },
      "outputs": [
        {
          "output_type": "execute_result",
          "data": {
            "text/plain": [
              "            x           y                                           sentence\n",
              "0  -94.133858   69.956955  Intellectual growth expands our capacity to en...\n",
              "1   40.771610  127.396393  Natural environments offer a peaceful respite ...\n",
              "2  -15.072247  -78.774033  Persistence in the face of challenges is the k...\n",
              "3  -15.577008   77.685211  The natural world provides essential balance t...\n",
              "4  -80.842224   27.598875  Education provides the tools needed to navigat...\n",
              "5   37.559509 -121.264008  Steadfast commitment to your path will bring r...\n",
              "6   82.361526  122.621521  Regular contact with nature improves overall w...\n",
              "7  -60.616287 -130.127625  Continued determination in difficult circumsta...\n",
              "8  -34.934395   -8.937666  The pursuit of knowledge opens doors to new po...\n",
              "9   85.552574  183.620255  Immersion in wilderness settings restores ment...\n",
              "10  -0.834648 -149.494904  Those who maintain effort despite obstacles wi...\n",
              "11 -46.994171   47.498669  Learning enriches our understanding of the wor...\n",
              "12  53.361565  168.615479  Spending time outdoors rejuvenates the human s...\n",
              "13 -23.402100 -123.139236  Hard work and dedication eventually lead to su..."
            ],
            "text/html": [
              "\n",
              "  <div id=\"df-84309ebc-5227-4627-9fb0-322fe2386fbb\" class=\"colab-df-container\">\n",
              "    <div>\n",
              "<style scoped>\n",
              "    .dataframe tbody tr th:only-of-type {\n",
              "        vertical-align: middle;\n",
              "    }\n",
              "\n",
              "    .dataframe tbody tr th {\n",
              "        vertical-align: top;\n",
              "    }\n",
              "\n",
              "    .dataframe thead th {\n",
              "        text-align: right;\n",
              "    }\n",
              "</style>\n",
              "<table border=\"1\" class=\"dataframe\">\n",
              "  <thead>\n",
              "    <tr style=\"text-align: right;\">\n",
              "      <th></th>\n",
              "      <th>x</th>\n",
              "      <th>y</th>\n",
              "      <th>sentence</th>\n",
              "    </tr>\n",
              "  </thead>\n",
              "  <tbody>\n",
              "    <tr>\n",
              "      <th>0</th>\n",
              "      <td>-94.133858</td>\n",
              "      <td>69.956955</td>\n",
              "      <td>Intellectual growth expands our capacity to en...</td>\n",
              "    </tr>\n",
              "    <tr>\n",
              "      <th>1</th>\n",
              "      <td>40.771610</td>\n",
              "      <td>127.396393</td>\n",
              "      <td>Natural environments offer a peaceful respite ...</td>\n",
              "    </tr>\n",
              "    <tr>\n",
              "      <th>2</th>\n",
              "      <td>-15.072247</td>\n",
              "      <td>-78.774033</td>\n",
              "      <td>Persistence in the face of challenges is the k...</td>\n",
              "    </tr>\n",
              "    <tr>\n",
              "      <th>3</th>\n",
              "      <td>-15.577008</td>\n",
              "      <td>77.685211</td>\n",
              "      <td>The natural world provides essential balance t...</td>\n",
              "    </tr>\n",
              "    <tr>\n",
              "      <th>4</th>\n",
              "      <td>-80.842224</td>\n",
              "      <td>27.598875</td>\n",
              "      <td>Education provides the tools needed to navigat...</td>\n",
              "    </tr>\n",
              "    <tr>\n",
              "      <th>5</th>\n",
              "      <td>37.559509</td>\n",
              "      <td>-121.264008</td>\n",
              "      <td>Steadfast commitment to your path will bring r...</td>\n",
              "    </tr>\n",
              "    <tr>\n",
              "      <th>6</th>\n",
              "      <td>82.361526</td>\n",
              "      <td>122.621521</td>\n",
              "      <td>Regular contact with nature improves overall w...</td>\n",
              "    </tr>\n",
              "    <tr>\n",
              "      <th>7</th>\n",
              "      <td>-60.616287</td>\n",
              "      <td>-130.127625</td>\n",
              "      <td>Continued determination in difficult circumsta...</td>\n",
              "    </tr>\n",
              "    <tr>\n",
              "      <th>8</th>\n",
              "      <td>-34.934395</td>\n",
              "      <td>-8.937666</td>\n",
              "      <td>The pursuit of knowledge opens doors to new po...</td>\n",
              "    </tr>\n",
              "    <tr>\n",
              "      <th>9</th>\n",
              "      <td>85.552574</td>\n",
              "      <td>183.620255</td>\n",
              "      <td>Immersion in wilderness settings restores ment...</td>\n",
              "    </tr>\n",
              "    <tr>\n",
              "      <th>10</th>\n",
              "      <td>-0.834648</td>\n",
              "      <td>-149.494904</td>\n",
              "      <td>Those who maintain effort despite obstacles wi...</td>\n",
              "    </tr>\n",
              "    <tr>\n",
              "      <th>11</th>\n",
              "      <td>-46.994171</td>\n",
              "      <td>47.498669</td>\n",
              "      <td>Learning enriches our understanding of the wor...</td>\n",
              "    </tr>\n",
              "    <tr>\n",
              "      <th>12</th>\n",
              "      <td>53.361565</td>\n",
              "      <td>168.615479</td>\n",
              "      <td>Spending time outdoors rejuvenates the human s...</td>\n",
              "    </tr>\n",
              "    <tr>\n",
              "      <th>13</th>\n",
              "      <td>-23.402100</td>\n",
              "      <td>-123.139236</td>\n",
              "      <td>Hard work and dedication eventually lead to su...</td>\n",
              "    </tr>\n",
              "  </tbody>\n",
              "</table>\n",
              "</div>\n",
              "    <div class=\"colab-df-buttons\">\n",
              "\n",
              "  <div class=\"colab-df-container\">\n",
              "    <button class=\"colab-df-convert\" onclick=\"convertToInteractive('df-84309ebc-5227-4627-9fb0-322fe2386fbb')\"\n",
              "            title=\"Convert this dataframe to an interactive table.\"\n",
              "            style=\"display:none;\">\n",
              "\n",
              "  <svg xmlns=\"http://www.w3.org/2000/svg\" height=\"24px\" viewBox=\"0 -960 960 960\">\n",
              "    <path d=\"M120-120v-720h720v720H120Zm60-500h600v-160H180v160Zm220 220h160v-160H400v160Zm0 220h160v-160H400v160ZM180-400h160v-160H180v160Zm440 0h160v-160H620v160ZM180-180h160v-160H180v160Zm440 0h160v-160H620v160Z\"/>\n",
              "  </svg>\n",
              "    </button>\n",
              "\n",
              "  <style>\n",
              "    .colab-df-container {\n",
              "      display:flex;\n",
              "      gap: 12px;\n",
              "    }\n",
              "\n",
              "    .colab-df-convert {\n",
              "      background-color: #E8F0FE;\n",
              "      border: none;\n",
              "      border-radius: 50%;\n",
              "      cursor: pointer;\n",
              "      display: none;\n",
              "      fill: #1967D2;\n",
              "      height: 32px;\n",
              "      padding: 0 0 0 0;\n",
              "      width: 32px;\n",
              "    }\n",
              "\n",
              "    .colab-df-convert:hover {\n",
              "      background-color: #E2EBFA;\n",
              "      box-shadow: 0px 1px 2px rgba(60, 64, 67, 0.3), 0px 1px 3px 1px rgba(60, 64, 67, 0.15);\n",
              "      fill: #174EA6;\n",
              "    }\n",
              "\n",
              "    .colab-df-buttons div {\n",
              "      margin-bottom: 4px;\n",
              "    }\n",
              "\n",
              "    [theme=dark] .colab-df-convert {\n",
              "      background-color: #3B4455;\n",
              "      fill: #D2E3FC;\n",
              "    }\n",
              "\n",
              "    [theme=dark] .colab-df-convert:hover {\n",
              "      background-color: #434B5C;\n",
              "      box-shadow: 0px 1px 3px 1px rgba(0, 0, 0, 0.15);\n",
              "      filter: drop-shadow(0px 1px 2px rgba(0, 0, 0, 0.3));\n",
              "      fill: #FFFFFF;\n",
              "    }\n",
              "  </style>\n",
              "\n",
              "    <script>\n",
              "      const buttonEl =\n",
              "        document.querySelector('#df-84309ebc-5227-4627-9fb0-322fe2386fbb button.colab-df-convert');\n",
              "      buttonEl.style.display =\n",
              "        google.colab.kernel.accessAllowed ? 'block' : 'none';\n",
              "\n",
              "      async function convertToInteractive(key) {\n",
              "        const element = document.querySelector('#df-84309ebc-5227-4627-9fb0-322fe2386fbb');\n",
              "        const dataTable =\n",
              "          await google.colab.kernel.invokeFunction('convertToInteractive',\n",
              "                                                    [key], {});\n",
              "        if (!dataTable) return;\n",
              "\n",
              "        const docLinkHtml = 'Like what you see? Visit the ' +\n",
              "          '<a target=\"_blank\" href=https://colab.research.google.com/notebooks/data_table.ipynb>data table notebook</a>'\n",
              "          + ' to learn more about interactive tables.';\n",
              "        element.innerHTML = '';\n",
              "        dataTable['output_type'] = 'display_data';\n",
              "        await google.colab.output.renderOutput(dataTable, element);\n",
              "        const docLink = document.createElement('div');\n",
              "        docLink.innerHTML = docLinkHtml;\n",
              "        element.appendChild(docLink);\n",
              "      }\n",
              "    </script>\n",
              "  </div>\n",
              "\n",
              "\n",
              "<div id=\"df-0dd87d12-c1d6-4a4e-a1b8-7f2649b89363\">\n",
              "  <button class=\"colab-df-quickchart\" onclick=\"quickchart('df-0dd87d12-c1d6-4a4e-a1b8-7f2649b89363')\"\n",
              "            title=\"Suggest charts\"\n",
              "            style=\"display:none;\">\n",
              "\n",
              "<svg xmlns=\"http://www.w3.org/2000/svg\" height=\"24px\"viewBox=\"0 0 24 24\"\n",
              "     width=\"24px\">\n",
              "    <g>\n",
              "        <path d=\"M19 3H5c-1.1 0-2 .9-2 2v14c0 1.1.9 2 2 2h14c1.1 0 2-.9 2-2V5c0-1.1-.9-2-2-2zM9 17H7v-7h2v7zm4 0h-2V7h2v10zm4 0h-2v-4h2v4z\"/>\n",
              "    </g>\n",
              "</svg>\n",
              "  </button>\n",
              "\n",
              "<style>\n",
              "  .colab-df-quickchart {\n",
              "      --bg-color: #E8F0FE;\n",
              "      --fill-color: #1967D2;\n",
              "      --hover-bg-color: #E2EBFA;\n",
              "      --hover-fill-color: #174EA6;\n",
              "      --disabled-fill-color: #AAA;\n",
              "      --disabled-bg-color: #DDD;\n",
              "  }\n",
              "\n",
              "  [theme=dark] .colab-df-quickchart {\n",
              "      --bg-color: #3B4455;\n",
              "      --fill-color: #D2E3FC;\n",
              "      --hover-bg-color: #434B5C;\n",
              "      --hover-fill-color: #FFFFFF;\n",
              "      --disabled-bg-color: #3B4455;\n",
              "      --disabled-fill-color: #666;\n",
              "  }\n",
              "\n",
              "  .colab-df-quickchart {\n",
              "    background-color: var(--bg-color);\n",
              "    border: none;\n",
              "    border-radius: 50%;\n",
              "    cursor: pointer;\n",
              "    display: none;\n",
              "    fill: var(--fill-color);\n",
              "    height: 32px;\n",
              "    padding: 0;\n",
              "    width: 32px;\n",
              "  }\n",
              "\n",
              "  .colab-df-quickchart:hover {\n",
              "    background-color: var(--hover-bg-color);\n",
              "    box-shadow: 0 1px 2px rgba(60, 64, 67, 0.3), 0 1px 3px 1px rgba(60, 64, 67, 0.15);\n",
              "    fill: var(--button-hover-fill-color);\n",
              "  }\n",
              "\n",
              "  .colab-df-quickchart-complete:disabled,\n",
              "  .colab-df-quickchart-complete:disabled:hover {\n",
              "    background-color: var(--disabled-bg-color);\n",
              "    fill: var(--disabled-fill-color);\n",
              "    box-shadow: none;\n",
              "  }\n",
              "\n",
              "  .colab-df-spinner {\n",
              "    border: 2px solid var(--fill-color);\n",
              "    border-color: transparent;\n",
              "    border-bottom-color: var(--fill-color);\n",
              "    animation:\n",
              "      spin 1s steps(1) infinite;\n",
              "  }\n",
              "\n",
              "  @keyframes spin {\n",
              "    0% {\n",
              "      border-color: transparent;\n",
              "      border-bottom-color: var(--fill-color);\n",
              "      border-left-color: var(--fill-color);\n",
              "    }\n",
              "    20% {\n",
              "      border-color: transparent;\n",
              "      border-left-color: var(--fill-color);\n",
              "      border-top-color: var(--fill-color);\n",
              "    }\n",
              "    30% {\n",
              "      border-color: transparent;\n",
              "      border-left-color: var(--fill-color);\n",
              "      border-top-color: var(--fill-color);\n",
              "      border-right-color: var(--fill-color);\n",
              "    }\n",
              "    40% {\n",
              "      border-color: transparent;\n",
              "      border-right-color: var(--fill-color);\n",
              "      border-top-color: var(--fill-color);\n",
              "    }\n",
              "    60% {\n",
              "      border-color: transparent;\n",
              "      border-right-color: var(--fill-color);\n",
              "    }\n",
              "    80% {\n",
              "      border-color: transparent;\n",
              "      border-right-color: var(--fill-color);\n",
              "      border-bottom-color: var(--fill-color);\n",
              "    }\n",
              "    90% {\n",
              "      border-color: transparent;\n",
              "      border-bottom-color: var(--fill-color);\n",
              "    }\n",
              "  }\n",
              "</style>\n",
              "\n",
              "  <script>\n",
              "    async function quickchart(key) {\n",
              "      const quickchartButtonEl =\n",
              "        document.querySelector('#' + key + ' button');\n",
              "      quickchartButtonEl.disabled = true;  // To prevent multiple clicks.\n",
              "      quickchartButtonEl.classList.add('colab-df-spinner');\n",
              "      try {\n",
              "        const charts = await google.colab.kernel.invokeFunction(\n",
              "            'suggestCharts', [key], {});\n",
              "      } catch (error) {\n",
              "        console.error('Error during call to suggestCharts:', error);\n",
              "      }\n",
              "      quickchartButtonEl.classList.remove('colab-df-spinner');\n",
              "      quickchartButtonEl.classList.add('colab-df-quickchart-complete');\n",
              "    }\n",
              "    (() => {\n",
              "      let quickchartButtonEl =\n",
              "        document.querySelector('#df-0dd87d12-c1d6-4a4e-a1b8-7f2649b89363 button');\n",
              "      quickchartButtonEl.style.display =\n",
              "        google.colab.kernel.accessAllowed ? 'block' : 'none';\n",
              "    })();\n",
              "  </script>\n",
              "</div>\n",
              "\n",
              "  <div id=\"id_d264f396-3807-49f1-bc6c-0b2505f60fcc\">\n",
              "    <style>\n",
              "      .colab-df-generate {\n",
              "        background-color: #E8F0FE;\n",
              "        border: none;\n",
              "        border-radius: 50%;\n",
              "        cursor: pointer;\n",
              "        display: none;\n",
              "        fill: #1967D2;\n",
              "        height: 32px;\n",
              "        padding: 0 0 0 0;\n",
              "        width: 32px;\n",
              "      }\n",
              "\n",
              "      .colab-df-generate:hover {\n",
              "        background-color: #E2EBFA;\n",
              "        box-shadow: 0px 1px 2px rgba(60, 64, 67, 0.3), 0px 1px 3px 1px rgba(60, 64, 67, 0.15);\n",
              "        fill: #174EA6;\n",
              "      }\n",
              "\n",
              "      [theme=dark] .colab-df-generate {\n",
              "        background-color: #3B4455;\n",
              "        fill: #D2E3FC;\n",
              "      }\n",
              "\n",
              "      [theme=dark] .colab-df-generate:hover {\n",
              "        background-color: #434B5C;\n",
              "        box-shadow: 0px 1px 3px 1px rgba(0, 0, 0, 0.15);\n",
              "        filter: drop-shadow(0px 1px 2px rgba(0, 0, 0, 0.3));\n",
              "        fill: #FFFFFF;\n",
              "      }\n",
              "    </style>\n",
              "    <button class=\"colab-df-generate\" onclick=\"generateWithVariable('df')\"\n",
              "            title=\"Generate code using this dataframe.\"\n",
              "            style=\"display:none;\">\n",
              "\n",
              "  <svg xmlns=\"http://www.w3.org/2000/svg\" height=\"24px\"viewBox=\"0 0 24 24\"\n",
              "       width=\"24px\">\n",
              "    <path d=\"M7,19H8.4L18.45,9,17,7.55,7,17.6ZM5,21V16.75L18.45,3.32a2,2,0,0,1,2.83,0l1.4,1.43a1.91,1.91,0,0,1,.58,1.4,1.91,1.91,0,0,1-.58,1.4L9.25,21ZM18.45,9,17,7.55Zm-12,3A5.31,5.31,0,0,0,4.9,8.1,5.31,5.31,0,0,0,1,6.5,5.31,5.31,0,0,0,4.9,4.9,5.31,5.31,0,0,0,6.5,1,5.31,5.31,0,0,0,8.1,4.9,5.31,5.31,0,0,0,12,6.5,5.46,5.46,0,0,0,6.5,12Z\"/>\n",
              "  </svg>\n",
              "    </button>\n",
              "    <script>\n",
              "      (() => {\n",
              "      const buttonEl =\n",
              "        document.querySelector('#id_d264f396-3807-49f1-bc6c-0b2505f60fcc button.colab-df-generate');\n",
              "      buttonEl.style.display =\n",
              "        google.colab.kernel.accessAllowed ? 'block' : 'none';\n",
              "\n",
              "      buttonEl.onclick = () => {\n",
              "        google.colab.notebook.generateWithVariable('df');\n",
              "      }\n",
              "      })();\n",
              "    </script>\n",
              "  </div>\n",
              "\n",
              "    </div>\n",
              "  </div>\n"
            ],
            "application/vnd.google.colaboratory.intrinsic+json": {
              "type": "dataframe",
              "variable_name": "df",
              "summary": "{\n  \"name\": \"df\",\n  \"rows\": 14,\n  \"fields\": [\n    {\n      \"column\": \"x\",\n      \"properties\": {\n        \"dtype\": \"float32\",\n        \"num_unique_values\": 14,\n        \"samples\": [\n          85.55257415771484,\n          -46.994171142578125,\n          -94.13385772705078\n        ],\n        \"semantic_type\": \"\",\n        \"description\": \"\"\n      }\n    },\n    {\n      \"column\": \"y\",\n      \"properties\": {\n        \"dtype\": \"float32\",\n        \"num_unique_values\": 14,\n        \"samples\": [\n          183.62025451660156,\n          47.4986686706543,\n          69.95695495605469\n        ],\n        \"semantic_type\": \"\",\n        \"description\": \"\"\n      }\n    },\n    {\n      \"column\": \"sentence\",\n      \"properties\": {\n        \"dtype\": \"string\",\n        \"num_unique_values\": 14,\n        \"samples\": [\n          \"Immersion in wilderness settings restores mental clarity.\",\n          \"Learning enriches our understanding of the world around us.\",\n          \"Intellectual growth expands our capacity to engage with diverse perspectives.\"\n        ],\n        \"semantic_type\": \"\",\n        \"description\": \"\"\n      }\n    }\n  ]\n}"
            }
          },
          "metadata": {},
          "execution_count": 16
        }
      ],
      "source": [
        "# dataframe with reduced embeddings\n",
        "\n",
        "df = pd.DataFrame(reduced_embeddings, columns=[\"x\", \"y\"])\n",
        "df[\"sentence\"] = sentences\n",
        "df"
      ]
    },
    {
      "cell_type": "code",
      "execution_count": 17,
      "id": "fc0efff26b527a4e",
      "metadata": {
        "ExecuteTime": {
          "end_time": "2025-03-26T12:27:53.053809Z",
          "start_time": "2025-03-26T12:27:52.806347Z"
        },
        "colab": {
          "base_uri": "https://localhost:8080/",
          "height": 542
        },
        "id": "fc0efff26b527a4e",
        "outputId": "5cbba3ba-0f37-4dd6-91f3-de8416de415b"
      },
      "outputs": [
        {
          "output_type": "display_data",
          "data": {
            "text/html": [
              "<html>\n",
              "<head><meta charset=\"utf-8\" /></head>\n",
              "<body>\n",
              "    <div>            <script src=\"https://cdnjs.cloudflare.com/ajax/libs/mathjax/2.7.5/MathJax.js?config=TeX-AMS-MML_SVG\"></script><script type=\"text/javascript\">if (window.MathJax && window.MathJax.Hub && window.MathJax.Hub.Config) {window.MathJax.Hub.Config({SVG: {font: \"STIX-Web\"}});}</script>                <script type=\"text/javascript\">window.PlotlyConfig = {MathJaxConfig: 'local'};</script>\n",
              "        <script charset=\"utf-8\" src=\"https://cdn.plot.ly/plotly-2.35.2.min.js\"></script>                <div id=\"1047b5cb-1cd1-4820-975b-cf5c4d9c1b43\" class=\"plotly-graph-div\" style=\"height:525px; width:100%;\"></div>            <script type=\"text/javascript\">                                    window.PLOTLYENV=window.PLOTLYENV || {};                                    if (document.getElementById(\"1047b5cb-1cd1-4820-975b-cf5c4d9c1b43\")) {                    Plotly.newPlot(                        \"1047b5cb-1cd1-4820-975b-cf5c4d9c1b43\",                        [{\"hovertemplate\":\"x=%{x}\\u003cbr\\u003ey=%{y}\\u003cbr\\u003esentence=%{text}\\u003cextra\\u003e\\u003c\\u002fextra\\u003e\",\"legendgroup\":\"\",\"marker\":{\"color\":\"#636efa\",\"symbol\":\"circle\",\"size\":25},\"mode\":\"markers+text\",\"name\":\"\",\"orientation\":\"v\",\"showlegend\":false,\"text\":[\"Intellectual growth expands our capacity to engage with diverse perspectives.\",\"Natural environments offer a peaceful respite from daily stress.\",\"Persistence in the face of challenges is the key to accomplishing your goals.\",\"The natural world provides essential balance to our technological lives.\",\"Education provides the tools needed to navigate life's complexities.\",\"Steadfast commitment to your path will bring rewards, even when progress seems slow.\",\"Regular contact with nature improves overall well-being.\",\"Continued determination in difficult circumstances yields achievement in the end.\",\"The pursuit of knowledge opens doors to new possibilities.\",\"Immersion in wilderness settings restores mental clarity.\",\"Those who maintain effort despite obstacles will ultimately triumph.\",\"Learning enriches our understanding of the world around us.\",\"Spending time outdoors rejuvenates the human spirit.\",\"Hard work and dedication eventually lead to success.\"],\"x\":[-94.13386,40.77161,-15.072247,-15.577008,-80.842224,37.55951,82.36153,-60.616287,-34.934395,85.552574,-0.834648,-46.99417,53.361565,-23.4021],\"xaxis\":\"x\",\"y\":[69.956955,127.39639,-78.77403,77.68521,27.598875,-121.26401,122.62152,-130.12762,-8.937666,183.62025,-149.4949,47.49867,168.61548,-123.13924],\"yaxis\":\"y\",\"type\":\"scatter\",\"textfont\":{\"size\":25}}],                        {\"template\":{\"data\":{\"histogram2dcontour\":[{\"type\":\"histogram2dcontour\",\"colorbar\":{\"outlinewidth\":0,\"ticks\":\"\"},\"colorscale\":[[0.0,\"#0d0887\"],[0.1111111111111111,\"#46039f\"],[0.2222222222222222,\"#7201a8\"],[0.3333333333333333,\"#9c179e\"],[0.4444444444444444,\"#bd3786\"],[0.5555555555555556,\"#d8576b\"],[0.6666666666666666,\"#ed7953\"],[0.7777777777777778,\"#fb9f3a\"],[0.8888888888888888,\"#fdca26\"],[1.0,\"#f0f921\"]]}],\"choropleth\":[{\"type\":\"choropleth\",\"colorbar\":{\"outlinewidth\":0,\"ticks\":\"\"}}],\"histogram2d\":[{\"type\":\"histogram2d\",\"colorbar\":{\"outlinewidth\":0,\"ticks\":\"\"},\"colorscale\":[[0.0,\"#0d0887\"],[0.1111111111111111,\"#46039f\"],[0.2222222222222222,\"#7201a8\"],[0.3333333333333333,\"#9c179e\"],[0.4444444444444444,\"#bd3786\"],[0.5555555555555556,\"#d8576b\"],[0.6666666666666666,\"#ed7953\"],[0.7777777777777778,\"#fb9f3a\"],[0.8888888888888888,\"#fdca26\"],[1.0,\"#f0f921\"]]}],\"heatmap\":[{\"type\":\"heatmap\",\"colorbar\":{\"outlinewidth\":0,\"ticks\":\"\"},\"colorscale\":[[0.0,\"#0d0887\"],[0.1111111111111111,\"#46039f\"],[0.2222222222222222,\"#7201a8\"],[0.3333333333333333,\"#9c179e\"],[0.4444444444444444,\"#bd3786\"],[0.5555555555555556,\"#d8576b\"],[0.6666666666666666,\"#ed7953\"],[0.7777777777777778,\"#fb9f3a\"],[0.8888888888888888,\"#fdca26\"],[1.0,\"#f0f921\"]]}],\"heatmapgl\":[{\"type\":\"heatmapgl\",\"colorbar\":{\"outlinewidth\":0,\"ticks\":\"\"},\"colorscale\":[[0.0,\"#0d0887\"],[0.1111111111111111,\"#46039f\"],[0.2222222222222222,\"#7201a8\"],[0.3333333333333333,\"#9c179e\"],[0.4444444444444444,\"#bd3786\"],[0.5555555555555556,\"#d8576b\"],[0.6666666666666666,\"#ed7953\"],[0.7777777777777778,\"#fb9f3a\"],[0.8888888888888888,\"#fdca26\"],[1.0,\"#f0f921\"]]}],\"contourcarpet\":[{\"type\":\"contourcarpet\",\"colorbar\":{\"outlinewidth\":0,\"ticks\":\"\"}}],\"contour\":[{\"type\":\"contour\",\"colorbar\":{\"outlinewidth\":0,\"ticks\":\"\"},\"colorscale\":[[0.0,\"#0d0887\"],[0.1111111111111111,\"#46039f\"],[0.2222222222222222,\"#7201a8\"],[0.3333333333333333,\"#9c179e\"],[0.4444444444444444,\"#bd3786\"],[0.5555555555555556,\"#d8576b\"],[0.6666666666666666,\"#ed7953\"],[0.7777777777777778,\"#fb9f3a\"],[0.8888888888888888,\"#fdca26\"],[1.0,\"#f0f921\"]]}],\"surface\":[{\"type\":\"surface\",\"colorbar\":{\"outlinewidth\":0,\"ticks\":\"\"},\"colorscale\":[[0.0,\"#0d0887\"],[0.1111111111111111,\"#46039f\"],[0.2222222222222222,\"#7201a8\"],[0.3333333333333333,\"#9c179e\"],[0.4444444444444444,\"#bd3786\"],[0.5555555555555556,\"#d8576b\"],[0.6666666666666666,\"#ed7953\"],[0.7777777777777778,\"#fb9f3a\"],[0.8888888888888888,\"#fdca26\"],[1.0,\"#f0f921\"]]}],\"mesh3d\":[{\"type\":\"mesh3d\",\"colorbar\":{\"outlinewidth\":0,\"ticks\":\"\"}}],\"scatter\":[{\"fillpattern\":{\"fillmode\":\"overlay\",\"size\":10,\"solidity\":0.2},\"type\":\"scatter\"}],\"parcoords\":[{\"type\":\"parcoords\",\"line\":{\"colorbar\":{\"outlinewidth\":0,\"ticks\":\"\"}}}],\"scatterpolargl\":[{\"type\":\"scatterpolargl\",\"marker\":{\"colorbar\":{\"outlinewidth\":0,\"ticks\":\"\"}}}],\"bar\":[{\"error_x\":{\"color\":\"#2a3f5f\"},\"error_y\":{\"color\":\"#2a3f5f\"},\"marker\":{\"line\":{\"color\":\"#E5ECF6\",\"width\":0.5},\"pattern\":{\"fillmode\":\"overlay\",\"size\":10,\"solidity\":0.2}},\"type\":\"bar\"}],\"scattergeo\":[{\"type\":\"scattergeo\",\"marker\":{\"colorbar\":{\"outlinewidth\":0,\"ticks\":\"\"}}}],\"scatterpolar\":[{\"type\":\"scatterpolar\",\"marker\":{\"colorbar\":{\"outlinewidth\":0,\"ticks\":\"\"}}}],\"histogram\":[{\"marker\":{\"pattern\":{\"fillmode\":\"overlay\",\"size\":10,\"solidity\":0.2}},\"type\":\"histogram\"}],\"scattergl\":[{\"type\":\"scattergl\",\"marker\":{\"colorbar\":{\"outlinewidth\":0,\"ticks\":\"\"}}}],\"scatter3d\":[{\"type\":\"scatter3d\",\"line\":{\"colorbar\":{\"outlinewidth\":0,\"ticks\":\"\"}},\"marker\":{\"colorbar\":{\"outlinewidth\":0,\"ticks\":\"\"}}}],\"scattermapbox\":[{\"type\":\"scattermapbox\",\"marker\":{\"colorbar\":{\"outlinewidth\":0,\"ticks\":\"\"}}}],\"scatterternary\":[{\"type\":\"scatterternary\",\"marker\":{\"colorbar\":{\"outlinewidth\":0,\"ticks\":\"\"}}}],\"scattercarpet\":[{\"type\":\"scattercarpet\",\"marker\":{\"colorbar\":{\"outlinewidth\":0,\"ticks\":\"\"}}}],\"carpet\":[{\"aaxis\":{\"endlinecolor\":\"#2a3f5f\",\"gridcolor\":\"white\",\"linecolor\":\"white\",\"minorgridcolor\":\"white\",\"startlinecolor\":\"#2a3f5f\"},\"baxis\":{\"endlinecolor\":\"#2a3f5f\",\"gridcolor\":\"white\",\"linecolor\":\"white\",\"minorgridcolor\":\"white\",\"startlinecolor\":\"#2a3f5f\"},\"type\":\"carpet\"}],\"table\":[{\"cells\":{\"fill\":{\"color\":\"#EBF0F8\"},\"line\":{\"color\":\"white\"}},\"header\":{\"fill\":{\"color\":\"#C8D4E3\"},\"line\":{\"color\":\"white\"}},\"type\":\"table\"}],\"barpolar\":[{\"marker\":{\"line\":{\"color\":\"#E5ECF6\",\"width\":0.5},\"pattern\":{\"fillmode\":\"overlay\",\"size\":10,\"solidity\":0.2}},\"type\":\"barpolar\"}],\"pie\":[{\"automargin\":true,\"type\":\"pie\"}]},\"layout\":{\"autotypenumbers\":\"strict\",\"colorway\":[\"#636efa\",\"#EF553B\",\"#00cc96\",\"#ab63fa\",\"#FFA15A\",\"#19d3f3\",\"#FF6692\",\"#B6E880\",\"#FF97FF\",\"#FECB52\"],\"font\":{\"color\":\"#2a3f5f\"},\"hovermode\":\"closest\",\"hoverlabel\":{\"align\":\"left\"},\"paper_bgcolor\":\"white\",\"plot_bgcolor\":\"#E5ECF6\",\"polar\":{\"bgcolor\":\"#E5ECF6\",\"angularaxis\":{\"gridcolor\":\"white\",\"linecolor\":\"white\",\"ticks\":\"\"},\"radialaxis\":{\"gridcolor\":\"white\",\"linecolor\":\"white\",\"ticks\":\"\"}},\"ternary\":{\"bgcolor\":\"#E5ECF6\",\"aaxis\":{\"gridcolor\":\"white\",\"linecolor\":\"white\",\"ticks\":\"\"},\"baxis\":{\"gridcolor\":\"white\",\"linecolor\":\"white\",\"ticks\":\"\"},\"caxis\":{\"gridcolor\":\"white\",\"linecolor\":\"white\",\"ticks\":\"\"}},\"coloraxis\":{\"colorbar\":{\"outlinewidth\":0,\"ticks\":\"\"}},\"colorscale\":{\"sequential\":[[0.0,\"#0d0887\"],[0.1111111111111111,\"#46039f\"],[0.2222222222222222,\"#7201a8\"],[0.3333333333333333,\"#9c179e\"],[0.4444444444444444,\"#bd3786\"],[0.5555555555555556,\"#d8576b\"],[0.6666666666666666,\"#ed7953\"],[0.7777777777777778,\"#fb9f3a\"],[0.8888888888888888,\"#fdca26\"],[1.0,\"#f0f921\"]],\"sequentialminus\":[[0.0,\"#0d0887\"],[0.1111111111111111,\"#46039f\"],[0.2222222222222222,\"#7201a8\"],[0.3333333333333333,\"#9c179e\"],[0.4444444444444444,\"#bd3786\"],[0.5555555555555556,\"#d8576b\"],[0.6666666666666666,\"#ed7953\"],[0.7777777777777778,\"#fb9f3a\"],[0.8888888888888888,\"#fdca26\"],[1.0,\"#f0f921\"]],\"diverging\":[[0,\"#8e0152\"],[0.1,\"#c51b7d\"],[0.2,\"#de77ae\"],[0.3,\"#f1b6da\"],[0.4,\"#fde0ef\"],[0.5,\"#f7f7f7\"],[0.6,\"#e6f5d0\"],[0.7,\"#b8e186\"],[0.8,\"#7fbc41\"],[0.9,\"#4d9221\"],[1,\"#276419\"]]},\"xaxis\":{\"gridcolor\":\"white\",\"linecolor\":\"white\",\"ticks\":\"\",\"title\":{\"standoff\":15},\"zerolinecolor\":\"white\",\"automargin\":true,\"zerolinewidth\":2},\"yaxis\":{\"gridcolor\":\"white\",\"linecolor\":\"white\",\"ticks\":\"\",\"title\":{\"standoff\":15},\"zerolinecolor\":\"white\",\"automargin\":true,\"zerolinewidth\":2},\"scene\":{\"xaxis\":{\"backgroundcolor\":\"#E5ECF6\",\"gridcolor\":\"white\",\"linecolor\":\"white\",\"showbackground\":true,\"ticks\":\"\",\"zerolinecolor\":\"white\",\"gridwidth\":2},\"yaxis\":{\"backgroundcolor\":\"#E5ECF6\",\"gridcolor\":\"white\",\"linecolor\":\"white\",\"showbackground\":true,\"ticks\":\"\",\"zerolinecolor\":\"white\",\"gridwidth\":2},\"zaxis\":{\"backgroundcolor\":\"#E5ECF6\",\"gridcolor\":\"white\",\"linecolor\":\"white\",\"showbackground\":true,\"ticks\":\"\",\"zerolinecolor\":\"white\",\"gridwidth\":2}},\"shapedefaults\":{\"line\":{\"color\":\"#2a3f5f\"}},\"annotationdefaults\":{\"arrowcolor\":\"#2a3f5f\",\"arrowhead\":0,\"arrowwidth\":1},\"geo\":{\"bgcolor\":\"white\",\"landcolor\":\"#E5ECF6\",\"subunitcolor\":\"white\",\"showland\":true,\"showlakes\":true,\"lakecolor\":\"white\"},\"title\":{\"x\":0.05},\"mapbox\":{\"style\":\"light\"}}},\"xaxis\":{\"anchor\":\"y\",\"domain\":[0.0,1.0],\"title\":{\"text\":\"x\"}},\"yaxis\":{\"anchor\":\"x\",\"domain\":[0.0,1.0],\"title\":{\"text\":\"y\"}},\"legend\":{\"tracegroupgap\":0},\"margin\":{\"t\":60}},                        {\"responsive\": true}                    ).then(function(){\n",
              "                            \n",
              "var gd = document.getElementById('1047b5cb-1cd1-4820-975b-cf5c4d9c1b43');\n",
              "var x = new MutationObserver(function (mutations, observer) {{\n",
              "        var display = window.getComputedStyle(gd).display;\n",
              "        if (!display || display === 'none') {{\n",
              "            console.log([gd, 'removed!']);\n",
              "            Plotly.purge(gd);\n",
              "            observer.disconnect();\n",
              "        }}\n",
              "}});\n",
              "\n",
              "// Listen for the removal of the full notebook cells\n",
              "var notebookContainer = gd.closest('#notebook-container');\n",
              "if (notebookContainer) {{\n",
              "    x.observe(notebookContainer, {childList: true});\n",
              "}}\n",
              "\n",
              "// Listen for the clearing of the current output cell\n",
              "var outputEl = gd.closest('.output');\n",
              "if (outputEl) {{\n",
              "    x.observe(outputEl, {childList: true});\n",
              "}}\n",
              "\n",
              "                        })                };                            </script>        </div>\n",
              "</body>\n",
              "</html>"
            ]
          },
          "metadata": {}
        }
      ],
      "source": [
        "import plotly.express as px\n",
        "\n",
        "fig = px.scatter(df, x=\"x\", y=\"y\", text=\"sentence\")\n",
        "\n",
        "fig.update_traces(textfont_size=25, marker=dict(size=25))\n",
        "fig.update_layout(template=\"plotly\")\n",
        "\n",
        "fig.show()"
      ]
    },
    {
      "cell_type": "code",
      "execution_count": 17,
      "id": "fba19c2210ed919e",
      "metadata": {
        "ExecuteTime": {
          "end_time": "2025-03-26T12:27:53.070011Z",
          "start_time": "2025-03-26T12:27:53.055809Z"
        },
        "id": "fba19c2210ed919e"
      },
      "outputs": [],
      "source": []
    },
    {
      "cell_type": "code",
      "execution_count": 18,
      "id": "8eb142e5c0ad45dc",
      "metadata": {
        "ExecuteTime": {
          "end_time": "2025-03-26T12:27:53.793546Z",
          "start_time": "2025-03-26T12:27:53.072808Z"
        },
        "id": "8eb142e5c0ad45dc"
      },
      "outputs": [],
      "source": [
        "import kagglehub\n",
        "\n",
        "# Download latest version\n",
        "dataset_path = kagglehub.dataset_download(\"prasunroy/natural-images\")"
      ]
    },
    {
      "cell_type": "code",
      "execution_count": 19,
      "id": "76f09b4b46141231",
      "metadata": {
        "ExecuteTime": {
          "end_time": "2025-03-26T12:27:53.809512Z",
          "start_time": "2025-03-26T12:27:53.795568Z"
        },
        "id": "76f09b4b46141231"
      },
      "outputs": [],
      "source": [
        "path = Path(dataset_path)"
      ]
    },
    {
      "cell_type": "code",
      "execution_count": 20,
      "id": "de1a4452eb6961cf",
      "metadata": {
        "ExecuteTime": {
          "end_time": "2025-03-26T12:27:53.887495Z",
          "start_time": "2025-03-26T12:27:53.810518Z"
        },
        "id": "de1a4452eb6961cf"
      },
      "outputs": [],
      "source": [
        "paths_to_images = list(path.glob(\"**/*.jpg\"))"
      ]
    },
    {
      "cell_type": "code",
      "execution_count": 21,
      "id": "ffa11aa87d55502e",
      "metadata": {
        "ExecuteTime": {
          "end_time": "2025-03-26T12:27:54.171471Z",
          "start_time": "2025-03-26T12:27:54.140470Z"
        },
        "colab": {
          "base_uri": "https://localhost:8080/",
          "height": 1000
        },
        "id": "ffa11aa87d55502e",
        "outputId": "bba7854d-96ef-4cb8-ec18-7f5261f34485"
      },
      "outputs": [
        {
          "output_type": "execute_result",
          "data": {
            "text/plain": [
              "                                                 path      class\n",
              "0   /kaggle/input/natural-images/natural_images/fr...      fruit\n",
              "1   /kaggle/input/natural-images/data/natural_imag...   airplane\n",
              "2   /kaggle/input/natural-images/natural_images/ai...   airplane\n",
              "3   /kaggle/input/natural-images/data/natural_imag...        car\n",
              "4   /kaggle/input/natural-images/natural_images/ai...   airplane\n",
              "5   /kaggle/input/natural-images/natural_images/ca...        cat\n",
              "6   /kaggle/input/natural-images/natural_images/ai...   airplane\n",
              "7   /kaggle/input/natural-images/natural_images/ai...   airplane\n",
              "8   /kaggle/input/natural-images/data/natural_imag...      fruit\n",
              "9   /kaggle/input/natural-images/data/natural_imag...        cat\n",
              "10  /kaggle/input/natural-images/data/natural_imag...   airplane\n",
              "11  /kaggle/input/natural-images/data/natural_imag...   airplane\n",
              "12  /kaggle/input/natural-images/data/natural_imag...        cat\n",
              "13  /kaggle/input/natural-images/data/natural_imag...      fruit\n",
              "14  /kaggle/input/natural-images/data/natural_imag...     person\n",
              "15  /kaggle/input/natural-images/data/natural_imag...   airplane\n",
              "16  /kaggle/input/natural-images/natural_images/ca...        cat\n",
              "17  /kaggle/input/natural-images/natural_images/mo...  motorbike\n",
              "18  /kaggle/input/natural-images/natural_images/mo...  motorbike\n",
              "19  /kaggle/input/natural-images/data/natural_imag...        car\n",
              "20  /kaggle/input/natural-images/natural_images/ca...        cat\n",
              "21  /kaggle/input/natural-images/data/natural_imag...  motorbike\n",
              "22  /kaggle/input/natural-images/data/natural_imag...        dog\n",
              "23  /kaggle/input/natural-images/data/natural_imag...   airplane\n",
              "24  /kaggle/input/natural-images/data/natural_imag...      fruit\n",
              "25  /kaggle/input/natural-images/natural_images/fl...     flower\n",
              "26  /kaggle/input/natural-images/natural_images/ca...        cat\n",
              "27  /kaggle/input/natural-images/data/natural_imag...  motorbike\n",
              "28  /kaggle/input/natural-images/natural_images/ai...   airplane\n",
              "29  /kaggle/input/natural-images/natural_images/mo...  motorbike\n",
              "30  /kaggle/input/natural-images/data/natural_imag...      fruit\n",
              "31  /kaggle/input/natural-images/data/natural_imag...      fruit\n",
              "32  /kaggle/input/natural-images/natural_images/ca...        car\n",
              "33  /kaggle/input/natural-images/data/natural_imag...  motorbike\n",
              "34  /kaggle/input/natural-images/natural_images/fl...     flower\n",
              "35  /kaggle/input/natural-images/natural_images/ai...   airplane\n",
              "36  /kaggle/input/natural-images/data/natural_imag...     person\n",
              "37  /kaggle/input/natural-images/data/natural_imag...  motorbike\n",
              "38  /kaggle/input/natural-images/data/natural_imag...        car\n",
              "39  /kaggle/input/natural-images/data/natural_imag...        dog\n",
              "40  /kaggle/input/natural-images/natural_images/pe...     person\n",
              "41  /kaggle/input/natural-images/data/natural_imag...        cat\n",
              "42  /kaggle/input/natural-images/natural_images/ai...   airplane\n",
              "43  /kaggle/input/natural-images/data/natural_imag...        cat\n",
              "44  /kaggle/input/natural-images/data/natural_imag...      fruit\n",
              "45  /kaggle/input/natural-images/natural_images/ai...   airplane\n",
              "46  /kaggle/input/natural-images/natural_images/pe...     person\n",
              "47  /kaggle/input/natural-images/data/natural_imag...        car\n",
              "48  /kaggle/input/natural-images/natural_images/ca...        cat\n",
              "49  /kaggle/input/natural-images/data/natural_imag...        car"
            ],
            "text/html": [
              "\n",
              "  <div id=\"df-59a169b5-45a8-4907-92d5-db3263d86274\" class=\"colab-df-container\">\n",
              "    <div>\n",
              "<style scoped>\n",
              "    .dataframe tbody tr th:only-of-type {\n",
              "        vertical-align: middle;\n",
              "    }\n",
              "\n",
              "    .dataframe tbody tr th {\n",
              "        vertical-align: top;\n",
              "    }\n",
              "\n",
              "    .dataframe thead th {\n",
              "        text-align: right;\n",
              "    }\n",
              "</style>\n",
              "<table border=\"1\" class=\"dataframe\">\n",
              "  <thead>\n",
              "    <tr style=\"text-align: right;\">\n",
              "      <th></th>\n",
              "      <th>path</th>\n",
              "      <th>class</th>\n",
              "    </tr>\n",
              "  </thead>\n",
              "  <tbody>\n",
              "    <tr>\n",
              "      <th>0</th>\n",
              "      <td>/kaggle/input/natural-images/natural_images/fr...</td>\n",
              "      <td>fruit</td>\n",
              "    </tr>\n",
              "    <tr>\n",
              "      <th>1</th>\n",
              "      <td>/kaggle/input/natural-images/data/natural_imag...</td>\n",
              "      <td>airplane</td>\n",
              "    </tr>\n",
              "    <tr>\n",
              "      <th>2</th>\n",
              "      <td>/kaggle/input/natural-images/natural_images/ai...</td>\n",
              "      <td>airplane</td>\n",
              "    </tr>\n",
              "    <tr>\n",
              "      <th>3</th>\n",
              "      <td>/kaggle/input/natural-images/data/natural_imag...</td>\n",
              "      <td>car</td>\n",
              "    </tr>\n",
              "    <tr>\n",
              "      <th>4</th>\n",
              "      <td>/kaggle/input/natural-images/natural_images/ai...</td>\n",
              "      <td>airplane</td>\n",
              "    </tr>\n",
              "    <tr>\n",
              "      <th>5</th>\n",
              "      <td>/kaggle/input/natural-images/natural_images/ca...</td>\n",
              "      <td>cat</td>\n",
              "    </tr>\n",
              "    <tr>\n",
              "      <th>6</th>\n",
              "      <td>/kaggle/input/natural-images/natural_images/ai...</td>\n",
              "      <td>airplane</td>\n",
              "    </tr>\n",
              "    <tr>\n",
              "      <th>7</th>\n",
              "      <td>/kaggle/input/natural-images/natural_images/ai...</td>\n",
              "      <td>airplane</td>\n",
              "    </tr>\n",
              "    <tr>\n",
              "      <th>8</th>\n",
              "      <td>/kaggle/input/natural-images/data/natural_imag...</td>\n",
              "      <td>fruit</td>\n",
              "    </tr>\n",
              "    <tr>\n",
              "      <th>9</th>\n",
              "      <td>/kaggle/input/natural-images/data/natural_imag...</td>\n",
              "      <td>cat</td>\n",
              "    </tr>\n",
              "    <tr>\n",
              "      <th>10</th>\n",
              "      <td>/kaggle/input/natural-images/data/natural_imag...</td>\n",
              "      <td>airplane</td>\n",
              "    </tr>\n",
              "    <tr>\n",
              "      <th>11</th>\n",
              "      <td>/kaggle/input/natural-images/data/natural_imag...</td>\n",
              "      <td>airplane</td>\n",
              "    </tr>\n",
              "    <tr>\n",
              "      <th>12</th>\n",
              "      <td>/kaggle/input/natural-images/data/natural_imag...</td>\n",
              "      <td>cat</td>\n",
              "    </tr>\n",
              "    <tr>\n",
              "      <th>13</th>\n",
              "      <td>/kaggle/input/natural-images/data/natural_imag...</td>\n",
              "      <td>fruit</td>\n",
              "    </tr>\n",
              "    <tr>\n",
              "      <th>14</th>\n",
              "      <td>/kaggle/input/natural-images/data/natural_imag...</td>\n",
              "      <td>person</td>\n",
              "    </tr>\n",
              "    <tr>\n",
              "      <th>15</th>\n",
              "      <td>/kaggle/input/natural-images/data/natural_imag...</td>\n",
              "      <td>airplane</td>\n",
              "    </tr>\n",
              "    <tr>\n",
              "      <th>16</th>\n",
              "      <td>/kaggle/input/natural-images/natural_images/ca...</td>\n",
              "      <td>cat</td>\n",
              "    </tr>\n",
              "    <tr>\n",
              "      <th>17</th>\n",
              "      <td>/kaggle/input/natural-images/natural_images/mo...</td>\n",
              "      <td>motorbike</td>\n",
              "    </tr>\n",
              "    <tr>\n",
              "      <th>18</th>\n",
              "      <td>/kaggle/input/natural-images/natural_images/mo...</td>\n",
              "      <td>motorbike</td>\n",
              "    </tr>\n",
              "    <tr>\n",
              "      <th>19</th>\n",
              "      <td>/kaggle/input/natural-images/data/natural_imag...</td>\n",
              "      <td>car</td>\n",
              "    </tr>\n",
              "    <tr>\n",
              "      <th>20</th>\n",
              "      <td>/kaggle/input/natural-images/natural_images/ca...</td>\n",
              "      <td>cat</td>\n",
              "    </tr>\n",
              "    <tr>\n",
              "      <th>21</th>\n",
              "      <td>/kaggle/input/natural-images/data/natural_imag...</td>\n",
              "      <td>motorbike</td>\n",
              "    </tr>\n",
              "    <tr>\n",
              "      <th>22</th>\n",
              "      <td>/kaggle/input/natural-images/data/natural_imag...</td>\n",
              "      <td>dog</td>\n",
              "    </tr>\n",
              "    <tr>\n",
              "      <th>23</th>\n",
              "      <td>/kaggle/input/natural-images/data/natural_imag...</td>\n",
              "      <td>airplane</td>\n",
              "    </tr>\n",
              "    <tr>\n",
              "      <th>24</th>\n",
              "      <td>/kaggle/input/natural-images/data/natural_imag...</td>\n",
              "      <td>fruit</td>\n",
              "    </tr>\n",
              "    <tr>\n",
              "      <th>25</th>\n",
              "      <td>/kaggle/input/natural-images/natural_images/fl...</td>\n",
              "      <td>flower</td>\n",
              "    </tr>\n",
              "    <tr>\n",
              "      <th>26</th>\n",
              "      <td>/kaggle/input/natural-images/natural_images/ca...</td>\n",
              "      <td>cat</td>\n",
              "    </tr>\n",
              "    <tr>\n",
              "      <th>27</th>\n",
              "      <td>/kaggle/input/natural-images/data/natural_imag...</td>\n",
              "      <td>motorbike</td>\n",
              "    </tr>\n",
              "    <tr>\n",
              "      <th>28</th>\n",
              "      <td>/kaggle/input/natural-images/natural_images/ai...</td>\n",
              "      <td>airplane</td>\n",
              "    </tr>\n",
              "    <tr>\n",
              "      <th>29</th>\n",
              "      <td>/kaggle/input/natural-images/natural_images/mo...</td>\n",
              "      <td>motorbike</td>\n",
              "    </tr>\n",
              "    <tr>\n",
              "      <th>30</th>\n",
              "      <td>/kaggle/input/natural-images/data/natural_imag...</td>\n",
              "      <td>fruit</td>\n",
              "    </tr>\n",
              "    <tr>\n",
              "      <th>31</th>\n",
              "      <td>/kaggle/input/natural-images/data/natural_imag...</td>\n",
              "      <td>fruit</td>\n",
              "    </tr>\n",
              "    <tr>\n",
              "      <th>32</th>\n",
              "      <td>/kaggle/input/natural-images/natural_images/ca...</td>\n",
              "      <td>car</td>\n",
              "    </tr>\n",
              "    <tr>\n",
              "      <th>33</th>\n",
              "      <td>/kaggle/input/natural-images/data/natural_imag...</td>\n",
              "      <td>motorbike</td>\n",
              "    </tr>\n",
              "    <tr>\n",
              "      <th>34</th>\n",
              "      <td>/kaggle/input/natural-images/natural_images/fl...</td>\n",
              "      <td>flower</td>\n",
              "    </tr>\n",
              "    <tr>\n",
              "      <th>35</th>\n",
              "      <td>/kaggle/input/natural-images/natural_images/ai...</td>\n",
              "      <td>airplane</td>\n",
              "    </tr>\n",
              "    <tr>\n",
              "      <th>36</th>\n",
              "      <td>/kaggle/input/natural-images/data/natural_imag...</td>\n",
              "      <td>person</td>\n",
              "    </tr>\n",
              "    <tr>\n",
              "      <th>37</th>\n",
              "      <td>/kaggle/input/natural-images/data/natural_imag...</td>\n",
              "      <td>motorbike</td>\n",
              "    </tr>\n",
              "    <tr>\n",
              "      <th>38</th>\n",
              "      <td>/kaggle/input/natural-images/data/natural_imag...</td>\n",
              "      <td>car</td>\n",
              "    </tr>\n",
              "    <tr>\n",
              "      <th>39</th>\n",
              "      <td>/kaggle/input/natural-images/data/natural_imag...</td>\n",
              "      <td>dog</td>\n",
              "    </tr>\n",
              "    <tr>\n",
              "      <th>40</th>\n",
              "      <td>/kaggle/input/natural-images/natural_images/pe...</td>\n",
              "      <td>person</td>\n",
              "    </tr>\n",
              "    <tr>\n",
              "      <th>41</th>\n",
              "      <td>/kaggle/input/natural-images/data/natural_imag...</td>\n",
              "      <td>cat</td>\n",
              "    </tr>\n",
              "    <tr>\n",
              "      <th>42</th>\n",
              "      <td>/kaggle/input/natural-images/natural_images/ai...</td>\n",
              "      <td>airplane</td>\n",
              "    </tr>\n",
              "    <tr>\n",
              "      <th>43</th>\n",
              "      <td>/kaggle/input/natural-images/data/natural_imag...</td>\n",
              "      <td>cat</td>\n",
              "    </tr>\n",
              "    <tr>\n",
              "      <th>44</th>\n",
              "      <td>/kaggle/input/natural-images/data/natural_imag...</td>\n",
              "      <td>fruit</td>\n",
              "    </tr>\n",
              "    <tr>\n",
              "      <th>45</th>\n",
              "      <td>/kaggle/input/natural-images/natural_images/ai...</td>\n",
              "      <td>airplane</td>\n",
              "    </tr>\n",
              "    <tr>\n",
              "      <th>46</th>\n",
              "      <td>/kaggle/input/natural-images/natural_images/pe...</td>\n",
              "      <td>person</td>\n",
              "    </tr>\n",
              "    <tr>\n",
              "      <th>47</th>\n",
              "      <td>/kaggle/input/natural-images/data/natural_imag...</td>\n",
              "      <td>car</td>\n",
              "    </tr>\n",
              "    <tr>\n",
              "      <th>48</th>\n",
              "      <td>/kaggle/input/natural-images/natural_images/ca...</td>\n",
              "      <td>cat</td>\n",
              "    </tr>\n",
              "    <tr>\n",
              "      <th>49</th>\n",
              "      <td>/kaggle/input/natural-images/data/natural_imag...</td>\n",
              "      <td>car</td>\n",
              "    </tr>\n",
              "  </tbody>\n",
              "</table>\n",
              "</div>\n",
              "    <div class=\"colab-df-buttons\">\n",
              "\n",
              "  <div class=\"colab-df-container\">\n",
              "    <button class=\"colab-df-convert\" onclick=\"convertToInteractive('df-59a169b5-45a8-4907-92d5-db3263d86274')\"\n",
              "            title=\"Convert this dataframe to an interactive table.\"\n",
              "            style=\"display:none;\">\n",
              "\n",
              "  <svg xmlns=\"http://www.w3.org/2000/svg\" height=\"24px\" viewBox=\"0 -960 960 960\">\n",
              "    <path d=\"M120-120v-720h720v720H120Zm60-500h600v-160H180v160Zm220 220h160v-160H400v160Zm0 220h160v-160H400v160ZM180-400h160v-160H180v160Zm440 0h160v-160H620v160ZM180-180h160v-160H180v160Zm440 0h160v-160H620v160Z\"/>\n",
              "  </svg>\n",
              "    </button>\n",
              "\n",
              "  <style>\n",
              "    .colab-df-container {\n",
              "      display:flex;\n",
              "      gap: 12px;\n",
              "    }\n",
              "\n",
              "    .colab-df-convert {\n",
              "      background-color: #E8F0FE;\n",
              "      border: none;\n",
              "      border-radius: 50%;\n",
              "      cursor: pointer;\n",
              "      display: none;\n",
              "      fill: #1967D2;\n",
              "      height: 32px;\n",
              "      padding: 0 0 0 0;\n",
              "      width: 32px;\n",
              "    }\n",
              "\n",
              "    .colab-df-convert:hover {\n",
              "      background-color: #E2EBFA;\n",
              "      box-shadow: 0px 1px 2px rgba(60, 64, 67, 0.3), 0px 1px 3px 1px rgba(60, 64, 67, 0.15);\n",
              "      fill: #174EA6;\n",
              "    }\n",
              "\n",
              "    .colab-df-buttons div {\n",
              "      margin-bottom: 4px;\n",
              "    }\n",
              "\n",
              "    [theme=dark] .colab-df-convert {\n",
              "      background-color: #3B4455;\n",
              "      fill: #D2E3FC;\n",
              "    }\n",
              "\n",
              "    [theme=dark] .colab-df-convert:hover {\n",
              "      background-color: #434B5C;\n",
              "      box-shadow: 0px 1px 3px 1px rgba(0, 0, 0, 0.15);\n",
              "      filter: drop-shadow(0px 1px 2px rgba(0, 0, 0, 0.3));\n",
              "      fill: #FFFFFF;\n",
              "    }\n",
              "  </style>\n",
              "\n",
              "    <script>\n",
              "      const buttonEl =\n",
              "        document.querySelector('#df-59a169b5-45a8-4907-92d5-db3263d86274 button.colab-df-convert');\n",
              "      buttonEl.style.display =\n",
              "        google.colab.kernel.accessAllowed ? 'block' : 'none';\n",
              "\n",
              "      async function convertToInteractive(key) {\n",
              "        const element = document.querySelector('#df-59a169b5-45a8-4907-92d5-db3263d86274');\n",
              "        const dataTable =\n",
              "          await google.colab.kernel.invokeFunction('convertToInteractive',\n",
              "                                                    [key], {});\n",
              "        if (!dataTable) return;\n",
              "\n",
              "        const docLinkHtml = 'Like what you see? Visit the ' +\n",
              "          '<a target=\"_blank\" href=https://colab.research.google.com/notebooks/data_table.ipynb>data table notebook</a>'\n",
              "          + ' to learn more about interactive tables.';\n",
              "        element.innerHTML = '';\n",
              "        dataTable['output_type'] = 'display_data';\n",
              "        await google.colab.output.renderOutput(dataTable, element);\n",
              "        const docLink = document.createElement('div');\n",
              "        docLink.innerHTML = docLinkHtml;\n",
              "        element.appendChild(docLink);\n",
              "      }\n",
              "    </script>\n",
              "  </div>\n",
              "\n",
              "\n",
              "<div id=\"df-77b71d7b-6d79-49e4-8cfc-635bd641508e\">\n",
              "  <button class=\"colab-df-quickchart\" onclick=\"quickchart('df-77b71d7b-6d79-49e4-8cfc-635bd641508e')\"\n",
              "            title=\"Suggest charts\"\n",
              "            style=\"display:none;\">\n",
              "\n",
              "<svg xmlns=\"http://www.w3.org/2000/svg\" height=\"24px\"viewBox=\"0 0 24 24\"\n",
              "     width=\"24px\">\n",
              "    <g>\n",
              "        <path d=\"M19 3H5c-1.1 0-2 .9-2 2v14c0 1.1.9 2 2 2h14c1.1 0 2-.9 2-2V5c0-1.1-.9-2-2-2zM9 17H7v-7h2v7zm4 0h-2V7h2v10zm4 0h-2v-4h2v4z\"/>\n",
              "    </g>\n",
              "</svg>\n",
              "  </button>\n",
              "\n",
              "<style>\n",
              "  .colab-df-quickchart {\n",
              "      --bg-color: #E8F0FE;\n",
              "      --fill-color: #1967D2;\n",
              "      --hover-bg-color: #E2EBFA;\n",
              "      --hover-fill-color: #174EA6;\n",
              "      --disabled-fill-color: #AAA;\n",
              "      --disabled-bg-color: #DDD;\n",
              "  }\n",
              "\n",
              "  [theme=dark] .colab-df-quickchart {\n",
              "      --bg-color: #3B4455;\n",
              "      --fill-color: #D2E3FC;\n",
              "      --hover-bg-color: #434B5C;\n",
              "      --hover-fill-color: #FFFFFF;\n",
              "      --disabled-bg-color: #3B4455;\n",
              "      --disabled-fill-color: #666;\n",
              "  }\n",
              "\n",
              "  .colab-df-quickchart {\n",
              "    background-color: var(--bg-color);\n",
              "    border: none;\n",
              "    border-radius: 50%;\n",
              "    cursor: pointer;\n",
              "    display: none;\n",
              "    fill: var(--fill-color);\n",
              "    height: 32px;\n",
              "    padding: 0;\n",
              "    width: 32px;\n",
              "  }\n",
              "\n",
              "  .colab-df-quickchart:hover {\n",
              "    background-color: var(--hover-bg-color);\n",
              "    box-shadow: 0 1px 2px rgba(60, 64, 67, 0.3), 0 1px 3px 1px rgba(60, 64, 67, 0.15);\n",
              "    fill: var(--button-hover-fill-color);\n",
              "  }\n",
              "\n",
              "  .colab-df-quickchart-complete:disabled,\n",
              "  .colab-df-quickchart-complete:disabled:hover {\n",
              "    background-color: var(--disabled-bg-color);\n",
              "    fill: var(--disabled-fill-color);\n",
              "    box-shadow: none;\n",
              "  }\n",
              "\n",
              "  .colab-df-spinner {\n",
              "    border: 2px solid var(--fill-color);\n",
              "    border-color: transparent;\n",
              "    border-bottom-color: var(--fill-color);\n",
              "    animation:\n",
              "      spin 1s steps(1) infinite;\n",
              "  }\n",
              "\n",
              "  @keyframes spin {\n",
              "    0% {\n",
              "      border-color: transparent;\n",
              "      border-bottom-color: var(--fill-color);\n",
              "      border-left-color: var(--fill-color);\n",
              "    }\n",
              "    20% {\n",
              "      border-color: transparent;\n",
              "      border-left-color: var(--fill-color);\n",
              "      border-top-color: var(--fill-color);\n",
              "    }\n",
              "    30% {\n",
              "      border-color: transparent;\n",
              "      border-left-color: var(--fill-color);\n",
              "      border-top-color: var(--fill-color);\n",
              "      border-right-color: var(--fill-color);\n",
              "    }\n",
              "    40% {\n",
              "      border-color: transparent;\n",
              "      border-right-color: var(--fill-color);\n",
              "      border-top-color: var(--fill-color);\n",
              "    }\n",
              "    60% {\n",
              "      border-color: transparent;\n",
              "      border-right-color: var(--fill-color);\n",
              "    }\n",
              "    80% {\n",
              "      border-color: transparent;\n",
              "      border-right-color: var(--fill-color);\n",
              "      border-bottom-color: var(--fill-color);\n",
              "    }\n",
              "    90% {\n",
              "      border-color: transparent;\n",
              "      border-bottom-color: var(--fill-color);\n",
              "    }\n",
              "  }\n",
              "</style>\n",
              "\n",
              "  <script>\n",
              "    async function quickchart(key) {\n",
              "      const quickchartButtonEl =\n",
              "        document.querySelector('#' + key + ' button');\n",
              "      quickchartButtonEl.disabled = true;  // To prevent multiple clicks.\n",
              "      quickchartButtonEl.classList.add('colab-df-spinner');\n",
              "      try {\n",
              "        const charts = await google.colab.kernel.invokeFunction(\n",
              "            'suggestCharts', [key], {});\n",
              "      } catch (error) {\n",
              "        console.error('Error during call to suggestCharts:', error);\n",
              "      }\n",
              "      quickchartButtonEl.classList.remove('colab-df-spinner');\n",
              "      quickchartButtonEl.classList.add('colab-df-quickchart-complete');\n",
              "    }\n",
              "    (() => {\n",
              "      let quickchartButtonEl =\n",
              "        document.querySelector('#df-77b71d7b-6d79-49e4-8cfc-635bd641508e button');\n",
              "      quickchartButtonEl.style.display =\n",
              "        google.colab.kernel.accessAllowed ? 'block' : 'none';\n",
              "    })();\n",
              "  </script>\n",
              "</div>\n",
              "\n",
              "  <div id=\"id_e14dfd09-f303-4a67-867b-22f07bbda064\">\n",
              "    <style>\n",
              "      .colab-df-generate {\n",
              "        background-color: #E8F0FE;\n",
              "        border: none;\n",
              "        border-radius: 50%;\n",
              "        cursor: pointer;\n",
              "        display: none;\n",
              "        fill: #1967D2;\n",
              "        height: 32px;\n",
              "        padding: 0 0 0 0;\n",
              "        width: 32px;\n",
              "      }\n",
              "\n",
              "      .colab-df-generate:hover {\n",
              "        background-color: #E2EBFA;\n",
              "        box-shadow: 0px 1px 2px rgba(60, 64, 67, 0.3), 0px 1px 3px 1px rgba(60, 64, 67, 0.15);\n",
              "        fill: #174EA6;\n",
              "      }\n",
              "\n",
              "      [theme=dark] .colab-df-generate {\n",
              "        background-color: #3B4455;\n",
              "        fill: #D2E3FC;\n",
              "      }\n",
              "\n",
              "      [theme=dark] .colab-df-generate:hover {\n",
              "        background-color: #434B5C;\n",
              "        box-shadow: 0px 1px 3px 1px rgba(0, 0, 0, 0.15);\n",
              "        filter: drop-shadow(0px 1px 2px rgba(0, 0, 0, 0.3));\n",
              "        fill: #FFFFFF;\n",
              "      }\n",
              "    </style>\n",
              "    <button class=\"colab-df-generate\" onclick=\"generateWithVariable('path_df')\"\n",
              "            title=\"Generate code using this dataframe.\"\n",
              "            style=\"display:none;\">\n",
              "\n",
              "  <svg xmlns=\"http://www.w3.org/2000/svg\" height=\"24px\"viewBox=\"0 0 24 24\"\n",
              "       width=\"24px\">\n",
              "    <path d=\"M7,19H8.4L18.45,9,17,7.55,7,17.6ZM5,21V16.75L18.45,3.32a2,2,0,0,1,2.83,0l1.4,1.43a1.91,1.91,0,0,1,.58,1.4,1.91,1.91,0,0,1-.58,1.4L9.25,21ZM18.45,9,17,7.55Zm-12,3A5.31,5.31,0,0,0,4.9,8.1,5.31,5.31,0,0,0,1,6.5,5.31,5.31,0,0,0,4.9,4.9,5.31,5.31,0,0,0,6.5,1,5.31,5.31,0,0,0,8.1,4.9,5.31,5.31,0,0,0,12,6.5,5.46,5.46,0,0,0,6.5,12Z\"/>\n",
              "  </svg>\n",
              "    </button>\n",
              "    <script>\n",
              "      (() => {\n",
              "      const buttonEl =\n",
              "        document.querySelector('#id_e14dfd09-f303-4a67-867b-22f07bbda064 button.colab-df-generate');\n",
              "      buttonEl.style.display =\n",
              "        google.colab.kernel.accessAllowed ? 'block' : 'none';\n",
              "\n",
              "      buttonEl.onclick = () => {\n",
              "        google.colab.notebook.generateWithVariable('path_df');\n",
              "      }\n",
              "      })();\n",
              "    </script>\n",
              "  </div>\n",
              "\n",
              "    </div>\n",
              "  </div>\n"
            ],
            "application/vnd.google.colaboratory.intrinsic+json": {
              "type": "dataframe",
              "variable_name": "path_df",
              "summary": "{\n  \"name\": \"path_df\",\n  \"rows\": 50,\n  \"fields\": [\n    {\n      \"column\": \"path\",\n      \"properties\": {\n        \"dtype\": \"string\",\n        \"num_unique_values\": 50,\n        \"samples\": [\n          \"/kaggle/input/natural-images/data/natural_images/fruit/fruit_0393.jpg\",\n          \"/kaggle/input/natural-images/data/natural_images/dog/dog_0216.jpg\",\n          \"/kaggle/input/natural-images/data/natural_images/fruit/fruit_0776.jpg\"\n        ],\n        \"semantic_type\": \"\",\n        \"description\": \"\"\n      }\n    },\n    {\n      \"column\": \"class\",\n      \"properties\": {\n        \"dtype\": \"category\",\n        \"num_unique_values\": 8,\n        \"samples\": [\n          \"airplane\",\n          \"motorbike\",\n          \"fruit\"\n        ],\n        \"semantic_type\": \"\",\n        \"description\": \"\"\n      }\n    }\n  ]\n}"
            }
          },
          "metadata": {},
          "execution_count": 21
        }
      ],
      "source": [
        "path_df = pd.DataFrame(paths_to_images, columns=[\"path\"])\n",
        "path_df['class'] = path_df['path'].apply(lambda x: x.parent.name)\n",
        "path_df = path_df.sample(n=50).reset_index(drop=True)\n",
        "path_df"
      ]
    },
    {
      "cell_type": "code",
      "execution_count": 22,
      "id": "aed8398b0eaf3963",
      "metadata": {
        "ExecuteTime": {
          "end_time": "2025-03-26T12:27:55.780959Z",
          "start_time": "2025-03-26T12:27:54.894536Z"
        },
        "colab": {
          "base_uri": "https://localhost:8080/"
        },
        "id": "aed8398b0eaf3963",
        "outputId": "a1f3a814-3205-4eb7-a844-5f10f9ab7e1f"
      },
      "outputs": [
        {
          "output_type": "stream",
          "name": "stderr",
          "text": [
            "/usr/local/lib/python3.11/dist-packages/transformers/models/convnext/feature_extraction_convnext.py:28: FutureWarning:\n",
            "\n",
            "The class ConvNextFeatureExtractor is deprecated and will be removed in version 5 of Transformers. Please use ConvNextImageProcessor instead.\n",
            "\n"
          ]
        }
      ],
      "source": [
        "def generate_image_embeddings(image_path: str | Path, model_name: str = \"microsoft/resnet-50\"):\n",
        "    \"\"\"\n",
        "    Generate embeddings for an image using a pretrained model from HuggingFace.\n",
        "\n",
        "    Args:\n",
        "        image_path (str): Path to the image file\n",
        "        model_name (str): Name of the pretrained model to use\n",
        "                          Default is \"microsoft/resnet-50\"\n",
        "\n",
        "    Returns:\n",
        "        numpy.ndarray: Image embedding vector\n",
        "    \"\"\"\n",
        "    image = Image.open(image_path)\n",
        "\n",
        "    feature_extractor = AutoFeatureExtractor.from_pretrained(model_name)\n",
        "    model = AutoModel.from_pretrained(model_name)\n",
        "\n",
        "    inputs = feature_extractor(images=image, return_tensors=\"pt\")\n",
        "\n",
        "    with torch.no_grad():\n",
        "        outputs = model(**inputs)\n",
        "\n",
        "    if hasattr(outputs, 'pooler_output'):\n",
        "        embeddings = outputs.pooler_output.numpy()\n",
        "    else:\n",
        "        embeddings = outputs.last_hidden_state.mean(dim=1).numpy()\n",
        "\n",
        "    return embeddings.squeeze()\n",
        "\n",
        "\n",
        "embeddings = generate_image_embeddings(path_df.iloc[0].path)"
      ]
    },
    {
      "cell_type": "code",
      "execution_count": 23,
      "id": "136bf442642f26a0",
      "metadata": {
        "ExecuteTime": {
          "end_time": "2025-03-26T12:27:55.796962Z",
          "start_time": "2025-03-26T12:27:55.782961Z"
        },
        "id": "136bf442642f26a0"
      },
      "outputs": [],
      "source": [
        "def generate_image_embeddings_as_histogram(image_path: str | Path):\n",
        "    \"\"\"\n",
        "    Generate embeddings for an image using a pretrained model from HuggingFace.\n",
        "\n",
        "    Args:\n",
        "        image_path (str): Path to the image file\n",
        "\n",
        "    Returns:\n",
        "        numpy.ndarray: Image embedding vector\n",
        "    \"\"\"\n",
        "    image = Image.open(image_path)\n",
        "    image = image.resize((224, 224))\n",
        "\n",
        "    # Convert image to numpy array\n",
        "    image = np.array(image)\n",
        "\n",
        "    # Create histogram\n",
        "    histogram, _ = np.histogram(image, bins=256, range=(0, 256))\n",
        "\n",
        "    return histogram"
      ]
    },
    {
      "cell_type": "code",
      "execution_count": 24,
      "id": "e2d1805f8310ad24",
      "metadata": {
        "ExecuteTime": {
          "end_time": "2025-03-26T12:27:56.394499Z",
          "start_time": "2025-03-26T12:27:56.367500Z"
        },
        "colab": {
          "base_uri": "https://localhost:8080/",
          "height": 117
        },
        "id": "e2d1805f8310ad24",
        "outputId": "e4d2d91a-adfe-44e5-f8d0-ab3c9b3b2833"
      },
      "outputs": [
        {
          "output_type": "execute_result",
          "data": {
            "text/plain": [
              "<PIL.JpegImagePlugin.JpegImageFile image mode=RGB size=100x100>"
            ],
            "image/png": "[encoded data removed]",
            "image/jpeg": "[encoded data removed]"
          },
          "metadata": {},
          "execution_count": 24
        }
      ],
      "source": [
        "Image.open(path_df.iloc[3].path)"
      ]
    }
  ],
  "metadata": {
    "kernelspec": {
      "display_name": "Python 3",
      "language": "python",
      "name": "python3"
    },
    "language_info": {
      "codemirror_mode": {
        "name": "ipython",
        "version": 3
      },
      "file_extension": ".py",
      "mimetype": "text/x-python",
      "name": "python",
      "nbconvert_exporter": "python",
      "pygments_lexer": "ipython3",
      "version": "3.12.4"
    },
    "colab": {
      "provenance": []
    }
  },
  "nbformat": 4,
  "nbformat_minor": 5
}