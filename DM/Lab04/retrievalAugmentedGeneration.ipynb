{
 "cells": [
  {
   "cell_type": "code",
   "execution_count": 14,
   "id": "657b2ee6cb908217",
   "metadata": {
    "ExecuteTime": {
     "end_time": "2025-03-31T12:27:24.806537Z",
     "start_time": "2025-03-31T12:27:24.782538Z"
    }
   },
   "outputs": [
    {
     "data": {
      "text/plain": [
       "True"
      ]
     },
     "execution_count": 14,
     "metadata": {},
     "output_type": "execute_result"
    }
   ],
   "source": [
    "from pathlib import Path\n",
    "import os\n",
    "from dotenv import load_dotenv\n",
    "from langchain.chains import RetrievalQA\n",
    "from langchain.chat_models import ChatOpenAI\n",
    "from langchain_openai import OpenAIEmbeddings\n",
    "from langchain.prompts import PromptTemplate\n",
    "from langchain.text_splitter import RecursiveCharacterTextSplitter\n",
    "from langchain.vectorstores import Chroma\n",
    "\n",
    "load_dotenv()\n",
    "# os.environ[\"OPENAI_API_KEY\"]"
   ]
  },
  {
   "cell_type": "code",
   "execution_count": 21,
   "id": "8d76d0a00a8c08fc",
   "metadata": {
    "ExecuteTime": {
     "end_time": "2025-03-26T16:07:51.548984Z",
     "start_time": "2025-03-26T16:07:51.535346Z"
    }
   },
   "outputs": [],
   "source": [
    "def load_document(file_path: Path | str) -> str:\n",
    "    with open(file_path, 'r') as file:\n",
    "        text = file.read()\n",
    "    return text"
   ]
  },
  {
   "cell_type": "code",
   "execution_count": 3,
   "id": "2226b9d5bb7ab0e9",
   "metadata": {
    "ExecuteTime": {
     "end_time": "2025-03-26T14:34:10.877423Z",
     "start_time": "2025-03-26T14:34:10.849570Z"
    }
   },
   "outputs": [],
   "source": [
    "file_path = \"the_fellowship_of_the_ring.txt\"\n",
    "document_text = load_document(file_path)"
   ]
  },
  {
   "cell_type": "code",
   "execution_count": 5,
   "id": "ec5f1d0f66ddea3d",
   "metadata": {
    "ExecuteTime": {
     "end_time": "2025-03-26T14:34:50.340418Z",
     "start_time": "2025-03-26T14:34:50.290169Z"
    }
   },
   "outputs": [
    {
     "name": "stdout",
     "output_type": "stream",
     "text": [
      "Number of chunks: 1454\n"
     ]
    }
   ],
   "source": [
    "text_splitter = RecursiveCharacterTextSplitter(\n",
    "    chunk_size=1000,\n",
    "    chunk_overlap=200\n",
    ")\n",
    "chunks = text_splitter.split_text(document_text)\n",
    "print(f\"Number of chunks: {len(chunks)}\")"
   ]
  },
  {
   "cell_type": "code",
   "execution_count": 23,
   "id": "53e51e64309526ed",
   "metadata": {
    "ExecuteTime": {
     "end_time": "2025-03-26T16:09:05.870329Z",
     "start_time": "2025-03-26T16:09:05.857810Z"
    }
   },
   "outputs": [
    {
     "data": {
      "text/plain": [
       "'the copies and abstracts. But many copies contain the true account (as an alternative), derived no doubt from notes by Frodo or Samwise, both of whom learned the truth, though they seem to have been unwilling to delete anything actually written by the old hobbit himself.'"
      ]
     },
     "execution_count": 23,
     "metadata": {},
     "output_type": "execute_result"
    }
   ],
   "source": [
    "chunks[69]"
   ]
  },
  {
   "cell_type": "code",
   "execution_count": 9,
   "id": "308f6287729a4f5e",
   "metadata": {
    "ExecuteTime": {
     "end_time": "2025-03-26T14:35:34.411755Z",
     "start_time": "2025-03-26T14:35:19.497195Z"
    }
   },
   "outputs": [],
   "source": [
    "embeddings = OpenAIEmbeddings()\n",
    "vectorstore = Chroma.from_texts(chunks, embeddings)"
   ]
  },
  {
   "cell_type": "code",
   "execution_count": 24,
   "id": "e0fa112b3c27dbb8",
   "metadata": {
    "ExecuteTime": {
     "end_time": "2025-03-26T16:09:42.665065Z",
     "start_time": "2025-03-26T16:09:42.650316Z"
    }
   },
   "outputs": [],
   "source": [
    "retriever = vectorstore.as_retriever(search_kwargs={\"k\": 3})"
   ]
  },
  {
   "cell_type": "code",
   "execution_count": 25,
   "id": "966a5c7961b3a7fe",
   "metadata": {
    "ExecuteTime": {
     "end_time": "2025-03-26T16:10:26.351480Z",
     "start_time": "2025-03-26T16:10:26.337465Z"
    }
   },
   "outputs": [],
   "source": [
    "query = \"How old is Bilbo Bagins?\""
   ]
  },
  {
   "cell_type": "code",
   "execution_count": 26,
   "id": "2bec0fd07271f3ec",
   "metadata": {
    "ExecuteTime": {
     "end_time": "2025-03-26T16:10:30.330825Z",
     "start_time": "2025-03-26T16:10:27.697110Z"
    }
   },
   "outputs": [
    {
     "name": "stdout",
     "output_type": "stream",
     "text": [
      "\n",
      "Retrieved Documents:\n",
      "\n",
      "--- Document 1 ---\n",
      "The eldest of these, and Bilbo's favourite, was young Frodo Baggins. When Bilbo was ninety-nine, he adopted Frodo as his heir, and brought him to live at Bag End; and the hopes of the Sackville-Bagginses were finally dashed. Bilbo and Frodo happened to have the same birthday, September 22nd. 'You had better come and live here, Frodo my lad,' said Bilbo one day; 'and then we can celebrate our birthday-parties comfortably together.' At that time Frodo was still in his _tweens,_ as the hobbits called the irresponsible twenties between childhood and coming of age at thirty-three....\n",
      "\n",
      "--- Document 2 ---\n",
      "Twelve more years passed. Each year the Bagginses had given very lively combined birthday-parties at Bag End; but now it was understood that something quite exceptional was being planned for that autumn. Bilbo was going to be _eleventy-one,_ 111, a rather curious number and a very respectable age for a hobbit (the Old Took himself had only reached 130); and Frodo was going to be _thirty-three,_ 33) an important number: the date of his 'coming of age'.\n",
      "     Tongues began to wag in Hobbiton and Bywater; and rumour of the coming event travelled all over the Shire. The history and character of Mr. Bilbo Baggins became once again the chief topic of conversation; and the older folk suddenly found their reminiscences in welcome demand....\n",
      "\n",
      "--- Document 3 ---\n",
      "When Mr. Bilbo Baggins of Bag End announced that he would shortly be celebrating his eleventy-first birthday with a party of special magnificence, there was much talk and excitement in Hobbiton.\n"
     ]
    }
   ],
   "source": [
    "retrieved_docs = retriever.invoke(query)\n",
    "\n",
    "print(\"\\nRetrieved Documents:\")\n",
    "for i, doc in enumerate(retrieved_docs):\n",
    "    print(f\"\\n--- Document {i+1} ---\")\n",
    "    print(doc.page_content + \"...\" if len(doc.page_content) > 200 else doc.page_content)"
   ]
  },
  {
   "cell_type": "code",
   "execution_count": 27,
   "id": "initial_id",
   "metadata": {
    "ExecuteTime": {
     "end_time": "2025-03-26T16:11:07.523189Z",
     "start_time": "2025-03-26T16:11:05.158288Z"
    },
    "collapsed": true
   },
   "outputs": [],
   "source": [
    "retriever = vectorstore.as_retriever(search_kwargs={\"k\": 3})\n",
    "\n",
    "# 5. Create custom prompt template\n",
    "template = \"\"\"\n",
    "Use the following context to answer the question. If you don't know the answer based on the context, just say you don't know.\n",
    "\n",
    "Context: {context}\n",
    "\n",
    "Question: {question}\n",
    "\n",
    "Answer:\n",
    "\"\"\"\n",
    "\n",
    "prompt = PromptTemplate(\n",
    "    template=template,\n",
    "    input_variables=[\"context\", \"question\"]\n",
    ")\n",
    "\n",
    "# 6. Create QA chain\n",
    "llm = ChatOpenAI(model_name=\"gpt-4o\", temperature=0)\n",
    "qa_chain = RetrievalQA.from_chain_type(\n",
    "    llm=llm,\n",
    "    chain_type=\"stuff\",\n",
    "    retriever=retriever,\n",
    "    chain_type_kwargs={\"prompt\": prompt}\n",
    ")\n",
    "\n",
    "\n",
    "result = qa_chain.run(query)"
   ]
  },
  {
   "cell_type": "code",
   "execution_count": 28,
   "id": "bdaff55c1cc22a7d",
   "metadata": {
    "ExecuteTime": {
     "end_time": "2025-03-26T16:11:08.907324Z",
     "start_time": "2025-03-26T16:11:08.888311Z"
    }
   },
   "outputs": [
    {
     "data": {
      "text/plain": [
       "'Bilbo Baggins is 111 years old.'"
      ]
     },
     "execution_count": 28,
     "metadata": {},
     "output_type": "execute_result"
    }
   ],
   "source": [
    "result"
   ]
  }
 ],
 "metadata": {
  "kernelspec": {
   "display_name": "Python 3",
   "language": "python",
   "name": "python3"
  },
  "language_info": {
   "codemirror_mode": {
    "name": "ipython",
    "version": 2
   },
   "file_extension": ".py",
   "mimetype": "text/x-python",
   "name": "python",
   "nbconvert_exporter": "python",
   "pygments_lexer": "ipython2",
   "version": "2.7.6"
  }
 },
 "nbformat": 4,
 "nbformat_minor": 5
}
