{
 "cells": [
  {
   "metadata": {
    "ExecuteTime": {
     "end_time": "2025-04-09T15:23:01.509301Z",
     "start_time": "2025-04-09T15:22:59.921658Z"
    }
   },
   "cell_type": "code",
   "source": [
    "!pip install sklearn numpy pandas plotly umap-learn kagglehub tqdm transformers\n",
    "\n",
    "# If you want GPU support install pytorch according to their guide:\n",
    "# https://pytorch.org/get-started/locally/"
   ],
   "id": "223363fdf1fd613b",
   "outputs": [
    {
     "name": "stdout",
     "output_type": "stream",
     "text": [
      "Collecting sklearn\n",
      "  Downloading sklearn-0.0.post12.tar.gz (2.6 kB)\n",
      "  Preparing metadata (setup.py): started\n",
      "  Preparing metadata (setup.py): finished with status 'error'\n"
     ]
    },
    {
     "name": "stderr",
     "output_type": "stream",
     "text": [
      "  error: subprocess-exited-with-error\n",
      "  \n",
      "  python setup.py egg_info did not run successfully.\n",
      "  exit code: 1\n",
      "  \n",
      "  [15 lines of output]\n",
      "  The 'sklearn' PyPI package is deprecated, use 'scikit-learn'\n",
      "  rather than 'sklearn' for pip commands.\n",
      "  \n",
      "  Here is how to fix this error in the main use cases:\n",
      "  - use 'pip install scikit-learn' rather than 'pip install sklearn'\n",
      "  - replace 'sklearn' by 'scikit-learn' in your pip requirements files\n",
      "    (requirements.txt, setup.py, setup.cfg, Pipfile, etc ...)\n",
      "  - if the 'sklearn' package is used by one of your dependencies,\n",
      "    it would be great if you take some time to track which package uses\n",
      "    'sklearn' instead of 'scikit-learn' and report it to their issue tracker\n",
      "  - as a last resort, set the environment variable\n",
      "    SKLEARN_ALLOW_DEPRECATED_SKLEARN_PACKAGE_INSTALL=True to avoid this error\n",
      "  \n",
      "  More information is available at\n",
      "  https://github.com/scikit-learn/sklearn-pypi-package\n",
      "  [end of output]\n",
      "  \n",
      "  note: This error originates from a subprocess, and is likely not a problem with pip.\n",
      "error: metadata-generation-failed\n",
      "\n",
      "Encountered error while generating package metadata.\n",
      "\n",
      "See above for output.\n",
      "\n",
      "note: This is an issue with the package mentioned above, not pip.\n",
      "hint: See above for details.\n",
      "\n",
      "[notice] A new release of pip is available: 23.2.1 -> 25.0.1\n",
      "[notice] To update, run: python.exe -m pip install --upgrade pip\n"
     ]
    }
   ],
   "execution_count": 41
  },
  {
   "cell_type": "code",
   "id": "initial_id",
   "metadata": {
    "collapsed": true,
    "ExecuteTime": {
     "end_time": "2025-04-09T13:17:38.908170Z",
     "start_time": "2025-04-09T13:17:14.655931Z"
    }
   },
   "source": [
    "from pathlib import Path\n",
    "\n",
    "import kagglehub\n",
    "import numpy as np\n",
    "import pandas as pd\n",
    "import plotly.express as px\n",
    "import plotly.io as pio\n",
    "import torch\n",
    "from PIL import Image\n",
    "from numpy.typing import NDArray\n",
    "from sklearn import cluster\n",
    "from sklearn.decomposition import PCA\n",
    "from sklearn.manifold import TSNE\n",
    "from sklearn.mixture import GaussianMixture\n",
    "from sklearn.neighbors import NearestNeighbors\n",
    "from tqdm import tqdm\n",
    "from transformers import AutoFeatureExtractor, AutoModel\n",
    "from umap import UMAP\n",
    "from sklearn.metrics.cluster import adjusted_rand_score"
   ],
   "outputs": [],
   "execution_count": 1
  },
  {
   "metadata": {
    "ExecuteTime": {
     "end_time": "2025-04-09T13:17:38.924447Z",
     "start_time": "2025-04-09T13:17:38.908170Z"
    }
   },
   "cell_type": "code",
   "source": [
    "def project_vectors(data: NDArray, technique: str = \"tsne\", **options) -> NDArray:\n",
    "    if technique == \"pca\":\n",
    "        transformer = PCA(**options)\n",
    "    elif technique == \"tsne\":\n",
    "        transformer = TSNE(**options)\n",
    "    elif technique == \"umap\":\n",
    "        transformer = UMAP(**options)\n",
    "    else:\n",
    "        raise ValueError(\n",
    "            f\"Invalid technique: {technique}. Choose from 'pca', 'tsne', or 'umap'.\"\n",
    "        )\n",
    "\n",
    "    transformed_data = transformer.fit_transform(data)\n",
    "    return transformed_data\n",
    "\n",
    "\n",
    "def estimate_dbscan_eps(embeddings: NDArray, n_samples: int = 1000, k: int = 5, quantile: float = 0.1) -> float:\n",
    "    \"\"\"\n",
    "    Estimates a suitable eps parameter for DBSCAN based on k-distance graph.\n",
    "    \n",
    "    Parameters:\n",
    "    -----------\n",
    "    embeddings : numpy.ndarray\n",
    "        The embeddings to analyze, shape (n_samples, n_features)\n",
    "    n_samples : int\n",
    "        Number of samples to use for estimation (to speed up computation)\n",
    "    k : int\n",
    "        Number of neighbors to consider\n",
    "    quantile : float\n",
    "        Quantile to use for selecting the eps value (lower means tighter clusters)\n",
    "    plot : bool\n",
    "        Whether to generate and display a k-distance plot\n",
    "        \n",
    "    Returns:\n",
    "    --------\n",
    "    eps : float\n",
    "        Estimated eps value for DBSCAN\n",
    "    \"\"\"\n",
    "    if embeddings.shape[0] > n_samples:\n",
    "        indices = np.random.choice(embeddings.shape[0], n_samples, replace=False)\n",
    "        sample_data = embeddings[indices]\n",
    "    else:\n",
    "        sample_data = embeddings\n",
    "\n",
    "    nbrs = NearestNeighbors(n_neighbors=k + 1).fit(sample_data)\n",
    "    distances, _ = nbrs.kneighbors(sample_data)\n",
    "\n",
    "    kdistances = np.sort(distances[:, k])\n",
    "\n",
    "    eps = np.quantile(kdistances, quantile)\n",
    "\n",
    "    print(f\"Estimated eps value: {eps}\")\n",
    "    return eps"
   ],
   "id": "98c6f8cd42e893fb",
   "outputs": [],
   "execution_count": 2
  },
  {
   "metadata": {
    "ExecuteTime": {
     "end_time": "2025-04-09T13:17:39.138575Z",
     "start_time": "2025-04-09T13:17:38.924659Z"
    }
   },
   "cell_type": "code",
   "source": [
    "pio.renderers.default = \"browser\"\n",
    "print(torch.cuda.is_available())"
   ],
   "id": "92e5ee5965b74229",
   "outputs": [
    {
     "name": "stdout",
     "output_type": "stream",
     "text": [
      "True\n"
     ]
    }
   ],
   "execution_count": 3
  },
  {
   "metadata": {
    "ExecuteTime": {
     "end_time": "2025-04-09T13:17:42.318953Z",
     "start_time": "2025-04-09T13:17:39.138575Z"
    }
   },
   "cell_type": "code",
   "source": [
    "path = kagglehub.dataset_download(\"prasunroy/natural-images\")\n",
    "path = Path(path)\n",
    "print(\"Path to dataset files:\", path)"
   ],
   "id": "3fabd8b675e020f3",
   "outputs": [
    {
     "name": "stdout",
     "output_type": "stream",
     "text": [
      "Warning: Looks like you're using an outdated `kagglehub` version (installed: 0.3.10), please consider upgrading to the latest version (0.3.11).\n",
      "Path to dataset files: C:\\Users\\miknowak\\.cache\\kagglehub\\datasets\\prasunroy\\natural-images\\versions\\1\n"
     ]
    }
   ],
   "execution_count": 4
  },
  {
   "metadata": {
    "ExecuteTime": {
     "end_time": "2025-04-09T13:17:42.939120Z",
     "start_time": "2025-04-09T13:17:42.318953Z"
    }
   },
   "cell_type": "code",
   "source": [
    "paths_to_images = list(path.glob(\"**/*.jpg\"))\n",
    "print(\"Number of images:\", len(paths_to_images))\n",
    "assert len(paths_to_images) > 0, \"No images found in the dataset.\""
   ],
   "id": "887800c43c6eb441",
   "outputs": [
    {
     "name": "stdout",
     "output_type": "stream",
     "text": [
      "Number of images: 13798\n"
     ]
    }
   ],
   "execution_count": 5
  },
  {
   "metadata": {
    "ExecuteTime": {
     "end_time": "2025-04-09T13:17:43.025496Z",
     "start_time": "2025-04-09T13:17:42.939120Z"
    }
   },
   "cell_type": "code",
   "source": [
    "path_df = pd.DataFrame(paths_to_images, columns=[\"path\"])\n",
    "path_df['class'] = path_df['path'].apply(lambda x: x.parent.name)\n",
    "path_df['class'] = path_df['class'].astype(\"category\")\n",
    "path_df = path_df.sample(n=600).reset_index(drop=True)\n",
    "path_df"
   ],
   "id": "f7db4dc5de345156",
   "outputs": [
    {
     "data": {
      "text/plain": [
       "                                                  path      class\n",
       "0    C:\\Users\\miknowak\\.cache\\kagglehub\\datasets\\prasu...        car\n",
       "1    C:\\Users\\miknowak\\.cache\\kagglehub\\datasets\\prasu...  motorbike\n",
       "2    C:\\Users\\miknowak\\.cache\\kagglehub\\datasets\\prasu...      fruit\n",
       "3    C:\\Users\\miknowak\\.cache\\kagglehub\\datasets\\prasu...      fruit\n",
       "4    C:\\Users\\miknowak\\.cache\\kagglehub\\datasets\\prasu...        dog\n",
       "..                                                 ...        ...\n",
       "595  C:\\Users\\miknowak\\.cache\\kagglehub\\datasets\\prasu...        car\n",
       "596  C:\\Users\\miknowak\\.cache\\kagglehub\\datasets\\prasu...     person\n",
       "597  C:\\Users\\miknowak\\.cache\\kagglehub\\datasets\\prasu...        cat\n",
       "598  C:\\Users\\miknowak\\.cache\\kagglehub\\datasets\\prasu...  motorbike\n",
       "599  C:\\Users\\miknowak\\.cache\\kagglehub\\datasets\\prasu...        car\n",
       "\n",
       "[600 rows x 2 columns]"
      ],
      "text/html": [
       "<div>\n",
       "<style scoped>\n",
       "    .dataframe tbody tr th:only-of-type {\n",
       "        vertical-align: middle;\n",
       "    }\n",
       "\n",
       "    .dataframe tbody tr th {\n",
       "        vertical-align: top;\n",
       "    }\n",
       "\n",
       "    .dataframe thead th {\n",
       "        text-align: right;\n",
       "    }\n",
       "</style>\n",
       "<table border=\"1\" class=\"dataframe\">\n",
       "  <thead>\n",
       "    <tr style=\"text-align: right;\">\n",
       "      <th></th>\n",
       "      <th>path</th>\n",
       "      <th>class</th>\n",
       "    </tr>\n",
       "  </thead>\n",
       "  <tbody>\n",
       "    <tr>\n",
       "      <th>0</th>\n",
       "      <td>C:\\Users\\miknowak\\.cache\\kagglehub\\datasets\\prasu...</td>\n",
       "      <td>car</td>\n",
       "    </tr>\n",
       "    <tr>\n",
       "      <th>1</th>\n",
       "      <td>C:\\Users\\miknowak\\.cache\\kagglehub\\datasets\\prasu...</td>\n",
       "      <td>motorbike</td>\n",
       "    </tr>\n",
       "    <tr>\n",
       "      <th>2</th>\n",
       "      <td>C:\\Users\\miknowak\\.cache\\kagglehub\\datasets\\prasu...</td>\n",
       "      <td>fruit</td>\n",
       "    </tr>\n",
       "    <tr>\n",
       "      <th>3</th>\n",
       "      <td>C:\\Users\\miknowak\\.cache\\kagglehub\\datasets\\prasu...</td>\n",
       "      <td>fruit</td>\n",
       "    </tr>\n",
       "    <tr>\n",
       "      <th>4</th>\n",
       "      <td>C:\\Users\\miknowak\\.cache\\kagglehub\\datasets\\prasu...</td>\n",
       "      <td>dog</td>\n",
       "    </tr>\n",
       "    <tr>\n",
       "      <th>...</th>\n",
       "      <td>...</td>\n",
       "      <td>...</td>\n",
       "    </tr>\n",
       "    <tr>\n",
       "      <th>595</th>\n",
       "      <td>C:\\Users\\miknowak\\.cache\\kagglehub\\datasets\\prasu...</td>\n",
       "      <td>car</td>\n",
       "    </tr>\n",
       "    <tr>\n",
       "      <th>596</th>\n",
       "      <td>C:\\Users\\miknowak\\.cache\\kagglehub\\datasets\\prasu...</td>\n",
       "      <td>person</td>\n",
       "    </tr>\n",
       "    <tr>\n",
       "      <th>597</th>\n",
       "      <td>C:\\Users\\miknowak\\.cache\\kagglehub\\datasets\\prasu...</td>\n",
       "      <td>cat</td>\n",
       "    </tr>\n",
       "    <tr>\n",
       "      <th>598</th>\n",
       "      <td>C:\\Users\\miknowak\\.cache\\kagglehub\\datasets\\prasu...</td>\n",
       "      <td>motorbike</td>\n",
       "    </tr>\n",
       "    <tr>\n",
       "      <th>599</th>\n",
       "      <td>C:\\Users\\miknowak\\.cache\\kagglehub\\datasets\\prasu...</td>\n",
       "      <td>car</td>\n",
       "    </tr>\n",
       "  </tbody>\n",
       "</table>\n",
       "<p>600 rows × 2 columns</p>\n",
       "</div>"
      ]
     },
     "execution_count": 6,
     "metadata": {},
     "output_type": "execute_result"
    }
   ],
   "execution_count": 6
  },
  {
   "metadata": {
    "ExecuteTime": {
     "end_time": "2025-04-09T15:03:07.472648Z",
     "start_time": "2025-04-09T15:03:07.452809Z"
    }
   },
   "cell_type": "code",
   "source": [
    "def generate_image_embeddings(\n",
    "        image_paths: list[str | Path],\n",
    "        model_name: str = \"microsoft/resnet-50\",\n",
    "        batch_size: int = 8\n",
    ") -> np.ndarray:\n",
    "    \"\"\"\n",
    "    Generate embeddings for a batch of images using a pretrained model from HuggingFace with CUDA support.\n",
    "\n",
    "    Args:\n",
    "        image_paths (List[str | Path]): List of image file paths\n",
    "        model_name (str): Name of the pretrained model to use. Default is \"microsoft/resnet-50\"\n",
    "        batch_size (int): Number of images to process per batch. Default is 8\n",
    "\n",
    "    Returns:\n",
    "        np.ndarray: 2D array of image embedding vectors (num_images, embedding_dim)\n",
    "    \"\"\"\n",
    "    device = torch.device(\"cuda\" if torch.cuda.is_available() else \"cpu\")\n",
    "    print(\"Using device:\", device)\n",
    "    feature_extractor = AutoFeatureExtractor.from_pretrained(model_name)\n",
    "    model = AutoModel.from_pretrained(model_name).to(device)\n",
    "\n",
    "    all_embeddings = []\n",
    "\n",
    "    for i in tqdm(range(0, len(image_paths), batch_size)):\n",
    "        batch_paths = image_paths[i:i + batch_size]\n",
    "        images = [Image.open(path).convert(\"RGB\") for path in batch_paths]\n",
    "\n",
    "        inputs = feature_extractor(images=images, return_tensors=\"pt\").to(device)\n",
    "\n",
    "        with torch.no_grad():\n",
    "            outputs = model(**inputs)\n",
    "\n",
    "        if hasattr(outputs, 'pooler_output'):\n",
    "            embeddings = outputs.pooler_output.cpu().numpy()\n",
    "        else:\n",
    "            embeddings = outputs.last_hidden_state.mean(dim=1).cpu().numpy()\n",
    "\n",
    "        all_embeddings.append(embeddings)\n",
    "\n",
    "    return np.vstack(all_embeddings).squeeze()"
   ],
   "id": "3b6d2018c6768680",
   "outputs": [],
   "execution_count": 22
  },
  {
   "metadata": {
    "ExecuteTime": {
     "end_time": "2025-04-09T15:03:11.422095Z",
     "start_time": "2025-04-09T15:03:07.753339Z"
    }
   },
   "cell_type": "code",
   "source": "embeddings = generate_image_embeddings(path_df.path.tolist(), batch_size=16)",
   "id": "7bb1e829fefcc1ee",
   "outputs": [
    {
     "name": "stdout",
     "output_type": "stream",
     "text": [
      "Using device: cuda\n"
     ]
    }
   ],
   "execution_count": 23
  },
  {
   "metadata": {
    "ExecuteTime": {
     "end_time": "2025-04-09T15:03:52.107933Z",
     "start_time": "2025-04-09T15:03:50.837046Z"
    }
   },
   "cell_type": "code",
   "source": [
    "def plot_embeddings(embeddings: NDArray,\n",
    "                    clustering_results: NDArray,\n",
    "                    symbol: str = \"class\",\n",
    "                    color: str = \"clustering_results\",\n",
    "\n",
    "                    classes: list[str] = path_df[\"class\"],\n",
    "                    paths: list[str] = path_df[\"path\"],\n",
    "                    plot_3d: bool = False):\n",
    "    reduction_techniques = \"tsne\"\n",
    "    if embeddings.shape[1] > 2:\n",
    "        reduced_embeddings = project_vectors(embeddings, technique=reduction_techniques,\n",
    "                                             n_components=3 if plot_3d else 2, random_state=6)\n",
    "        print(f\"Reduced embeddings from {embeddings.shape[1]} to {reduced_embeddings.shape[1]}\")\n",
    "    else:\n",
    "        reduced_embeddings = embeddings\n",
    "    df = pd.DataFrame({\n",
    "        \"x\": reduced_embeddings[:, 0],\n",
    "        \"y\": reduced_embeddings[:, 1],\n",
    "        \"class\": classes,\n",
    "        \"path\": list(map(str, paths)),\n",
    "        \"clustering_results\": clustering_results\n",
    "    })\n",
    "\n",
    "    if plot_3d:\n",
    "        df[\"z\"] = reduced_embeddings[:, 2]\n",
    "\n",
    "    df = df.astype({\n",
    "        \"class\": \"category\",\n",
    "        \"clustering_results\": \"category\"\n",
    "    })\n",
    "    if plot_3d:\n",
    "        fig = px.scatter_3d(df, x=\"x\", y=\"y\", z=\"z\", color=color, symbol=symbol,\n",
    "                            title=f\"{reduction_techniques} reduction technique. Visualization of Image Embeddings\",\n",
    "                            hover_data=[\"path\"])\n",
    "    else:\n",
    "        fig = px.scatter(df, x=\"x\", y=\"y\", color=color, symbol=symbol,\n",
    "                         title=f\"{reduction_techniques} reduction technique. Visualization of Image Embeddings\",\n",
    "                         hover_data=[\"path\"])\n",
    "\n",
    "    fig.update_traces(textfont_size=25, marker=dict(size=25))\n",
    "    fig.update_layout(template=\"plotly\")\n",
    "    fig.show()\n",
    "\n",
    "\n",
    "plot_embeddings(embeddings, 0, symbol=\"class\", color=\"class\")"
   ],
   "id": "b84fbd0655a67de5",
   "outputs": [
    {
     "name": "stdout",
     "output_type": "stream",
     "text": [
      "Reduced embeddings from 2048 to 2\n"
     ]
    }
   ],
   "execution_count": 24
  },
  {
   "metadata": {
    "ExecuteTime": {
     "end_time": "2025-04-09T15:04:20.657511Z",
     "start_time": "2025-04-09T15:04:20.645928Z"
    }
   },
   "cell_type": "code",
   "source": [
    "path_with_search_string = path_df[path_df.path.apply(lambda x: str(x)).str.contains(\"cat_0218.jpg\")].path.values[0]\n",
    "path_with_search_string"
   ],
   "id": "1ce505df8329f37f",
   "outputs": [
    {
     "data": {
      "text/plain": [
       "WindowsPath('C:/Users/miknowak/.cache/kagglehub/datasets/prasunroy/natural-images/versions/1/natural_images/cat/cat_0218.jpg')"
      ]
     },
     "execution_count": 25,
     "metadata": {},
     "output_type": "execute_result"
    }
   ],
   "execution_count": 25
  },
  {
   "metadata": {
    "ExecuteTime": {
     "end_time": "2025-04-09T15:04:21.350680Z",
     "start_time": "2025-04-09T15:04:21.332442Z"
    }
   },
   "cell_type": "code",
   "source": "Image.open(path_with_search_string)",
   "id": "b8920c4baafb3917",
   "outputs": [
    {
     "data": {
      "text/plain": [
       "<PIL.JpegImagePlugin.JpegImageFile image mode=RGB size=173x368>"
      ],
      "image/png": "[encoded data removed]",
      "image/jpeg": "[encoded data removed]"
     },
     "execution_count": 26,
     "metadata": {},
     "output_type": "execute_result"
    }
   ],
   "execution_count": 26
  },
  {
   "metadata": {
    "ExecuteTime": {
     "end_time": "2025-04-09T15:06:11.597858Z",
     "start_time": "2025-04-09T15:06:11.586447Z"
    }
   },
   "cell_type": "code",
   "source": [
    "def cluster_embeddings(embeddings: NDArray, algorithm_name: str = 'KMeans', **kwargs):\n",
    "    \"\"\"\n",
    "    Clusters embeddings using a specified clustering algorithm from sklearn.\n",
    "    \n",
    "    Parameters:\n",
    "    -----------\n",
    "    embeddings : numpy.ndarray\n",
    "        The embeddings to cluster, shape (n_samples, n_features)\n",
    "    algorithm_name : str\n",
    "        Name of the clustering algorithm to use (must be available in sklearn.cluster\n",
    "        or be GaussianMixture)\n",
    "    **kwargs : \n",
    "        Additional parameters to pass to the clustering algorithm\n",
    "        \n",
    "    Returns:\n",
    "    --------\n",
    "    labels : numpy.ndarray\n",
    "        Cluster labels for each embedding, shape (n_samples,)\n",
    "    model : object\n",
    "        The fitted clustering model\n",
    "    \"\"\"\n",
    "    if not isinstance(embeddings, np.ndarray):\n",
    "        raise TypeError(\"Embeddings must be a numpy array\")\n",
    "\n",
    "    if len(embeddings.shape) != 2:\n",
    "        raise ValueError(f\"Embeddings must be 2D array, got shape {embeddings.shape}\")\n",
    "\n",
    "    if algorithm_name == 'GaussianMixture':\n",
    "        algorithm_class = GaussianMixture\n",
    "    else:\n",
    "        try:\n",
    "            algorithm_class = getattr(cluster, algorithm_name)\n",
    "        except AttributeError:\n",
    "            raise ValueError(f\"Algorithm '{algorithm_name}' not found in sklearn.cluster or is not GaussianMixture\")\n",
    "\n",
    "    model = algorithm_class(**kwargs)\n",
    "\n",
    "    if hasattr(model, 'fit_predict'):\n",
    "        labels = model.fit_predict(embeddings)\n",
    "    elif hasattr(model, 'fit') and hasattr(model, 'predict'):\n",
    "\n",
    "        model.fit(embeddings)\n",
    "        labels = model.predict(embeddings)\n",
    "    else:\n",
    "        raise ValueError(f\"Algorithm '{algorithm_name}' does not support required methods\")\n",
    "\n",
    "    return labels, model\n"
   ],
   "id": "b2377363c6c91efe",
   "outputs": [],
   "execution_count": 27
  },
  {
   "metadata": {
    "ExecuteTime": {
     "end_time": "2025-04-09T15:08:15.809865Z",
     "start_time": "2025-04-09T15:08:13.507231Z"
    }
   },
   "cell_type": "code",
   "source": [
    "clustering_results, model1 = cluster_embeddings(embeddings, 'KMeans', n_clusters=7)\n",
    "print(f\"KMeans labels shape: {clustering_results.shape}, unique clusters: {np.unique(clustering_results)}\")\n",
    "plot_embeddings(embeddings,\n",
    "                clustering_results,\n",
    "                symbol=\"class\",\n",
    "                color=\"clustering_results\",\n",
    "                plot_3d=True\n",
    "                )"
   ],
   "id": "b43888a611a4f56f",
   "outputs": [
    {
     "name": "stdout",
     "output_type": "stream",
     "text": [
      "KMeans labels shape: (600,), unique clusters: [0 1 2 3 4 5 6]\n",
      "Reduced embeddings from 2048 to 3\n"
     ]
    }
   ],
   "execution_count": 30
  },
  {
   "metadata": {
    "ExecuteTime": {
     "end_time": "2025-04-08T21:03:26.347693Z",
     "start_time": "2025-04-08T21:03:26.330582Z"
    }
   },
   "cell_type": "code",
   "source": "adjusted_rand_score(clustering_results, path_df[\"class\"].cat.codes)",
   "id": "3eb16c4e1cf6b57f",
   "outputs": [
    {
     "data": {
      "text/plain": [
       "0.8050666122758197"
      ]
     },
     "execution_count": 17,
     "metadata": {},
     "output_type": "execute_result"
    }
   ],
   "execution_count": 17
  },
  {
   "metadata": {
    "ExecuteTime": {
     "end_time": "2025-04-09T15:10:04.774086Z",
     "start_time": "2025-04-09T15:10:04.462423Z"
    }
   },
   "cell_type": "code",
   "source": [
    "reduced_embeddings = project_vectors(embeddings,\n",
    "                                     technique=\"pca\",  # Why not TSNE? \n",
    "                                     n_components=2,\n",
    "                                     random_state=6)\n",
    "\n",
    "clustering_results, model1 = cluster_embeddings(reduced_embeddings, 'KMeans', n_clusters=8)\n",
    "print(f\"KMeans labels shape: {clustering_results.shape}, unique clusters: {np.unique(clustering_results)}\")\n",
    "plot_embeddings(reduced_embeddings,\n",
    "                clustering_results,\n",
    "                symbol=\"class\",\n",
    "                color=\"clustering_results\")"
   ],
   "id": "cce158844284b164",
   "outputs": [
    {
     "name": "stdout",
     "output_type": "stream",
     "text": [
      "KMeans labels shape: (600,), unique clusters: [0 1 2 3 4 5 6 7]\n"
     ]
    }
   ],
   "execution_count": 31
  },
  {
   "metadata": {
    "ExecuteTime": {
     "end_time": "2025-04-09T15:11:19.421187Z",
     "start_time": "2025-04-09T15:11:18.185220Z"
    }
   },
   "cell_type": "code",
   "source": [
    "labels2, model2 = cluster_embeddings(embeddings, 'DBSCAN',\n",
    "                                     eps=estimate_dbscan_eps(embeddings), min_samples=5)\n",
    "print(f\"DBSCAN labels shape: {labels2.shape}, unique clusters: {np.unique(labels2)}\")\n",
    "\n",
    "plot_embeddings(embeddings,\n",
    "                labels2,\n",
    "                symbol=\"class\",\n",
    "                color=\"clustering_results\")"
   ],
   "id": "20e15b33bf201103",
   "outputs": [
    {
     "name": "stdout",
     "output_type": "stream",
     "text": [
      "Estimated eps value: 3.1394101858139036\n",
      "DBSCAN labels shape: (600,), unique clusters: [-1  0  1  2  3  4  5  6  7  8]\n",
      "Reduced embeddings from 2048 to 2\n"
     ]
    }
   ],
   "execution_count": 32
  },
  {
   "metadata": {
    "ExecuteTime": {
     "end_time": "2025-04-09T11:58:11.826620Z",
     "start_time": "2025-04-09T11:58:09.555010Z"
    }
   },
   "cell_type": "code",
   "source": [
    "# reduced_embeddings = project_vectors(embeddings,\n",
    "#                                      technique=\"pca\",  # Why not TSNE? \n",
    "#                                      n_components=2,\n",
    "#                                      random_state=6)\n",
    "\n",
    "labels2, model2 = cluster_embeddings(embeddings, 'DBSCAN',\n",
    "                                     eps=estimate_dbscan_eps(embeddings), min_samples=5)\n",
    "print(f\"DBSCAN labels shape: {labels2.shape}, unique clusters: {np.unique(labels2)}\")\n",
    "\n",
    "plot_embeddings(embeddings,\n",
    "                labels2,\n",
    "                symbol=\"class\",\n",
    "                color=\"clustering_results\")"
   ],
   "id": "24cf876dc7949764",
   "outputs": [
    {
     "name": "stdout",
     "output_type": "stream",
     "text": [
      "Estimated eps value: 3.361341381072998\n",
      "DBSCAN labels shape: (600,), unique clusters: [-1  0  1  2  3  4  5  6]\n",
      "Reduced embeddings from 2048 to 2\n"
     ]
    }
   ],
   "execution_count": 45
  },
  {
   "metadata": {
    "ExecuteTime": {
     "end_time": "2025-04-09T15:12:11.249796Z",
     "start_time": "2025-04-09T15:12:00.195986Z"
    }
   },
   "cell_type": "code",
   "source": [
    "labels3, model3 = cluster_embeddings(embeddings, 'GaussianMixture', n_components=8)\n",
    "print(f\"GaussianMixture labels shape: {labels3.shape}, unique clusters: {np.unique(labels3)}\")\n",
    "\n",
    "plot_embeddings(embeddings,\n",
    "                labels3,\n",
    "                symbol=\"class\",\n",
    "                color=\"clustering_results\",\n",
    "                # plot_3d=True\n",
    "                )"
   ],
   "id": "86bd73034948ad5d",
   "outputs": [
    {
     "name": "stdout",
     "output_type": "stream",
     "text": [
      "GaussianMixture labels shape: (600,), unique clusters: [0 1 2 3 4 5 6 7]\n",
      "Reduced embeddings from 2048 to 2\n"
     ]
    }
   ],
   "execution_count": 33
  },
  {
   "metadata": {
    "ExecuteTime": {
     "end_time": "2025-04-08T21:04:42.749815Z",
     "start_time": "2025-04-08T21:04:42.733780Z"
    }
   },
   "cell_type": "code",
   "source": "adjusted_rand_score(labels3, path_df[\"class\"].cat.codes)",
   "id": "806b40c07923d248",
   "outputs": [
    {
     "data": {
      "text/plain": [
       "0.830083589357288"
      ]
     },
     "execution_count": 21,
     "metadata": {},
     "output_type": "execute_result"
    }
   ],
   "execution_count": 21
  },
  {
   "metadata": {
    "ExecuteTime": {
     "end_time": "2025-04-09T15:19:30.219892Z",
     "start_time": "2025-04-09T15:19:28.795464Z"
    }
   },
   "cell_type": "code",
   "source": [
    "labels4, model4 = cluster_embeddings(embeddings, 'AgglomerativeClustering',\n",
    "                                     n_clusters=8, linkage='ward')\n",
    "print(f\"AgglomerativeClustering labels shape: {labels4.shape}, unique clusters: {np.unique(labels4)}\")\n",
    "plot_embeddings(embeddings,\n",
    "                labels4,\n",
    "                symbol=\"class\",\n",
    "                color=\"clustering_results\")"
   ],
   "id": "b0aa1dbdb5bf9bb3",
   "outputs": [
    {
     "name": "stdout",
     "output_type": "stream",
     "text": [
      "AgglomerativeClustering labels shape: (600,), unique clusters: [0 1 2 3 4 5 6 7]\n",
      "Reduced embeddings from 2048 to 2\n"
     ]
    }
   ],
   "execution_count": 40
  },
  {
   "metadata": {
    "ExecuteTime": {
     "end_time": "2025-04-09T12:05:53.275377Z",
     "start_time": "2025-04-09T12:05:53.252987Z"
    }
   },
   "cell_type": "code",
   "source": "labels4",
   "id": "a60c472880abdc03",
   "outputs": [
    {
     "data": {
      "text/plain": [
       "array([5, 5, 6, 5, 6, 4, 0, 7, 1, 6, 6, 5, 7, 2, 4, 2, 1, 7, 4, 5, 1, 6,\n",
       "       7, 2, 7, 7, 0, 4, 5, 6, 6, 0, 1, 6, 7, 2, 2, 0, 7, 4, 3, 1, 6, 1,\n",
       "       1, 2, 5, 3, 3, 7, 5, 0, 1, 4, 0, 7, 0, 0, 7, 4, 1, 6, 1, 4, 4, 2,\n",
       "       1, 3, 0, 5, 2, 0, 4, 0, 0, 4, 0, 1, 0, 0, 2, 0, 2, 4, 0, 4, 1, 7,\n",
       "       4, 4, 1, 1, 0, 3, 2, 0, 6, 5, 0, 6, 4, 3, 1, 4, 2, 5, 7, 5, 0, 2,\n",
       "       5, 7, 5, 2, 5, 3, 2, 3, 1, 1, 0, 4, 3, 4, 4, 1, 0, 1, 6, 3, 3, 2,\n",
       "       5, 1, 1, 5, 3, 4, 5, 2, 6, 3, 6, 4, 5, 5, 7, 5, 7, 2, 7, 7, 5, 6,\n",
       "       4, 0, 7, 2, 7, 2, 0, 6, 3, 5, 2, 7, 5, 5, 3, 1, 3, 7, 2, 5, 4, 3,\n",
       "       6, 4, 4, 6, 5, 1, 3, 0, 1, 1, 1, 1, 2, 4, 2, 6, 6, 5, 6, 7, 5, 1,\n",
       "       7, 2, 3, 1, 2, 1, 1, 2, 0, 0, 3, 2, 6, 5, 0, 1, 4, 1, 2, 1, 2, 3,\n",
       "       5, 5, 3, 7, 2, 4, 3, 5, 7, 5, 5, 6, 7, 3, 6, 1, 5, 3, 6, 7, 0, 3,\n",
       "       5, 5, 4, 1, 3, 7, 6, 1, 7, 5, 5, 0, 6, 4, 4, 3, 7, 5, 5, 6, 0, 3,\n",
       "       6, 7, 3, 6, 7, 4, 2, 4, 0, 0, 2, 1, 5, 0, 1, 4, 5, 2, 0, 5, 2, 7,\n",
       "       3, 1, 0, 2, 2, 1, 7, 3, 3, 2, 1, 7, 7, 1, 6, 2, 3, 0, 0, 0, 2, 5,\n",
       "       7, 3, 1, 0, 3, 3, 2, 3, 0, 5, 5, 2, 5, 6, 3, 3, 0, 3, 7, 4, 2, 2,\n",
       "       1, 3, 4, 5, 3, 0, 3, 4, 2, 4, 2, 1, 3, 0, 1, 7, 5, 5, 4, 7, 7, 4,\n",
       "       0, 2, 0, 3, 6, 4, 1, 3, 2, 4, 5, 7, 0, 7, 4, 1, 4, 4, 0, 5, 0, 5,\n",
       "       3, 2, 6, 4, 1, 5, 7, 6, 5, 5, 4, 6, 4, 3, 2, 7, 6, 6, 3, 2, 0, 1,\n",
       "       7, 5, 7, 1, 3, 2, 3, 3, 2, 4, 4, 4, 6, 3, 6, 4, 3, 1, 2, 5, 3, 5,\n",
       "       0, 3, 5, 1, 3, 7, 3, 1, 1, 5, 6, 3, 4, 4, 3, 0, 0, 5, 4, 4, 6, 5,\n",
       "       2, 3, 1, 4, 6, 4, 2, 2, 1, 1, 5, 3, 2, 7, 6, 3, 4, 3, 5, 2, 2, 2,\n",
       "       5, 1, 2, 7, 5, 6, 1, 2, 6, 5, 5, 3, 4, 4, 4, 0, 0, 0, 7, 1, 4, 7,\n",
       "       4, 3, 3, 6, 2, 4, 7, 6, 2, 3, 3, 7, 3, 4, 2, 6, 7, 5, 2, 2, 3, 5,\n",
       "       6, 3, 3, 6, 3, 7, 7, 6, 7, 2, 0, 3, 5, 5, 6, 4, 0, 6, 5, 5, 3, 0,\n",
       "       1, 4, 3, 5, 5, 2, 3, 7, 4, 7, 6, 0, 5, 5, 5, 0, 5, 3, 1, 3, 2, 0,\n",
       "       5, 7, 3, 2, 7, 3, 2, 0, 1, 0, 3, 2, 5, 2, 4, 7, 7, 7, 2, 4, 5, 4,\n",
       "       0, 4, 5, 7, 2, 3, 3, 1, 7, 4, 0, 6, 4, 4, 5, 1, 1, 5, 3, 3, 6, 1,\n",
       "       7, 1, 2, 3, 5, 0])"
      ]
     },
     "execution_count": 50,
     "metadata": {},
     "output_type": "execute_result"
    }
   ],
   "execution_count": 50
  },
  {
   "metadata": {
    "ExecuteTime": {
     "end_time": "2025-04-09T15:19:11.643955Z",
     "start_time": "2025-04-09T15:19:11.634471Z"
    }
   },
   "cell_type": "code",
   "source": "adjusted_rand_score(labels4, path_df[\"class\"].cat.codes)",
   "id": "c217651de5f7f7e6",
   "outputs": [
    {
     "data": {
      "text/plain": [
       "0.9900562114074025"
      ]
     },
     "execution_count": 39,
     "metadata": {},
     "output_type": "execute_result"
    }
   ],
   "execution_count": 39
  },
  {
   "metadata": {
    "ExecuteTime": {
     "end_time": "2025-04-09T12:06:43.131605Z",
     "start_time": "2025-04-09T12:06:43.115049Z"
    }
   },
   "cell_type": "code",
   "source": "adjusted_rand_score(labels3, labels4)",
   "id": "d6565c3ae1bd7258",
   "outputs": [
    {
     "data": {
      "text/plain": [
       "-0.0024246409872088733"
      ]
     },
     "execution_count": 52,
     "metadata": {},
     "output_type": "execute_result"
    }
   ],
   "execution_count": 52
  },
  {
   "metadata": {
    "ExecuteTime": {
     "end_time": "2025-04-09T15:18:49.633426Z",
     "start_time": "2025-04-09T15:18:49.626051Z"
    }
   },
   "cell_type": "code",
   "source": "adjusted_rand_score([1,1,0,0], [0,0 ,1,1])",
   "id": "18a35ac3b15bac68",
   "outputs": [
    {
     "data": {
      "text/plain": [
       "1.0"
      ]
     },
     "execution_count": 37,
     "metadata": {},
     "output_type": "execute_result"
    }
   ],
   "execution_count": 37
  },
  {
   "metadata": {
    "ExecuteTime": {
     "end_time": "2025-04-09T15:14:31.975498Z",
     "start_time": "2025-04-09T15:14:27.804201Z"
    }
   },
   "cell_type": "code",
   "source": [
    "import numpy as np\n",
    "import plotly.graph_objects as go\n",
    "from plotly.subplots import make_subplots\n",
    "from sklearn.cluster import KMeans\n",
    "from sklearn.metrics import silhouette_score, davies_bouldin_score\n",
    "\n",
    "def find_optimal_clusters(embeddings: NDArray, max_clusters: int =10, random_state=42):\n",
    "    \"\"\"\n",
    "    Determine the optimal number of clusters for embedding data using multiple methods:\n",
    "    1. Elbow Method (inertia)\n",
    "    2. Silhouette Score\n",
    "    3. Davies-Bouldin Index\n",
    "    \n",
    "    Parameters:\n",
    "    -----------\n",
    "    embeddings : numpy.ndarray\n",
    "        The embedding vectors to cluster, shape (n_samples, n_features)\n",
    "    max_clusters : int, optional (default=10)\n",
    "        Maximum number of clusters to try\n",
    "    random_state : int, optional (default=42)\n",
    "        Random seed for KMeans\n",
    "        \n",
    "    Returns:\n",
    "    --------\n",
    "    fig : plotly.graph_objects.Figure\n",
    "        A figure with subplots showing the evaluation metrics\n",
    "    optimal_k : dict\n",
    "        Dictionary with suggested optimal k values by different methods\n",
    "    \"\"\"\n",
    "    # Ensure we have enough data points\n",
    "    max_clusters = min(max_clusters, len(embeddings) - 1)\n",
    "    \n",
    "    # Initialize lists to store metrics\n",
    "    range_n_clusters = list(range(2, max_clusters + 1))\n",
    "    inertia_values = []\n",
    "    silhouette_values = []\n",
    "    davies_bouldin_values = []\n",
    "    \n",
    "    # Calculate metrics for each number of clusters\n",
    "    for n_clusters in range_n_clusters:\n",
    "        # Initialize and fit KMeans\n",
    "        kmeans = KMeans(n_clusters=n_clusters, random_state=random_state, n_init=10)\n",
    "        cluster_labels = kmeans.fit_predict(embeddings)\n",
    "        \n",
    "        # Calculate inertia (within-cluster sum of squares)\n",
    "        inertia_values.append(kmeans.inertia_)\n",
    "        \n",
    "        # Calculate silhouette score (higher is better)\n",
    "        if len(np.unique(cluster_labels)) > 1:  # Need at least 2 clusters with points\n",
    "            silhouette_values.append(silhouette_score(embeddings, cluster_labels))\n",
    "        else:\n",
    "            silhouette_values.append(0)\n",
    "        \n",
    "        # Calculate Davies-Bouldin index (lower is better)\n",
    "        davies_bouldin_values.append(davies_bouldin_score(embeddings, cluster_labels))\n",
    "    \n",
    "    # Find optimal clusters using different methods\n",
    "    optimal_k = {}\n",
    "    \n",
    "\n",
    "    inertia_diffs = np.diff(inertia_values)\n",
    "    inertia_diffs2 = np.diff(inertia_diffs)\n",
    "    optimal_k['elbow'] = range_n_clusters[np.argmin(inertia_diffs2) + 1]\n",
    "    \n",
    "    # Silhouette method (maximize)\n",
    "    optimal_k['silhouette'] = range_n_clusters[np.argmax(silhouette_values)]\n",
    "    \n",
    "    # Davies-Bouldin method (minimize)\n",
    "    optimal_k['davies_bouldin'] = range_n_clusters[np.argmin(davies_bouldin_values)]\n",
    "    \n",
    "    # Create subplot figure\n",
    "    fig = make_subplots(\n",
    "        rows=3, cols=1,\n",
    "        subplot_titles=(\n",
    "            \"Elbow Method (Inertia)\",\n",
    "            \"Silhouette Score (higher is better)\",\n",
    "            \"Davies-Bouldin Index (lower is better)\"\n",
    "        ),\n",
    "        vertical_spacing=0.15\n",
    "    )\n",
    "    \n",
    "    # Add traces for each metric\n",
    "    # Elbow Method\n",
    "    fig.add_trace(\n",
    "        go.Scatter(\n",
    "            x=range_n_clusters,\n",
    "            y=inertia_values,\n",
    "            mode='lines+markers',\n",
    "            name='Inertia',\n",
    "            line=dict(color='blue')\n",
    "        ),\n",
    "        row=1, col=1\n",
    "    )\n",
    "    fig.add_trace(\n",
    "        go.Scatter(\n",
    "            x=[optimal_k['elbow']],\n",
    "            y=[inertia_values[range_n_clusters.index(optimal_k['elbow'])] \n",
    "               if optimal_k['elbow'] in range_n_clusters else 0],\n",
    "            mode='markers',\n",
    "            marker=dict(color='red', size=12, symbol='star'),\n",
    "            name='Optimal k (Elbow)'\n",
    "        ),\n",
    "        row=1, col=1\n",
    "    )\n",
    "    \n",
    "    # Silhouette Score\n",
    "    fig.add_trace(\n",
    "        go.Scatter(\n",
    "            x=range_n_clusters,\n",
    "            y=silhouette_values,\n",
    "            mode='lines+markers',\n",
    "            name='Silhouette Score',\n",
    "            line=dict(color='green')\n",
    "        ),\n",
    "        row=2, col=1\n",
    "    )\n",
    "    fig.add_trace(\n",
    "        go.Scatter(\n",
    "            x=[optimal_k['silhouette']],\n",
    "            y=[silhouette_values[range_n_clusters.index(optimal_k['silhouette'])]],\n",
    "            mode='markers',\n",
    "            marker=dict(color='red', size=12, symbol='star'),\n",
    "            name='Optimal k (Silhouette)'\n",
    "        ),\n",
    "        row=2, col=1\n",
    "    )\n",
    "    \n",
    "    # Davies-Bouldin Index\n",
    "    fig.add_trace(\n",
    "        go.Scatter(\n",
    "            x=range_n_clusters,\n",
    "            y=davies_bouldin_values,\n",
    "            mode='lines+markers',\n",
    "            name='Davies-Bouldin Index',\n",
    "            line=dict(color='purple')\n",
    "        ),\n",
    "        row=3, col=1\n",
    "    )\n",
    "    fig.add_trace(\n",
    "        go.Scatter(\n",
    "            x=[optimal_k['davies_bouldin']],\n",
    "            y=[davies_bouldin_values[range_n_clusters.index(optimal_k['davies_bouldin'])]],\n",
    "            mode='markers',\n",
    "            marker=dict(color='red', size=12, symbol='star'),\n",
    "            name='Optimal k (Davies-Bouldin)'\n",
    "        ),\n",
    "        row=3, col=1\n",
    "    )\n",
    "    \n",
    "    # Update layout\n",
    "    fig.update_layout(\n",
    "        title='Optimal Number of Clusters Evaluation',\n",
    "        height=800,\n",
    "        width=900,\n",
    "        showlegend=True,\n",
    "        legend=dict(\n",
    "            orientation=\"h\",\n",
    "            yanchor=\"bottom\",\n",
    "            y=-0.2,\n",
    "            xanchor=\"center\",\n",
    "            x=0.5\n",
    "        )\n",
    "    )\n",
    "    \n",
    "    # Update x-axis labels\n",
    "    fig.update_xaxes(title_text=\"Number of Clusters\")\n",
    "    \n",
    "    # Update y-axis labels\n",
    "    fig.update_yaxes(title_text=\"Inertia\", row=1, col=1)\n",
    "    fig.update_yaxes(title_text=\"Silhouette Score\", row=2, col=1)\n",
    "    fig.update_yaxes(title_text=\"Davies-Bouldin Index\", row=3, col=1)\n",
    "    \n",
    "    return fig, optimal_k\n",
    "fig, optimal_k = find_optimal_clusters(embeddings, max_clusters=10)\n",
    "fig.show()"
   ],
   "id": "7a4c7057c512493a",
   "outputs": [],
   "execution_count": 35
  },
  {
   "metadata": {},
   "cell_type": "markdown",
   "source": [
    "Theoretical Explanation of Clustering Evaluation Methods\n",
    "1. Elbow Method (Inertia)\n",
    "Theoretical Explanation:\n",
    "The Elbow Method tracks the sum of squared distances between each point and its assigned cluster center (inertia). As we increase the number of clusters, inertia naturally decreases because points are closer to their centers. The \"elbow\" represents the point of diminishing returns, where adding more clusters doesn't significantly reduce the inertia. This inflection point occurs because we've captured the natural structure of the data, and additional clusters start separating points that should belong together.\n",
    "Simple Summary:\n",
    "The Elbow Method identifies where adding more clusters stops providing significant benefit. It finds the point where the inertia curve bends like an elbow.\n",
    "2. Silhouette Score\n",
    "Theoretical Explanation:\n",
    "The Silhouette Score measures how similar points are to their assigned cluster compared to other clusters. For each point, it calculates (b-a)/max(a,b), where 'a' is the mean distance to points in the same cluster and 'b' is the mean distance to points in the nearest different cluster. The score ranges from -1 to 1, with higher values indicating better-defined clusters. A high silhouette score means data points are well-matched to their own clusters and poorly matched to neighboring clusters.\n",
    "Simple Summary:\n",
    "Silhouette Score measures how well-separated clusters are from each other. Higher scores indicate better-defined, more distinct clusters.\n",
    "3. Davies-Bouldin Index\n",
    "Theoretical Explanation:\n",
    "The Davies-Bouldin Index evaluates clustering quality based on the ratio of within-cluster scatter to between-cluster separation. For each cluster, it computes the ratio of the sum of within-cluster distances to the distance between cluster centers, then averages these ratios. This metric focuses on both cluster compactness (points close to their centers) and separation (clusters far from each other). Lower values indicate better clustering, with compact, well-separated clusters.\n",
    "Simple Summary:\n",
    "Davies-Bouldin Index measures the average similarity between clusters, with lower values indicating better separation. It seeks compact clusters that are far apart from each other."
   ],
   "id": "b6464ebe87223fdb"
  },
  {
   "metadata": {},
   "cell_type": "markdown",
   "source": [
    "For each data point i, the silhouette coefficient s(i) is calculated using:\n",
    "s(i) = (b(i) - a(i)) / max(a(i), b(i))\n",
    "Where:\n",
    "\n",
    "a(i) is the average distance between point i and all other points in the same cluster (cohesion)\n",
    "b(i) is the average distance between point i and all points in the nearest neighboring cluster (separation)"
   ],
   "id": "78dcfe6d2b7ffe85"
  },
  {
   "metadata": {},
   "cell_type": "code",
   "outputs": [],
   "execution_count": null,
   "source": "[0, 0, 1, 1]                          [1, 1, 0, 0]",
   "id": "fce602d26807313f"
  }
 ],
 "metadata": {
  "kernelspec": {
   "display_name": "Python 3",
   "language": "python",
   "name": "python3"
  },
  "language_info": {
   "codemirror_mode": {
    "name": "ipython",
    "version": 2
   },
   "file_extension": ".py",
   "mimetype": "text/x-python",
   "name": "python",
   "nbconvert_exporter": "python",
   "pygments_lexer": "ipython2",
   "version": "2.7.6"
  }
 },
 "nbformat": 4,
 "nbformat_minor": 5
}
