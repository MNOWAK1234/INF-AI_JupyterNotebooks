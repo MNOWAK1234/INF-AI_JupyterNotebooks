{
  "cells": [
    {
      "cell_type": "markdown",
      "metadata": {
        "id": "ebvqJaNU9bkH"
      },
      "source": [
        "# Wprowadzenie do sieci neuronowych i uczenia maszynowego - Sieci Neuronowe\n",
        "\n",
        "\n",
        "---\n",
        "\n",
        "**Prowadzący:** Piotr Baryczkowski, Jakub Bednarek<br>\n",
        "**Kontakt:** piotr.baryczkowski@put.poznan.pl<br>\n",
        "\n",
        "---"
      ]
    },
    {
      "cell_type": "markdown",
      "metadata": {
        "id": "Wlq47LA0BuBB"
      },
      "source": [
        "## Cel ćwiczeń:\n",
        "\n",
        "* zapoznanie się z pojęciem **zbioru danych** i jego charakterystyką,\n",
        "* wykorzystanie podstawowych warstw neuronowych,\n",
        "* implementacja procesu uczenia sieci neuronowej + *good practices*"
      ]
    },
    {
      "cell_type": "code",
      "execution_count": 1,
      "metadata": {
        "id": "Z8ToIOrDr7A8",
        "colab": {
          "base_uri": "https://localhost:8080/"
        },
        "outputId": "9754e517-e2d5-4b93-91d9-631fc26c7fb0"
      },
      "outputs": [
        {
          "output_type": "stream",
          "name": "stdout",
          "text": [
            "PyTorch version: 2.5.1+cu121\n",
            "CUDA available: True\n"
          ]
        }
      ],
      "source": [
        "import numpy as np\n",
        "import torch\n",
        "\n",
        "print(f\"PyTorch version: {torch.__version__}\")\n",
        "print(f\"CUDA available: {torch.cuda.is_available()}\")"
      ]
    },
    {
      "cell_type": "markdown",
      "metadata": {
        "id": "s10XO61Fn57k"
      },
      "source": [
        "## Zbiór danych"
      ]
    },
    {
      "cell_type": "markdown",
      "metadata": {
        "id": "qNwfaIiuy6ar"
      },
      "source": [
        "### Wprowadzenie oraz popularne zbiory danych"
      ]
    },
    {
      "cell_type": "markdown",
      "metadata": {
        "id": "mmzwK1KIvl_t"
      },
      "source": [
        "Odpowiednie przygotowanie zbioru danych odgrywa znaczącą rolę w uczeniu sieci neuronowych. Zazwyczaj zbiory danych zawierają 3 pozbiory:\n",
        "\n",
        "* treningowy - wykorzystywany do uaktualniania wag modelu neuronowego,\n",
        "* walidacyjny - do oceny modelu po każdej **epoce**,\n",
        "* testowy - do porównania modelu z innymi rozwiązaniami.\n",
        "\n",
        "**Uwaga:** bardzo często popularne zbiory danych nie posiadają zbioru testowego, ponieważ nie prowadzą tzw. **leaderboard**.\n",
        "\n",
        "Najpopularniejsze zbiory danych:\n",
        "\n",
        "* **MNIST**,\n",
        "* eMNIST,\n",
        "* Caltech 101/256,\n",
        "* Cityscapes,\n",
        "* Kitty,\n",
        "* LFW Face Dataset,\n",
        "* ImageNet\n",
        "\n",
        "Więcej informacji: [wiki](https://en.wikipedia.org/wiki/List_of_datasets_for_machine-learning_research) [kaggle](https://www.kaggle.com/datasets) [google](https://toolbox.google.com/datasetsearch)"
      ]
    },
    {
      "cell_type": "markdown",
      "metadata": {
        "id": "KWwP2RtTy-9o"
      },
      "source": [
        "### Obsługa zbioru danych w PyTorch"
      ]
    },
    {
      "cell_type": "markdown",
      "metadata": {
        "id": "29POyzqin9L1"
      },
      "source": [
        "Kod do przetwarzania danych może stać się nieczytelny i trudny do utrzymania; idealnie chcielibyśmy, aby kod związany z naszym zestawem danych był oddzielony od kodu, który odpowiada za uczenie modelu. PyTorch udostępnia dwie klasy do obsługi danych: `torch.utils.data.DataLoader` i `torch.utils.data.Dataset`, które pozwalają na użycie zarówno gotowych zestawów danych, jak i własnych. `Dataset` przechowuje próbki i ich odpowiadające etykiety, a `DataLoader` jest swego rodzaju nakładką na obiekt `Dataset`, umożliwiając łatwy dostęp do próbek - ładowanie danych, dzielenie danych na podzbiory (_ang. batch_). [link](https://pytorch.org/tutorials/beginner/basics/data_tutorial.html)"
      ]
    },
    {
      "cell_type": "markdown",
      "metadata": {
        "id": "fDh89pFDzGca"
      },
      "source": [
        "#### Tworzenie zbioru danych"
      ]
    },
    {
      "cell_type": "code",
      "execution_count": 2,
      "metadata": {
        "id": "9S59kIwgz5x1",
        "colab": {
          "base_uri": "https://localhost:8080/"
        },
        "outputId": "7a1e870e-ff30-4272-c0b9-65acdb350526"
      },
      "outputs": [
        {
          "output_type": "stream",
          "name": "stderr",
          "text": [
            "<ipython-input-2-2ea1c1efc034>:7: UserWarning: Creating a tensor from a list of numpy.ndarrays is extremely slow. Please consider converting the list to a single numpy.ndarray with numpy.array() before converting to a tensor. (Triggered internally at ../torch/csrc/utils/tensor_new.cpp:278.)\n",
            "  tensor_x = torch.Tensor(x)\n"
          ]
        }
      ],
      "source": [
        "dataset_size = 10\n",
        "\n",
        "# zbiór danych składający się z losowych obrazków o rozmiarze (32, 32, 3) oraz etykiet po kolei od 0 do dataset_size\n",
        "x = [np.random.uniform(size=(32, 32, 3)) for _ in range(dataset_size)]\n",
        "y = [i for i in range(dataset_size)]\n",
        "\n",
        "tensor_x = torch.Tensor(x)\n",
        "tensor_y = torch.Tensor(y)\n",
        "\n",
        "# utworzenie \"iteratora\" zbioru danych\n",
        "dataset = torch.utils.data.TensorDataset(tensor_x, tensor_y)\n",
        "dataloader = torch.utils.data.DataLoader(dataset)"
      ]
    },
    {
      "cell_type": "markdown",
      "metadata": {
        "id": "latEGDXR1BDT"
      },
      "source": [
        "#### Iterowanie po zbiorze danych"
      ]
    },
    {
      "cell_type": "code",
      "execution_count": 3,
      "metadata": {
        "id": "mJZo9pGz1EX8",
        "colab": {
          "base_uri": "https://localhost:8080/"
        },
        "outputId": "8f090a97-8040-469f-919a-71050784bf00"
      },
      "outputs": [
        {
          "output_type": "stream",
          "name": "stdout",
          "text": [
            "torch.Size([1, 32, 32, 3]) tensor([0.])\n",
            "torch.Size([1, 32, 32, 3]) tensor([1.])\n",
            "torch.Size([1, 32, 32, 3]) tensor([2.])\n",
            "torch.Size([1, 32, 32, 3]) tensor([3.])\n",
            "torch.Size([1, 32, 32, 3]) tensor([4.])\n",
            "torch.Size([1, 32, 32, 3]) tensor([5.])\n",
            "torch.Size([1, 32, 32, 3]) tensor([6.])\n",
            "torch.Size([1, 32, 32, 3]) tensor([7.])\n",
            "torch.Size([1, 32, 32, 3]) tensor([8.])\n",
            "torch.Size([1, 32, 32, 3]) tensor([9.])\n"
          ]
        }
      ],
      "source": [
        "for x, y in dataloader:\n",
        "  print(x.shape, y)"
      ]
    },
    {
      "cell_type": "markdown",
      "metadata": {
        "id": "j8xxrDkx1b_r"
      },
      "source": [
        "#### Tasowanie"
      ]
    },
    {
      "cell_type": "code",
      "execution_count": 4,
      "metadata": {
        "id": "yzQhivcx1wjY",
        "colab": {
          "base_uri": "https://localhost:8080/"
        },
        "outputId": "c6ba6705-6768-4a02-b240-817b70787d18"
      },
      "outputs": [
        {
          "output_type": "stream",
          "name": "stdout",
          "text": [
            "torch.Size([1, 32, 32, 3]) tensor([8.])\n",
            "torch.Size([1, 32, 32, 3]) tensor([3.])\n",
            "torch.Size([1, 32, 32, 3]) tensor([7.])\n",
            "torch.Size([1, 32, 32, 3]) tensor([0.])\n",
            "torch.Size([1, 32, 32, 3]) tensor([9.])\n",
            "torch.Size([1, 32, 32, 3]) tensor([5.])\n",
            "torch.Size([1, 32, 32, 3]) tensor([4.])\n",
            "torch.Size([1, 32, 32, 3]) tensor([1.])\n",
            "torch.Size([1, 32, 32, 3]) tensor([2.])\n",
            "torch.Size([1, 32, 32, 3]) tensor([6.])\n"
          ]
        }
      ],
      "source": [
        "dataloader_shuffled = torch.utils.data.DataLoader(dataset, shuffle=True)\n",
        "\n",
        "for x, y in dataloader_shuffled:\n",
        "  print(x.shape, y)"
      ]
    },
    {
      "cell_type": "markdown",
      "metadata": {
        "id": "IUFB46tu15qP"
      },
      "source": [
        "#### Mapowanie"
      ]
    },
    {
      "cell_type": "code",
      "execution_count": 5,
      "metadata": {
        "id": "vxLq1Jwa17HN",
        "colab": {
          "base_uri": "https://localhost:8080/"
        },
        "outputId": "27d14c26-dbba-413e-dce1-64bf5c9ba306"
      },
      "outputs": [
        {
          "output_type": "stream",
          "name": "stdout",
          "text": [
            "torch.Size([1, 32, 32, 3]) tensor([0.])\n",
            "torch.Size([1, 32, 32, 3]) tensor([2.])\n",
            "torch.Size([1, 32, 32, 3]) tensor([4.])\n",
            "torch.Size([1, 32, 32, 3]) tensor([6.])\n",
            "torch.Size([1, 32, 32, 3]) tensor([8.])\n",
            "torch.Size([1, 32, 32, 3]) tensor([10.])\n",
            "torch.Size([1, 32, 32, 3]) tensor([12.])\n",
            "torch.Size([1, 32, 32, 3]) tensor([14.])\n",
            "torch.Size([1, 32, 32, 3]) tensor([16.])\n",
            "torch.Size([1, 32, 32, 3]) tensor([18.])\n"
          ]
        }
      ],
      "source": [
        "class MappedDataset(torch.utils.data.Dataset):\n",
        "  def __init__(self, dataset, transform_func):\n",
        "    self.dataset = dataset\n",
        "    self.transform_func = transform_func\n",
        "\n",
        "  def __len__(self):\n",
        "    return len(self.dataset)\n",
        "\n",
        "  def __getitem__(self, idx):\n",
        "    data, label = self.dataset[idx]\n",
        "    return self.transform_func(data, label)\n",
        "\n",
        "\n",
        "def map(x, y):\n",
        "  y = y * 2\n",
        "  return x, y\n",
        "\n",
        "\n",
        "dataset_mapped = MappedDataset(dataset, map)\n",
        "dataloader_mapped = torch.utils.data.DataLoader(dataset_mapped)\n",
        "\n",
        "for x, y in dataloader_mapped:\n",
        "  print(x.shape, y)"
      ]
    },
    {
      "cell_type": "markdown",
      "metadata": {
        "id": "2TUb4toF2T-8"
      },
      "source": [
        "#### Filtrowanie"
      ]
    },
    {
      "cell_type": "code",
      "execution_count": 6,
      "metadata": {
        "id": "3ZOTi5mz2Vpf",
        "colab": {
          "base_uri": "https://localhost:8080/"
        },
        "outputId": "45993790-20c6-4621-aa0d-e98f702ee239"
      },
      "outputs": [
        {
          "output_type": "stream",
          "name": "stdout",
          "text": [
            "torch.Size([1, 32, 32, 3]) tensor([6.])\n",
            "torch.Size([1, 32, 32, 3]) tensor([7.])\n",
            "torch.Size([1, 32, 32, 3]) tensor([8.])\n",
            "torch.Size([1, 32, 32, 3]) tensor([9.])\n"
          ]
        }
      ],
      "source": [
        "class FilteredDataset(torch.utils.data.Dataset):\n",
        "  def __init__(self, dataset, threshold):\n",
        "    self.filtered_data = [\n",
        "      (data, label) for data, label in dataset if label > threshold\n",
        "    ]\n",
        "\n",
        "  def __len__(self):\n",
        "    return len(self.filtered_data)\n",
        "\n",
        "  def __getitem__(self, idx):\n",
        "    return self.filtered_data[idx]\n",
        "\n",
        "\n",
        "dataset_filtered = FilteredDataset(dataset, 5)\n",
        "\n",
        "dataloader_filtered = torch.utils.data.DataLoader(dataset_filtered)\n",
        "\n",
        "for x, y in dataloader_filtered:\n",
        "  print(x.shape, y)"
      ]
    },
    {
      "cell_type": "markdown",
      "metadata": {
        "id": "QhZmXSZJ2fc3"
      },
      "source": [
        "#### Grupowanie"
      ]
    },
    {
      "cell_type": "code",
      "execution_count": 7,
      "metadata": {
        "id": "FLaNPS6A2iK5",
        "colab": {
          "base_uri": "https://localhost:8080/"
        },
        "outputId": "5a40088e-1006-416c-888e-6dff702da367"
      },
      "outputs": [
        {
          "output_type": "stream",
          "name": "stdout",
          "text": [
            "torch.Size([5, 32, 32, 3]) tensor([0., 1., 2., 3., 4.])\n",
            "torch.Size([5, 32, 32, 3]) tensor([5., 6., 7., 8., 9.])\n"
          ]
        }
      ],
      "source": [
        "dataloader_batch = torch.utils.data.DataLoader(dataset, batch_size=5)\n",
        "\n",
        "for x, y in dataloader_batch:\n",
        "  print(x.shape, y)"
      ]
    },
    {
      "cell_type": "markdown",
      "metadata": {
        "id": "_98O2Zsr2xEP"
      },
      "source": [
        "#### Składanie wielu operacji na raz"
      ]
    },
    {
      "cell_type": "code",
      "execution_count": 8,
      "metadata": {
        "id": "q2o3BqWb2z27",
        "colab": {
          "base_uri": "https://localhost:8080/"
        },
        "outputId": "8997c166-f4cd-4f2f-b5a0-888aae3a61e0"
      },
      "outputs": [
        {
          "output_type": "stream",
          "name": "stdout",
          "text": [
            "tensor(0.1660) torch.Size([5, 32, 32, 3]) tensor([18., 16.,  8., 14., 12.])\n",
            "tensor(0.1517) torch.Size([1, 32, 32, 3]) tensor([10.])\n"
          ]
        }
      ],
      "source": [
        "dataset_mix = MappedDataset(dataset, map)\n",
        "dataset_mix = FilteredDataset(dataset_mix, 6)\n",
        "\n",
        "dataloader_mix = torch.utils.data.DataLoader(dataset_mix, shuffle=True, batch_size=5)\n",
        "\n",
        "for x, y in dataloader_mix:\n",
        "  print(x[0, 0, 0, 0], x.shape, y)"
      ]
    },
    {
      "cell_type": "markdown",
      "metadata": {
        "id": "d2s7Isp4633N"
      },
      "source": [
        "#### Zadanie 1\n",
        "\n",
        "Stwórz zbiór danych (bez podziału na zbiory treningowe, walidacyjne i treningowe) składający się z 10000 elementów, zawierający pary (x, y) danych\n",
        "dla funkcji **sinus**. Dane x niech będą z zakresu [-2 * PI, 2 * PI], y - odpowiadające im wartości funkcji sinus.\n",
        "\n",
        "Następnie utwórz providera za pomocą TensorFlow Dataset API, który będzie:\n",
        "\n",
        "* tasował dane\n",
        "* mapował tak, aby dane x, z zakresu [-2 \\* PI, 0), były transformowane do przedziału [0, 2 \\* PI)\n",
        "\n",
        "Podpowiedź: (x + 2PI) % 2PI,\n",
        "* grupował dane w batche o rozmiarze 32"
      ]
    },
    {
      "cell_type": "code",
      "execution_count": 9,
      "metadata": {
        "id": "_1hnkzMEA7l_",
        "colab": {
          "base_uri": "https://localhost:8080/",
          "height": 410
        },
        "outputId": "ee7a0a7e-2e3c-4a14-d1a1-e30325b53624"
      },
      "outputs": [
        {
          "output_type": "display_data",
          "data": {
            "text/plain": [
              "<Figure size 600x400 with 1 Axes>"
            ],
            "image/png": "[encoded data removed]"
          },
          "metadata": {}
        }
      ],
      "source": [
        "import numpy as np\n",
        "import matplotlib.pyplot as plt\n",
        "from torch.utils.data import TensorDataset, DataLoader\n",
        "\n",
        "\n",
        "dataset_size = 10000\n",
        "\n",
        "x = np.linspace(-2*np.pi, 2*np.pi, dataset_size)\n",
        "y = np.sin(x)\n",
        "\n",
        "def transform_sinus(x, y):\n",
        "  x_transformed = (x+2*np.pi) % (2*np.pi)\n",
        "  return x_transformed, y\n",
        "\n",
        "dataset = TensorDataset(torch.Tensor(x), torch.Tensor(y))\n",
        "mappedDataset = MappedDataset(dataset, transform_sinus)\n",
        "dataloader = DataLoader(mappedDataset)\n",
        "\n",
        "# Too many examples\n",
        "# for x, y in dataloader:\n",
        "#   print(x, y)\n",
        "\n",
        "# Let's print just one batch\n",
        "dataloader = DataLoader(mappedDataset, batch_size=32, shuffle=True)\n",
        "for i, (x,y) in enumerate(dataloader):\n",
        "  if(i == 1):\n",
        "    break\n",
        "  # Convert tensors to numpy arrays for plotting\n",
        "  x_batch = x.numpy()\n",
        "  y_batch = y.numpy()\n",
        "\n",
        "  # Plot the batch as scatter points\n",
        "  plt.figure(figsize=(6, 4))\n",
        "  plt.scatter(x_batch, y_batch, color='b', label='Transformed Data', s=10)  # 's' controls the point size\n",
        "\n",
        "  # Add the real sine curve for comparison\n",
        "  x_real = np.linspace(0, 2 * np.pi, 1000)\n",
        "  y_real = np.sin(x_real)\n",
        "  plt.plot(x_real, y_real, color='r', label='Real Sin(x)', linestyle='--')\n",
        "\n",
        "  plt.title('Batch of Transformed Sinus Data')\n",
        "  plt.xlabel('x')\n",
        "  plt.ylabel('y')\n",
        "  plt.grid(True)\n",
        "  plt.legend()\n",
        "  plt.show()"
      ]
    },
    {
      "cell_type": "markdown",
      "metadata": {
        "id": "6TJaDyXCA9Qe"
      },
      "source": [
        "### Popularne zbiory danych"
      ]
    },
    {
      "cell_type": "markdown",
      "metadata": {
        "id": "fp29iNwaBBhw"
      },
      "source": [
        "Biblioteka PyTorch zawiera gotowe funkcje wczytujące dla niektórych zbiorów danych. Większość gotowych zbiorów danych możemy znaleźć w bibliotece *torchvision*. Tutaj możesz znaleźć dokładną listę dostępnych zbiorów danych - [link](https://pytorch.org/vision/stable/datasets.html)"
      ]
    },
    {
      "cell_type": "markdown",
      "metadata": {
        "id": "kQp1MMjzB9Di"
      },
      "source": [
        "Jednym z popularniejszych zbiorów danych jest MNIST. Jest to zbiór zawierający cyfry pochodzące z pisma odręcznego wraz z ich przypisanymi etykietami ('1', '2', etc.). Poniżej przykładowe pobranie i wykorzystanie zbioru MNIST."
      ]
    },
    {
      "cell_type": "code",
      "execution_count": 10,
      "metadata": {
        "id": "dcggguYcB-8U"
      },
      "outputs": [],
      "source": [
        "import torch\n",
        "from torch.utils.data import Dataset\n",
        "from torchvision import datasets\n",
        "from torchvision.transforms import ToTensor\n",
        "import matplotlib.pyplot as plt\n",
        "\n",
        "\n",
        "training_data = datasets.MNIST(\n",
        "    root=\"data\",\n",
        "    train=True,\n",
        "    download=True,\n",
        "    transform=ToTensor()\n",
        ")\n",
        "\n",
        "test_data = datasets.MNIST(\n",
        "    root=\"data\",\n",
        "    train=False,\n",
        "    download=True,\n",
        "    transform=ToTensor()\n",
        ")"
      ]
    },
    {
      "cell_type": "code",
      "execution_count": 11,
      "metadata": {
        "id": "OJEqdWYeHhg-",
        "colab": {
          "base_uri": "https://localhost:8080/",
          "height": 675
        },
        "outputId": "36f3b3c9-2f9d-4608-f984-c2febdb5e35c"
      },
      "outputs": [
        {
          "output_type": "display_data",
          "data": {
            "text/plain": [
              "<Figure size 800x800 with 9 Axes>"
            ],
            "image/png": "[encoded data removed]"
          },
          "metadata": {}
        }
      ],
      "source": [
        "figure = plt.figure(figsize=(8, 8))\n",
        "cols, rows = 3, 3\n",
        "for i in range(1, cols * rows + 1):\n",
        "    sample_idx = torch.randint(len(training_data), size=(1,)).item()\n",
        "    img, label = training_data[sample_idx]\n",
        "    figure.add_subplot(rows, cols, i)\n",
        "    plt.title(label)\n",
        "    plt.axis(\"off\")\n",
        "    plt.imshow(img.squeeze(), cmap=\"gray\")\n",
        "plt.show()"
      ]
    },
    {
      "cell_type": "markdown",
      "metadata": {
        "id": "F4PMPG23oKgP"
      },
      "source": [
        "## Podstawowe warstwy neuronowe"
      ]
    },
    {
      "cell_type": "markdown",
      "metadata": {
        "id": "um8QcBw-qE3a"
      },
      "source": [
        "Przy projektowaniu sieci neuronowych możemy wyróżnić podstawowe operacje (warstwy), które się powtarzają. Dla wygody, PyTorch zawiera gotowe implementacje najprostszych z nich, oraz udostępnia interfejsy do tworzenia własnych, bardziej skomplikowanych.\n",
        "\n",
        "Operacje możemy podzielić na:\n",
        "* **uczalne** - zawierające zmienne uczalne (np. *w* i *b* w warstwie w pełni połączonej),\n",
        "* **nieuczalne** - takie, które wykonują pewne charakterystyczne działania na danych, jednak nie potrzebują do tego zmiennych, które będą uczone w trakcie propagacji gradientu.\n",
        "\n",
        "Poniżej zaprezentowane zostały popularne operacje uczalne i nieuczalne.\n",
        "\n",
        "**Uwaga**\n",
        "Wszystkie operacje są reprezentowane jako klasy."
      ]
    },
    {
      "cell_type": "markdown",
      "metadata": {
        "id": "xi5VgRQ7peBQ"
      },
      "source": [
        "### Uczalne\n",
        "\n"
      ]
    },
    {
      "cell_type": "markdown",
      "metadata": {
        "id": "wnh4-j1XtP8k"
      },
      "source": [
        "Dzięki predefiniowanym warstwom nie ma potrzeby samodzielnej deklaracji nowych zmiennych. Wszystkie zmienne uczone są deklarowane (zgodnie z implementacją danej warstwy) wewnątrz obiektu, a następnie przechowywane.\n",
        "\n",
        "Do zmiennych uczonych można dostać się poprzez własność *state_dict* (lub *parameters*)."
      ]
    },
    {
      "cell_type": "code",
      "execution_count": 12,
      "metadata": {
        "id": "FI5eoguKtxCy",
        "colab": {
          "base_uri": "https://localhost:8080/"
        },
        "outputId": "2dbb3837-88c6-41f1-d56e-65790088d239"
      },
      "outputs": [
        {
          "output_type": "execute_result",
          "data": {
            "text/plain": [
              "OrderedDict([('weight',\n",
              "              tensor([[ 0.1174, -0.2308,  0.2312, -0.3007,  0.2594],\n",
              "                      [ 0.3014, -0.2222,  0.1950, -0.0427, -0.3005],\n",
              "                      [ 0.1241, -0.1934,  0.2456,  0.2998, -0.4143],\n",
              "                      [ 0.2319, -0.1011,  0.0064,  0.1977,  0.1005],\n",
              "                      [-0.0714, -0.3344, -0.3274,  0.1598, -0.0510]])),\n",
              "             ('bias', tensor([-0.3558,  0.0678,  0.2290,  0.2640, -0.0628]))])"
            ]
          },
          "metadata": {},
          "execution_count": 12
        }
      ],
      "source": [
        "m = torch.nn.Linear(5, 5)\n",
        "\n",
        "m.state_dict()"
      ]
    },
    {
      "cell_type": "markdown",
      "metadata": {
        "id": "yfk3PAOvpjcK"
      },
      "source": [
        "#### Linear"
      ]
    },
    {
      "cell_type": "markdown",
      "metadata": {
        "id": "SSE1DNZErodm"
      },
      "source": [
        "Jest to warstwa w pełni połączona, która pobiera jako wejście wektor i produkuje na wyjściu wektor o długości równej rozmiarowi warstwy (liczby neuronów)."
      ]
    },
    {
      "cell_type": "code",
      "execution_count": 13,
      "metadata": {
        "id": "Ylb4JpMAr2DQ",
        "colab": {
          "base_uri": "https://localhost:8080/"
        },
        "outputId": "c6ecc71b-b3cf-42d4-8ac5-d6a59f3ebbf7"
      },
      "outputs": [
        {
          "output_type": "stream",
          "name": "stdout",
          "text": [
            "torch.Size([8]) torch.Size([2])\n",
            "Wagi w warstwie linear: tensor([[ 0.2057, -0.1315, -0.0552, -0.2976, -0.2647, -0.1617,  0.1632, -0.0181],\n",
            "        [-0.1761, -0.0144, -0.1503,  0.2503, -0.1009, -0.1236, -0.2847,  0.2657]])\n",
            "Bias'y w warstwie linear: tensor([-0.2598, -0.1078])\n"
          ]
        }
      ],
      "source": [
        "# definicja warstwy\n",
        "linear1 = torch.nn.Linear(8, 2)\n",
        "\n",
        "# inferencja\n",
        "x = torch.ones([8])\n",
        "y = linear1(x)\n",
        "\n",
        "# rozmiar wejściowego oraz wyjściowego tensora\n",
        "print(x.shape, y.shape)\n",
        "\n",
        "# zmienne uczone\n",
        "state_dict = linear1.state_dict()\n",
        "print(f\"Wagi w warstwie linear: {state_dict['weight']}\")\n",
        "print(f\"Bias'y w warstwie linear: {state_dict['bias']}\")"
      ]
    },
    {
      "cell_type": "markdown",
      "metadata": {
        "id": "qEzIeQLKplLd"
      },
      "source": [
        "#### Convolution"
      ]
    },
    {
      "cell_type": "markdown",
      "metadata": {
        "id": "jKyyxUqvuejZ"
      },
      "source": [
        "Warstwa w pełni połączona dobrze sprawdza się przy danych jednowymiarowych. W przypadku danych wielowymiarowych (jak obrazy) korzystanie z nich byłoby bardzo kosztowne obliczeniowo. Aby wykonać pojedynczą operację *Linear* z 128 neuronami na obrazie o rozmiarach (256, 256, 3) należałoby zadeklarować  256 * 256 * 3 * 128 = 25165824 zmiennych uczonych.\n",
        "\n",
        "Popularnym rozwiązaniem efektywnego przetwarzania danych wielowymiarowych są operacje konwolucji ([link do wizualizacji](https://github.com/vdumoulin/conv_arithmetic)). Konwolucja (inaczej splot) w sieciach neuronowych intuicyjnie jest, tak samo jak *Linear*, kombinacją liniową danego podobszaru danych wielowymiarowych i zmiennych uczonych (inaczej *kernel*).\n",
        "\n",
        "Konwolucja w PyTorch posiada szereg parametrów takich jak:\n",
        "* liczba kanałów wejściowych - liczba kanałów w obrazie wejściowym,\n",
        "* liczba kanałów wyjściowych - liczba kanałów \"wyprodukowana\" przez konwolucję,\n",
        "* kernel_size - rozmiar kernela,\n",
        "* stride - \"rozstrzał\" przetwarzanego podobszaru (patrz link do github),\n",
        "* padding - dopełnienie dodane do wszystkich czterech stron danych wejściowych. Domyślnie: 0,\n",
        "\n",
        "W porównaniu do przykładu przytoczonego powyżej, konwolucja z 128 filtrami, rozmiarem kernela równym (3, 3), dla takich samych danych wejściowych zawierałaby 3 * 3 * 3 * 128 = 3456, czyli ponad 7281 (!) razy mniej niż w przypadku *Linear*. Ponadto, w przetwarzaniu danych, w których zachodzą lokalne zależności (na obrazie sąsiadujące piksele reprezentują zazwyczaj ten sam obiekt) konwolucja sprawdza się o wiele lepiej niż *Linear*."
      ]
    },
    {
      "cell_type": "code",
      "execution_count": 14,
      "metadata": {
        "id": "MGMUqvtcwFQe",
        "colab": {
          "base_uri": "https://localhost:8080/"
        },
        "outputId": "7179df02-e2b8-4a6e-ce8c-f532fe37e2cf"
      },
      "outputs": [
        {
          "output_type": "stream",
          "name": "stdout",
          "text": [
            "torch.Size([10, 128, 128, 3]) torch.Size([10, 128, 64, 2])\n",
            "Wagi w warstwie conv: torch.Size([128, 128, 3, 3])\n",
            "Bias'y w warstwie conv: torch.Size([128])\n"
          ]
        }
      ],
      "source": [
        "# definicja warstwy\n",
        "conv1 = torch.nn.Conv2d(128, 128, (3, 3), (2, 2), 1)\n",
        "\n",
        "# inferencja (przy pierwszym wywołaniu warstwy Linear1 zostaną stworzone zmienne uczone)\n",
        "x = torch.ones([10, 128, 128, 3])\n",
        "y = conv1(x)\n",
        "\n",
        "# rozmiar wejściowego oraz wyjściowego tensora\n",
        "print(x.shape, y.shape)\n",
        "\n",
        "# zmienne uczone\n",
        "state_dict = conv1.state_dict()\n",
        "print(f\"Wagi w warstwie conv: {state_dict['weight'].shape}\")\n",
        "print(f\"Bias'y w warstwie conv: {state_dict['bias'].shape}\")"
      ]
    },
    {
      "cell_type": "markdown",
      "metadata": {
        "id": "O3fPzepapfuY"
      },
      "source": [
        "### Nieuczalne"
      ]
    },
    {
      "cell_type": "markdown",
      "metadata": {
        "id": "nMV7LJQeRuXG"
      },
      "source": [
        "Warstwy nieuczalne zazwyczaj wykonują pewne operacje techniczne, typu zmiana kształtu, skalowanie danych, lub są wykorzystywane w **regularyzacji** (o czym będzie mowa na kolejnych zajęciach)."
      ]
    },
    {
      "cell_type": "markdown",
      "metadata": {
        "id": "DIl-axl0pu0s"
      },
      "source": [
        "#### Pooling"
      ]
    },
    {
      "cell_type": "markdown",
      "metadata": {
        "id": "DoDcI-1sRtFq"
      },
      "source": [
        "Jest to jedna z popularniejszych metod regularyzacji, polegająca na wykonaniu pewnej operacji na małym wycinku danych. Przykładowo MaxPooling2D, podobnie jak konwolucja 2D (patrz wizualizacje), wybiera podobszar obrazu o jakichs wymiarach (np. 2x2) a następnie wybiera maksymalny obiekt z tego okna, tworząc nowy obraz (np. zmniejszony 2-krotnie). Istnieją również inne metody poolingu:\n",
        "\n",
        "* average - z okna obliczana jest średnia,\n",
        "* median - z okna obliczana jest mediana,\n",
        "* minimum - z okna wybierana jest najmniejsza wartość,\n",
        "* itp."
      ]
    },
    {
      "cell_type": "code",
      "execution_count": 15,
      "metadata": {
        "id": "EmJStBb_zTO0",
        "colab": {
          "base_uri": "https://localhost:8080/"
        },
        "outputId": "fcb92138-e445-4c64-8148-cf47d1d5c966"
      },
      "outputs": [
        {
          "output_type": "stream",
          "name": "stdout",
          "text": [
            "torch.Size([10, 3, 128, 128]) torch.Size([10, 3, 64, 64])\n"
          ]
        }
      ],
      "source": [
        "# definicja warstwy\n",
        "mp1 = torch.nn.MaxPool2d((2, 2), (2, 2))\n",
        "\n",
        "# inferencja (przy pierwszym wywołaniu warstwy Linear1 zostaną stworzone zmienne uczone)\n",
        "x = torch.ones([10, 3, 128, 128])\n",
        "y = mp1(x)\n",
        "\n",
        "# rozmiar wejściowego oraz wyjściowego tensora\n",
        "print(x.shape, y.shape)"
      ]
    },
    {
      "cell_type": "markdown",
      "metadata": {
        "id": "W2C6kjTBpw3w"
      },
      "source": [
        "#### Flatten"
      ]
    },
    {
      "cell_type": "markdown",
      "metadata": {
        "id": "p2_3pL2QSz4M"
      },
      "source": [
        "Flatten jest prostą funkcją spłaszczającą **każdy element w batchu**. Przykładowo dla grupy 10 obrazów o pewnych wymiarach wyprodukowanych zostanie 10 wektorów (spłaszczonych do wektorów obrazów)."
      ]
    },
    {
      "cell_type": "code",
      "execution_count": 16,
      "metadata": {
        "id": "x5rs9OqBzoCt",
        "colab": {
          "base_uri": "https://localhost:8080/"
        },
        "outputId": "9685ef45-3d54-46be-ca18-e3bce865ad50"
      },
      "outputs": [
        {
          "output_type": "stream",
          "name": "stdout",
          "text": [
            "torch.Size([10, 3, 128, 128]) torch.Size([10, 49152])\n"
          ]
        }
      ],
      "source": [
        "# definicja warstwy\n",
        "ft1 = torch.nn.Flatten()\n",
        "\n",
        "# inferencja (przy pierwszym wywołaniu warstwy Linear1 zostaną stworzone zmienne uczone)\n",
        "x = torch.ones([10, 128, 128, 3])\n",
        "x = x.permute(0, 3, 1, 2)  # [batch_size, height, width, channels] -> [batch_size, channels, height, width]\n",
        "y = ft1(x)\n",
        "\n",
        "# rozmiar wejściowego oraz wyjściowego tensora\n",
        "print(x.shape, y.shape)"
      ]
    },
    {
      "cell_type": "markdown",
      "metadata": {
        "id": "fMqJe-T1oY-9"
      },
      "source": [
        "## Proces uczenia sieci neuronowej"
      ]
    },
    {
      "cell_type": "markdown",
      "metadata": {
        "id": "EorLINSXTTcE"
      },
      "source": [
        "Proces uczenia sieci neuronowych składa się z kilku części. Po inicjalizacji modelu oraz zbioru danych następuje uczenie modelu składające się z wielu **epok**. Epoka to pojedyncze przeiterowanie po całym zbiorze danych (podzbiory treningowe i walidacyjne). Przy czym model jest uczony (bład jest propagowany) tylko na zbiorze treningowym. **Nigdy na zbiorach walidacyjnym i testowym.** Proces uczenia sieci neuronowej składa się (najczęściej) następujących części:\n",
        "\n",
        "1. Inicjalizacja modelu,\n",
        "2. Inicjalizacja zbioru danych,\n",
        "3. Pętla treningowa,\n",
        "  1. Uczenie na zbiorze treningowym (raz!),\n",
        "  2. Ocena modelu na zbiorze walidacyjnym,\n",
        "4. Ocena modelu na zbiorze testowym (opcjonalne)"
      ]
    },
    {
      "cell_type": "markdown",
      "metadata": {
        "id": "Qro02c56Uskh"
      },
      "source": [
        "#### Inicjalizacja modelu"
      ]
    },
    {
      "cell_type": "markdown",
      "metadata": {
        "id": "Dgzk0y0GU3Ty"
      },
      "source": [
        "**Uwaga:** Jeśli model składa się z następujących po sobie operacji, można opakować go dla wygody w strukturę *Sequential*, tak jak pokazano poniżej."
      ]
    },
    {
      "cell_type": "code",
      "execution_count": 17,
      "metadata": {
        "id": "bZWoSMEeHhhF",
        "colab": {
          "base_uri": "https://localhost:8080/"
        },
        "outputId": "f8384542-5da3-4e05-96ed-e3f03b73489e"
      },
      "outputs": [
        {
          "output_type": "stream",
          "name": "stdout",
          "text": [
            "Using cuda device\n"
          ]
        }
      ],
      "source": [
        "device = (\n",
        "    \"cuda\"\n",
        "    if torch.cuda.is_available()\n",
        "    else \"mps\"\n",
        "    if torch.backends.mps.is_available()\n",
        "    else \"cpu\"\n",
        ")\n",
        "print(f\"Using {device} device\")"
      ]
    },
    {
      "cell_type": "code",
      "execution_count": 18,
      "metadata": {
        "id": "_IxiftCDUuVn",
        "colab": {
          "base_uri": "https://localhost:8080/"
        },
        "outputId": "a2ebe27f-675f-48cf-cad1-2201d428c11b"
      },
      "outputs": [
        {
          "output_type": "stream",
          "name": "stdout",
          "text": [
            "MyModel(\n",
            "  (conv_relu_stack): Sequential(\n",
            "    (0): Conv2d(1, 64, kernel_size=(5, 5), stride=(2, 2), padding=(1, 1))\n",
            "    (1): ReLU()\n",
            "    (2): Conv2d(64, 32, kernel_size=(5, 5), stride=(2, 2), padding=(1, 1))\n",
            "    (3): ReLU()\n",
            "    (4): Conv2d(32, 16, kernel_size=(5, 5), stride=(2, 2), padding=(1, 1))\n",
            "    (5): ReLU()\n",
            "  )\n",
            "  (flatten): Flatten(start_dim=1, end_dim=-1)\n",
            "  (linear_relu_stack): Sequential(\n",
            "    (0): Linear(in_features=64, out_features=32, bias=True)\n",
            "    (1): ReLU()\n",
            "    (2): Linear(in_features=32, out_features=10, bias=True)\n",
            "    (3): ReLU()\n",
            "    (4): Linear(in_features=10, out_features=10, bias=True)\n",
            "  )\n",
            ")\n"
          ]
        }
      ],
      "source": [
        "import torch.nn as nn\n",
        "from torch.nn.modules.activation import ReLU\n",
        "\n",
        "\n",
        "class MyModel(nn.Module):\n",
        "    def __init__(self) -> None:\n",
        "        \"\"\"Model który na wejściu otrzymuje obraz a na wyjściu produkuje skalar\n",
        "\n",
        "        W skład modelu wchodzą 3 warstwy konwolucyjne o rozmiarach 64, 32, 16 (out_channels),\n",
        "        każda z rozmiarem kernela 5x5 oraz stride 2x2 (czyli obraz po każdej warstwie będzie 2 razy mniejszy)\n",
        "        potem następuje spłaszczenie obrazu do wektora i przetwarzanie warstwami w pełni połączonymi.\n",
        "        Wszystkie warstwy (oprócz wyjściowej) korzystają z funkcji aktywacji 'relu'\n",
        "        \"\"\"\n",
        "        super(MyModel, self).__init__()\n",
        "        self.conv_relu_stack = nn.Sequential(\n",
        "            nn.Conv2d(in_channels=1, out_channels=64, kernel_size=5, stride=2, padding=1),\n",
        "            ReLU(),\n",
        "            nn.Conv2d(in_channels=64, out_channels=32, kernel_size=5, stride=2, padding=1),\n",
        "            ReLU(),\n",
        "            nn.Conv2d(in_channels=32, out_channels=16, kernel_size=5, stride=2, padding=1),\n",
        "            ReLU(),\n",
        "        )\n",
        "        self.flatten = nn.Flatten()\n",
        "        self.linear_relu_stack = torch.nn.Sequential(\n",
        "            nn.Linear(in_features=64, out_features=32),\n",
        "            ReLU(),\n",
        "            nn.Linear(in_features=32, out_features=10),\n",
        "            ReLU(),\n",
        "            nn.Linear(in_features=10, out_features=10),\n",
        "        )\n",
        "\n",
        "    def forward(self, x: torch.Tensor):\n",
        "        x = self.conv_relu_stack(x)\n",
        "        x = self.flatten(x)\n",
        "        return self.linear_relu_stack(x)\n",
        "\n",
        "\n",
        "model = MyModel()\n",
        "print(model)"
      ]
    },
    {
      "cell_type": "markdown",
      "metadata": {
        "id": "KBfKk6KSWWXF"
      },
      "source": [
        "#### Inicjalizacja zbioru danych"
      ]
    },
    {
      "cell_type": "markdown",
      "metadata": {
        "id": "Z242L-5DWZBc"
      },
      "source": [
        "Jako zbiór danych wykorzystany zostanie zaprezentowany wcześniej zbiór **MNIST**."
      ]
    },
    {
      "cell_type": "code",
      "execution_count": 19,
      "metadata": {
        "id": "RZQ0CdUiWnbZ"
      },
      "outputs": [],
      "source": [
        "training_data = datasets.MNIST(\n",
        "    root=\"data\",\n",
        "    train=True,\n",
        "    download=True,\n",
        "    transform=ToTensor()\n",
        ")\n",
        "\n",
        "test_data = datasets.MNIST(\n",
        "    root=\"data\",\n",
        "    train=False,\n",
        "    download=True,\n",
        "    transform=ToTensor()\n",
        ")"
      ]
    },
    {
      "cell_type": "code",
      "execution_count": 20,
      "metadata": {
        "id": "mUyzOt0OWYeX"
      },
      "outputs": [],
      "source": [
        "from torch.utils.data import DataLoader\n",
        "\n",
        "train_dataloader = DataLoader(training_data, batch_size=32, shuffle=True)\n",
        "test_dataloader = DataLoader(test_data, batch_size=32, shuffle=True)"
      ]
    },
    {
      "cell_type": "markdown",
      "metadata": {
        "id": "hBmDlmOAf3b7"
      },
      "source": [
        "### Proces uczenia sieci neuronowej"
      ]
    },
    {
      "cell_type": "code",
      "execution_count": 21,
      "metadata": {
        "id": "dUDPmj0bHhhG"
      },
      "outputs": [],
      "source": [
        "learning_rate = 1e-3\n",
        "batch_size = 32\n",
        "epochs = 5"
      ]
    },
    {
      "cell_type": "code",
      "execution_count": 22,
      "metadata": {
        "id": "mmE-IwkOZMUY"
      },
      "outputs": [],
      "source": [
        "def train_loop(dataloader, model, loss_fn, optimizer):\n",
        "    size = len(dataloader.dataset)\n",
        "    # Set the model to training mode - important for batch normalization and dropout layers\n",
        "    # Unnecessary in this situation but added for best practices\n",
        "    model.train()\n",
        "    for batch, (X, y) in enumerate(dataloader):\n",
        "        # Compute prediction and loss\n",
        "        pred = model(X)\n",
        "        loss = loss_fn(pred, y)\n",
        "\n",
        "        # Backpropagation\n",
        "        loss.backward()\n",
        "        optimizer.step()\n",
        "        optimizer.zero_grad()\n",
        "\n",
        "        if batch % 100 == 0:\n",
        "            loss, current = loss.item(), batch * batch_size + len(X)\n",
        "            print(f\"loss: {loss:>7f}  [{current:>5d}/{size:>5d}]\")\n",
        "\n",
        "\n",
        "def test_loop(dataloader, model, loss_fn):\n",
        "    # Set the model to evaluation mode - important for batch normalization and dropout layers\n",
        "    # Unnecessary in this situation but added for best practices\n",
        "    model.eval()\n",
        "    size = len(dataloader.dataset)\n",
        "    num_batches = len(dataloader)\n",
        "    test_loss, correct = 0, 0\n",
        "\n",
        "    # Evaluating the model with torch.no_grad() ensures that no gradients are computed during test mode\n",
        "    # also serves to reduce unnecessary gradient computations and memory usage for tensors with requires_grad=True\n",
        "    with torch.no_grad():\n",
        "        for X, y in dataloader:\n",
        "            pred = model(X)\n",
        "            test_loss += loss_fn(pred, y).item()\n",
        "            correct += (pred.argmax(1) == y).type(torch.float).sum().item()\n",
        "\n",
        "    test_loss /= num_batches\n",
        "    correct /= size\n",
        "    print(f\"Test Error: \\n Accuracy: {(100*correct):>0.1f}%, Avg loss: {test_loss:>8f} \\n\")"
      ]
    },
    {
      "cell_type": "code",
      "execution_count": 23,
      "metadata": {
        "id": "-4kmh8WItrUK",
        "colab": {
          "base_uri": "https://localhost:8080/"
        },
        "outputId": "97f211bb-ecff-424c-8802-979e9e792189"
      },
      "outputs": [
        {
          "output_type": "stream",
          "name": "stdout",
          "text": [
            "Epoch 1\n",
            "-------------------------------\n",
            "loss: 2.297511  [   32/60000]\n",
            "loss: 1.073037  [ 3232/60000]\n",
            "loss: 0.362470  [ 6432/60000]\n",
            "loss: 0.521501  [ 9632/60000]\n",
            "loss: 0.248716  [12832/60000]\n",
            "loss: 0.080324  [16032/60000]\n",
            "loss: 0.103377  [19232/60000]\n",
            "loss: 0.294623  [22432/60000]\n",
            "loss: 0.165597  [25632/60000]\n",
            "loss: 0.223611  [28832/60000]\n",
            "loss: 0.048238  [32032/60000]\n",
            "loss: 0.198628  [35232/60000]\n",
            "loss: 0.476814  [38432/60000]\n",
            "loss: 0.062288  [41632/60000]\n",
            "loss: 0.130425  [44832/60000]\n",
            "loss: 0.134148  [48032/60000]\n",
            "loss: 0.042987  [51232/60000]\n",
            "loss: 0.194999  [54432/60000]\n",
            "loss: 0.034223  [57632/60000]\n",
            "Test Error: \n",
            " Accuracy: 96.8%, Avg loss: 0.099375 \n",
            "\n",
            "Epoch 2\n",
            "-------------------------------\n",
            "loss: 0.015673  [   32/60000]\n",
            "loss: 0.421198  [ 3232/60000]\n",
            "loss: 0.126183  [ 6432/60000]\n",
            "loss: 0.050038  [ 9632/60000]\n",
            "loss: 0.093703  [12832/60000]\n",
            "loss: 0.086492  [16032/60000]\n",
            "loss: 0.306185  [19232/60000]\n",
            "loss: 0.194042  [22432/60000]\n",
            "loss: 0.235412  [25632/60000]\n",
            "loss: 0.044689  [28832/60000]\n",
            "loss: 0.063865  [32032/60000]\n",
            "loss: 0.094573  [35232/60000]\n",
            "loss: 0.049207  [38432/60000]\n",
            "loss: 0.095055  [41632/60000]\n",
            "loss: 0.056555  [44832/60000]\n",
            "loss: 0.009452  [48032/60000]\n",
            "loss: 0.061876  [51232/60000]\n",
            "loss: 0.080090  [54432/60000]\n",
            "loss: 0.022174  [57632/60000]\n",
            "Test Error: \n",
            " Accuracy: 98.1%, Avg loss: 0.061068 \n",
            "\n",
            "Epoch 3\n",
            "-------------------------------\n",
            "loss: 0.107450  [   32/60000]\n",
            "loss: 0.190186  [ 3232/60000]\n",
            "loss: 0.054746  [ 6432/60000]\n",
            "loss: 0.029989  [ 9632/60000]\n",
            "loss: 0.067374  [12832/60000]\n",
            "loss: 0.105736  [16032/60000]\n",
            "loss: 0.146780  [19232/60000]\n",
            "loss: 0.151506  [22432/60000]\n",
            "loss: 0.023137  [25632/60000]\n",
            "loss: 0.011427  [28832/60000]\n",
            "loss: 0.003954  [32032/60000]\n",
            "loss: 0.013057  [35232/60000]\n",
            "loss: 0.139481  [38432/60000]\n",
            "loss: 0.038733  [41632/60000]\n",
            "loss: 0.098966  [44832/60000]\n",
            "loss: 0.000969  [48032/60000]\n",
            "loss: 0.305078  [51232/60000]\n",
            "loss: 0.237428  [54432/60000]\n",
            "loss: 0.027858  [57632/60000]\n",
            "Test Error: \n",
            " Accuracy: 98.3%, Avg loss: 0.051390 \n",
            "\n",
            "Done!\n"
          ]
        }
      ],
      "source": [
        "loss_fn = nn.CrossEntropyLoss()\n",
        "optimizer = torch.optim.Adam(model.parameters(), lr=learning_rate)\n",
        "\n",
        "epochs = 3\n",
        "for t in range(epochs):\n",
        "    print(f\"Epoch {t+1}\\n-------------------------------\")\n",
        "    train_loop(train_dataloader, model, loss_fn, optimizer)\n",
        "    test_loop(test_dataloader, model, loss_fn)\n",
        "print(\"Done!\")"
      ]
    },
    {
      "cell_type": "markdown",
      "metadata": {
        "id": "kM_SpGu7ejES"
      },
      "source": [
        "#### Zadanie 2"
      ]
    },
    {
      "cell_type": "markdown",
      "metadata": {
        "id": "sMB9DnMVeppt"
      },
      "source": [
        "Stwórz sieć neuronową składającą się z:\n",
        "\n",
        "* 3 warstw konwolucyjnych (kernel size = 5, liczba filtrów = 128, 64, 32, **bez stride (stride=1)**, aktywacja = relu, **padding='same'**)\n",
        "* 3 warstw Max Pooling-u, każda znajdująca się za kolejną warstwą konwolucyjną (pool size = 2, **stride = 2**, padding=1, funkcja aktywacji: relu) (tzn. Conv2D -> MaxPooling2D -> Conv2D -> MaxPooling2D -> ...),\n",
        "* 3 warstw w pełni połączonych (rozmiary: 512, 128, **liczba klas**, funkcja aktywacji: relu)\n",
        "\n",
        "Przetestuj swoją sieć na następujących zbiorach danych:\n",
        "\n",
        "* Cifar 10\n",
        "* Cifar 100"
      ]
    },
    {
      "cell_type": "code",
      "execution_count": 24,
      "metadata": {
        "id": "GbK4okcB0Dqs",
        "colab": {
          "base_uri": "https://localhost:8080/"
        },
        "outputId": "52962218-1bb8-432a-b667-b9c7e7160b6f"
      },
      "outputs": [
        {
          "output_type": "stream",
          "name": "stdout",
          "text": [
            "PyTorch version: 2.5.1+cu121\n",
            "CUDA available: True\n"
          ]
        }
      ],
      "source": [
        "import numpy as np\n",
        "import torch\n",
        "import torch.nn as nn\n",
        "\n",
        "print(f\"PyTorch version: {torch.__version__}\")\n",
        "print(f\"CUDA available: {torch.cuda.is_available()}\")"
      ]
    },
    {
      "cell_type": "code",
      "execution_count": 25,
      "metadata": {
        "id": "1W1ZAdDjLh0z",
        "colab": {
          "base_uri": "https://localhost:8080/"
        },
        "outputId": "3b311a85-0064-4b6e-dc16-58b96ef86823"
      },
      "outputs": [
        {
          "output_type": "stream",
          "name": "stdout",
          "text": [
            "NeuralNetwork(\n",
            "  (blocks): Sequential(\n",
            "    (0): Conv2d(3, 128, kernel_size=(5, 5), stride=(1, 1), padding=same)\n",
            "    (1): MaxPool2d(kernel_size=2, stride=2, padding=1, dilation=1, ceil_mode=False)\n",
            "    (2): ReLU()\n",
            "    (3): Conv2d(128, 64, kernel_size=(5, 5), stride=(1, 1), padding=same)\n",
            "    (4): MaxPool2d(kernel_size=2, stride=2, padding=1, dilation=1, ceil_mode=False)\n",
            "    (5): ReLU()\n",
            "    (6): Conv2d(64, 32, kernel_size=(5, 5), stride=(1, 1), padding=same)\n",
            "    (7): MaxPool2d(kernel_size=2, stride=2, padding=1, dilation=1, ceil_mode=False)\n",
            "    (8): ReLU()\n",
            "    (9): Flatten(start_dim=1, end_dim=-1)\n",
            "    (10): Linear(in_features=800, out_features=512, bias=True)\n",
            "    (11): ReLU()\n",
            "    (12): Linear(in_features=512, out_features=128, bias=True)\n",
            "    (13): ReLU()\n",
            "    (14): Linear(in_features=128, out_features=10, bias=True)\n",
            "  )\n",
            ")\n"
          ]
        }
      ],
      "source": [
        "class NeuralNetwork(nn.Module):\n",
        "    def __init__(self, num_classes: int) -> None:\n",
        "        super(NeuralNetwork, self).__init__()\n",
        "        self.blocks = nn.Sequential(\n",
        "            nn.Conv2d(in_channels = 3, out_channels = 128, kernel_size = 5, stride = 1, padding = 'same'),\n",
        "            nn.MaxPool2d(kernel_size = 2, stride = 2, padding = 1),\n",
        "            ReLU(),\n",
        "            nn.Conv2d(in_channels = 128, out_channels = 64, kernel_size = 5, stride = 1, padding = 'same'),\n",
        "            nn.MaxPool2d(kernel_size = 2, stride = 2, padding = 1),\n",
        "            ReLU(),\n",
        "            nn.Conv2d(in_channels = 64, out_channels = 32, kernel_size = 5, stride = 1, padding = 'same'),\n",
        "            nn.MaxPool2d(kernel_size = 2, stride = 2, padding = 1),\n",
        "            ReLU(),\n",
        "            nn.Flatten(),\n",
        "            nn.Linear(in_features=5*5*32, out_features = 512),\n",
        "            ReLU(),\n",
        "            nn.Linear(in_features=512, out_features = 128),\n",
        "            ReLU(),\n",
        "            nn.Linear(in_features=128, out_features = num_classes),\n",
        "        )\n",
        "\n",
        "    def forward(self, x: torch.Tensor):\n",
        "        return self.blocks(x)\n",
        "\n",
        "\n",
        "model = NeuralNetwork(10)\n",
        "print(model)\n"
      ]
    },
    {
      "cell_type": "code",
      "execution_count": 26,
      "metadata": {
        "id": "F0BX6tH9Nua_",
        "colab": {
          "base_uri": "https://localhost:8080/"
        },
        "outputId": "7220c2fd-9ac8-459c-cae7-f87ab033c78a"
      },
      "outputs": [
        {
          "output_type": "stream",
          "name": "stdout",
          "text": [
            "Files already downloaded and verified\n",
            "Files already downloaded and verified\n"
          ]
        }
      ],
      "source": [
        "import torch\n",
        "from torch.utils.data import Dataset\n",
        "from torchvision import datasets\n",
        "from torchvision.transforms import ToTensor\n",
        "\n",
        "training_data = datasets.CIFAR10(\n",
        "    root = \"data\",\n",
        "    train = True,\n",
        "    download = True,\n",
        "    transform = ToTensor()\n",
        ")\n",
        "\n",
        "test_data = datasets.CIFAR10(\n",
        "    root=\"data\",\n",
        "    train=False,\n",
        "    download=True,\n",
        "    transform=ToTensor()\n",
        ")"
      ]
    },
    {
      "cell_type": "code",
      "execution_count": 27,
      "metadata": {
        "id": "wjiYpQJYOH5V"
      },
      "outputs": [],
      "source": [
        "from torch.utils.data import DataLoader\n",
        "\n",
        "batch_size = 32\n",
        "\n",
        "train_dataloader = DataLoader(training_data, batch_size, shuffle = True)\n",
        "test_dataloader = DataLoader(test_data, batch_size, shuffle = True)"
      ]
    },
    {
      "cell_type": "code",
      "execution_count": 28,
      "metadata": {
        "id": "TfYLcHWsPYZF",
        "colab": {
          "base_uri": "https://localhost:8080/"
        },
        "outputId": "8b13d784-958d-4fb0-de29-f18a096e75fb"
      },
      "outputs": [
        {
          "output_type": "stream",
          "name": "stdout",
          "text": [
            "Epoch 1\n",
            "-------------------------------\n",
            "loss: 2.288568  [   32/50000]\n",
            "loss: 2.133869  [ 3232/50000]\n",
            "loss: 1.812789  [ 6432/50000]\n",
            "loss: 1.524879  [ 9632/50000]\n",
            "loss: 1.432020  [12832/50000]\n",
            "loss: 1.694608  [16032/50000]\n",
            "loss: 1.500523  [19232/50000]\n",
            "loss: 1.823983  [22432/50000]\n",
            "loss: 1.450866  [25632/50000]\n",
            "loss: 1.689260  [28832/50000]\n",
            "loss: 1.313642  [32032/50000]\n",
            "loss: 1.397545  [35232/50000]\n",
            "loss: 1.493183  [38432/50000]\n",
            "loss: 1.381918  [41632/50000]\n",
            "loss: 1.082064  [44832/50000]\n",
            "loss: 1.521259  [48032/50000]\n",
            "Test Error: \n",
            " Accuracy: 53.6%, Avg loss: 1.273563 \n",
            "\n",
            "Epoch 2\n",
            "-------------------------------\n",
            "loss: 1.609416  [   32/50000]\n",
            "loss: 1.200276  [ 3232/50000]\n",
            "loss: 1.355878  [ 6432/50000]\n",
            "loss: 0.830917  [ 9632/50000]\n",
            "loss: 0.901599  [12832/50000]\n",
            "loss: 0.856656  [16032/50000]\n",
            "loss: 1.044313  [19232/50000]\n",
            "loss: 1.018919  [22432/50000]\n",
            "loss: 1.187902  [25632/50000]\n",
            "loss: 1.147108  [28832/50000]\n",
            "loss: 0.952058  [32032/50000]\n",
            "loss: 1.033254  [35232/50000]\n",
            "loss: 0.932930  [38432/50000]\n",
            "loss: 1.160735  [41632/50000]\n",
            "loss: 0.912980  [44832/50000]\n",
            "loss: 1.077866  [48032/50000]\n",
            "Test Error: \n",
            " Accuracy: 58.8%, Avg loss: 1.156019 \n",
            "\n",
            "Epoch 3\n",
            "-------------------------------\n",
            "loss: 1.135087  [   32/50000]\n",
            "loss: 0.922072  [ 3232/50000]\n",
            "loss: 0.850386  [ 6432/50000]\n",
            "loss: 0.657896  [ 9632/50000]\n",
            "loss: 1.393127  [12832/50000]\n",
            "loss: 1.099775  [16032/50000]\n",
            "loss: 0.850550  [19232/50000]\n",
            "loss: 0.813861  [22432/50000]\n",
            "loss: 0.631439  [25632/50000]\n",
            "loss: 1.099678  [28832/50000]\n",
            "loss: 0.742388  [32032/50000]\n",
            "loss: 0.987147  [35232/50000]\n",
            "loss: 1.101971  [38432/50000]\n",
            "loss: 0.803964  [41632/50000]\n",
            "loss: 1.148172  [44832/50000]\n",
            "loss: 0.737143  [48032/50000]\n",
            "Test Error: \n",
            " Accuracy: 64.7%, Avg loss: 0.996523 \n",
            "\n",
            "Done!\n"
          ]
        }
      ],
      "source": [
        "loss_fn = nn.CrossEntropyLoss()\n",
        "optimizer = torch.optim.Adam(model.parameters(), lr=learning_rate)\n",
        "\n",
        "epochs = 3\n",
        "for t in range(epochs):\n",
        "    print(f\"Epoch {t+1}\\n-------------------------------\")\n",
        "    train_loop(train_dataloader, model, loss_fn, optimizer)\n",
        "    test_loop(test_dataloader, model, loss_fn)\n",
        "print(\"Done!\")"
      ]
    },
    {
      "cell_type": "markdown",
      "metadata": {
        "id": "uZAkvIIF0ub9"
      },
      "source": [
        "## Pretrenowane sieci"
      ]
    },
    {
      "cell_type": "markdown",
      "metadata": {
        "id": "_jGE3QZP0xLF"
      },
      "source": [
        "Biblioteka udostępnia również **pretrenowane** modele. Tzn. takie, które zostały już wyuczone na pewnych zbiorach danych.\n",
        "\n",
        "Istnieje wiele znanych, pretrenowanych sieci neuronowych:\n",
        "\n",
        "* ResNet (w wersji 50, 100, itp.),\n",
        "* Inception (V2, V3),\n",
        "* VGG (16, 19),\n",
        "* MobileNet,\n",
        "* LinearNet\n",
        "\n",
        "Poniżej zaprezentowany został przykład użycia jednej z nich."
      ]
    },
    {
      "cell_type": "code",
      "execution_count": 29,
      "metadata": {
        "id": "XpyqNOZVSMYE",
        "colab": {
          "base_uri": "https://localhost:8080/"
        },
        "outputId": "f9885cec-efd4-49a4-82ff-1bbfaad98b54"
      },
      "outputs": [
        {
          "output_type": "stream",
          "name": "stderr",
          "text": [
            "Downloading: \"https://download.pytorch.org/models/resnet50-0676ba61.pth\" to /root/.cache/torch/hub/checkpoints/resnet50-0676ba61.pth\n",
            "100%|██████████| 97.8M/97.8M [00:00<00:00, 164MB/s]\n",
            "/usr/local/lib/python3.10/dist-packages/torchvision/models/_utils.py:208: UserWarning: The parameter 'pretrained' is deprecated since 0.13 and may be removed in the future, please use 'weights' instead.\n",
            "  warnings.warn(\n",
            "/usr/local/lib/python3.10/dist-packages/torchvision/models/_utils.py:223: UserWarning: Arguments other than a weight enum or `None` for 'weights' are deprecated since 0.13 and may be removed in the future. The current behavior is equivalent to passing `weights=ResNet50_Weights.IMAGENET1K_V1`. You can also use `weights=ResNet50_Weights.DEFAULT` to get the most up-to-date weights.\n",
            "  warnings.warn(msg)\n",
            "/usr/local/lib/python3.10/dist-packages/torchvision/models/_utils.py:135: UserWarning: Using 'weights' as positional parameter(s) is deprecated since 0.13 and may be removed in the future. Please use keyword parameter(s) instead.\n",
            "  warnings.warn(\n",
            "/usr/local/lib/python3.10/dist-packages/torchvision/models/_utils.py:223: UserWarning: Arguments other than a weight enum or `None` for 'weights' are deprecated since 0.13 and may be removed in the future. The current behavior is equivalent to passing `weights=None`.\n",
            "  warnings.warn(msg)\n"
          ]
        },
        {
          "output_type": "execute_result",
          "data": {
            "text/plain": [
              "ResNet(\n",
              "  (conv1): Conv2d(3, 64, kernel_size=(7, 7), stride=(2, 2), padding=(3, 3), bias=False)\n",
              "  (bn1): BatchNorm2d(64, eps=1e-05, momentum=0.1, affine=True, track_running_stats=True)\n",
              "  (relu): ReLU(inplace=True)\n",
              "  (maxpool): MaxPool2d(kernel_size=3, stride=2, padding=1, dilation=1, ceil_mode=False)\n",
              "  (layer1): Sequential(\n",
              "    (0): Bottleneck(\n",
              "      (conv1): Conv2d(64, 64, kernel_size=(1, 1), stride=(1, 1), bias=False)\n",
              "      (bn1): BatchNorm2d(64, eps=1e-05, momentum=0.1, affine=True, track_running_stats=True)\n",
              "      (conv2): Conv2d(64, 64, kernel_size=(3, 3), stride=(1, 1), padding=(1, 1), bias=False)\n",
              "      (bn2): BatchNorm2d(64, eps=1e-05, momentum=0.1, affine=True, track_running_stats=True)\n",
              "      (conv3): Conv2d(64, 256, kernel_size=(1, 1), stride=(1, 1), bias=False)\n",
              "      (bn3): BatchNorm2d(256, eps=1e-05, momentum=0.1, affine=True, track_running_stats=True)\n",
              "      (relu): ReLU(inplace=True)\n",
              "      (downsample): Sequential(\n",
              "        (0): Conv2d(64, 256, kernel_size=(1, 1), stride=(1, 1), bias=False)\n",
              "        (1): BatchNorm2d(256, eps=1e-05, momentum=0.1, affine=True, track_running_stats=True)\n",
              "      )\n",
              "    )\n",
              "    (1): Bottleneck(\n",
              "      (conv1): Conv2d(256, 64, kernel_size=(1, 1), stride=(1, 1), bias=False)\n",
              "      (bn1): BatchNorm2d(64, eps=1e-05, momentum=0.1, affine=True, track_running_stats=True)\n",
              "      (conv2): Conv2d(64, 64, kernel_size=(3, 3), stride=(1, 1), padding=(1, 1), bias=False)\n",
              "      (bn2): BatchNorm2d(64, eps=1e-05, momentum=0.1, affine=True, track_running_stats=True)\n",
              "      (conv3): Conv2d(64, 256, kernel_size=(1, 1), stride=(1, 1), bias=False)\n",
              "      (bn3): BatchNorm2d(256, eps=1e-05, momentum=0.1, affine=True, track_running_stats=True)\n",
              "      (relu): ReLU(inplace=True)\n",
              "    )\n",
              "    (2): Bottleneck(\n",
              "      (conv1): Conv2d(256, 64, kernel_size=(1, 1), stride=(1, 1), bias=False)\n",
              "      (bn1): BatchNorm2d(64, eps=1e-05, momentum=0.1, affine=True, track_running_stats=True)\n",
              "      (conv2): Conv2d(64, 64, kernel_size=(3, 3), stride=(1, 1), padding=(1, 1), bias=False)\n",
              "      (bn2): BatchNorm2d(64, eps=1e-05, momentum=0.1, affine=True, track_running_stats=True)\n",
              "      (conv3): Conv2d(64, 256, kernel_size=(1, 1), stride=(1, 1), bias=False)\n",
              "      (bn3): BatchNorm2d(256, eps=1e-05, momentum=0.1, affine=True, track_running_stats=True)\n",
              "      (relu): ReLU(inplace=True)\n",
              "    )\n",
              "  )\n",
              "  (layer2): Sequential(\n",
              "    (0): Bottleneck(\n",
              "      (conv1): Conv2d(256, 128, kernel_size=(1, 1), stride=(1, 1), bias=False)\n",
              "      (bn1): BatchNorm2d(128, eps=1e-05, momentum=0.1, affine=True, track_running_stats=True)\n",
              "      (conv2): Conv2d(128, 128, kernel_size=(3, 3), stride=(2, 2), padding=(1, 1), bias=False)\n",
              "      (bn2): BatchNorm2d(128, eps=1e-05, momentum=0.1, affine=True, track_running_stats=True)\n",
              "      (conv3): Conv2d(128, 512, kernel_size=(1, 1), stride=(1, 1), bias=False)\n",
              "      (bn3): BatchNorm2d(512, eps=1e-05, momentum=0.1, affine=True, track_running_stats=True)\n",
              "      (relu): ReLU(inplace=True)\n",
              "      (downsample): Sequential(\n",
              "        (0): Conv2d(256, 512, kernel_size=(1, 1), stride=(2, 2), bias=False)\n",
              "        (1): BatchNorm2d(512, eps=1e-05, momentum=0.1, affine=True, track_running_stats=True)\n",
              "      )\n",
              "    )\n",
              "    (1): Bottleneck(\n",
              "      (conv1): Conv2d(512, 128, kernel_size=(1, 1), stride=(1, 1), bias=False)\n",
              "      (bn1): BatchNorm2d(128, eps=1e-05, momentum=0.1, affine=True, track_running_stats=True)\n",
              "      (conv2): Conv2d(128, 128, kernel_size=(3, 3), stride=(1, 1), padding=(1, 1), bias=False)\n",
              "      (bn2): BatchNorm2d(128, eps=1e-05, momentum=0.1, affine=True, track_running_stats=True)\n",
              "      (conv3): Conv2d(128, 512, kernel_size=(1, 1), stride=(1, 1), bias=False)\n",
              "      (bn3): BatchNorm2d(512, eps=1e-05, momentum=0.1, affine=True, track_running_stats=True)\n",
              "      (relu): ReLU(inplace=True)\n",
              "    )\n",
              "    (2): Bottleneck(\n",
              "      (conv1): Conv2d(512, 128, kernel_size=(1, 1), stride=(1, 1), bias=False)\n",
              "      (bn1): BatchNorm2d(128, eps=1e-05, momentum=0.1, affine=True, track_running_stats=True)\n",
              "      (conv2): Conv2d(128, 128, kernel_size=(3, 3), stride=(1, 1), padding=(1, 1), bias=False)\n",
              "      (bn2): BatchNorm2d(128, eps=1e-05, momentum=0.1, affine=True, track_running_stats=True)\n",
              "      (conv3): Conv2d(128, 512, kernel_size=(1, 1), stride=(1, 1), bias=False)\n",
              "      (bn3): BatchNorm2d(512, eps=1e-05, momentum=0.1, affine=True, track_running_stats=True)\n",
              "      (relu): ReLU(inplace=True)\n",
              "    )\n",
              "    (3): Bottleneck(\n",
              "      (conv1): Conv2d(512, 128, kernel_size=(1, 1), stride=(1, 1), bias=False)\n",
              "      (bn1): BatchNorm2d(128, eps=1e-05, momentum=0.1, affine=True, track_running_stats=True)\n",
              "      (conv2): Conv2d(128, 128, kernel_size=(3, 3), stride=(1, 1), padding=(1, 1), bias=False)\n",
              "      (bn2): BatchNorm2d(128, eps=1e-05, momentum=0.1, affine=True, track_running_stats=True)\n",
              "      (conv3): Conv2d(128, 512, kernel_size=(1, 1), stride=(1, 1), bias=False)\n",
              "      (bn3): BatchNorm2d(512, eps=1e-05, momentum=0.1, affine=True, track_running_stats=True)\n",
              "      (relu): ReLU(inplace=True)\n",
              "    )\n",
              "  )\n",
              "  (layer3): Sequential(\n",
              "    (0): Bottleneck(\n",
              "      (conv1): Conv2d(512, 256, kernel_size=(1, 1), stride=(1, 1), bias=False)\n",
              "      (bn1): BatchNorm2d(256, eps=1e-05, momentum=0.1, affine=True, track_running_stats=True)\n",
              "      (conv2): Conv2d(256, 256, kernel_size=(3, 3), stride=(2, 2), padding=(1, 1), bias=False)\n",
              "      (bn2): BatchNorm2d(256, eps=1e-05, momentum=0.1, affine=True, track_running_stats=True)\n",
              "      (conv3): Conv2d(256, 1024, kernel_size=(1, 1), stride=(1, 1), bias=False)\n",
              "      (bn3): BatchNorm2d(1024, eps=1e-05, momentum=0.1, affine=True, track_running_stats=True)\n",
              "      (relu): ReLU(inplace=True)\n",
              "      (downsample): Sequential(\n",
              "        (0): Conv2d(512, 1024, kernel_size=(1, 1), stride=(2, 2), bias=False)\n",
              "        (1): BatchNorm2d(1024, eps=1e-05, momentum=0.1, affine=True, track_running_stats=True)\n",
              "      )\n",
              "    )\n",
              "    (1): Bottleneck(\n",
              "      (conv1): Conv2d(1024, 256, kernel_size=(1, 1), stride=(1, 1), bias=False)\n",
              "      (bn1): BatchNorm2d(256, eps=1e-05, momentum=0.1, affine=True, track_running_stats=True)\n",
              "      (conv2): Conv2d(256, 256, kernel_size=(3, 3), stride=(1, 1), padding=(1, 1), bias=False)\n",
              "      (bn2): BatchNorm2d(256, eps=1e-05, momentum=0.1, affine=True, track_running_stats=True)\n",
              "      (conv3): Conv2d(256, 1024, kernel_size=(1, 1), stride=(1, 1), bias=False)\n",
              "      (bn3): BatchNorm2d(1024, eps=1e-05, momentum=0.1, affine=True, track_running_stats=True)\n",
              "      (relu): ReLU(inplace=True)\n",
              "    )\n",
              "    (2): Bottleneck(\n",
              "      (conv1): Conv2d(1024, 256, kernel_size=(1, 1), stride=(1, 1), bias=False)\n",
              "      (bn1): BatchNorm2d(256, eps=1e-05, momentum=0.1, affine=True, track_running_stats=True)\n",
              "      (conv2): Conv2d(256, 256, kernel_size=(3, 3), stride=(1, 1), padding=(1, 1), bias=False)\n",
              "      (bn2): BatchNorm2d(256, eps=1e-05, momentum=0.1, affine=True, track_running_stats=True)\n",
              "      (conv3): Conv2d(256, 1024, kernel_size=(1, 1), stride=(1, 1), bias=False)\n",
              "      (bn3): BatchNorm2d(1024, eps=1e-05, momentum=0.1, affine=True, track_running_stats=True)\n",
              "      (relu): ReLU(inplace=True)\n",
              "    )\n",
              "    (3): Bottleneck(\n",
              "      (conv1): Conv2d(1024, 256, kernel_size=(1, 1), stride=(1, 1), bias=False)\n",
              "      (bn1): BatchNorm2d(256, eps=1e-05, momentum=0.1, affine=True, track_running_stats=True)\n",
              "      (conv2): Conv2d(256, 256, kernel_size=(3, 3), stride=(1, 1), padding=(1, 1), bias=False)\n",
              "      (bn2): BatchNorm2d(256, eps=1e-05, momentum=0.1, affine=True, track_running_stats=True)\n",
              "      (conv3): Conv2d(256, 1024, kernel_size=(1, 1), stride=(1, 1), bias=False)\n",
              "      (bn3): BatchNorm2d(1024, eps=1e-05, momentum=0.1, affine=True, track_running_stats=True)\n",
              "      (relu): ReLU(inplace=True)\n",
              "    )\n",
              "    (4): Bottleneck(\n",
              "      (conv1): Conv2d(1024, 256, kernel_size=(1, 1), stride=(1, 1), bias=False)\n",
              "      (bn1): BatchNorm2d(256, eps=1e-05, momentum=0.1, affine=True, track_running_stats=True)\n",
              "      (conv2): Conv2d(256, 256, kernel_size=(3, 3), stride=(1, 1), padding=(1, 1), bias=False)\n",
              "      (bn2): BatchNorm2d(256, eps=1e-05, momentum=0.1, affine=True, track_running_stats=True)\n",
              "      (conv3): Conv2d(256, 1024, kernel_size=(1, 1), stride=(1, 1), bias=False)\n",
              "      (bn3): BatchNorm2d(1024, eps=1e-05, momentum=0.1, affine=True, track_running_stats=True)\n",
              "      (relu): ReLU(inplace=True)\n",
              "    )\n",
              "    (5): Bottleneck(\n",
              "      (conv1): Conv2d(1024, 256, kernel_size=(1, 1), stride=(1, 1), bias=False)\n",
              "      (bn1): BatchNorm2d(256, eps=1e-05, momentum=0.1, affine=True, track_running_stats=True)\n",
              "      (conv2): Conv2d(256, 256, kernel_size=(3, 3), stride=(1, 1), padding=(1, 1), bias=False)\n",
              "      (bn2): BatchNorm2d(256, eps=1e-05, momentum=0.1, affine=True, track_running_stats=True)\n",
              "      (conv3): Conv2d(256, 1024, kernel_size=(1, 1), stride=(1, 1), bias=False)\n",
              "      (bn3): BatchNorm2d(1024, eps=1e-05, momentum=0.1, affine=True, track_running_stats=True)\n",
              "      (relu): ReLU(inplace=True)\n",
              "    )\n",
              "  )\n",
              "  (layer4): Sequential(\n",
              "    (0): Bottleneck(\n",
              "      (conv1): Conv2d(1024, 512, kernel_size=(1, 1), stride=(1, 1), bias=False)\n",
              "      (bn1): BatchNorm2d(512, eps=1e-05, momentum=0.1, affine=True, track_running_stats=True)\n",
              "      (conv2): Conv2d(512, 512, kernel_size=(3, 3), stride=(2, 2), padding=(1, 1), bias=False)\n",
              "      (bn2): BatchNorm2d(512, eps=1e-05, momentum=0.1, affine=True, track_running_stats=True)\n",
              "      (conv3): Conv2d(512, 2048, kernel_size=(1, 1), stride=(1, 1), bias=False)\n",
              "      (bn3): BatchNorm2d(2048, eps=1e-05, momentum=0.1, affine=True, track_running_stats=True)\n",
              "      (relu): ReLU(inplace=True)\n",
              "      (downsample): Sequential(\n",
              "        (0): Conv2d(1024, 2048, kernel_size=(1, 1), stride=(2, 2), bias=False)\n",
              "        (1): BatchNorm2d(2048, eps=1e-05, momentum=0.1, affine=True, track_running_stats=True)\n",
              "      )\n",
              "    )\n",
              "    (1): Bottleneck(\n",
              "      (conv1): Conv2d(2048, 512, kernel_size=(1, 1), stride=(1, 1), bias=False)\n",
              "      (bn1): BatchNorm2d(512, eps=1e-05, momentum=0.1, affine=True, track_running_stats=True)\n",
              "      (conv2): Conv2d(512, 512, kernel_size=(3, 3), stride=(1, 1), padding=(1, 1), bias=False)\n",
              "      (bn2): BatchNorm2d(512, eps=1e-05, momentum=0.1, affine=True, track_running_stats=True)\n",
              "      (conv3): Conv2d(512, 2048, kernel_size=(1, 1), stride=(1, 1), bias=False)\n",
              "      (bn3): BatchNorm2d(2048, eps=1e-05, momentum=0.1, affine=True, track_running_stats=True)\n",
              "      (relu): ReLU(inplace=True)\n",
              "    )\n",
              "    (2): Bottleneck(\n",
              "      (conv1): Conv2d(2048, 512, kernel_size=(1, 1), stride=(1, 1), bias=False)\n",
              "      (bn1): BatchNorm2d(512, eps=1e-05, momentum=0.1, affine=True, track_running_stats=True)\n",
              "      (conv2): Conv2d(512, 512, kernel_size=(3, 3), stride=(1, 1), padding=(1, 1), bias=False)\n",
              "      (bn2): BatchNorm2d(512, eps=1e-05, momentum=0.1, affine=True, track_running_stats=True)\n",
              "      (conv3): Conv2d(512, 2048, kernel_size=(1, 1), stride=(1, 1), bias=False)\n",
              "      (bn3): BatchNorm2d(2048, eps=1e-05, momentum=0.1, affine=True, track_running_stats=True)\n",
              "      (relu): ReLU(inplace=True)\n",
              "    )\n",
              "  )\n",
              "  (avgpool): AdaptiveAvgPool2d(output_size=(1, 1))\n",
              "  (fc): Linear(in_features=2048, out_features=1000, bias=True)\n",
              ")"
            ]
          },
          "metadata": {},
          "execution_count": 29
        }
      ],
      "source": [
        "from torchvision.models import resnet50, ResNet50_Weights\n",
        "\n",
        "# Using pretrained weights:\n",
        "resnet50(weights=ResNet50_Weights.IMAGENET1K_V1)\n",
        "resnet50(weights=\"IMAGENET1K_V1\")\n",
        "resnet50(pretrained=True)  # deprecated\n",
        "resnet50(True)  # deprecated\n",
        "\n",
        "# Using no weights:\n",
        "resnet50(weights=None)\n",
        "resnet50()\n",
        "resnet50(pretrained=False)  # deprecated\n",
        "resnet50(False)  # deprecated"
      ]
    },
    {
      "cell_type": "code",
      "execution_count": 30,
      "metadata": {
        "colab": {
          "base_uri": "https://localhost:8080/",
          "height": 259
        },
        "id": "feu3XU09SRL6",
        "outputId": "c342a3a8-7aae-4d4a-bc46-fcdee02d3330"
      },
      "outputs": [
        {
          "output_type": "stream",
          "name": "stdout",
          "text": [
            "Mounted at /content/drive\n"
          ]
        },
        {
          "output_type": "display_data",
          "data": {
            "text/plain": [
              "<PIL.Image.Image image mode=RGB size=224x224>"
            ],
            "image/png": "[encoded data removed]",
            "image/jpeg": "[encoded data removed]"
          },
          "metadata": {}
        }
      ],
      "source": [
        "import numpy as np\n",
        "from PIL import Image\n",
        "import IPython.display\n",
        "from google.colab import drive\n",
        "import os\n",
        "\n",
        "drive.mount('/content/drive', force_remount=True)\n",
        "image_path = '/content/drive/My Drive/Colab Notebooks/cat.jpg'\n",
        "\n",
        "im = Image.open(image_path)\n",
        "im_resized = im.resize((224, 224))\n",
        "IPython.display.display(im_resized)\n"
      ]
    },
    {
      "cell_type": "code",
      "execution_count": 31,
      "metadata": {
        "id": "UCelF4b84AX1",
        "colab": {
          "base_uri": "https://localhost:8080/"
        },
        "outputId": "400376f6-de9e-48c8-87a5-599fe15d19c5"
      },
      "outputs": [
        {
          "output_type": "stream",
          "name": "stdout",
          "text": [
            "torch.Size([1, 3, 224, 224])\n",
            "[818]\n"
          ]
        }
      ],
      "source": [
        "# przygotowanie obrazka\n",
        "im_numpy = np.array(im.resize((224, 224)))  # rozmiar który przyjmuje ResNet\n",
        "im_torch = torch.Tensor(im_numpy).permute(2, 0, 1).unsqueeze(0)\n",
        "\n",
        "# załadowanie pretrenowanego modelu i jego inferencja\n",
        "from torchvision.models import resnet50, ResNet50_Weights\n",
        "weights = ResNet50_Weights.IMAGENET1K_V1\n",
        "model = resnet50(weights=weights)\n",
        "model.eval()\n",
        "\n",
        "print(im_torch.shape)\n",
        "pred = model(im_torch)\n",
        "\n",
        "# pobranie wyniku z sieci neuronowej\n",
        "print(torch.argmax(pred, -1).numpy())"
      ]
    },
    {
      "cell_type": "markdown",
      "metadata": {
        "id": "M2mA5jOM-CR9"
      },
      "source": [
        "Zgodnie z klasami zawartymi w zbiorze danych ImageNet, odpowiedź 284 oznacza \"Kot syjamski\".\n",
        "\n",
        "Przykładowe klasy:\n",
        "\n",
        "* 21: 'kite',\n",
        "* 22: 'bald eagle, American eagle, Haliaeetus leucocephalus',\n",
        "* 23: 'vulture',\n",
        "* 243: 'bull mastiff',\n",
        "* 244: 'Tibetan mastiff',\n",
        "* 245: 'French bulldog',\n",
        "* 282: 'tiger cat',\n",
        "* 283: 'Persian cat',\n",
        "* 284: 'Siamese cat, Siamese',\n",
        "* 285: 'Egyptian cat',\n",
        "\n",
        "Wszystkie obecne w ImageNet klasy: [link](https://gist.github.com/yrevar/942d3a0ac09ec9e5eb3a)"
      ]
    },
    {
      "cell_type": "markdown",
      "metadata": {
        "id": "X__La7lM-VXh"
      },
      "source": [
        "#### Zadanie 3\n",
        "\n",
        "Spróbuj wykorzystać dowolną inną pretrenowaną sieć neuronową, zgodnie z powyższym schematem. Możesz spróbować załadować inny obraz.\n",
        "\n",
        "Dostępne pretrenowane modele: [link](https://www.tensorflow.org/api_docs/python/tf/keras/applications)\n",
        "\n",
        "**Uwaga:** zwróć uwagę na rozmiary danych, które przyjmują poszczególne sieci neuronowe. Pełna dokumentacja, wraz z rozmiarami znajduje się pod [linkiem](https://keras.io/applications/)."
      ]
    },
    {
      "cell_type": "code",
      "execution_count": 32,
      "metadata": {
        "id": "hFNQQ8cr-qra",
        "colab": {
          "base_uri": "https://localhost:8080/"
        },
        "outputId": "62be87a8-aba1-4722-8862-4b8812140f6e"
      },
      "outputs": [
        {
          "output_type": "stream",
          "name": "stderr",
          "text": [
            "Downloading: \"https://download.pytorch.org/models/efficientnet_b0_rwightman-7f5810bc.pth\" to /root/.cache/torch/hub/checkpoints/efficientnet_b0_rwightman-7f5810bc.pth\n",
            "100%|██████████| 20.5M/20.5M [00:00<00:00, 220MB/s]\n"
          ]
        },
        {
          "output_type": "stream",
          "name": "stdout",
          "text": [
            "Predicted class ID: 282\n",
            "Predicted class name: tiger cat\n"
          ]
        }
      ],
      "source": [
        "from torchvision.models import efficientnet_b0, EfficientNet_B0_Weights\n",
        "\n",
        "im_numpy = np.array(im.resize((224, 224)))  # Rozmiar akceptowany przez EfficientNet\n",
        "im_torch = torch.Tensor(im_numpy).permute(2, 0, 1).unsqueeze(0) / 255.0  # Normalizacja 0-1\n",
        "\n",
        "weights = EfficientNet_B0_Weights.IMAGENET1K_V1\n",
        "model = efficientnet_b0(weights=weights)\n",
        "model.eval()\n",
        "\n",
        "pred = model(im_torch)\n",
        "\n",
        "# Pobranie wyniku z sieci neuronowej\n",
        "class_id = torch.argmax(pred, -1).item()\n",
        "class_name = weights.meta[\"categories\"][class_id]\n",
        "\n",
        "# Wyświetlenie klasyfikacji\n",
        "print(f\"Predicted class ID: {class_id}\")\n",
        "print(f\"Predicted class name: {class_name}\")"
      ]
    }
  ],
  "metadata": {
    "colab": {
      "provenance": [],
      "gpuType": "T4"
    },
    "kernelspec": {
      "display_name": "Python 3",
      "name": "python3"
    },
    "language_info": {
      "codemirror_mode": {
        "name": "ipython",
        "version": 3
      },
      "file_extension": ".py",
      "mimetype": "text/x-python",
      "name": "python",
      "nbconvert_exporter": "python",
      "pygments_lexer": "ipython3",
      "version": "3.10.5"
    },
    "accelerator": "GPU"
  },
  "nbformat": 4,
  "nbformat_minor": 0
}