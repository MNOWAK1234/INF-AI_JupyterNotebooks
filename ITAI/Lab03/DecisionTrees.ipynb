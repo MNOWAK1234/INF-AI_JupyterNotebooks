{
 "cells": [
  {
   "cell_type": "code",
   "execution_count": 1,
   "metadata": {},
   "outputs": [],
   "source": [
    "import numpy as np\n",
    "import math\n",
    "import matplotlib.pyplot as plt \n",
    "import pandas as pd\n",
    "import common as cm"
   ]
  },
  {
   "cell_type": "markdown",
   "metadata": {},
   "source": [
    "# Part 1: Information Gain"
   ]
  },
  {
   "cell_type": "markdown",
   "metadata": {},
   "source": [
    "Important note: this exercise uses Pandas (for data manipulation and analysis) and Graphviz (for graph-drawing) libraries. "
   ]
  },
  {
   "cell_type": "markdown",
   "metadata": {},
   "source": [
    "This exercise consists of 3 parts. Complete the first part to get a mark of 3.0, the first two parts to get 4.0, complete all assignments to get 5.0. "
   ]
  },
  {
   "cell_type": "markdown",
   "metadata": {},
   "source": [
    "1.1 ) There are 10 objects (data) characterized with 5 binary attributes:"
   ]
  },
  {
   "cell_type": "code",
   "execution_count": 2,
   "metadata": {},
   "outputs": [],
   "source": [
    "attributeNames = [\"attr 1\", \"attr 2\", \"attr 3\", \"attr 4\", \"attr 5\"]\n",
    "\n",
    "data = pd.DataFrame(\n",
    "    [\n",
    "        [1, 0, 1, 1, 1],\n",
    "        [1, 1, 0, 0, 1],\n",
    "        [0, 1, 1, 1, 1],\n",
    "        [1, 0, 1, 0, 1],\n",
    "        [1, 0, 0, 1, 1],\n",
    "        [0, 0, 1, 1, 1],\n",
    "        [1, 1, 1, 1, 1],\n",
    "        [1, 0, 0, 1, 1],\n",
    "        [0, 1, 0, 0, 1],\n",
    "        [0, 0, 0, 1, 1],\n",
    "    ],\n",
    "    columns=attributeNames,\n",
    ")"
   ]
  },
  {
   "cell_type": "markdown",
   "metadata": {},
   "source": [
    "1.2) Each object is assigned to either a class \"0\" or \"1\". The assignments are as follows (cl):"
   ]
  },
  {
   "cell_type": "code",
   "execution_count": 3,
   "metadata": {},
   "outputs": [],
   "source": [
    "data[\"cl\"] = [1, 1, 1, 0, 0, 1, 1, 1, 0, 0]"
   ]
  },
  {
   "cell_type": "markdown",
   "metadata": {},
   "source": [
    "Hint: How one can read data (columns) in Pandas:"
   ]
  },
  {
   "cell_type": "code",
   "execution_count": 4,
   "metadata": {},
   "outputs": [
    {
     "name": "stdout",
     "output_type": "stream",
     "text": [
      "0    1\n",
      "1    1\n",
      "2    1\n",
      "3    0\n",
      "4    0\n",
      "5    1\n",
      "6    1\n",
      "7    1\n",
      "8    0\n",
      "9    0\n",
      "Name: cl, dtype: int64\n",
      "[1, 1, 1, 0, 0, 1, 1, 1, 0, 0]\n",
      "{0, 1}\n",
      "0    1\n",
      "1    1\n",
      "2    0\n",
      "3    1\n",
      "4    1\n",
      "5    0\n",
      "6    1\n",
      "7    1\n",
      "8    0\n",
      "9    0\n",
      "Name: attr 1, dtype: int64\n"
     ]
    }
   ],
   "source": [
    "print(data[\"cl\"])\n",
    "print(list(data[\"cl\"]))\n",
    "print(set(data[\"cl\"]))\n",
    "print(data[\"attr 1\"])"
   ]
  },
  {
   "cell_type": "markdown",
   "metadata": {},
   "source": [
    "Hint: How split data (Pandas DataFrame) base on column:"
   ]
  },
  {
   "cell_type": "code",
   "execution_count": 5,
   "metadata": {},
   "outputs": [
    {
     "data": {
      "text/html": [
       "<div>\n",
       "<style scoped>\n",
       "    .dataframe tbody tr th:only-of-type {\n",
       "        vertical-align: middle;\n",
       "    }\n",
       "\n",
       "    .dataframe tbody tr th {\n",
       "        vertical-align: top;\n",
       "    }\n",
       "\n",
       "    .dataframe thead th {\n",
       "        text-align: right;\n",
       "    }\n",
       "</style>\n",
       "<table border=\"1\" class=\"dataframe\">\n",
       "  <thead>\n",
       "    <tr style=\"text-align: right;\">\n",
       "      <th></th>\n",
       "      <th>attr 1</th>\n",
       "      <th>attr 2</th>\n",
       "      <th>attr 3</th>\n",
       "      <th>attr 4</th>\n",
       "      <th>attr 5</th>\n",
       "      <th>cl</th>\n",
       "    </tr>\n",
       "  </thead>\n",
       "  <tbody>\n",
       "    <tr>\n",
       "      <th>3</th>\n",
       "      <td>1</td>\n",
       "      <td>0</td>\n",
       "      <td>1</td>\n",
       "      <td>0</td>\n",
       "      <td>1</td>\n",
       "      <td>0</td>\n",
       "    </tr>\n",
       "    <tr>\n",
       "      <th>4</th>\n",
       "      <td>1</td>\n",
       "      <td>0</td>\n",
       "      <td>0</td>\n",
       "      <td>1</td>\n",
       "      <td>1</td>\n",
       "      <td>0</td>\n",
       "    </tr>\n",
       "    <tr>\n",
       "      <th>8</th>\n",
       "      <td>0</td>\n",
       "      <td>1</td>\n",
       "      <td>0</td>\n",
       "      <td>0</td>\n",
       "      <td>1</td>\n",
       "      <td>0</td>\n",
       "    </tr>\n",
       "    <tr>\n",
       "      <th>9</th>\n",
       "      <td>0</td>\n",
       "      <td>0</td>\n",
       "      <td>0</td>\n",
       "      <td>1</td>\n",
       "      <td>1</td>\n",
       "      <td>0</td>\n",
       "    </tr>\n",
       "  </tbody>\n",
       "</table>\n",
       "</div>"
      ],
      "text/plain": [
       "   attr 1  attr 2  attr 3  attr 4  attr 5  cl\n",
       "3       1       0       1       0       1   0\n",
       "4       1       0       0       1       1   0\n",
       "8       0       1       0       0       1   0\n",
       "9       0       0       0       1       1   0"
      ]
     },
     "execution_count": 5,
     "metadata": {},
     "output_type": "execute_result"
    }
   ],
   "source": [
    "data[data['cl']==0]"
   ]
  },
  {
   "cell_type": "markdown",
   "metadata": {},
   "source": [
    "Hint: How take values from column (Pandas Series):"
   ]
  },
  {
   "cell_type": "code",
   "execution_count": 6,
   "metadata": {},
   "outputs": [
    {
     "name": "stdout",
     "output_type": "stream",
     "text": [
      "0 1\n",
      "1 1\n",
      "2 1\n",
      "3 0\n",
      "4 0\n",
      "5 1\n",
      "6 1\n",
      "7 1\n",
      "8 0\n",
      "9 0\n"
     ]
    }
   ],
   "source": [
    "for id, row in data['cl'].items():\n",
    "    print(id,row)"
   ]
  },
  {
   "cell_type": "markdown",
   "metadata": {},
   "source": [
    "1.3 )  Finish the below function for calculating entropy. $H(CL) = - \\sum_{y \\in CL}p(y)log_2p(y)$ It should return a value of entropy for an input vector CL. Assume that $log_2(0)$ is equal to 0."
   ]
  },
  {
   "cell_type": "code",
   "execution_count": 7,
   "metadata": {},
   "outputs": [],
   "source": [
    "def getEntropy(cl):\n",
    "    if(len(cl) == 0):\n",
    "        return 0\n",
    "    zeros = 0\n",
    "    ones = 0\n",
    "    for i in cl:\n",
    "        if(i==0):\n",
    "            zeros+=1\n",
    "        else:\n",
    "            ones+=1\n",
    "    sum = zeros + ones\n",
    "    p0 = zeros/sum\n",
    "    p1 = ones/sum\n",
    "    #Omit the log(0) scenario\n",
    "    if(p0==0 or p1==0):\n",
    "        return 0\n",
    "    else:\n",
    "        entropy = - (p0*math.log(p0, 2) + p1*math.log(p1, 2))\n",
    "        return entropy "
   ]
  },
  {
   "cell_type": "markdown",
   "metadata": {},
   "source": [
    "1.4 ) Calculate the entropy for the CL vector  (the result should be 0.97095...):"
   ]
  },
  {
   "cell_type": "code",
   "execution_count": 8,
   "metadata": {},
   "outputs": [
    {
     "name": "stdout",
     "output_type": "stream",
     "text": [
      "0.9709505944546686\n"
     ]
    }
   ],
   "source": [
    "print(getEntropy(data['cl']))"
   ]
  },
  {
   "cell_type": "markdown",
   "metadata": {},
   "source": [
    "1.5) Finish the below function for calculating a conditional entropy: $H(CL|X) = - \\sum_{x \\in X} \\sum_{y \\in CL} p(x,y) log_2 \\frac{p(x,y)}{p(x)}$. Assume that $log_2(0)$ is equal to 0 and if $p(x) = 0$, $\\frac{p(x,y)}{p(x)}$ is equal to 0 as well."
   ]
  },
  {
   "cell_type": "code",
   "execution_count": 9,
   "metadata": {},
   "outputs": [],
   "source": [
    "def getConditionalEntropy(cl, attr):\n",
    "    size = len(cl)\n",
    "    frame = pd.DataFrame()\n",
    "    frame[\"cl\"] = cl\n",
    "    frame[\"attr\"] = attr\n",
    "    zeroFrame = frame[frame['attr'] == 0]\n",
    "    oneFrame = frame[frame['attr'] == 1]\n",
    "    p0 = len(zeroFrame) / size\n",
    "    p1 = len(oneFrame) / size\n",
    "    entropy = p0 * getEntropy(zeroFrame[\"cl\"]) + p1 * getEntropy(oneFrame[\"cl\"])\n",
    "    return entropy\n",
    "    \n",
    "    ### return 0"
   ]
  },
  {
   "cell_type": "markdown",
   "metadata": {},
   "source": [
    "1.6 ) Calculate conditional entropies for given attribiutes."
   ]
  },
  {
   "cell_type": "code",
   "execution_count": 10,
   "metadata": {},
   "outputs": [
    {
     "name": "stdout",
     "output_type": "stream",
     "text": [
      "0.9509775004326937\n",
      "0.9709505944546686\n"
     ]
    }
   ],
   "source": [
    "print(getConditionalEntropy(data[\"cl\"], data[\"attr 1\"])) ### the result should be 0.95097...\n",
    "print(getConditionalEntropy(data[\"cl\"], data[\"attr 5\"])) ### the result should be 0.97095..."
   ]
  },
  {
   "cell_type": "markdown",
   "metadata": {},
   "source": [
    "1.7 ) **Question: Which entropy is lesser and why?**"
   ]
  },
  {
   "cell_type": "markdown",
   "metadata": {},
   "source": [
    "Answer: The conditional entropy for attribute 1 is slightly lesser, because it divides the data into slightly more ordered subsets. (Actually attribute 5 doesn't divide at all since it contains all '1's). However, as we will see in the following exercise, the information gain is still mariginal."
   ]
  },
  {
   "cell_type": "markdown",
   "metadata": {},
   "source": [
    "1.8) Finish the below function for calculating information gain (use getEntropy() and getConditionalEntropy() functions):"
   ]
  },
  {
   "cell_type": "code",
   "execution_count": 11,
   "metadata": {},
   "outputs": [],
   "source": [
    "def getInformationGain(cl, attr):\n",
    "    return getEntropy(cl) - getConditionalEntropy(cl, attr)"
   ]
  },
  {
   "cell_type": "code",
   "execution_count": 12,
   "metadata": {},
   "outputs": [
    {
     "name": "stdout",
     "output_type": "stream",
     "text": [
      "0.01997309402197489\n",
      "0.0\n"
     ]
    }
   ],
   "source": [
    "print(getInformationGain(data[\"cl\"], data[\"attr 1\"]))\n",
    "print(getInformationGain(data[\"cl\"], data[\"attr 5\"]))"
   ]
  },
  {
   "cell_type": "markdown",
   "metadata": {},
   "source": [
    "1.9) **Question: Which IG is lesser and why?**"
   ]
  },
  {
   "cell_type": "markdown",
   "metadata": {},
   "source": [
    "Answer: Information Gain for attribute 5 is lesser (0.0), since this particular attribute doesn't help in ordering the dataset. Every item in the data has the same value for attribute 5. <br>\n",
    "IG for attribute 1 isn't a lot as well, but at least it slightly helps with ordering."
   ]
  },
  {
   "cell_type": "markdown",
   "metadata": {},
   "source": [
    "# Part 2: ID3 algorithm"
   ]
  },
  {
   "cell_type": "markdown",
   "metadata": {},
   "source": [
    "Decision tree consists of decision nodes and leaves. Nodes split data while leaves classify objects. Consider the class \"Node\" provided below. It consists of 4 fields:\n",
    "- attr - attribute ID (use the names in attributeNames vector)\n",
    "- left - left branch, i.e., a reference to other node\n",
    "- right - right branch, i.e., a reference to other node\n",
    "- value - a decision. If node = None, then the node is not a leaf. If value is not None, then a node is considered a leaf. \n",
    "\n",
    "Method __call__ returns the decision if the node is a leaf (i.e., when value is not None). \n",
    "Otherwise, it calls either the left or the right branch of an input object, based on the attribute value (0 -> left children; 1 -> right children). In this way, we can traverse the decision tree in order to find the final decision."
   ]
  },
  {
   "cell_type": "code",
   "execution_count": 13,
   "metadata": {},
   "outputs": [
    {
     "data": {
      "image/svg+xml": [
       "<?xml version=\"1.0\" encoding=\"UTF-8\" standalone=\"no\"?>\n",
       "<!DOCTYPE svg PUBLIC \"-//W3C//DTD SVG 1.1//EN\"\n",
       " \"http://www.w3.org/Graphics/SVG/1.1/DTD/svg11.dtd\">\n",
       "<!-- Generated by graphviz version 9.0.0 (20230911.1827)\n",
       " -->\n",
       "<!-- Pages: 1 -->\n",
       "<svg width=\"287pt\" height=\"413pt\"\n",
       " viewBox=\"0.00 0.00 287.12 412.73\" xmlns=\"http://www.w3.org/2000/svg\" xmlns:xlink=\"http://www.w3.org/1999/xlink\">\n",
       "<g id=\"graph0\" class=\"graph\" transform=\"scale(1 1) rotate(0) translate(4 408.73)\">\n",
       "<polygon fill=\"white\" stroke=\"none\" points=\"-4,4 -4,-408.73 283.12,-408.73 283.12,4 -4,4\"/>\n",
       "<!-- 0 -->\n",
       "<g id=\"node1\" class=\"node\">\n",
       "<title>0</title>\n",
       "<ellipse fill=\"yellow\" stroke=\"black\" cx=\"169.56\" cy=\"-354.52\" rx=\"50.56\" ry=\"50.2\"/>\n",
       "<text text-anchor=\"middle\" x=\"169.56\" y=\"-372.72\" font-family=\"Times New Roman,serif\" font-size=\"14.00\">node id: 0</text>\n",
       "<text text-anchor=\"middle\" x=\"169.56\" y=\"-356.97\" font-family=\"Times New Roman,serif\" font-size=\"14.00\">attr 1</text>\n",
       "<text text-anchor=\"middle\" x=\"169.56\" y=\"-341.22\" font-family=\"Times New Roman,serif\" font-size=\"14.00\">cl 0: 4</text>\n",
       "<text text-anchor=\"middle\" x=\"169.56\" y=\"-325.47\" font-family=\"Times New Roman,serif\" font-size=\"14.00\">cl 1: 6</text>\n",
       "</g>\n",
       "<!-- 1 -->\n",
       "<g id=\"node2\" class=\"node\">\n",
       "<title>1</title>\n",
       "<ellipse fill=\"yellow\" stroke=\"black\" cx=\"109.56\" cy=\"-202.36\" rx=\"50.56\" ry=\"50.2\"/>\n",
       "<text text-anchor=\"middle\" x=\"109.56\" y=\"-220.56\" font-family=\"Times New Roman,serif\" font-size=\"14.00\">node id: 1</text>\n",
       "<text text-anchor=\"middle\" x=\"109.56\" y=\"-204.81\" font-family=\"Times New Roman,serif\" font-size=\"14.00\">attr 2</text>\n",
       "<text text-anchor=\"middle\" x=\"109.56\" y=\"-189.06\" font-family=\"Times New Roman,serif\" font-size=\"14.00\">cl 0: 2</text>\n",
       "<text text-anchor=\"middle\" x=\"109.56\" y=\"-173.31\" font-family=\"Times New Roman,serif\" font-size=\"14.00\">cl 1: 2</text>\n",
       "</g>\n",
       "<!-- 0&#45;&gt;1 -->\n",
       "<g id=\"edge3\" class=\"edge\">\n",
       "<title>0&#45;&gt;1</title>\n",
       "<path fill=\"none\" stroke=\"black\" d=\"M151.23,-307.65C145.24,-292.66 138.51,-275.82 132.24,-260.12\"/>\n",
       "<polygon fill=\"black\" stroke=\"black\" points=\"135.5,-258.86 128.54,-250.87 129,-261.46 135.5,-258.86\"/>\n",
       "<text text-anchor=\"middle\" x=\"144.93\" y=\"-273.02\" font-family=\"Times New Roman,serif\" font-size=\"14.00\">0</text>\n",
       "</g>\n",
       "<!-- 2 -->\n",
       "<g id=\"node5\" class=\"node\">\n",
       "<title>2</title>\n",
       "<ellipse fill=\"red\" stroke=\"black\" cx=\"228.56\" cy=\"-202.36\" rx=\"50.56\" ry=\"50.2\"/>\n",
       "<text text-anchor=\"middle\" x=\"228.56\" y=\"-220.56\" font-family=\"Times New Roman,serif\" font-size=\"14.00\">node id: 2</text>\n",
       "<text text-anchor=\"middle\" x=\"228.56\" y=\"-204.81\" font-family=\"Times New Roman,serif\" font-size=\"14.00\">cl = 2</text>\n",
       "<text text-anchor=\"middle\" x=\"228.56\" y=\"-189.06\" font-family=\"Times New Roman,serif\" font-size=\"14.00\">cl 0: 2</text>\n",
       "<text text-anchor=\"middle\" x=\"228.56\" y=\"-173.31\" font-family=\"Times New Roman,serif\" font-size=\"14.00\">cl 1: 4</text>\n",
       "</g>\n",
       "<!-- 0&#45;&gt;2 -->\n",
       "<g id=\"edge4\" class=\"edge\">\n",
       "<title>0&#45;&gt;2</title>\n",
       "<path fill=\"none\" stroke=\"black\" d=\"M187.74,-307.24C193.6,-292.33 200.16,-275.63 206.28,-260.06\"/>\n",
       "<polygon fill=\"black\" stroke=\"black\" points=\"209.48,-261.48 209.88,-250.9 202.97,-258.92 209.48,-261.48\"/>\n",
       "<text text-anchor=\"middle\" x=\"204.93\" y=\"-273.02\" font-family=\"Times New Roman,serif\" font-size=\"14.00\">1</text>\n",
       "</g>\n",
       "<!-- 3 -->\n",
       "<g id=\"node3\" class=\"node\">\n",
       "<title>3</title>\n",
       "<ellipse fill=\"red\" stroke=\"black\" cx=\"50.56\" cy=\"-50.2\" rx=\"50.56\" ry=\"50.2\"/>\n",
       "<text text-anchor=\"middle\" x=\"50.56\" y=\"-68.4\" font-family=\"Times New Roman,serif\" font-size=\"14.00\">node id: 3</text>\n",
       "<text text-anchor=\"middle\" x=\"50.56\" y=\"-52.65\" font-family=\"Times New Roman,serif\" font-size=\"14.00\">cl = 3</text>\n",
       "<text text-anchor=\"middle\" x=\"50.56\" y=\"-36.9\" font-family=\"Times New Roman,serif\" font-size=\"14.00\">cl 0: 1</text>\n",
       "<text text-anchor=\"middle\" x=\"50.56\" y=\"-21.15\" font-family=\"Times New Roman,serif\" font-size=\"14.00\">cl 1: 1</text>\n",
       "</g>\n",
       "<!-- 1&#45;&gt;3 -->\n",
       "<g id=\"edge1\" class=\"edge\">\n",
       "<title>1&#45;&gt;3</title>\n",
       "<path fill=\"none\" stroke=\"black\" d=\"M91.37,-155.09C85.52,-140.17 78.95,-123.47 72.83,-107.9\"/>\n",
       "<polygon fill=\"black\" stroke=\"black\" points=\"76.15,-106.77 69.23,-98.74 69.63,-109.33 76.15,-106.77\"/>\n",
       "<text text-anchor=\"middle\" x=\"85.93\" y=\"-120.86\" font-family=\"Times New Roman,serif\" font-size=\"14.00\">0</text>\n",
       "</g>\n",
       "<!-- 4 -->\n",
       "<g id=\"node4\" class=\"node\">\n",
       "<title>4</title>\n",
       "<ellipse fill=\"red\" stroke=\"black\" cx=\"169.56\" cy=\"-50.2\" rx=\"50.56\" ry=\"50.2\"/>\n",
       "<text text-anchor=\"middle\" x=\"169.56\" y=\"-68.4\" font-family=\"Times New Roman,serif\" font-size=\"14.00\">node id: 4</text>\n",
       "<text text-anchor=\"middle\" x=\"169.56\" y=\"-52.65\" font-family=\"Times New Roman,serif\" font-size=\"14.00\">cl = 4</text>\n",
       "<text text-anchor=\"middle\" x=\"169.56\" y=\"-36.9\" font-family=\"Times New Roman,serif\" font-size=\"14.00\">cl 0: 1</text>\n",
       "<text text-anchor=\"middle\" x=\"169.56\" y=\"-21.15\" font-family=\"Times New Roman,serif\" font-size=\"14.00\">cl 1: 1</text>\n",
       "</g>\n",
       "<!-- 1&#45;&gt;4 -->\n",
       "<g id=\"edge2\" class=\"edge\">\n",
       "<title>1&#45;&gt;4</title>\n",
       "<path fill=\"none\" stroke=\"black\" d=\"M127.89,-155.5C133.88,-140.5 140.61,-123.66 146.88,-107.96\"/>\n",
       "<polygon fill=\"black\" stroke=\"black\" points=\"150.11,-109.3 150.57,-98.72 143.61,-106.7 150.11,-109.3\"/>\n",
       "<text text-anchor=\"middle\" x=\"144.93\" y=\"-120.86\" font-family=\"Times New Roman,serif\" font-size=\"14.00\">1</text>\n",
       "</g>\n",
       "</g>\n",
       "</svg>\n"
      ],
      "text/plain": [
       "<graphviz.graphs.Digraph at 0x1fbb79938e0>"
      ]
     },
     "metadata": {},
     "output_type": "display_data"
    },
    {
     "data": {
      "text/plain": [
       "<__main__.Node at 0x1fbb7993940>"
      ]
     },
     "execution_count": 13,
     "metadata": {},
     "output_type": "execute_result"
    }
   ],
   "source": [
    "class Node:\n",
    "    def __init__(self, attr, left, right, value):\n",
    "        self.attr = attr\n",
    "        self.left = left\n",
    "        self.right = right\n",
    "        self.value = value\n",
    "\n",
    "    def __call__(self, obj):\n",
    "        if self.value is None:\n",
    "            if obj[self.attr] == 0:\n",
    "                return self.left(obj)\n",
    "            else:\n",
    "                return self.right(obj)\n",
    "        else:\n",
    "            return self.value\n",
    "        \n",
    "### EXAMPLE\n",
    "def example(obj):\n",
    "    root = Node(\"attr 1\", None, None, None) ###  IN ROOT SPLIT ON 1ST (0) ATTRIBUTE\n",
    "    lChildren = Node(\"attr 2\", None, None, None) ### IN ROOT's LEFT CHILDREN SPLIT ON 2ND (1) ATTRIBUTE\n",
    "    rChildren = Node(None, None, None, 2) ### IN ROOT's RIGHT CHILDREN -> DECISION = 2\n",
    "    root.left = lChildren\n",
    "    root.right = rChildren\n",
    "    llChildren = Node(None, None, None, 3) ### IN ROOT's LEFT-LEFT CHILDREN -> DECISION = 3\n",
    "    lrChildren = Node(None, None, None, 4) ### IN ROOT's LEFT-RIGHT CHILDREN -> DECISION = 4\n",
    "    lChildren.left = llChildren\n",
    "    lChildren.right = lrChildren\n",
    "    #Corrected return statement\n",
    "    return root\n",
    "    \n",
    "root = example(pd.Series([0,0],['attr 1','attr 2'])) ### ROOT : FIRST ATTRIBUTE = 0 SO WE GO TO LEFT CHILDREN.\n",
    "### IT IS A LEAF WITH THE DECISION = 3\n",
    "### THEN, IN THE CORRESPONDING CHILDREN, THE SECOND ATTRIBUTE = 0, SO WE GO TO LEFT-LEFT CHILDREN\n",
    "cm.printGraph(root,data)\n",
    "\n",
    "example({'attr 1':0,'attr 2':1})\n",
    "example(pd.Series([1,0],['attr 1','attr 2']))\n",
    "example({'attr 1':1,'attr 2':1})"
   ]
  },
  {
   "cell_type": "markdown",
   "metadata": {},
   "source": [
    "2.1) Create an initial root. Set the value (decision) to 1. "
   ]
  },
  {
   "cell_type": "code",
   "execution_count": 14,
   "metadata": {},
   "outputs": [],
   "source": [
    "root = Node(None, None, None, 1)"
   ]
  },
  {
   "cell_type": "markdown",
   "metadata": {},
   "source": [
    "2.2) Use a getErrorRate method in common.py auxiliary file to calculate the error rate. The decision is made based on the majority rule. In case of tie, the method takes 0 as the default class."
   ]
  },
  {
   "cell_type": "code",
   "execution_count": 15,
   "metadata": {},
   "outputs": [
    {
     "name": "stdout",
     "output_type": "stream",
     "text": [
      "0.4\n"
     ]
    }
   ],
   "source": [
    "print(cm.getErrorRate(root, data))"
   ]
  },
  {
   "cell_type": "markdown",
   "metadata": {},
   "source": [
    "2.3) Use printGraph method (see the common.py file) to draw the decision tree and save it in a png file."
   ]
  },
  {
   "cell_type": "code",
   "execution_count": 16,
   "metadata": {},
   "outputs": [
    {
     "data": {
      "image/svg+xml": [
       "<?xml version=\"1.0\" encoding=\"UTF-8\" standalone=\"no\"?>\n",
       "<!DOCTYPE svg PUBLIC \"-//W3C//DTD SVG 1.1//EN\"\n",
       " \"http://www.w3.org/Graphics/SVG/1.1/DTD/svg11.dtd\">\n",
       "<!-- Generated by graphviz version 9.0.0 (20230911.1827)\n",
       " -->\n",
       "<!-- Pages: 1 -->\n",
       "<svg width=\"109pt\" height=\"108pt\"\n",
       " viewBox=\"0.00 0.00 109.12 108.41\" xmlns=\"http://www.w3.org/2000/svg\" xmlns:xlink=\"http://www.w3.org/1999/xlink\">\n",
       "<g id=\"graph0\" class=\"graph\" transform=\"scale(1 1) rotate(0) translate(4 104.41)\">\n",
       "<polygon fill=\"white\" stroke=\"none\" points=\"-4,4 -4,-104.41 105.12,-104.41 105.12,4 -4,4\"/>\n",
       "<!-- 0 -->\n",
       "<g id=\"node1\" class=\"node\">\n",
       "<title>0</title>\n",
       "<ellipse fill=\"red\" stroke=\"black\" cx=\"50.56\" cy=\"-50.2\" rx=\"50.56\" ry=\"50.2\"/>\n",
       "<text text-anchor=\"middle\" x=\"50.56\" y=\"-68.4\" font-family=\"Times New Roman,serif\" font-size=\"14.00\">node id: 0</text>\n",
       "<text text-anchor=\"middle\" x=\"50.56\" y=\"-52.65\" font-family=\"Times New Roman,serif\" font-size=\"14.00\">cl = 1</text>\n",
       "<text text-anchor=\"middle\" x=\"50.56\" y=\"-36.9\" font-family=\"Times New Roman,serif\" font-size=\"14.00\">cl 0: 4</text>\n",
       "<text text-anchor=\"middle\" x=\"50.56\" y=\"-21.15\" font-family=\"Times New Roman,serif\" font-size=\"14.00\">cl 1: 6</text>\n",
       "</g>\n",
       "</g>\n",
       "</svg>\n"
      ],
      "text/plain": [
       "<graphviz.graphs.Digraph at 0x1fbb7990910>"
      ]
     },
     "metadata": {},
     "output_type": "display_data"
    }
   ],
   "source": [
    "cm.printGraph(root, data)\n",
    "#Use this in the function to save to a file:\n",
    "#dgraph.view(cleanup=True)"
   ]
  },
  {
   "cell_type": "markdown",
   "metadata": {},
   "source": [
    "2.4) Calculate information gain for all attribiutes."
   ]
  },
  {
   "cell_type": "code",
   "execution_count": 17,
   "metadata": {},
   "outputs": [
    {
     "name": "stdout",
     "output_type": "stream",
     "text": [
      "attr 1 gain equals: 0.01997309402197489\n",
      "attr 2 gain equals: 0.0464393446710154\n",
      "attr 3 gain equals: 0.12451124978365313\n",
      "attr 4 gain equals: 0.0912774462416801\n",
      "attr 5 gain equals: 0.0\n"
     ]
    }
   ],
   "source": [
    "def printInformationGain(data):\n",
    "    for attribute_name in attributeNames:\n",
    "        print(attribute_name, \"gain equals:\", getInformationGain(data[\"cl\"], data[attribute_name]))\n",
    "        \n",
    "printInformationGain(data)"
   ]
  },
  {
   "cell_type": "markdown",
   "metadata": {},
   "source": [
    "2.5) Choose the best attribute to split the data (HINT, it should be the third attribute :)). Construct two new nodes: one for $x_i$ = 0 decision and the second for $x_i$ = 1; connect them with the root (left and right branch). Remember to update the root. "
   ]
  },
  {
   "cell_type": "code",
   "execution_count": 18,
   "metadata": {},
   "outputs": [],
   "source": [
    "root = Node(\"attr 3\", None, None, None)\n",
    "lChild = Node(None, None, None, 0)\n",
    "rChild = Node(None, None, None, 1)\n",
    "root.left = lChild\n",
    "root.right = rChild"
   ]
  },
  {
   "cell_type": "markdown",
   "metadata": {},
   "source": [
    "2.6) Print the graph and calculate the error rate. What happened with the error rate?"
   ]
  },
  {
   "cell_type": "code",
   "execution_count": 19,
   "metadata": {},
   "outputs": [
    {
     "data": {
      "image/svg+xml": [
       "<?xml version=\"1.0\" encoding=\"UTF-8\" standalone=\"no\"?>\n",
       "<!DOCTYPE svg PUBLIC \"-//W3C//DTD SVG 1.1//EN\"\n",
       " \"http://www.w3.org/Graphics/SVG/1.1/DTD/svg11.dtd\">\n",
       "<!-- Generated by graphviz version 9.0.0 (20230911.1827)\n",
       " -->\n",
       "<!-- Pages: 1 -->\n",
       "<svg width=\"228pt\" height=\"261pt\"\n",
       " viewBox=\"0.00 0.00 228.12 260.57\" xmlns=\"http://www.w3.org/2000/svg\" xmlns:xlink=\"http://www.w3.org/1999/xlink\">\n",
       "<g id=\"graph0\" class=\"graph\" transform=\"scale(1 1) rotate(0) translate(4 256.57)\">\n",
       "<polygon fill=\"white\" stroke=\"none\" points=\"-4,4 -4,-256.57 224.12,-256.57 224.12,4 -4,4\"/>\n",
       "<!-- 0 -->\n",
       "<g id=\"node1\" class=\"node\">\n",
       "<title>0</title>\n",
       "<ellipse fill=\"yellow\" stroke=\"black\" cx=\"109.56\" cy=\"-202.36\" rx=\"50.56\" ry=\"50.2\"/>\n",
       "<text text-anchor=\"middle\" x=\"109.56\" y=\"-220.56\" font-family=\"Times New Roman,serif\" font-size=\"14.00\">node id: 0</text>\n",
       "<text text-anchor=\"middle\" x=\"109.56\" y=\"-204.81\" font-family=\"Times New Roman,serif\" font-size=\"14.00\">attr 3</text>\n",
       "<text text-anchor=\"middle\" x=\"109.56\" y=\"-189.06\" font-family=\"Times New Roman,serif\" font-size=\"14.00\">cl 0: 4</text>\n",
       "<text text-anchor=\"middle\" x=\"109.56\" y=\"-173.31\" font-family=\"Times New Roman,serif\" font-size=\"14.00\">cl 1: 6</text>\n",
       "</g>\n",
       "<!-- 1 -->\n",
       "<g id=\"node2\" class=\"node\">\n",
       "<title>1</title>\n",
       "<ellipse fill=\"green\" stroke=\"black\" cx=\"50.56\" cy=\"-50.2\" rx=\"50.56\" ry=\"50.2\"/>\n",
       "<text text-anchor=\"middle\" x=\"50.56\" y=\"-68.4\" font-family=\"Times New Roman,serif\" font-size=\"14.00\">node id: 1</text>\n",
       "<text text-anchor=\"middle\" x=\"50.56\" y=\"-52.65\" font-family=\"Times New Roman,serif\" font-size=\"14.00\">cl = 0</text>\n",
       "<text text-anchor=\"middle\" x=\"50.56\" y=\"-36.9\" font-family=\"Times New Roman,serif\" font-size=\"14.00\">cl 0: 3</text>\n",
       "<text text-anchor=\"middle\" x=\"50.56\" y=\"-21.15\" font-family=\"Times New Roman,serif\" font-size=\"14.00\">cl 1: 2</text>\n",
       "</g>\n",
       "<!-- 0&#45;&gt;1 -->\n",
       "<g id=\"edge1\" class=\"edge\">\n",
       "<title>0&#45;&gt;1</title>\n",
       "<path fill=\"none\" stroke=\"black\" d=\"M91.37,-155.09C85.52,-140.17 78.95,-123.47 72.83,-107.9\"/>\n",
       "<polygon fill=\"black\" stroke=\"black\" points=\"76.15,-106.77 69.23,-98.74 69.63,-109.33 76.15,-106.77\"/>\n",
       "<text text-anchor=\"middle\" x=\"85.93\" y=\"-120.86\" font-family=\"Times New Roman,serif\" font-size=\"14.00\">0</text>\n",
       "</g>\n",
       "<!-- 2 -->\n",
       "<g id=\"node3\" class=\"node\">\n",
       "<title>2</title>\n",
       "<ellipse fill=\"red\" stroke=\"black\" cx=\"169.56\" cy=\"-50.2\" rx=\"50.56\" ry=\"50.2\"/>\n",
       "<text text-anchor=\"middle\" x=\"169.56\" y=\"-68.4\" font-family=\"Times New Roman,serif\" font-size=\"14.00\">node id: 2</text>\n",
       "<text text-anchor=\"middle\" x=\"169.56\" y=\"-52.65\" font-family=\"Times New Roman,serif\" font-size=\"14.00\">cl = 1</text>\n",
       "<text text-anchor=\"middle\" x=\"169.56\" y=\"-36.9\" font-family=\"Times New Roman,serif\" font-size=\"14.00\">cl 0: 1</text>\n",
       "<text text-anchor=\"middle\" x=\"169.56\" y=\"-21.15\" font-family=\"Times New Roman,serif\" font-size=\"14.00\">cl 1: 4</text>\n",
       "</g>\n",
       "<!-- 0&#45;&gt;2 -->\n",
       "<g id=\"edge2\" class=\"edge\">\n",
       "<title>0&#45;&gt;2</title>\n",
       "<path fill=\"none\" stroke=\"black\" d=\"M127.89,-155.5C133.88,-140.5 140.61,-123.66 146.88,-107.96\"/>\n",
       "<polygon fill=\"black\" stroke=\"black\" points=\"150.11,-109.3 150.57,-98.72 143.61,-106.7 150.11,-109.3\"/>\n",
       "<text text-anchor=\"middle\" x=\"143.93\" y=\"-120.86\" font-family=\"Times New Roman,serif\" font-size=\"14.00\">1</text>\n",
       "</g>\n",
       "</g>\n",
       "</svg>\n"
      ],
      "text/plain": [
       "<graphviz.graphs.Digraph at 0x1fbb7992860>"
      ]
     },
     "metadata": {},
     "output_type": "display_data"
    },
    {
     "name": "stdout",
     "output_type": "stream",
     "text": [
      "0.30\n"
     ]
    }
   ],
   "source": [
    "cm.printGraph(root, data)\n",
    "print(f\"{cm.getErrorRate(root, data):.2f}\")"
   ]
  },
  {
   "cell_type": "markdown",
   "metadata": {},
   "source": [
    "Answer: The error rate decreased."
   ]
  },
  {
   "cell_type": "markdown",
   "metadata": {},
   "source": [
    "2.7) Split the 'data' (table) based on the selected attribiute, i.e., create two new tables."
   ]
  },
  {
   "cell_type": "code",
   "execution_count": 20,
   "metadata": {},
   "outputs": [],
   "source": [
    "left_data = data[data[\"attr 3\"] == 0]\n",
    "right_data = data[data[\"attr 3\"] == 1]"
   ]
  },
  {
   "cell_type": "markdown",
   "metadata": {},
   "source": [
    "2.8) Let us start with the left node. Firstly, calculate information gain for this node."
   ]
  },
  {
   "cell_type": "code",
   "execution_count": 21,
   "metadata": {},
   "outputs": [
    {
     "name": "stdout",
     "output_type": "stream",
     "text": [
      "attr 1 gain equals: 0.4199730940219749\n",
      "attr 2 gain equals: 0.01997309402197489\n",
      "attr 3 gain equals: 0.0\n",
      "attr 4 gain equals: 0.01997309402197489\n",
      "attr 5 gain equals: 0.0\n"
     ]
    }
   ],
   "source": [
    "printInformationGain(left_data)"
   ]
  },
  {
   "cell_type": "markdown",
   "metadata": {},
   "source": [
    "2.9) Choose the best attribute to split the data and then update the decision tree."
   ]
  },
  {
   "cell_type": "code",
   "execution_count": 22,
   "metadata": {},
   "outputs": [],
   "source": [
    "lChild = Node(\"attr 1\", None, None, None)\n",
    "llChild = Node(None, None, None, 0)\n",
    "lrChild = Node(None, None, None, 1)\n",
    "lChild.left = llChild\n",
    "lChild.right = lrChild\n",
    "root.left=lChild"
   ]
  },
  {
   "cell_type": "markdown",
   "metadata": {},
   "source": [
    "2.10) Print the graph and calculate the error rate (HINT: should be 0.2 :). What happened with the error rate?"
   ]
  },
  {
   "cell_type": "code",
   "execution_count": 23,
   "metadata": {},
   "outputs": [
    {
     "data": {
      "image/svg+xml": [
       "<?xml version=\"1.0\" encoding=\"UTF-8\" standalone=\"no\"?>\n",
       "<!DOCTYPE svg PUBLIC \"-//W3C//DTD SVG 1.1//EN\"\n",
       " \"http://www.w3.org/Graphics/SVG/1.1/DTD/svg11.dtd\">\n",
       "<!-- Generated by graphviz version 9.0.0 (20230911.1827)\n",
       " -->\n",
       "<!-- Pages: 1 -->\n",
       "<svg width=\"287pt\" height=\"413pt\"\n",
       " viewBox=\"0.00 0.00 287.12 412.73\" xmlns=\"http://www.w3.org/2000/svg\" xmlns:xlink=\"http://www.w3.org/1999/xlink\">\n",
       "<g id=\"graph0\" class=\"graph\" transform=\"scale(1 1) rotate(0) translate(4 408.73)\">\n",
       "<polygon fill=\"white\" stroke=\"none\" points=\"-4,4 -4,-408.73 283.12,-408.73 283.12,4 -4,4\"/>\n",
       "<!-- 0 -->\n",
       "<g id=\"node1\" class=\"node\">\n",
       "<title>0</title>\n",
       "<ellipse fill=\"yellow\" stroke=\"black\" cx=\"169.56\" cy=\"-354.52\" rx=\"50.56\" ry=\"50.2\"/>\n",
       "<text text-anchor=\"middle\" x=\"169.56\" y=\"-372.72\" font-family=\"Times New Roman,serif\" font-size=\"14.00\">node id: 0</text>\n",
       "<text text-anchor=\"middle\" x=\"169.56\" y=\"-356.97\" font-family=\"Times New Roman,serif\" font-size=\"14.00\">attr 3</text>\n",
       "<text text-anchor=\"middle\" x=\"169.56\" y=\"-341.22\" font-family=\"Times New Roman,serif\" font-size=\"14.00\">cl 0: 4</text>\n",
       "<text text-anchor=\"middle\" x=\"169.56\" y=\"-325.47\" font-family=\"Times New Roman,serif\" font-size=\"14.00\">cl 1: 6</text>\n",
       "</g>\n",
       "<!-- 1 -->\n",
       "<g id=\"node2\" class=\"node\">\n",
       "<title>1</title>\n",
       "<ellipse fill=\"yellow\" stroke=\"black\" cx=\"109.56\" cy=\"-202.36\" rx=\"50.56\" ry=\"50.2\"/>\n",
       "<text text-anchor=\"middle\" x=\"109.56\" y=\"-220.56\" font-family=\"Times New Roman,serif\" font-size=\"14.00\">node id: 1</text>\n",
       "<text text-anchor=\"middle\" x=\"109.56\" y=\"-204.81\" font-family=\"Times New Roman,serif\" font-size=\"14.00\">attr 1</text>\n",
       "<text text-anchor=\"middle\" x=\"109.56\" y=\"-189.06\" font-family=\"Times New Roman,serif\" font-size=\"14.00\">cl 0: 3</text>\n",
       "<text text-anchor=\"middle\" x=\"109.56\" y=\"-173.31\" font-family=\"Times New Roman,serif\" font-size=\"14.00\">cl 1: 2</text>\n",
       "</g>\n",
       "<!-- 0&#45;&gt;1 -->\n",
       "<g id=\"edge3\" class=\"edge\">\n",
       "<title>0&#45;&gt;1</title>\n",
       "<path fill=\"none\" stroke=\"black\" d=\"M151.23,-307.65C145.24,-292.66 138.51,-275.82 132.24,-260.12\"/>\n",
       "<polygon fill=\"black\" stroke=\"black\" points=\"135.5,-258.86 128.54,-250.87 129,-261.46 135.5,-258.86\"/>\n",
       "<text text-anchor=\"middle\" x=\"144.93\" y=\"-273.02\" font-family=\"Times New Roman,serif\" font-size=\"14.00\">0</text>\n",
       "</g>\n",
       "<!-- 2 -->\n",
       "<g id=\"node5\" class=\"node\">\n",
       "<title>2</title>\n",
       "<ellipse fill=\"red\" stroke=\"black\" cx=\"228.56\" cy=\"-202.36\" rx=\"50.56\" ry=\"50.2\"/>\n",
       "<text text-anchor=\"middle\" x=\"228.56\" y=\"-220.56\" font-family=\"Times New Roman,serif\" font-size=\"14.00\">node id: 2</text>\n",
       "<text text-anchor=\"middle\" x=\"228.56\" y=\"-204.81\" font-family=\"Times New Roman,serif\" font-size=\"14.00\">cl = 1</text>\n",
       "<text text-anchor=\"middle\" x=\"228.56\" y=\"-189.06\" font-family=\"Times New Roman,serif\" font-size=\"14.00\">cl 0: 1</text>\n",
       "<text text-anchor=\"middle\" x=\"228.56\" y=\"-173.31\" font-family=\"Times New Roman,serif\" font-size=\"14.00\">cl 1: 4</text>\n",
       "</g>\n",
       "<!-- 0&#45;&gt;2 -->\n",
       "<g id=\"edge4\" class=\"edge\">\n",
       "<title>0&#45;&gt;2</title>\n",
       "<path fill=\"none\" stroke=\"black\" d=\"M187.74,-307.24C193.6,-292.33 200.16,-275.63 206.28,-260.06\"/>\n",
       "<polygon fill=\"black\" stroke=\"black\" points=\"209.48,-261.48 209.88,-250.9 202.97,-258.92 209.48,-261.48\"/>\n",
       "<text text-anchor=\"middle\" x=\"204.93\" y=\"-273.02\" font-family=\"Times New Roman,serif\" font-size=\"14.00\">1</text>\n",
       "</g>\n",
       "<!-- 3 -->\n",
       "<g id=\"node3\" class=\"node\">\n",
       "<title>3</title>\n",
       "<ellipse fill=\"green\" stroke=\"black\" cx=\"50.56\" cy=\"-50.2\" rx=\"50.56\" ry=\"50.2\"/>\n",
       "<text text-anchor=\"middle\" x=\"50.56\" y=\"-68.4\" font-family=\"Times New Roman,serif\" font-size=\"14.00\">node id: 3</text>\n",
       "<text text-anchor=\"middle\" x=\"50.56\" y=\"-52.65\" font-family=\"Times New Roman,serif\" font-size=\"14.00\">cl = 0</text>\n",
       "<text text-anchor=\"middle\" x=\"50.56\" y=\"-36.9\" font-family=\"Times New Roman,serif\" font-size=\"14.00\">cl 0: 2</text>\n",
       "<text text-anchor=\"middle\" x=\"50.56\" y=\"-21.15\" font-family=\"Times New Roman,serif\" font-size=\"14.00\">cl 1: 0</text>\n",
       "</g>\n",
       "<!-- 1&#45;&gt;3 -->\n",
       "<g id=\"edge1\" class=\"edge\">\n",
       "<title>1&#45;&gt;3</title>\n",
       "<path fill=\"none\" stroke=\"black\" d=\"M91.37,-155.09C85.52,-140.17 78.95,-123.47 72.83,-107.9\"/>\n",
       "<polygon fill=\"black\" stroke=\"black\" points=\"76.15,-106.77 69.23,-98.74 69.63,-109.33 76.15,-106.77\"/>\n",
       "<text text-anchor=\"middle\" x=\"85.93\" y=\"-120.86\" font-family=\"Times New Roman,serif\" font-size=\"14.00\">0</text>\n",
       "</g>\n",
       "<!-- 4 -->\n",
       "<g id=\"node4\" class=\"node\">\n",
       "<title>4</title>\n",
       "<ellipse fill=\"red\" stroke=\"black\" cx=\"169.56\" cy=\"-50.2\" rx=\"50.56\" ry=\"50.2\"/>\n",
       "<text text-anchor=\"middle\" x=\"169.56\" y=\"-68.4\" font-family=\"Times New Roman,serif\" font-size=\"14.00\">node id: 4</text>\n",
       "<text text-anchor=\"middle\" x=\"169.56\" y=\"-52.65\" font-family=\"Times New Roman,serif\" font-size=\"14.00\">cl = 1</text>\n",
       "<text text-anchor=\"middle\" x=\"169.56\" y=\"-36.9\" font-family=\"Times New Roman,serif\" font-size=\"14.00\">cl 0: 1</text>\n",
       "<text text-anchor=\"middle\" x=\"169.56\" y=\"-21.15\" font-family=\"Times New Roman,serif\" font-size=\"14.00\">cl 1: 2</text>\n",
       "</g>\n",
       "<!-- 1&#45;&gt;4 -->\n",
       "<g id=\"edge2\" class=\"edge\">\n",
       "<title>1&#45;&gt;4</title>\n",
       "<path fill=\"none\" stroke=\"black\" d=\"M127.89,-155.5C133.88,-140.5 140.61,-123.66 146.88,-107.96\"/>\n",
       "<polygon fill=\"black\" stroke=\"black\" points=\"150.11,-109.3 150.57,-98.72 143.61,-106.7 150.11,-109.3\"/>\n",
       "<text text-anchor=\"middle\" x=\"144.93\" y=\"-120.86\" font-family=\"Times New Roman,serif\" font-size=\"14.00\">1</text>\n",
       "</g>\n",
       "</g>\n",
       "</svg>\n"
      ],
      "text/plain": [
       "<graphviz.graphs.Digraph at 0x1fbb7990610>"
      ]
     },
     "metadata": {},
     "output_type": "display_data"
    },
    {
     "name": "stdout",
     "output_type": "stream",
     "text": [
      "0.20\n"
     ]
    }
   ],
   "source": [
    "cm.printGraph(root, data)\n",
    "print(f\"{cm.getErrorRate(root, data):.2f}\")"
   ]
  },
  {
   "cell_type": "markdown",
   "metadata": {},
   "source": [
    "Answer: Error rate still decreases"
   ]
  },
  {
   "cell_type": "markdown",
   "metadata": {},
   "source": [
    "2.11) Split data (remember that we split left_data, not data)."
   ]
  },
  {
   "cell_type": "code",
   "execution_count": 24,
   "metadata": {},
   "outputs": [],
   "source": [
    "leftLeft_data = left_data[left_data[\"attr 1\"] == 0]\n",
    "leftRight_data = left_data[left_data[\"attr 1\"] == 1]"
   ]
  },
  {
   "cell_type": "markdown",
   "metadata": {},
   "source": [
    "2.12) Repeat the whole process for the right node."
   ]
  },
  {
   "cell_type": "code",
   "execution_count": 25,
   "metadata": {},
   "outputs": [
    {
     "name": "stdout",
     "output_type": "stream",
     "text": [
      "attr 1 gain equals: 0.17095059445466865\n",
      "attr 2 gain equals: 0.17095059445466865\n",
      "attr 3 gain equals: 0.0\n",
      "attr 4 gain equals: 0.7219280948873623\n",
      "attr 5 gain equals: 0.0\n"
     ]
    }
   ],
   "source": [
    "printInformationGain(right_data)"
   ]
  },
  {
   "cell_type": "code",
   "execution_count": 26,
   "metadata": {},
   "outputs": [],
   "source": [
    "rChild = Node(\"attr 4\", None, None, None)\n",
    "rlChild = Node(None, None, None, 0)\n",
    "rrChild = Node(None, None, None, 1)\n",
    "rChild.left = rlChild\n",
    "rChild.right = rrChild\n",
    "root.right=rChild"
   ]
  },
  {
   "cell_type": "code",
   "execution_count": 27,
   "metadata": {},
   "outputs": [
    {
     "data": {
      "image/svg+xml": [
       "<?xml version=\"1.0\" encoding=\"UTF-8\" standalone=\"no\"?>\n",
       "<!DOCTYPE svg PUBLIC \"-//W3C//DTD SVG 1.1//EN\"\n",
       " \"http://www.w3.org/Graphics/SVG/1.1/DTD/svg11.dtd\">\n",
       "<!-- Generated by graphviz version 9.0.0 (20230911.1827)\n",
       " -->\n",
       "<!-- Pages: 1 -->\n",
       "<svg width=\"466pt\" height=\"413pt\"\n",
       " viewBox=\"0.00 0.00 466.12 412.73\" xmlns=\"http://www.w3.org/2000/svg\" xmlns:xlink=\"http://www.w3.org/1999/xlink\">\n",
       "<g id=\"graph0\" class=\"graph\" transform=\"scale(1 1) rotate(0) translate(4 408.73)\">\n",
       "<polygon fill=\"white\" stroke=\"none\" points=\"-4,4 -4,-408.73 462.12,-408.73 462.12,4 -4,4\"/>\n",
       "<!-- 0 -->\n",
       "<g id=\"node1\" class=\"node\">\n",
       "<title>0</title>\n",
       "<ellipse fill=\"yellow\" stroke=\"black\" cx=\"228.56\" cy=\"-354.52\" rx=\"50.56\" ry=\"50.2\"/>\n",
       "<text text-anchor=\"middle\" x=\"228.56\" y=\"-372.72\" font-family=\"Times New Roman,serif\" font-size=\"14.00\">node id: 0</text>\n",
       "<text text-anchor=\"middle\" x=\"228.56\" y=\"-356.97\" font-family=\"Times New Roman,serif\" font-size=\"14.00\">attr 3</text>\n",
       "<text text-anchor=\"middle\" x=\"228.56\" y=\"-341.22\" font-family=\"Times New Roman,serif\" font-size=\"14.00\">cl 0: 4</text>\n",
       "<text text-anchor=\"middle\" x=\"228.56\" y=\"-325.47\" font-family=\"Times New Roman,serif\" font-size=\"14.00\">cl 1: 6</text>\n",
       "</g>\n",
       "<!-- 1 -->\n",
       "<g id=\"node2\" class=\"node\">\n",
       "<title>1</title>\n",
       "<ellipse fill=\"yellow\" stroke=\"black\" cx=\"169.56\" cy=\"-202.36\" rx=\"50.56\" ry=\"50.2\"/>\n",
       "<text text-anchor=\"middle\" x=\"169.56\" y=\"-220.56\" font-family=\"Times New Roman,serif\" font-size=\"14.00\">node id: 1</text>\n",
       "<text text-anchor=\"middle\" x=\"169.56\" y=\"-204.81\" font-family=\"Times New Roman,serif\" font-size=\"14.00\">attr 1</text>\n",
       "<text text-anchor=\"middle\" x=\"169.56\" y=\"-189.06\" font-family=\"Times New Roman,serif\" font-size=\"14.00\">cl 0: 3</text>\n",
       "<text text-anchor=\"middle\" x=\"169.56\" y=\"-173.31\" font-family=\"Times New Roman,serif\" font-size=\"14.00\">cl 1: 2</text>\n",
       "</g>\n",
       "<!-- 0&#45;&gt;1 -->\n",
       "<g id=\"edge5\" class=\"edge\">\n",
       "<title>0&#45;&gt;1</title>\n",
       "<path fill=\"none\" stroke=\"black\" d=\"M210.37,-307.24C204.52,-292.33 197.95,-275.63 191.83,-260.06\"/>\n",
       "<polygon fill=\"black\" stroke=\"black\" points=\"195.15,-258.92 188.23,-250.9 188.63,-261.48 195.15,-258.92\"/>\n",
       "<text text-anchor=\"middle\" x=\"204.93\" y=\"-273.02\" font-family=\"Times New Roman,serif\" font-size=\"14.00\">0</text>\n",
       "</g>\n",
       "<!-- 2 -->\n",
       "<g id=\"node5\" class=\"node\">\n",
       "<title>2</title>\n",
       "<ellipse fill=\"yellow\" stroke=\"black\" cx=\"288.56\" cy=\"-202.36\" rx=\"50.56\" ry=\"50.2\"/>\n",
       "<text text-anchor=\"middle\" x=\"288.56\" y=\"-220.56\" font-family=\"Times New Roman,serif\" font-size=\"14.00\">node id: 2</text>\n",
       "<text text-anchor=\"middle\" x=\"288.56\" y=\"-204.81\" font-family=\"Times New Roman,serif\" font-size=\"14.00\">attr 4</text>\n",
       "<text text-anchor=\"middle\" x=\"288.56\" y=\"-189.06\" font-family=\"Times New Roman,serif\" font-size=\"14.00\">cl 0: 1</text>\n",
       "<text text-anchor=\"middle\" x=\"288.56\" y=\"-173.31\" font-family=\"Times New Roman,serif\" font-size=\"14.00\">cl 1: 4</text>\n",
       "</g>\n",
       "<!-- 0&#45;&gt;2 -->\n",
       "<g id=\"edge6\" class=\"edge\">\n",
       "<title>0&#45;&gt;2</title>\n",
       "<path fill=\"none\" stroke=\"black\" d=\"M246.89,-307.65C252.88,-292.66 259.61,-275.82 265.88,-260.12\"/>\n",
       "<polygon fill=\"black\" stroke=\"black\" points=\"269.11,-261.46 269.57,-250.87 262.61,-258.86 269.11,-261.46\"/>\n",
       "<text text-anchor=\"middle\" x=\"263.93\" y=\"-273.02\" font-family=\"Times New Roman,serif\" font-size=\"14.00\">1</text>\n",
       "</g>\n",
       "<!-- 3 -->\n",
       "<g id=\"node3\" class=\"node\">\n",
       "<title>3</title>\n",
       "<ellipse fill=\"green\" stroke=\"black\" cx=\"50.56\" cy=\"-50.2\" rx=\"50.56\" ry=\"50.2\"/>\n",
       "<text text-anchor=\"middle\" x=\"50.56\" y=\"-68.4\" font-family=\"Times New Roman,serif\" font-size=\"14.00\">node id: 3</text>\n",
       "<text text-anchor=\"middle\" x=\"50.56\" y=\"-52.65\" font-family=\"Times New Roman,serif\" font-size=\"14.00\">cl = 0</text>\n",
       "<text text-anchor=\"middle\" x=\"50.56\" y=\"-36.9\" font-family=\"Times New Roman,serif\" font-size=\"14.00\">cl 0: 2</text>\n",
       "<text text-anchor=\"middle\" x=\"50.56\" y=\"-21.15\" font-family=\"Times New Roman,serif\" font-size=\"14.00\">cl 1: 0</text>\n",
       "</g>\n",
       "<!-- 1&#45;&gt;3 -->\n",
       "<g id=\"edge1\" class=\"edge\">\n",
       "<title>1&#45;&gt;3</title>\n",
       "<path fill=\"none\" stroke=\"black\" d=\"M138.6,-162.3C123.31,-143 104.71,-119.54 88.56,-99.15\"/>\n",
       "<polygon fill=\"black\" stroke=\"black\" points=\"91.46,-97.18 82.5,-91.52 85.97,-101.53 91.46,-97.18\"/>\n",
       "<text text-anchor=\"middle\" x=\"117.93\" y=\"-120.86\" font-family=\"Times New Roman,serif\" font-size=\"14.00\">0</text>\n",
       "</g>\n",
       "<!-- 4 -->\n",
       "<g id=\"node4\" class=\"node\">\n",
       "<title>4</title>\n",
       "<ellipse fill=\"red\" stroke=\"black\" cx=\"169.56\" cy=\"-50.2\" rx=\"50.56\" ry=\"50.2\"/>\n",
       "<text text-anchor=\"middle\" x=\"169.56\" y=\"-68.4\" font-family=\"Times New Roman,serif\" font-size=\"14.00\">node id: 4</text>\n",
       "<text text-anchor=\"middle\" x=\"169.56\" y=\"-52.65\" font-family=\"Times New Roman,serif\" font-size=\"14.00\">cl = 1</text>\n",
       "<text text-anchor=\"middle\" x=\"169.56\" y=\"-36.9\" font-family=\"Times New Roman,serif\" font-size=\"14.00\">cl 0: 1</text>\n",
       "<text text-anchor=\"middle\" x=\"169.56\" y=\"-21.15\" font-family=\"Times New Roman,serif\" font-size=\"14.00\">cl 1: 2</text>\n",
       "</g>\n",
       "<!-- 1&#45;&gt;4 -->\n",
       "<g id=\"edge2\" class=\"edge\">\n",
       "<title>1&#45;&gt;4</title>\n",
       "<path fill=\"none\" stroke=\"black\" d=\"M169.56,-151.78C169.56,-139.09 169.56,-125.31 169.56,-112.12\"/>\n",
       "<polygon fill=\"black\" stroke=\"black\" points=\"173.06,-112.25 169.56,-102.25 166.06,-112.25 173.06,-112.25\"/>\n",
       "<text text-anchor=\"middle\" x=\"172.93\" y=\"-120.86\" font-family=\"Times New Roman,serif\" font-size=\"14.00\">1</text>\n",
       "</g>\n",
       "<!-- 5 -->\n",
       "<g id=\"node6\" class=\"node\">\n",
       "<title>5</title>\n",
       "<ellipse fill=\"green\" stroke=\"black\" cx=\"288.56\" cy=\"-50.2\" rx=\"50.56\" ry=\"50.2\"/>\n",
       "<text text-anchor=\"middle\" x=\"288.56\" y=\"-68.4\" font-family=\"Times New Roman,serif\" font-size=\"14.00\">node id: 5</text>\n",
       "<text text-anchor=\"middle\" x=\"288.56\" y=\"-52.65\" font-family=\"Times New Roman,serif\" font-size=\"14.00\">cl = 0</text>\n",
       "<text text-anchor=\"middle\" x=\"288.56\" y=\"-36.9\" font-family=\"Times New Roman,serif\" font-size=\"14.00\">cl 0: 1</text>\n",
       "<text text-anchor=\"middle\" x=\"288.56\" y=\"-21.15\" font-family=\"Times New Roman,serif\" font-size=\"14.00\">cl 1: 0</text>\n",
       "</g>\n",
       "<!-- 2&#45;&gt;5 -->\n",
       "<g id=\"edge3\" class=\"edge\">\n",
       "<title>2&#45;&gt;5</title>\n",
       "<path fill=\"none\" stroke=\"black\" d=\"M288.56,-151.78C288.56,-139.09 288.56,-125.31 288.56,-112.12\"/>\n",
       "<polygon fill=\"black\" stroke=\"black\" points=\"292.06,-112.25 288.56,-102.25 285.06,-112.25 292.06,-112.25\"/>\n",
       "<text text-anchor=\"middle\" x=\"291.93\" y=\"-120.86\" font-family=\"Times New Roman,serif\" font-size=\"14.00\">0</text>\n",
       "</g>\n",
       "<!-- 6 -->\n",
       "<g id=\"node7\" class=\"node\">\n",
       "<title>6</title>\n",
       "<ellipse fill=\"red\" stroke=\"black\" cx=\"407.56\" cy=\"-50.2\" rx=\"50.56\" ry=\"50.2\"/>\n",
       "<text text-anchor=\"middle\" x=\"407.56\" y=\"-68.4\" font-family=\"Times New Roman,serif\" font-size=\"14.00\">node id: 6</text>\n",
       "<text text-anchor=\"middle\" x=\"407.56\" y=\"-52.65\" font-family=\"Times New Roman,serif\" font-size=\"14.00\">cl = 1</text>\n",
       "<text text-anchor=\"middle\" x=\"407.56\" y=\"-36.9\" font-family=\"Times New Roman,serif\" font-size=\"14.00\">cl 0: 0</text>\n",
       "<text text-anchor=\"middle\" x=\"407.56\" y=\"-21.15\" font-family=\"Times New Roman,serif\" font-size=\"14.00\">cl 1: 4</text>\n",
       "</g>\n",
       "<!-- 2&#45;&gt;6 -->\n",
       "<g id=\"edge4\" class=\"edge\">\n",
       "<title>2&#45;&gt;6</title>\n",
       "<path fill=\"none\" stroke=\"black\" d=\"M319.51,-162.3C334.81,-143 353.41,-119.54 369.56,-99.15\"/>\n",
       "<polygon fill=\"black\" stroke=\"black\" points=\"372.14,-101.53 375.61,-91.52 366.66,-97.18 372.14,-101.53\"/>\n",
       "<text text-anchor=\"middle\" x=\"355.93\" y=\"-120.86\" font-family=\"Times New Roman,serif\" font-size=\"14.00\">1</text>\n",
       "</g>\n",
       "</g>\n",
       "</svg>\n"
      ],
      "text/plain": [
       "<graphviz.graphs.Digraph at 0x1fbb7991a80>"
      ]
     },
     "metadata": {},
     "output_type": "display_data"
    },
    {
     "name": "stdout",
     "output_type": "stream",
     "text": [
      "0.10\n"
     ]
    }
   ],
   "source": [
    "cm.printGraph(root, data)\n",
    "print(f\"{cm.getErrorRate(root, data):.2f}\")"
   ]
  },
  {
   "cell_type": "code",
   "execution_count": 28,
   "metadata": {},
   "outputs": [],
   "source": [
    "rightLeft_data = right_data[right_data[\"attr 4\"] == 0]\n",
    "rightRight_data = right_data[right_data[\"attr 4\"] == 1]"
   ]
  },
  {
   "cell_type": "markdown",
   "metadata": {},
   "source": [
    "2.13) Let's consider left-left node. Calculate information gain for it."
   ]
  },
  {
   "cell_type": "code",
   "execution_count": 29,
   "metadata": {},
   "outputs": [
    {
     "name": "stdout",
     "output_type": "stream",
     "text": [
      "attr 1 gain equals: 0.0\n",
      "attr 2 gain equals: 0.0\n",
      "attr 3 gain equals: 0.0\n",
      "attr 4 gain equals: 0.0\n",
      "attr 5 gain equals: 0.0\n"
     ]
    }
   ],
   "source": [
    "printInformationGain(leftLeft_data)"
   ]
  },
  {
   "cell_type": "markdown",
   "metadata": {},
   "source": [
    "2.14) Will adding a new node to the tree improve its effectiveness? Why? Why not?"
   ]
  },
  {
   "cell_type": "markdown",
   "metadata": {},
   "source": [
    "Answer: No, it won't, because adding a new node wouldn't give the tree any information gain."
   ]
  },
  {
   "cell_type": "markdown",
   "metadata": {},
   "source": [
    "2.15) Calculate information gain for the left-right node."
   ]
  },
  {
   "cell_type": "code",
   "execution_count": 30,
   "metadata": {},
   "outputs": [
    {
     "name": "stdout",
     "output_type": "stream",
     "text": [
      "attr 1 gain equals: 0.0\n",
      "attr 2 gain equals: 0.2516291673878229\n",
      "attr 3 gain equals: 0.0\n",
      "attr 4 gain equals: 0.2516291673878229\n",
      "attr 5 gain equals: 0.0\n"
     ]
    }
   ],
   "source": [
    "printInformationGain(leftRight_data)"
   ]
  },
  {
   "cell_type": "code",
   "execution_count": 31,
   "metadata": {},
   "outputs": [],
   "source": [
    "lrChild = Node(\"attr 2\", None, None, None)\n",
    "lrlChild = Node(None, None, None, 0)\n",
    "lrrChild = Node(None, None, None, 1)\n",
    "lrChild.left = lrlChild\n",
    "lrChild.right = lrrChild\n",
    "lChild.right=lrChild"
   ]
  },
  {
   "cell_type": "code",
   "execution_count": 32,
   "metadata": {},
   "outputs": [
    {
     "data": {
      "image/svg+xml": [
       "<?xml version=\"1.0\" encoding=\"UTF-8\" standalone=\"no\"?>\n",
       "<!DOCTYPE svg PUBLIC \"-//W3C//DTD SVG 1.1//EN\"\n",
       " \"http://www.w3.org/Graphics/SVG/1.1/DTD/svg11.dtd\">\n",
       "<!-- Generated by graphviz version 9.0.0 (20230911.1827)\n",
       " -->\n",
       "<!-- Pages: 1 -->\n",
       "<svg width=\"466pt\" height=\"565pt\"\n",
       " viewBox=\"0.00 0.00 466.12 564.89\" xmlns=\"http://www.w3.org/2000/svg\" xmlns:xlink=\"http://www.w3.org/1999/xlink\">\n",
       "<g id=\"graph0\" class=\"graph\" transform=\"scale(1 1) rotate(0) translate(4 560.89)\">\n",
       "<polygon fill=\"white\" stroke=\"none\" points=\"-4,4 -4,-560.89 462.12,-560.89 462.12,4 -4,4\"/>\n",
       "<!-- 0 -->\n",
       "<g id=\"node1\" class=\"node\">\n",
       "<title>0</title>\n",
       "<ellipse fill=\"yellow\" stroke=\"black\" cx=\"228.56\" cy=\"-506.68\" rx=\"50.56\" ry=\"50.2\"/>\n",
       "<text text-anchor=\"middle\" x=\"228.56\" y=\"-524.88\" font-family=\"Times New Roman,serif\" font-size=\"14.00\">node id: 0</text>\n",
       "<text text-anchor=\"middle\" x=\"228.56\" y=\"-509.13\" font-family=\"Times New Roman,serif\" font-size=\"14.00\">attr 3</text>\n",
       "<text text-anchor=\"middle\" x=\"228.56\" y=\"-493.38\" font-family=\"Times New Roman,serif\" font-size=\"14.00\">cl 0: 4</text>\n",
       "<text text-anchor=\"middle\" x=\"228.56\" y=\"-477.63\" font-family=\"Times New Roman,serif\" font-size=\"14.00\">cl 1: 6</text>\n",
       "</g>\n",
       "<!-- 1 -->\n",
       "<g id=\"node2\" class=\"node\">\n",
       "<title>1</title>\n",
       "<ellipse fill=\"yellow\" stroke=\"black\" cx=\"169.56\" cy=\"-354.52\" rx=\"50.56\" ry=\"50.2\"/>\n",
       "<text text-anchor=\"middle\" x=\"169.56\" y=\"-372.72\" font-family=\"Times New Roman,serif\" font-size=\"14.00\">node id: 1</text>\n",
       "<text text-anchor=\"middle\" x=\"169.56\" y=\"-356.97\" font-family=\"Times New Roman,serif\" font-size=\"14.00\">attr 1</text>\n",
       "<text text-anchor=\"middle\" x=\"169.56\" y=\"-341.22\" font-family=\"Times New Roman,serif\" font-size=\"14.00\">cl 0: 3</text>\n",
       "<text text-anchor=\"middle\" x=\"169.56\" y=\"-325.47\" font-family=\"Times New Roman,serif\" font-size=\"14.00\">cl 1: 2</text>\n",
       "</g>\n",
       "<!-- 0&#45;&gt;1 -->\n",
       "<g id=\"edge7\" class=\"edge\">\n",
       "<title>0&#45;&gt;1</title>\n",
       "<path fill=\"none\" stroke=\"black\" d=\"M210.37,-459.4C204.52,-444.49 197.95,-427.79 191.83,-412.22\"/>\n",
       "<polygon fill=\"black\" stroke=\"black\" points=\"195.15,-411.08 188.23,-403.06 188.63,-413.64 195.15,-411.08\"/>\n",
       "<text text-anchor=\"middle\" x=\"204.93\" y=\"-425.18\" font-family=\"Times New Roman,serif\" font-size=\"14.00\">0</text>\n",
       "</g>\n",
       "<!-- 2 -->\n",
       "<g id=\"node7\" class=\"node\">\n",
       "<title>2</title>\n",
       "<ellipse fill=\"yellow\" stroke=\"black\" cx=\"288.56\" cy=\"-354.52\" rx=\"50.56\" ry=\"50.2\"/>\n",
       "<text text-anchor=\"middle\" x=\"288.56\" y=\"-372.72\" font-family=\"Times New Roman,serif\" font-size=\"14.00\">node id: 2</text>\n",
       "<text text-anchor=\"middle\" x=\"288.56\" y=\"-356.97\" font-family=\"Times New Roman,serif\" font-size=\"14.00\">attr 4</text>\n",
       "<text text-anchor=\"middle\" x=\"288.56\" y=\"-341.22\" font-family=\"Times New Roman,serif\" font-size=\"14.00\">cl 0: 1</text>\n",
       "<text text-anchor=\"middle\" x=\"288.56\" y=\"-325.47\" font-family=\"Times New Roman,serif\" font-size=\"14.00\">cl 1: 4</text>\n",
       "</g>\n",
       "<!-- 0&#45;&gt;2 -->\n",
       "<g id=\"edge8\" class=\"edge\">\n",
       "<title>0&#45;&gt;2</title>\n",
       "<path fill=\"none\" stroke=\"black\" d=\"M246.89,-459.81C252.88,-444.82 259.61,-427.98 265.88,-412.28\"/>\n",
       "<polygon fill=\"black\" stroke=\"black\" points=\"269.11,-413.62 269.57,-403.03 262.61,-411.02 269.11,-413.62\"/>\n",
       "<text text-anchor=\"middle\" x=\"263.93\" y=\"-425.18\" font-family=\"Times New Roman,serif\" font-size=\"14.00\">1</text>\n",
       "</g>\n",
       "<!-- 3 -->\n",
       "<g id=\"node3\" class=\"node\">\n",
       "<title>3</title>\n",
       "<ellipse fill=\"green\" stroke=\"black\" cx=\"50.56\" cy=\"-202.36\" rx=\"50.56\" ry=\"50.2\"/>\n",
       "<text text-anchor=\"middle\" x=\"50.56\" y=\"-220.56\" font-family=\"Times New Roman,serif\" font-size=\"14.00\">node id: 3</text>\n",
       "<text text-anchor=\"middle\" x=\"50.56\" y=\"-204.81\" font-family=\"Times New Roman,serif\" font-size=\"14.00\">cl = 0</text>\n",
       "<text text-anchor=\"middle\" x=\"50.56\" y=\"-189.06\" font-family=\"Times New Roman,serif\" font-size=\"14.00\">cl 0: 2</text>\n",
       "<text text-anchor=\"middle\" x=\"50.56\" y=\"-173.31\" font-family=\"Times New Roman,serif\" font-size=\"14.00\">cl 1: 0</text>\n",
       "</g>\n",
       "<!-- 1&#45;&gt;3 -->\n",
       "<g id=\"edge3\" class=\"edge\">\n",
       "<title>1&#45;&gt;3</title>\n",
       "<path fill=\"none\" stroke=\"black\" d=\"M138.6,-314.46C123.31,-295.16 104.71,-271.69 88.56,-251.31\"/>\n",
       "<polygon fill=\"black\" stroke=\"black\" points=\"91.46,-249.34 82.5,-243.68 85.97,-253.69 91.46,-249.34\"/>\n",
       "<text text-anchor=\"middle\" x=\"117.93\" y=\"-273.02\" font-family=\"Times New Roman,serif\" font-size=\"14.00\">0</text>\n",
       "</g>\n",
       "<!-- 4 -->\n",
       "<g id=\"node4\" class=\"node\">\n",
       "<title>4</title>\n",
       "<ellipse fill=\"yellow\" stroke=\"black\" cx=\"169.56\" cy=\"-202.36\" rx=\"50.56\" ry=\"50.2\"/>\n",
       "<text text-anchor=\"middle\" x=\"169.56\" y=\"-220.56\" font-family=\"Times New Roman,serif\" font-size=\"14.00\">node id: 4</text>\n",
       "<text text-anchor=\"middle\" x=\"169.56\" y=\"-204.81\" font-family=\"Times New Roman,serif\" font-size=\"14.00\">attr 2</text>\n",
       "<text text-anchor=\"middle\" x=\"169.56\" y=\"-189.06\" font-family=\"Times New Roman,serif\" font-size=\"14.00\">cl 0: 1</text>\n",
       "<text text-anchor=\"middle\" x=\"169.56\" y=\"-173.31\" font-family=\"Times New Roman,serif\" font-size=\"14.00\">cl 1: 2</text>\n",
       "</g>\n",
       "<!-- 1&#45;&gt;4 -->\n",
       "<g id=\"edge4\" class=\"edge\">\n",
       "<title>1&#45;&gt;4</title>\n",
       "<path fill=\"none\" stroke=\"black\" d=\"M169.56,-303.94C169.56,-291.25 169.56,-277.47 169.56,-264.28\"/>\n",
       "<polygon fill=\"black\" stroke=\"black\" points=\"173.06,-264.41 169.56,-254.41 166.06,-264.41 173.06,-264.41\"/>\n",
       "<text text-anchor=\"middle\" x=\"172.93\" y=\"-273.02\" font-family=\"Times New Roman,serif\" font-size=\"14.00\">1</text>\n",
       "</g>\n",
       "<!-- 7 -->\n",
       "<g id=\"node5\" class=\"node\">\n",
       "<title>7</title>\n",
       "<ellipse fill=\"green\" stroke=\"black\" cx=\"109.56\" cy=\"-50.2\" rx=\"50.56\" ry=\"50.2\"/>\n",
       "<text text-anchor=\"middle\" x=\"109.56\" y=\"-68.4\" font-family=\"Times New Roman,serif\" font-size=\"14.00\">node id: 7</text>\n",
       "<text text-anchor=\"middle\" x=\"109.56\" y=\"-52.65\" font-family=\"Times New Roman,serif\" font-size=\"14.00\">cl = 0</text>\n",
       "<text text-anchor=\"middle\" x=\"109.56\" y=\"-36.9\" font-family=\"Times New Roman,serif\" font-size=\"14.00\">cl 0: 1</text>\n",
       "<text text-anchor=\"middle\" x=\"109.56\" y=\"-21.15\" font-family=\"Times New Roman,serif\" font-size=\"14.00\">cl 1: 1</text>\n",
       "</g>\n",
       "<!-- 4&#45;&gt;7 -->\n",
       "<g id=\"edge1\" class=\"edge\">\n",
       "<title>4&#45;&gt;7</title>\n",
       "<path fill=\"none\" stroke=\"black\" d=\"M151.23,-155.5C145.24,-140.5 138.51,-123.66 132.24,-107.96\"/>\n",
       "<polygon fill=\"black\" stroke=\"black\" points=\"135.5,-106.7 128.54,-98.72 129,-109.3 135.5,-106.7\"/>\n",
       "<text text-anchor=\"middle\" x=\"144.93\" y=\"-120.86\" font-family=\"Times New Roman,serif\" font-size=\"14.00\">0</text>\n",
       "</g>\n",
       "<!-- 8 -->\n",
       "<g id=\"node6\" class=\"node\">\n",
       "<title>8</title>\n",
       "<ellipse fill=\"red\" stroke=\"black\" cx=\"228.56\" cy=\"-50.2\" rx=\"50.56\" ry=\"50.2\"/>\n",
       "<text text-anchor=\"middle\" x=\"228.56\" y=\"-68.4\" font-family=\"Times New Roman,serif\" font-size=\"14.00\">node id: 8</text>\n",
       "<text text-anchor=\"middle\" x=\"228.56\" y=\"-52.65\" font-family=\"Times New Roman,serif\" font-size=\"14.00\">cl = 1</text>\n",
       "<text text-anchor=\"middle\" x=\"228.56\" y=\"-36.9\" font-family=\"Times New Roman,serif\" font-size=\"14.00\">cl 0: 0</text>\n",
       "<text text-anchor=\"middle\" x=\"228.56\" y=\"-21.15\" font-family=\"Times New Roman,serif\" font-size=\"14.00\">cl 1: 1</text>\n",
       "</g>\n",
       "<!-- 4&#45;&gt;8 -->\n",
       "<g id=\"edge2\" class=\"edge\">\n",
       "<title>4&#45;&gt;8</title>\n",
       "<path fill=\"none\" stroke=\"black\" d=\"M187.74,-155.09C193.6,-140.17 200.16,-123.47 206.28,-107.9\"/>\n",
       "<polygon fill=\"black\" stroke=\"black\" points=\"209.48,-109.33 209.88,-98.74 202.97,-106.77 209.48,-109.33\"/>\n",
       "<text text-anchor=\"middle\" x=\"204.93\" y=\"-120.86\" font-family=\"Times New Roman,serif\" font-size=\"14.00\">1</text>\n",
       "</g>\n",
       "<!-- 5 -->\n",
       "<g id=\"node8\" class=\"node\">\n",
       "<title>5</title>\n",
       "<ellipse fill=\"green\" stroke=\"black\" cx=\"288.56\" cy=\"-202.36\" rx=\"50.56\" ry=\"50.2\"/>\n",
       "<text text-anchor=\"middle\" x=\"288.56\" y=\"-220.56\" font-family=\"Times New Roman,serif\" font-size=\"14.00\">node id: 5</text>\n",
       "<text text-anchor=\"middle\" x=\"288.56\" y=\"-204.81\" font-family=\"Times New Roman,serif\" font-size=\"14.00\">cl = 0</text>\n",
       "<text text-anchor=\"middle\" x=\"288.56\" y=\"-189.06\" font-family=\"Times New Roman,serif\" font-size=\"14.00\">cl 0: 1</text>\n",
       "<text text-anchor=\"middle\" x=\"288.56\" y=\"-173.31\" font-family=\"Times New Roman,serif\" font-size=\"14.00\">cl 1: 0</text>\n",
       "</g>\n",
       "<!-- 2&#45;&gt;5 -->\n",
       "<g id=\"edge5\" class=\"edge\">\n",
       "<title>2&#45;&gt;5</title>\n",
       "<path fill=\"none\" stroke=\"black\" d=\"M288.56,-303.94C288.56,-291.25 288.56,-277.47 288.56,-264.28\"/>\n",
       "<polygon fill=\"black\" stroke=\"black\" points=\"292.06,-264.41 288.56,-254.41 285.06,-264.41 292.06,-264.41\"/>\n",
       "<text text-anchor=\"middle\" x=\"291.93\" y=\"-273.02\" font-family=\"Times New Roman,serif\" font-size=\"14.00\">0</text>\n",
       "</g>\n",
       "<!-- 6 -->\n",
       "<g id=\"node9\" class=\"node\">\n",
       "<title>6</title>\n",
       "<ellipse fill=\"red\" stroke=\"black\" cx=\"407.56\" cy=\"-202.36\" rx=\"50.56\" ry=\"50.2\"/>\n",
       "<text text-anchor=\"middle\" x=\"407.56\" y=\"-220.56\" font-family=\"Times New Roman,serif\" font-size=\"14.00\">node id: 6</text>\n",
       "<text text-anchor=\"middle\" x=\"407.56\" y=\"-204.81\" font-family=\"Times New Roman,serif\" font-size=\"14.00\">cl = 1</text>\n",
       "<text text-anchor=\"middle\" x=\"407.56\" y=\"-189.06\" font-family=\"Times New Roman,serif\" font-size=\"14.00\">cl 0: 0</text>\n",
       "<text text-anchor=\"middle\" x=\"407.56\" y=\"-173.31\" font-family=\"Times New Roman,serif\" font-size=\"14.00\">cl 1: 4</text>\n",
       "</g>\n",
       "<!-- 2&#45;&gt;6 -->\n",
       "<g id=\"edge6\" class=\"edge\">\n",
       "<title>2&#45;&gt;6</title>\n",
       "<path fill=\"none\" stroke=\"black\" d=\"M319.51,-314.46C334.81,-295.16 353.41,-271.69 369.56,-251.31\"/>\n",
       "<polygon fill=\"black\" stroke=\"black\" points=\"372.14,-253.69 375.61,-243.68 366.66,-249.34 372.14,-253.69\"/>\n",
       "<text text-anchor=\"middle\" x=\"355.93\" y=\"-273.02\" font-family=\"Times New Roman,serif\" font-size=\"14.00\">1</text>\n",
       "</g>\n",
       "</g>\n",
       "</svg>\n"
      ],
      "text/plain": [
       "<graphviz.graphs.Digraph at 0x1fbb79902b0>"
      ]
     },
     "metadata": {},
     "output_type": "display_data"
    },
    {
     "name": "stdout",
     "output_type": "stream",
     "text": [
      "0.10\n"
     ]
    }
   ],
   "source": [
    "cm.printGraph(root, data)\n",
    "print(f\"{cm.getErrorRate(root, data):.2f}\")"
   ]
  },
  {
   "cell_type": "markdown",
   "metadata": {},
   "source": [
    "2.16) What happened with the error rate? Is it necessary to keep these two newly added leaves?"
   ]
  },
  {
   "cell_type": "markdown",
   "metadata": {},
   "source": [
    "Answer: Error rate didn't improve, therefore we can trim those newly added tree."
   ]
  },
  {
   "cell_type": "markdown",
   "metadata": {},
   "source": [
    "2.17) Finish creating the right side of the tree"
   ]
  },
  {
   "cell_type": "code",
   "execution_count": 33,
   "metadata": {},
   "outputs": [
    {
     "data": {
      "image/svg+xml": [
       "<?xml version=\"1.0\" encoding=\"UTF-8\" standalone=\"no\"?>\n",
       "<!DOCTYPE svg PUBLIC \"-//W3C//DTD SVG 1.1//EN\"\n",
       " \"http://www.w3.org/Graphics/SVG/1.1/DTD/svg11.dtd\">\n",
       "<!-- Generated by graphviz version 9.0.0 (20230911.1827)\n",
       " -->\n",
       "<!-- Pages: 1 -->\n",
       "<svg width=\"466pt\" height=\"413pt\"\n",
       " viewBox=\"0.00 0.00 466.12 412.73\" xmlns=\"http://www.w3.org/2000/svg\" xmlns:xlink=\"http://www.w3.org/1999/xlink\">\n",
       "<g id=\"graph0\" class=\"graph\" transform=\"scale(1 1) rotate(0) translate(4 408.73)\">\n",
       "<polygon fill=\"white\" stroke=\"none\" points=\"-4,4 -4,-408.73 462.12,-408.73 462.12,4 -4,4\"/>\n",
       "<!-- 0 -->\n",
       "<g id=\"node1\" class=\"node\">\n",
       "<title>0</title>\n",
       "<ellipse fill=\"yellow\" stroke=\"black\" cx=\"228.56\" cy=\"-354.52\" rx=\"50.56\" ry=\"50.2\"/>\n",
       "<text text-anchor=\"middle\" x=\"228.56\" y=\"-372.72\" font-family=\"Times New Roman,serif\" font-size=\"14.00\">node id: 0</text>\n",
       "<text text-anchor=\"middle\" x=\"228.56\" y=\"-356.97\" font-family=\"Times New Roman,serif\" font-size=\"14.00\">attr 3</text>\n",
       "<text text-anchor=\"middle\" x=\"228.56\" y=\"-341.22\" font-family=\"Times New Roman,serif\" font-size=\"14.00\">cl 0: 4</text>\n",
       "<text text-anchor=\"middle\" x=\"228.56\" y=\"-325.47\" font-family=\"Times New Roman,serif\" font-size=\"14.00\">cl 1: 6</text>\n",
       "</g>\n",
       "<!-- 1 -->\n",
       "<g id=\"node2\" class=\"node\">\n",
       "<title>1</title>\n",
       "<ellipse fill=\"yellow\" stroke=\"black\" cx=\"169.56\" cy=\"-202.36\" rx=\"50.56\" ry=\"50.2\"/>\n",
       "<text text-anchor=\"middle\" x=\"169.56\" y=\"-220.56\" font-family=\"Times New Roman,serif\" font-size=\"14.00\">node id: 1</text>\n",
       "<text text-anchor=\"middle\" x=\"169.56\" y=\"-204.81\" font-family=\"Times New Roman,serif\" font-size=\"14.00\">attr 1</text>\n",
       "<text text-anchor=\"middle\" x=\"169.56\" y=\"-189.06\" font-family=\"Times New Roman,serif\" font-size=\"14.00\">cl 0: 3</text>\n",
       "<text text-anchor=\"middle\" x=\"169.56\" y=\"-173.31\" font-family=\"Times New Roman,serif\" font-size=\"14.00\">cl 1: 2</text>\n",
       "</g>\n",
       "<!-- 0&#45;&gt;1 -->\n",
       "<g id=\"edge5\" class=\"edge\">\n",
       "<title>0&#45;&gt;1</title>\n",
       "<path fill=\"none\" stroke=\"black\" d=\"M210.37,-307.24C204.52,-292.33 197.95,-275.63 191.83,-260.06\"/>\n",
       "<polygon fill=\"black\" stroke=\"black\" points=\"195.15,-258.92 188.23,-250.9 188.63,-261.48 195.15,-258.92\"/>\n",
       "<text text-anchor=\"middle\" x=\"204.93\" y=\"-273.02\" font-family=\"Times New Roman,serif\" font-size=\"14.00\">0</text>\n",
       "</g>\n",
       "<!-- 2 -->\n",
       "<g id=\"node5\" class=\"node\">\n",
       "<title>2</title>\n",
       "<ellipse fill=\"yellow\" stroke=\"black\" cx=\"288.56\" cy=\"-202.36\" rx=\"50.56\" ry=\"50.2\"/>\n",
       "<text text-anchor=\"middle\" x=\"288.56\" y=\"-220.56\" font-family=\"Times New Roman,serif\" font-size=\"14.00\">node id: 2</text>\n",
       "<text text-anchor=\"middle\" x=\"288.56\" y=\"-204.81\" font-family=\"Times New Roman,serif\" font-size=\"14.00\">attr 4</text>\n",
       "<text text-anchor=\"middle\" x=\"288.56\" y=\"-189.06\" font-family=\"Times New Roman,serif\" font-size=\"14.00\">cl 0: 1</text>\n",
       "<text text-anchor=\"middle\" x=\"288.56\" y=\"-173.31\" font-family=\"Times New Roman,serif\" font-size=\"14.00\">cl 1: 4</text>\n",
       "</g>\n",
       "<!-- 0&#45;&gt;2 -->\n",
       "<g id=\"edge6\" class=\"edge\">\n",
       "<title>0&#45;&gt;2</title>\n",
       "<path fill=\"none\" stroke=\"black\" d=\"M246.89,-307.65C252.88,-292.66 259.61,-275.82 265.88,-260.12\"/>\n",
       "<polygon fill=\"black\" stroke=\"black\" points=\"269.11,-261.46 269.57,-250.87 262.61,-258.86 269.11,-261.46\"/>\n",
       "<text text-anchor=\"middle\" x=\"263.93\" y=\"-273.02\" font-family=\"Times New Roman,serif\" font-size=\"14.00\">1</text>\n",
       "</g>\n",
       "<!-- 3 -->\n",
       "<g id=\"node3\" class=\"node\">\n",
       "<title>3</title>\n",
       "<ellipse fill=\"green\" stroke=\"black\" cx=\"50.56\" cy=\"-50.2\" rx=\"50.56\" ry=\"50.2\"/>\n",
       "<text text-anchor=\"middle\" x=\"50.56\" y=\"-68.4\" font-family=\"Times New Roman,serif\" font-size=\"14.00\">node id: 3</text>\n",
       "<text text-anchor=\"middle\" x=\"50.56\" y=\"-52.65\" font-family=\"Times New Roman,serif\" font-size=\"14.00\">cl = 0</text>\n",
       "<text text-anchor=\"middle\" x=\"50.56\" y=\"-36.9\" font-family=\"Times New Roman,serif\" font-size=\"14.00\">cl 0: 2</text>\n",
       "<text text-anchor=\"middle\" x=\"50.56\" y=\"-21.15\" font-family=\"Times New Roman,serif\" font-size=\"14.00\">cl 1: 0</text>\n",
       "</g>\n",
       "<!-- 1&#45;&gt;3 -->\n",
       "<g id=\"edge1\" class=\"edge\">\n",
       "<title>1&#45;&gt;3</title>\n",
       "<path fill=\"none\" stroke=\"black\" d=\"M138.6,-162.3C123.31,-143 104.71,-119.54 88.56,-99.15\"/>\n",
       "<polygon fill=\"black\" stroke=\"black\" points=\"91.46,-97.18 82.5,-91.52 85.97,-101.53 91.46,-97.18\"/>\n",
       "<text text-anchor=\"middle\" x=\"117.93\" y=\"-120.86\" font-family=\"Times New Roman,serif\" font-size=\"14.00\">0</text>\n",
       "</g>\n",
       "<!-- 4 -->\n",
       "<g id=\"node4\" class=\"node\">\n",
       "<title>4</title>\n",
       "<ellipse fill=\"red\" stroke=\"black\" cx=\"169.56\" cy=\"-50.2\" rx=\"50.56\" ry=\"50.2\"/>\n",
       "<text text-anchor=\"middle\" x=\"169.56\" y=\"-68.4\" font-family=\"Times New Roman,serif\" font-size=\"14.00\">node id: 4</text>\n",
       "<text text-anchor=\"middle\" x=\"169.56\" y=\"-52.65\" font-family=\"Times New Roman,serif\" font-size=\"14.00\">cl = 1</text>\n",
       "<text text-anchor=\"middle\" x=\"169.56\" y=\"-36.9\" font-family=\"Times New Roman,serif\" font-size=\"14.00\">cl 0: 1</text>\n",
       "<text text-anchor=\"middle\" x=\"169.56\" y=\"-21.15\" font-family=\"Times New Roman,serif\" font-size=\"14.00\">cl 1: 2</text>\n",
       "</g>\n",
       "<!-- 1&#45;&gt;4 -->\n",
       "<g id=\"edge2\" class=\"edge\">\n",
       "<title>1&#45;&gt;4</title>\n",
       "<path fill=\"none\" stroke=\"black\" d=\"M169.56,-151.78C169.56,-139.09 169.56,-125.31 169.56,-112.12\"/>\n",
       "<polygon fill=\"black\" stroke=\"black\" points=\"173.06,-112.25 169.56,-102.25 166.06,-112.25 173.06,-112.25\"/>\n",
       "<text text-anchor=\"middle\" x=\"172.93\" y=\"-120.86\" font-family=\"Times New Roman,serif\" font-size=\"14.00\">1</text>\n",
       "</g>\n",
       "<!-- 5 -->\n",
       "<g id=\"node6\" class=\"node\">\n",
       "<title>5</title>\n",
       "<ellipse fill=\"green\" stroke=\"black\" cx=\"288.56\" cy=\"-50.2\" rx=\"50.56\" ry=\"50.2\"/>\n",
       "<text text-anchor=\"middle\" x=\"288.56\" y=\"-68.4\" font-family=\"Times New Roman,serif\" font-size=\"14.00\">node id: 5</text>\n",
       "<text text-anchor=\"middle\" x=\"288.56\" y=\"-52.65\" font-family=\"Times New Roman,serif\" font-size=\"14.00\">cl = 0</text>\n",
       "<text text-anchor=\"middle\" x=\"288.56\" y=\"-36.9\" font-family=\"Times New Roman,serif\" font-size=\"14.00\">cl 0: 1</text>\n",
       "<text text-anchor=\"middle\" x=\"288.56\" y=\"-21.15\" font-family=\"Times New Roman,serif\" font-size=\"14.00\">cl 1: 0</text>\n",
       "</g>\n",
       "<!-- 2&#45;&gt;5 -->\n",
       "<g id=\"edge3\" class=\"edge\">\n",
       "<title>2&#45;&gt;5</title>\n",
       "<path fill=\"none\" stroke=\"black\" d=\"M288.56,-151.78C288.56,-139.09 288.56,-125.31 288.56,-112.12\"/>\n",
       "<polygon fill=\"black\" stroke=\"black\" points=\"292.06,-112.25 288.56,-102.25 285.06,-112.25 292.06,-112.25\"/>\n",
       "<text text-anchor=\"middle\" x=\"291.93\" y=\"-120.86\" font-family=\"Times New Roman,serif\" font-size=\"14.00\">0</text>\n",
       "</g>\n",
       "<!-- 6 -->\n",
       "<g id=\"node7\" class=\"node\">\n",
       "<title>6</title>\n",
       "<ellipse fill=\"red\" stroke=\"black\" cx=\"407.56\" cy=\"-50.2\" rx=\"50.56\" ry=\"50.2\"/>\n",
       "<text text-anchor=\"middle\" x=\"407.56\" y=\"-68.4\" font-family=\"Times New Roman,serif\" font-size=\"14.00\">node id: 6</text>\n",
       "<text text-anchor=\"middle\" x=\"407.56\" y=\"-52.65\" font-family=\"Times New Roman,serif\" font-size=\"14.00\">cl = 1</text>\n",
       "<text text-anchor=\"middle\" x=\"407.56\" y=\"-36.9\" font-family=\"Times New Roman,serif\" font-size=\"14.00\">cl 0: 0</text>\n",
       "<text text-anchor=\"middle\" x=\"407.56\" y=\"-21.15\" font-family=\"Times New Roman,serif\" font-size=\"14.00\">cl 1: 4</text>\n",
       "</g>\n",
       "<!-- 2&#45;&gt;6 -->\n",
       "<g id=\"edge4\" class=\"edge\">\n",
       "<title>2&#45;&gt;6</title>\n",
       "<path fill=\"none\" stroke=\"black\" d=\"M319.51,-162.3C334.81,-143 353.41,-119.54 369.56,-99.15\"/>\n",
       "<polygon fill=\"black\" stroke=\"black\" points=\"372.14,-101.53 375.61,-91.52 366.66,-97.18 372.14,-101.53\"/>\n",
       "<text text-anchor=\"middle\" x=\"355.93\" y=\"-120.86\" font-family=\"Times New Roman,serif\" font-size=\"14.00\">1</text>\n",
       "</g>\n",
       "</g>\n",
       "</svg>\n"
      ],
      "text/plain": [
       "<graphviz.graphs.Digraph at 0x1fbb7990070>"
      ]
     },
     "metadata": {},
     "output_type": "display_data"
    },
    {
     "name": "stdout",
     "output_type": "stream",
     "text": [
      "0.10\n"
     ]
    }
   ],
   "source": [
    "### I may have misunderstood the exercises before, but the right branch is already completed.\n",
    "### Therefore I will just trim those unnecessary newly created 2 nodes.\n",
    "lrChild = Node(None, None, None, 1)\n",
    "lChild.right=lrChild\n",
    "cm.printGraph(root, data)\n",
    "print(f\"{cm.getErrorRate(root, data):.2f}\")"
   ]
  },
  {
   "cell_type": "markdown",
   "metadata": {},
   "source": [
    "# Part 3: automated construction of decision trees"
   ]
  },
  {
   "cell_type": "markdown",
   "metadata": {},
   "source": [
    "3.1 Complete the following function for automated construct of decision trees, so that it returns a decision tree for the given data and attribute list. Note that this is a recusive method, i.e., calls itself."
   ]
  },
  {
   "cell_type": "code",
   "execution_count": 62,
   "metadata": {},
   "outputs": [],
   "source": [
    "max_depth = 10"
   ]
  },
  {
   "cell_type": "code",
   "execution_count": 87,
   "metadata": {},
   "outputs": [],
   "source": [
    "def maxArgInformationGain(data, attributeNames):\n",
    "    max_gain = float('-inf')\n",
    "    max_arg = None\n",
    "\n",
    "    for attribute_name in attributeNames:\n",
    "        gain = getInformationGain(data[\"cl\"], data[attribute_name])\n",
    "        if gain > max_gain:\n",
    "            max_gain = gain\n",
    "            max_arg = attribute_name\n",
    "\n",
    "    return max_arg, max_gain"
   ]
  },
  {
   "cell_type": "code",
   "execution_count": 138,
   "metadata": {},
   "outputs": [],
   "source": [
    "def splitTree(current_node, current_data, attributeNames, depth):\n",
    "    #Don't go further than the desired depth\n",
    "    if(depth > max_depth):\n",
    "        return current_node\n",
    "    else:\n",
    "        #print(depth)\n",
    "        #print(current_data)\n",
    "        #print()\n",
    "        arg, gain = maxArgInformationGain(current_data, attributeNames)\n",
    "        #Don't split further if there is no gain\n",
    "        if(gain == 0):\n",
    "            return current_node\n",
    "        #Compute number of misclassified nodes in this subtree\n",
    "        misclassified = len(current_data) - len(current_data[current_data[\"cl\"] == current_node.value])\n",
    "        left_data = current_data[current_data[arg] == 0]\n",
    "        right_data = current_data[current_data[arg] == 1]\n",
    "        #Compute how many samples would still be missclassified after split\n",
    "        new_misclassified = 0\n",
    "        #Left subtree\n",
    "        left_size = len(left_data)\n",
    "        ones = len(left_data[left_data[\"cl\"] == 1])\n",
    "        zeros = left_size - ones\n",
    "        if zeros > ones:\n",
    "            decision_left = 0\n",
    "            new_misclassified += ones\n",
    "        else :\n",
    "            decision_left = 1\n",
    "            new_misclassified += zeros\n",
    "        leftChild = Node(None, None, None, decision_left)\n",
    "        #Right subtree\n",
    "        right_size = len(right_data)\n",
    "        ones = len(right_data[right_data[\"cl\"] == 1])\n",
    "        zeros = right_size - ones\n",
    "        if zeros > ones:\n",
    "            decision_right = 0\n",
    "            new_misclassified += ones\n",
    "        else :\n",
    "            decision_right = 1\n",
    "            new_misclassified += zeros\n",
    "        rightChild = Node(None, None, None, decision_right)\n",
    "        #Decide if we need to split\n",
    "        #Misclassified is actually Error_rate/len(data)\n",
    "        #Therefore comparing these variables is equivalent to comparing error rates\n",
    "        if(new_misclassified < misclassified):\n",
    "            #Split recursively\n",
    "            if(len(left_data) > 0):\n",
    "                leftChild = splitTree(leftChild, left_data, attributeNames, depth + 1)\n",
    "            if(len(right_data) > 0):\n",
    "                rightChild = splitTree(rightChild, right_data, attributeNames, depth + 1)\n",
    "            #Return this node\n",
    "            current_node = Node(arg, leftChild, rightChild, None)\n",
    "            return current_node\n",
    "        else:\n",
    "            return current_node\n",
    "\n",
    "def createTree(data, attributeNames, depth=0):\n",
    "    data = data.reset_index().drop(\"index\", axis=1)\n",
    "    root = Node(None, None, None, 1)\n",
    "    return splitTree(root, data, attributeNames, 0) \n",
    "    "
   ]
  },
  {
   "cell_type": "markdown",
   "metadata": {},
   "source": [
    "3.2) Build a decision tree for a training dataset in the common.py auxiliary file, for diffrent values of max_depth.  Calculate & compare the error rates for training and validation datasets."
   ]
  },
  {
   "cell_type": "code",
   "execution_count": 126,
   "metadata": {},
   "outputs": [],
   "source": [
    "max_depth = 10"
   ]
  },
  {
   "cell_type": "code",
   "execution_count": 139,
   "metadata": {},
   "outputs": [
    {
     "data": {
      "image/svg+xml": [
       "<?xml version=\"1.0\" encoding=\"UTF-8\" standalone=\"no\"?>\n",
       "<!DOCTYPE svg PUBLIC \"-//W3C//DTD SVG 1.1//EN\"\n",
       " \"http://www.w3.org/Graphics/SVG/1.1/DTD/svg11.dtd\">\n",
       "<!-- Generated by graphviz version 9.0.0 (20230911.1827)\n",
       " -->\n",
       "<!-- Pages: 1 -->\n",
       "<svg width=\"287pt\" height=\"413pt\"\n",
       " viewBox=\"0.00 0.00 287.12 412.73\" xmlns=\"http://www.w3.org/2000/svg\" xmlns:xlink=\"http://www.w3.org/1999/xlink\">\n",
       "<g id=\"graph0\" class=\"graph\" transform=\"scale(1 1) rotate(0) translate(4 408.73)\">\n",
       "<polygon fill=\"white\" stroke=\"none\" points=\"-4,4 -4,-408.73 283.12,-408.73 283.12,4 -4,4\"/>\n",
       "<!-- 0 -->\n",
       "<g id=\"node1\" class=\"node\">\n",
       "<title>0</title>\n",
       "<ellipse fill=\"yellow\" stroke=\"black\" cx=\"169.56\" cy=\"-354.52\" rx=\"50.56\" ry=\"50.2\"/>\n",
       "<text text-anchor=\"middle\" x=\"169.56\" y=\"-372.72\" font-family=\"Times New Roman,serif\" font-size=\"14.00\">node id: 0</text>\n",
       "<text text-anchor=\"middle\" x=\"169.56\" y=\"-356.97\" font-family=\"Times New Roman,serif\" font-size=\"14.00\">attr 2</text>\n",
       "<text text-anchor=\"middle\" x=\"169.56\" y=\"-341.22\" font-family=\"Times New Roman,serif\" font-size=\"14.00\">cl 0: 12</text>\n",
       "<text text-anchor=\"middle\" x=\"169.56\" y=\"-325.47\" font-family=\"Times New Roman,serif\" font-size=\"14.00\">cl 1: 8</text>\n",
       "</g>\n",
       "<!-- 1 -->\n",
       "<g id=\"node2\" class=\"node\">\n",
       "<title>1</title>\n",
       "<ellipse fill=\"yellow\" stroke=\"black\" cx=\"109.56\" cy=\"-202.36\" rx=\"50.56\" ry=\"50.2\"/>\n",
       "<text text-anchor=\"middle\" x=\"109.56\" y=\"-220.56\" font-family=\"Times New Roman,serif\" font-size=\"14.00\">node id: 1</text>\n",
       "<text text-anchor=\"middle\" x=\"109.56\" y=\"-204.81\" font-family=\"Times New Roman,serif\" font-size=\"14.00\">attr 1</text>\n",
       "<text text-anchor=\"middle\" x=\"109.56\" y=\"-189.06\" font-family=\"Times New Roman,serif\" font-size=\"14.00\">cl 0: 2</text>\n",
       "<text text-anchor=\"middle\" x=\"109.56\" y=\"-173.31\" font-family=\"Times New Roman,serif\" font-size=\"14.00\">cl 1: 3</text>\n",
       "</g>\n",
       "<!-- 0&#45;&gt;1 -->\n",
       "<g id=\"edge3\" class=\"edge\">\n",
       "<title>0&#45;&gt;1</title>\n",
       "<path fill=\"none\" stroke=\"black\" d=\"M151.23,-307.65C145.24,-292.66 138.51,-275.82 132.24,-260.12\"/>\n",
       "<polygon fill=\"black\" stroke=\"black\" points=\"135.5,-258.86 128.54,-250.87 129,-261.46 135.5,-258.86\"/>\n",
       "<text text-anchor=\"middle\" x=\"144.93\" y=\"-273.02\" font-family=\"Times New Roman,serif\" font-size=\"14.00\">0</text>\n",
       "</g>\n",
       "<!-- 2 -->\n",
       "<g id=\"node5\" class=\"node\">\n",
       "<title>2</title>\n",
       "<ellipse fill=\"green\" stroke=\"black\" cx=\"228.56\" cy=\"-202.36\" rx=\"50.56\" ry=\"50.2\"/>\n",
       "<text text-anchor=\"middle\" x=\"228.56\" y=\"-220.56\" font-family=\"Times New Roman,serif\" font-size=\"14.00\">node id: 2</text>\n",
       "<text text-anchor=\"middle\" x=\"228.56\" y=\"-204.81\" font-family=\"Times New Roman,serif\" font-size=\"14.00\">cl = 0</text>\n",
       "<text text-anchor=\"middle\" x=\"228.56\" y=\"-189.06\" font-family=\"Times New Roman,serif\" font-size=\"14.00\">cl 0: 10</text>\n",
       "<text text-anchor=\"middle\" x=\"228.56\" y=\"-173.31\" font-family=\"Times New Roman,serif\" font-size=\"14.00\">cl 1: 5</text>\n",
       "</g>\n",
       "<!-- 0&#45;&gt;2 -->\n",
       "<g id=\"edge4\" class=\"edge\">\n",
       "<title>0&#45;&gt;2</title>\n",
       "<path fill=\"none\" stroke=\"black\" d=\"M187.74,-307.24C193.6,-292.33 200.16,-275.63 206.28,-260.06\"/>\n",
       "<polygon fill=\"black\" stroke=\"black\" points=\"209.48,-261.48 209.88,-250.9 202.97,-258.92 209.48,-261.48\"/>\n",
       "<text text-anchor=\"middle\" x=\"204.93\" y=\"-273.02\" font-family=\"Times New Roman,serif\" font-size=\"14.00\">1</text>\n",
       "</g>\n",
       "<!-- 3 -->\n",
       "<g id=\"node3\" class=\"node\">\n",
       "<title>3</title>\n",
       "<ellipse fill=\"green\" stroke=\"black\" cx=\"50.56\" cy=\"-50.2\" rx=\"50.56\" ry=\"50.2\"/>\n",
       "<text text-anchor=\"middle\" x=\"50.56\" y=\"-68.4\" font-family=\"Times New Roman,serif\" font-size=\"14.00\">node id: 3</text>\n",
       "<text text-anchor=\"middle\" x=\"50.56\" y=\"-52.65\" font-family=\"Times New Roman,serif\" font-size=\"14.00\">cl = 0</text>\n",
       "<text text-anchor=\"middle\" x=\"50.56\" y=\"-36.9\" font-family=\"Times New Roman,serif\" font-size=\"14.00\">cl 0: 2</text>\n",
       "<text text-anchor=\"middle\" x=\"50.56\" y=\"-21.15\" font-family=\"Times New Roman,serif\" font-size=\"14.00\">cl 1: 1</text>\n",
       "</g>\n",
       "<!-- 1&#45;&gt;3 -->\n",
       "<g id=\"edge1\" class=\"edge\">\n",
       "<title>1&#45;&gt;3</title>\n",
       "<path fill=\"none\" stroke=\"black\" d=\"M91.37,-155.09C85.52,-140.17 78.95,-123.47 72.83,-107.9\"/>\n",
       "<polygon fill=\"black\" stroke=\"black\" points=\"76.15,-106.77 69.23,-98.74 69.63,-109.33 76.15,-106.77\"/>\n",
       "<text text-anchor=\"middle\" x=\"85.93\" y=\"-120.86\" font-family=\"Times New Roman,serif\" font-size=\"14.00\">0</text>\n",
       "</g>\n",
       "<!-- 4 -->\n",
       "<g id=\"node4\" class=\"node\">\n",
       "<title>4</title>\n",
       "<ellipse fill=\"red\" stroke=\"black\" cx=\"169.56\" cy=\"-50.2\" rx=\"50.56\" ry=\"50.2\"/>\n",
       "<text text-anchor=\"middle\" x=\"169.56\" y=\"-68.4\" font-family=\"Times New Roman,serif\" font-size=\"14.00\">node id: 4</text>\n",
       "<text text-anchor=\"middle\" x=\"169.56\" y=\"-52.65\" font-family=\"Times New Roman,serif\" font-size=\"14.00\">cl = 1</text>\n",
       "<text text-anchor=\"middle\" x=\"169.56\" y=\"-36.9\" font-family=\"Times New Roman,serif\" font-size=\"14.00\">cl 0: 0</text>\n",
       "<text text-anchor=\"middle\" x=\"169.56\" y=\"-21.15\" font-family=\"Times New Roman,serif\" font-size=\"14.00\">cl 1: 2</text>\n",
       "</g>\n",
       "<!-- 1&#45;&gt;4 -->\n",
       "<g id=\"edge2\" class=\"edge\">\n",
       "<title>1&#45;&gt;4</title>\n",
       "<path fill=\"none\" stroke=\"black\" d=\"M127.89,-155.5C133.88,-140.5 140.61,-123.66 146.88,-107.96\"/>\n",
       "<polygon fill=\"black\" stroke=\"black\" points=\"150.11,-109.3 150.57,-98.72 143.61,-106.7 150.11,-109.3\"/>\n",
       "<text text-anchor=\"middle\" x=\"144.93\" y=\"-120.86\" font-family=\"Times New Roman,serif\" font-size=\"14.00\">1</text>\n",
       "</g>\n",
       "</g>\n",
       "</svg>\n"
      ],
      "text/plain": [
       "<graphviz.graphs.Digraph at 0x1fbb78f6680>"
      ]
     },
     "metadata": {},
     "output_type": "display_data"
    },
    {
     "name": "stdout",
     "output_type": "stream",
     "text": [
      "0.30\n"
     ]
    }
   ],
   "source": [
    "# Training dataset\n",
    "train_attributeNames, train_data = cm.getTrainingDataSet()\n",
    "root = createTree(train_data, train_attributeNames, 0)\n",
    "cm.printGraph(root, train_data)\n",
    "print(f\"{cm.getErrorRate(root, train_data):.2f}\")"
   ]
  },
  {
   "cell_type": "code",
   "execution_count": 128,
   "metadata": {},
   "outputs": [
    {
     "data": {
      "image/svg+xml": [
       "<?xml version=\"1.0\" encoding=\"UTF-8\" standalone=\"no\"?>\n",
       "<!DOCTYPE svg PUBLIC \"-//W3C//DTD SVG 1.1//EN\"\n",
       " \"http://www.w3.org/Graphics/SVG/1.1/DTD/svg11.dtd\">\n",
       "<!-- Generated by graphviz version 9.0.0 (20230911.1827)\n",
       " -->\n",
       "<!-- Pages: 1 -->\n",
       "<svg width=\"287pt\" height=\"413pt\"\n",
       " viewBox=\"0.00 0.00 287.12 412.73\" xmlns=\"http://www.w3.org/2000/svg\" xmlns:xlink=\"http://www.w3.org/1999/xlink\">\n",
       "<g id=\"graph0\" class=\"graph\" transform=\"scale(1 1) rotate(0) translate(4 408.73)\">\n",
       "<polygon fill=\"white\" stroke=\"none\" points=\"-4,4 -4,-408.73 283.12,-408.73 283.12,4 -4,4\"/>\n",
       "<!-- 0 -->\n",
       "<g id=\"node1\" class=\"node\">\n",
       "<title>0</title>\n",
       "<ellipse fill=\"yellow\" stroke=\"black\" cx=\"169.56\" cy=\"-354.52\" rx=\"50.56\" ry=\"50.2\"/>\n",
       "<text text-anchor=\"middle\" x=\"169.56\" y=\"-372.72\" font-family=\"Times New Roman,serif\" font-size=\"14.00\">node id: 0</text>\n",
       "<text text-anchor=\"middle\" x=\"169.56\" y=\"-356.97\" font-family=\"Times New Roman,serif\" font-size=\"14.00\">attr 2</text>\n",
       "<text text-anchor=\"middle\" x=\"169.56\" y=\"-341.22\" font-family=\"Times New Roman,serif\" font-size=\"14.00\">cl 0: 5</text>\n",
       "<text text-anchor=\"middle\" x=\"169.56\" y=\"-325.47\" font-family=\"Times New Roman,serif\" font-size=\"14.00\">cl 1: 5</text>\n",
       "</g>\n",
       "<!-- 1 -->\n",
       "<g id=\"node2\" class=\"node\">\n",
       "<title>1</title>\n",
       "<ellipse fill=\"yellow\" stroke=\"black\" cx=\"109.56\" cy=\"-202.36\" rx=\"50.56\" ry=\"50.2\"/>\n",
       "<text text-anchor=\"middle\" x=\"109.56\" y=\"-220.56\" font-family=\"Times New Roman,serif\" font-size=\"14.00\">node id: 1</text>\n",
       "<text text-anchor=\"middle\" x=\"109.56\" y=\"-204.81\" font-family=\"Times New Roman,serif\" font-size=\"14.00\">attr 1</text>\n",
       "<text text-anchor=\"middle\" x=\"109.56\" y=\"-189.06\" font-family=\"Times New Roman,serif\" font-size=\"14.00\">cl 0: 2</text>\n",
       "<text text-anchor=\"middle\" x=\"109.56\" y=\"-173.31\" font-family=\"Times New Roman,serif\" font-size=\"14.00\">cl 1: 2</text>\n",
       "</g>\n",
       "<!-- 0&#45;&gt;1 -->\n",
       "<g id=\"edge3\" class=\"edge\">\n",
       "<title>0&#45;&gt;1</title>\n",
       "<path fill=\"none\" stroke=\"black\" d=\"M151.23,-307.65C145.24,-292.66 138.51,-275.82 132.24,-260.12\"/>\n",
       "<polygon fill=\"black\" stroke=\"black\" points=\"135.5,-258.86 128.54,-250.87 129,-261.46 135.5,-258.86\"/>\n",
       "<text text-anchor=\"middle\" x=\"144.93\" y=\"-273.02\" font-family=\"Times New Roman,serif\" font-size=\"14.00\">0</text>\n",
       "</g>\n",
       "<!-- 2 -->\n",
       "<g id=\"node5\" class=\"node\">\n",
       "<title>2</title>\n",
       "<ellipse fill=\"green\" stroke=\"black\" cx=\"228.56\" cy=\"-202.36\" rx=\"50.56\" ry=\"50.2\"/>\n",
       "<text text-anchor=\"middle\" x=\"228.56\" y=\"-220.56\" font-family=\"Times New Roman,serif\" font-size=\"14.00\">node id: 2</text>\n",
       "<text text-anchor=\"middle\" x=\"228.56\" y=\"-204.81\" font-family=\"Times New Roman,serif\" font-size=\"14.00\">cl = 0</text>\n",
       "<text text-anchor=\"middle\" x=\"228.56\" y=\"-189.06\" font-family=\"Times New Roman,serif\" font-size=\"14.00\">cl 0: 3</text>\n",
       "<text text-anchor=\"middle\" x=\"228.56\" y=\"-173.31\" font-family=\"Times New Roman,serif\" font-size=\"14.00\">cl 1: 3</text>\n",
       "</g>\n",
       "<!-- 0&#45;&gt;2 -->\n",
       "<g id=\"edge4\" class=\"edge\">\n",
       "<title>0&#45;&gt;2</title>\n",
       "<path fill=\"none\" stroke=\"black\" d=\"M187.74,-307.24C193.6,-292.33 200.16,-275.63 206.28,-260.06\"/>\n",
       "<polygon fill=\"black\" stroke=\"black\" points=\"209.48,-261.48 209.88,-250.9 202.97,-258.92 209.48,-261.48\"/>\n",
       "<text text-anchor=\"middle\" x=\"204.93\" y=\"-273.02\" font-family=\"Times New Roman,serif\" font-size=\"14.00\">1</text>\n",
       "</g>\n",
       "<!-- 3 -->\n",
       "<g id=\"node3\" class=\"node\">\n",
       "<title>3</title>\n",
       "<ellipse fill=\"green\" stroke=\"black\" cx=\"50.56\" cy=\"-50.2\" rx=\"50.56\" ry=\"50.2\"/>\n",
       "<text text-anchor=\"middle\" x=\"50.56\" y=\"-68.4\" font-family=\"Times New Roman,serif\" font-size=\"14.00\">node id: 3</text>\n",
       "<text text-anchor=\"middle\" x=\"50.56\" y=\"-52.65\" font-family=\"Times New Roman,serif\" font-size=\"14.00\">cl = 0</text>\n",
       "<text text-anchor=\"middle\" x=\"50.56\" y=\"-36.9\" font-family=\"Times New Roman,serif\" font-size=\"14.00\">cl 0: 2</text>\n",
       "<text text-anchor=\"middle\" x=\"50.56\" y=\"-21.15\" font-family=\"Times New Roman,serif\" font-size=\"14.00\">cl 1: 1</text>\n",
       "</g>\n",
       "<!-- 1&#45;&gt;3 -->\n",
       "<g id=\"edge1\" class=\"edge\">\n",
       "<title>1&#45;&gt;3</title>\n",
       "<path fill=\"none\" stroke=\"black\" d=\"M91.37,-155.09C85.52,-140.17 78.95,-123.47 72.83,-107.9\"/>\n",
       "<polygon fill=\"black\" stroke=\"black\" points=\"76.15,-106.77 69.23,-98.74 69.63,-109.33 76.15,-106.77\"/>\n",
       "<text text-anchor=\"middle\" x=\"85.93\" y=\"-120.86\" font-family=\"Times New Roman,serif\" font-size=\"14.00\">0</text>\n",
       "</g>\n",
       "<!-- 4 -->\n",
       "<g id=\"node4\" class=\"node\">\n",
       "<title>4</title>\n",
       "<ellipse fill=\"red\" stroke=\"black\" cx=\"169.56\" cy=\"-50.2\" rx=\"50.56\" ry=\"50.2\"/>\n",
       "<text text-anchor=\"middle\" x=\"169.56\" y=\"-68.4\" font-family=\"Times New Roman,serif\" font-size=\"14.00\">node id: 4</text>\n",
       "<text text-anchor=\"middle\" x=\"169.56\" y=\"-52.65\" font-family=\"Times New Roman,serif\" font-size=\"14.00\">cl = 1</text>\n",
       "<text text-anchor=\"middle\" x=\"169.56\" y=\"-36.9\" font-family=\"Times New Roman,serif\" font-size=\"14.00\">cl 0: 0</text>\n",
       "<text text-anchor=\"middle\" x=\"169.56\" y=\"-21.15\" font-family=\"Times New Roman,serif\" font-size=\"14.00\">cl 1: 1</text>\n",
       "</g>\n",
       "<!-- 1&#45;&gt;4 -->\n",
       "<g id=\"edge2\" class=\"edge\">\n",
       "<title>1&#45;&gt;4</title>\n",
       "<path fill=\"none\" stroke=\"black\" d=\"M127.89,-155.5C133.88,-140.5 140.61,-123.66 146.88,-107.96\"/>\n",
       "<polygon fill=\"black\" stroke=\"black\" points=\"150.11,-109.3 150.57,-98.72 143.61,-106.7 150.11,-109.3\"/>\n",
       "<text text-anchor=\"middle\" x=\"144.93\" y=\"-120.86\" font-family=\"Times New Roman,serif\" font-size=\"14.00\">1</text>\n",
       "</g>\n",
       "</g>\n",
       "</svg>\n"
      ],
      "text/plain": [
       "<graphviz.graphs.Digraph at 0x1fbb9f02860>"
      ]
     },
     "metadata": {},
     "output_type": "display_data"
    },
    {
     "name": "stdout",
     "output_type": "stream",
     "text": [
      "0.40\n"
     ]
    }
   ],
   "source": [
    "# Validation dataset\n",
    "valid_attributeName, valid_data = cm.getValidationDataSet()\n",
    "cm.printGraph(root, valid_data)\n",
    "print(f\"{cm.getErrorRate(root, valid_data):.2f}\")"
   ]
  },
  {
   "cell_type": "markdown",
   "metadata": {},
   "source": [
    "3.3) Consider only the training data set and answer the following questions:\n",
    "* What is the miximum depth of the tree (consider only the training data set)?\n",
    "* The tree building process should stop when there is no improvement in error rate (why?). Check for which value of \"max_dept\" there is no improvement in error rate. "
   ]
  },
  {
   "cell_type": "code",
   "execution_count": 129,
   "metadata": {},
   "outputs": [
    {
     "name": "stdout",
     "output_type": "stream",
     "text": [
      "Max depth: 0 results in error rate: 0.50\n",
      "Max depth: 1 results in error rate: 0.40\n",
      "Max depth: 2 results in error rate: 0.40\n",
      "Max depth: 3 results in error rate: 0.40\n",
      "Max depth: 4 results in error rate: 0.40\n",
      "Max depth: 5 results in error rate: 0.40\n",
      "Max depth: 6 results in error rate: 0.40\n",
      "Max depth: 7 results in error rate: 0.40\n",
      "Max depth: 8 results in error rate: 0.40\n",
      "Max depth: 9 results in error rate: 0.40\n"
     ]
    }
   ],
   "source": [
    "for i in range(10):\n",
    "    max_depth = i\n",
    "    root = createTree(train_data, train_attributeNames, max_depth)\n",
    "    print(f\"Max depth: {i} results in error rate: {cm.getErrorRate(root, valid_data):.2f}\")\n",
    "    \n",
    "    "
   ]
  },
  {
   "cell_type": "markdown",
   "metadata": {},
   "source": [
    "There is no improvement for max_depth = 1. This particular testing data seems to contain a lot of duplicates belonging to different classes, therefore the entire usage of decision tree for this particular example might be questionable."
   ]
  }
 ],
 "metadata": {
  "kernelspec": {
   "display_name": "base",
   "language": "python",
   "name": "python3"
  },
  "language_info": {
   "codemirror_mode": {
    "name": "ipython",
    "version": 3
   },
   "file_extension": ".py",
   "mimetype": "text/x-python",
   "name": "python",
   "nbconvert_exporter": "python",
   "pygments_lexer": "ipython3",
   "version": "3.10.7"
  },
  "toc-autonumbering": false,
  "toc-showcode": false,
  "toc-showmarkdowntxt": true,
  "vscode": {
   "interpreter": {
    "hash": "5179d32cf6ec497baf3f8a3ef987cc77c5d2dc691fdde20a56316522f61a7323"
   }
  }
 },
 "nbformat": 4,
 "nbformat_minor": 4
}
