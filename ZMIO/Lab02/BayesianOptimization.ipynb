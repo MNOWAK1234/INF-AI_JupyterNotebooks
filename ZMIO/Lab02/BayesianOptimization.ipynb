{
  "cells": [
    {
      "cell_type": "markdown",
      "metadata": {
        "id": "ZauhjPSfX7pI"
      },
      "source": [
        "# CompIntel-Lab2 (2025): Reinforcement Learning: Effectiveness and efficiency of intelligent agents (not necesarily RL-based) acting in RL environments"
      ]
    },
    {
      "cell_type": "markdown",
      "metadata": {
        "id": "p3VpyTUWahAd"
      },
      "source": [
        "Based on https://github.com/Nicolas-Bolouri/CartPole-v1/blob/main/CartPole_v1.ipynb"
      ]
    },
    {
      "cell_type": "markdown",
      "metadata": {
        "id": "QhNoKrCJWmwc"
      },
      "source": [
        "##[Szwabe]: Your task is to extend the policy code (i.e. not the reward-computing code) by applying BO to optimization of the PID-based agent operating in a RL environment - while preserving the optimal, constant plot of the episode-cummulative \"testing\" (\"raw\", \"true\") reward at the Step \"Demonstrate the effectiveness of the RL agent\" (for 100 episodes)."
      ]
    },
    {
      "cell_type": "markdown",
      "metadata": {
        "id": "UBiYOoesYMvr"
      },
      "source": [
        "## Installing dependencies"
      ]
    },
    {
      "cell_type": "code",
      "execution_count": 1,
      "metadata": {
        "id": "j6KpgCLGYWmj"
      },
      "outputs": [],
      "source": [
        "# import gym\n",
        "import gymnasium as gym\n",
        "from gym import logger as gymlogger\n",
        "from gym.wrappers import RecordVideo\n",
        "gymlogger.set_level(40) #error only\n",
        "import tensorflow as tf\n",
        "import numpy as np\n",
        "import random\n",
        "import matplotlib\n",
        "import matplotlib.pyplot as plt\n",
        "%matplotlib inline\n",
        "import glob\n",
        "import io\n",
        "import base64\n",
        "import time, math, random\n",
        "from typing import Tuple\n",
        "from IPython.display import HTML\n",
        "from IPython import display as ipythondisplay\n",
        "\n",
        "def show_video():\n",
        "  mp4list = glob.glob('video/*.mp4')\n",
        "  if len(mp4list) > 0:\n",
        "    mp4 = mp4list[0]\n",
        "    video = io.open(mp4, 'r+b').read()\n",
        "    encoded = base64.b64encode(video)\n",
        "    ipythondisplay.display(HTML(data='''<video alt=\"test\" autoplay\n",
        "                loop controls style=\"height: 400px;\">\n",
        "                <source src=\"data:video/mp4;base64,{0}\" type=\"video/mp4\" />\n",
        "             </video>'''.format(encoded.decode('ascii'))))\n",
        "  else:\n",
        "    print(\"Could not find video\")"
      ]
    },
    {
      "cell_type": "code",
      "execution_count": 2,
      "metadata": {
        "colab": {
          "base_uri": "https://localhost:8080/"
        },
        "id": "PbgnVwZmX5uW",
        "outputId": "9a0e4452-0b60-44d5-929c-3d11f748beba"
      },
      "outputs": [
        {
          "output_type": "stream",
          "name": "stdout",
          "text": [
            "Requirement already satisfied: gym[classic_control] in /usr/local/lib/python3.11/dist-packages (0.25.2)\n",
            "Requirement already satisfied: numpy>=1.18.0 in /usr/local/lib/python3.11/dist-packages (from gym[classic_control]) (2.0.2)\n",
            "Requirement already satisfied: cloudpickle>=1.2.0 in /usr/local/lib/python3.11/dist-packages (from gym[classic_control]) (3.1.1)\n",
            "Requirement already satisfied: gym_notices>=0.0.4 in /usr/local/lib/python3.11/dist-packages (from gym[classic_control]) (0.0.8)\n",
            "Collecting pygame==2.1.0 (from gym[classic_control])\n",
            "  Using cached pygame-2.1.0.tar.gz (5.8 MB)\n",
            "  \u001b[1;31merror\u001b[0m: \u001b[1msubprocess-exited-with-error\u001b[0m\n",
            "  \n",
            "  \u001b[31m×\u001b[0m \u001b[32mpython setup.py egg_info\u001b[0m did not run successfully.\n",
            "  \u001b[31m│\u001b[0m exit code: \u001b[1;36m1\u001b[0m\n",
            "  \u001b[31m╰─>\u001b[0m See above for output.\n",
            "  \n",
            "  \u001b[1;35mnote\u001b[0m: This error originates from a subprocess, and is likely not a problem with pip.\n",
            "  Preparing metadata (setup.py) ... \u001b[?25l\u001b[?25herror\n",
            "\u001b[1;31merror\u001b[0m: \u001b[1mmetadata-generation-failed\u001b[0m\n",
            "\n",
            "\u001b[31m×\u001b[0m Encountered error while generating package metadata.\n",
            "\u001b[31m╰─>\u001b[0m See above for output.\n",
            "\n",
            "\u001b[1;35mnote\u001b[0m: This is an issue with the package mentioned above, not pip.\n",
            "\u001b[1;36mhint\u001b[0m: See above for details.\n",
            "Requirement already satisfied: setuptools in /usr/local/lib/python3.11/dist-packages (78.1.0)\n",
            "Collecting numpy==1.26.4\n",
            "  Downloading numpy-1.26.4-cp311-cp311-manylinux_2_17_x86_64.manylinux2014_x86_64.whl.metadata (61 kB)\n",
            "\u001b[2K     \u001b[90m━━━━━━━━━━━━━━━━━━━━━━━━━━━━━━━━━━━━━━━━\u001b[0m \u001b[32m61.0/61.0 kB\u001b[0m \u001b[31m2.9 MB/s\u001b[0m eta \u001b[36m0:00:00\u001b[0m\n",
            "\u001b[?25hDownloading numpy-1.26.4-cp311-cp311-manylinux_2_17_x86_64.manylinux2014_x86_64.whl (18.3 MB)\n",
            "\u001b[2K   \u001b[90m━━━━━━━━━━━━━━━━━━━━━━━━━━━━━━━━━━━━━━━━\u001b[0m \u001b[32m18.3/18.3 MB\u001b[0m \u001b[31m80.1 MB/s\u001b[0m eta \u001b[36m0:00:00\u001b[0m\n",
            "\u001b[?25hInstalling collected packages: numpy\n",
            "  Attempting uninstall: numpy\n",
            "    Found existing installation: numpy 2.0.2\n",
            "    Uninstalling numpy-2.0.2:\n",
            "      Successfully uninstalled numpy-2.0.2\n",
            "Successfully installed numpy-1.26.4\n",
            "Requirement already satisfied: tensorflow==2.18.0 in /usr/local/lib/python3.11/dist-packages (2.18.0)\n",
            "Requirement already satisfied: absl-py>=1.0.0 in /usr/local/lib/python3.11/dist-packages (from tensorflow==2.18.0) (1.4.0)\n",
            "Requirement already satisfied: astunparse>=1.6.0 in /usr/local/lib/python3.11/dist-packages (from tensorflow==2.18.0) (1.6.3)\n",
            "Requirement already satisfied: flatbuffers>=24.3.25 in /usr/local/lib/python3.11/dist-packages (from tensorflow==2.18.0) (25.2.10)\n",
            "Requirement already satisfied: gast!=0.5.0,!=0.5.1,!=0.5.2,>=0.2.1 in /usr/local/lib/python3.11/dist-packages (from tensorflow==2.18.0) (0.6.0)\n",
            "Requirement already satisfied: google-pasta>=0.1.1 in /usr/local/lib/python3.11/dist-packages (from tensorflow==2.18.0) (0.2.0)\n",
            "Requirement already satisfied: libclang>=13.0.0 in /usr/local/lib/python3.11/dist-packages (from tensorflow==2.18.0) (18.1.1)\n",
            "Requirement already satisfied: opt-einsum>=2.3.2 in /usr/local/lib/python3.11/dist-packages (from tensorflow==2.18.0) (3.4.0)\n",
            "Requirement already satisfied: packaging in /usr/local/lib/python3.11/dist-packages (from tensorflow==2.18.0) (24.2)\n",
            "Requirement already satisfied: protobuf!=4.21.0,!=4.21.1,!=4.21.2,!=4.21.3,!=4.21.4,!=4.21.5,<6.0.0dev,>=3.20.3 in /usr/local/lib/python3.11/dist-packages (from tensorflow==2.18.0) (5.29.4)\n",
            "Requirement already satisfied: requests<3,>=2.21.0 in /usr/local/lib/python3.11/dist-packages (from tensorflow==2.18.0) (2.32.3)\n",
            "Requirement already satisfied: setuptools in /usr/local/lib/python3.11/dist-packages (from tensorflow==2.18.0) (78.1.0)\n",
            "Requirement already satisfied: six>=1.12.0 in /usr/local/lib/python3.11/dist-packages (from tensorflow==2.18.0) (1.17.0)\n",
            "Requirement already satisfied: termcolor>=1.1.0 in /usr/local/lib/python3.11/dist-packages (from tensorflow==2.18.0) (2.5.0)\n",
            "Requirement already satisfied: typing-extensions>=3.6.6 in /usr/local/lib/python3.11/dist-packages (from tensorflow==2.18.0) (4.12.2)\n",
            "Requirement already satisfied: wrapt>=1.11.0 in /usr/local/lib/python3.11/dist-packages (from tensorflow==2.18.0) (1.17.2)\n",
            "Requirement already satisfied: grpcio<2.0,>=1.24.3 in /usr/local/lib/python3.11/dist-packages (from tensorflow==2.18.0) (1.71.0)\n",
            "Requirement already satisfied: tensorboard<2.19,>=2.18 in /usr/local/lib/python3.11/dist-packages (from tensorflow==2.18.0) (2.18.0)\n",
            "Requirement already satisfied: keras>=3.5.0 in /usr/local/lib/python3.11/dist-packages (from tensorflow==2.18.0) (3.8.0)\n",
            "Requirement already satisfied: numpy<2.1.0,>=1.26.0 in /usr/local/lib/python3.11/dist-packages (from tensorflow==2.18.0) (1.26.4)\n",
            "Requirement already satisfied: h5py>=3.11.0 in /usr/local/lib/python3.11/dist-packages (from tensorflow==2.18.0) (3.13.0)\n",
            "Requirement already satisfied: ml-dtypes<0.5.0,>=0.4.0 in /usr/local/lib/python3.11/dist-packages (from tensorflow==2.18.0) (0.4.1)\n",
            "Requirement already satisfied: tensorflow-io-gcs-filesystem>=0.23.1 in /usr/local/lib/python3.11/dist-packages (from tensorflow==2.18.0) (0.37.1)\n",
            "Requirement already satisfied: wheel<1.0,>=0.23.0 in /usr/local/lib/python3.11/dist-packages (from astunparse>=1.6.0->tensorflow==2.18.0) (0.45.1)\n",
            "Requirement already satisfied: rich in /usr/local/lib/python3.11/dist-packages (from keras>=3.5.0->tensorflow==2.18.0) (13.9.4)\n",
            "Requirement already satisfied: namex in /usr/local/lib/python3.11/dist-packages (from keras>=3.5.0->tensorflow==2.18.0) (0.0.8)\n",
            "Requirement already satisfied: optree in /usr/local/lib/python3.11/dist-packages (from keras>=3.5.0->tensorflow==2.18.0) (0.14.1)\n",
            "Requirement already satisfied: charset-normalizer<4,>=2 in /usr/local/lib/python3.11/dist-packages (from requests<3,>=2.21.0->tensorflow==2.18.0) (3.4.1)\n",
            "Requirement already satisfied: idna<4,>=2.5 in /usr/local/lib/python3.11/dist-packages (from requests<3,>=2.21.0->tensorflow==2.18.0) (3.10)\n",
            "Requirement already satisfied: urllib3<3,>=1.21.1 in /usr/local/lib/python3.11/dist-packages (from requests<3,>=2.21.0->tensorflow==2.18.0) (2.3.0)\n",
            "Requirement already satisfied: certifi>=2017.4.17 in /usr/local/lib/python3.11/dist-packages (from requests<3,>=2.21.0->tensorflow==2.18.0) (2025.1.31)\n",
            "Requirement already satisfied: markdown>=2.6.8 in /usr/local/lib/python3.11/dist-packages (from tensorboard<2.19,>=2.18->tensorflow==2.18.0) (3.7)\n",
            "Requirement already satisfied: tensorboard-data-server<0.8.0,>=0.7.0 in /usr/local/lib/python3.11/dist-packages (from tensorboard<2.19,>=2.18->tensorflow==2.18.0) (0.7.2)\n",
            "Requirement already satisfied: werkzeug>=1.0.1 in /usr/local/lib/python3.11/dist-packages (from tensorboard<2.19,>=2.18->tensorflow==2.18.0) (3.1.3)\n",
            "Requirement already satisfied: MarkupSafe>=2.1.1 in /usr/local/lib/python3.11/dist-packages (from werkzeug>=1.0.1->tensorboard<2.19,>=2.18->tensorflow==2.18.0) (3.0.2)\n",
            "Requirement already satisfied: markdown-it-py>=2.2.0 in /usr/local/lib/python3.11/dist-packages (from rich->keras>=3.5.0->tensorflow==2.18.0) (3.0.0)\n",
            "Requirement already satisfied: pygments<3.0.0,>=2.13.0 in /usr/local/lib/python3.11/dist-packages (from rich->keras>=3.5.0->tensorflow==2.18.0) (2.18.0)\n",
            "Requirement already satisfied: mdurl~=0.1 in /usr/local/lib/python3.11/dist-packages (from markdown-it-py>=2.2.0->rich->keras>=3.5.0->tensorflow==2.18.0) (0.1.2)\n"
          ]
        },
        {
          "output_type": "stream",
          "name": "stderr",
          "text": [
            "UsageError: Line magic function `%%capture` not found.\n"
          ]
        }
      ],
      "source": [
        "!apt-get install -y xvfb python-opengl > /dev/null 2>&1\n",
        "!pip install gym pyvirtualdisplay > /dev/null 2>&1\n",
        "!pip install gym pyvirtualdisplay > /dev/null 2>&1\n",
        "!apt-get install -y xvfb python-opengl ffmpeg > /dev/null 2>&1\n",
        "!pip install gym[classic_control]\n",
        "!apt-get update > /dev/null 2>&1\n",
        "!apt-get install cmake > /dev/null 2>&1\n",
        "!pip install --upgrade setuptools 2>&1\n",
        "!pip install ez_setup > /dev/null 2>&1\n",
        "\n",
        "!pip install numpy==1.26.4\n",
        "!pip install tensorflow==2.18.0\n",
        "\n",
        "%%capture\n",
        "#remove \" > /dev/null 2>&1\" to see what is going on under the hood\n",
        "!apt-get update > /dev/null 2>&1\n",
        "!pip install gym pyvirtualdisplay > /dev/null 2>&1\n",
        "!apt-get install -y xvfb python-opengl ffmpeg > /dev/null 2>&1\n",
        "!apt-get install cmake > /dev/null 2>&1\n",
        "!pip install --upgrade setuptools 2>&1\n",
        "!pip install ez_setup > /dev/null 2>&1\n",
        "\n",
        "!apt-get update > /dev/null 2>&1\n",
        "!apt-get install cmake > /dev/null 2>&1\n",
        "!pip install --upgrade setuptools 2>&1\n",
        "!pip install ez_setup > /dev/null 2>&1\n",
        "\n",
        "!pip install swig==4.1.1\n",
        "!pip install Box2D==2.3.2\n",
        "!pip install box2d-kengz==2.3.3\n",
        "!pip install pygame==2.2.0\n",
        "!pip install ale_py==0.8.1\n",
        "!pip install pyglet==1.5.11\n",
        "\n",
        "\n",
        "!pip install -U colabgymrender\n",
        "!pip install imageio==2.4.1\n",
        "!pip install --upgrade AutoROM\n",
        "!AutoROM --accept-license\n",
        "!pip install gymnasium[atari]==0.28.1\n",
        "\n",
        "!wget http://www.atarimania.com/roms/Roms.rar\n",
        "!unrar x -o+ /content/Roms.rar >/dev/nul\n",
        "!python -m atari_py.import_roms /content/ROMS >/dev/nul\n",
        "\n",
        "!pip install pyvirtualdisplay > /dev/null 2>&1\n",
        "\n",
        "!pip install --upgrade gym"
      ]
    },
    {
      "cell_type": "markdown",
      "metadata": {
        "id": "RwKbYeTgbaTA"
      },
      "source": [
        "## Importing dependencies and video helper function"
      ]
    },
    {
      "cell_type": "markdown",
      "metadata": {
        "id": "2oIzK9SzhlWN"
      },
      "source": [
        "## Step 1: Development of an RL agent"
      ]
    },
    {
      "cell_type": "markdown",
      "metadata": {
        "id": "phvmGRR2NxfM"
      },
      "source": [
        "We start by loading the environment."
      ]
    },
    {
      "cell_type": "code",
      "execution_count": 3,
      "metadata": {
        "id": "BXjO-lukN0aK"
      },
      "outputs": [],
      "source": [
        "env = gym.make(\"CartPole-v1\")"
      ]
    },
    {
      "cell_type": "markdown",
      "metadata": {
        "id": "RRDyv6Debrf2"
      },
      "source": [
        "[Szwabe] Inspect the env spec:"
      ]
    },
    {
      "cell_type": "code",
      "execution_count": 4,
      "metadata": {
        "colab": {
          "base_uri": "https://localhost:8080/"
        },
        "id": "1ot7HkMD1BT3",
        "outputId": "4420b8aa-bae1-4fd9-d56b-623fa72d3eff"
      },
      "outputs": [
        {
          "output_type": "stream",
          "name": "stdout",
          "text": [
            "Action Space: Discrete(2)\n",
            "Observation Space: Box([-4.8               -inf -0.41887903        -inf], [4.8               inf 0.41887903        inf], (4,), float32)\n",
            "Max Episode Steps: 500\n",
            "Nondeterministic: False\n",
            "Reward Threshold: 475.0\n"
          ]
        }
      ],
      "source": [
        "spec = gym.spec(\"CartPole-v1\")\n",
        "print(f\"Action Space: {env.action_space}\")\n",
        "print(f\"Observation Space: {env.observation_space}\")\n",
        "print(f\"Max Episode Steps: {spec.max_episode_steps}\")\n",
        "print(f\"Nondeterministic: {spec.nondeterministic}\")\n",
        "#print(f\"Reward Range: {env.reward_range}\")\n",
        "print(f\"Reward Threshold: {spec.reward_threshold}\")"
      ]
    },
    {
      "cell_type": "markdown",
      "metadata": {
        "id": "-XtIQ0Rti1gm"
      },
      "source": [
        "## Step 2: Demonstrate the effectiveness of the RL agent"
      ]
    },
    {
      "cell_type": "markdown",
      "metadata": {
        "id": "djBEShf0kGI4"
      },
      "source": [
        "At this Step, use the agent developed in Step 1 to play the game for 100 episodes, record the cumulative reward for each round, and plot the reward for each round. A sample plotting code is given below. Note that you must include code to play for 100 episodes and use the code to obtain round_results for plotting. DO NOT record the round results in advance and paste the results to the notebook."
      ]
    },
    {
      "cell_type": "code",
      "execution_count": 5,
      "metadata": {
        "id": "sBeAUMM3pnIC"
      },
      "outputs": [],
      "source": [
        "def sigmoid(x):\n",
        "    return 1.0 / (1.0 + np.exp(-x))"
      ]
    },
    {
      "cell_type": "code",
      "execution_count": 6,
      "metadata": {
        "id": "uc69up3_pnEO"
      },
      "outputs": [],
      "source": [
        "class PIDAgent():\n",
        "\n",
        "  def __init__(self, tuned_PID_config):\n",
        "\n",
        "    self._num_actions = 2\n",
        "\n",
        "    # Containers you may find useful.\n",
        "    self._state = None\n",
        "    self._action = None\n",
        "    self._next_state = None\n",
        "\n",
        "    self.integral = 0\n",
        "    self.derivative = 0\n",
        "    self.prev_error = 0\n",
        "\n",
        "    self.P = tuned_PID_config[0]\n",
        "    self.I = tuned_PID_config[1]\n",
        "    self.D = tuned_PID_config[2]\n",
        "\n",
        "\n",
        "  def select_action(self, observation):\n",
        "    error = observation[2]\n",
        "    self.integral += error\n",
        "    self.derivative = error - self.prev_error\n",
        "    self.prev_error = error\n",
        "    pid = self.P * error + self.I * self.integral + self.D * self.derivative\n",
        "    action = sigmoid(pid)\n",
        "    action = np.round(action).astype(np.int32)\n",
        "    return action\n",
        "\n",
        "  def observe_first(self, timestep):\n",
        "    # Set current state.\n",
        "    self._state = timestep.observation\n",
        "\n",
        "  def observe(self, action, next_timestep):\n",
        "    # Unpacking the timestep to lighten notation.\n",
        "    s = self._state\n",
        "    a = action\n",
        "    # r = next_timestep.reward\n",
        "    # g = next_timestep.discount\n",
        "    next_s = next_timestep.observation\n",
        "\n",
        "    next_a = self.select_action(next_s)\n",
        "\n",
        "    self._action = a\n",
        "    self._next_state = next_s\n",
        "\n",
        "  def update(self):\n",
        "    # Optional unpacking to lighten notation.\n",
        "    s = self._state\n",
        "    a = self._action\n",
        "\n",
        "    self._state = self._next_state\n",
        "\n",
        "#Szwabe: Take a look at https://ekursy.put.poznan.pl/pluginfile.php/1941523/mod_resource/content/1/L2_The_basic_concepts_and_vocabulary_of_reinforcement_learning.pdf\n",
        "#What type of an intelligent agent is PIDAgent?"
      ]
    },
    {
      "cell_type": "code",
      "source": [
        "!pip install scikit-optimize"
      ],
      "metadata": {
        "colab": {
          "base_uri": "https://localhost:8080/"
        },
        "id": "J6k-ZiHBVhba",
        "outputId": "cc098cd3-b02c-47f7-88fe-fc3488a78383"
      },
      "execution_count": 7,
      "outputs": [
        {
          "output_type": "stream",
          "name": "stdout",
          "text": [
            "Collecting scikit-optimize\n",
            "  Downloading scikit_optimize-0.10.2-py2.py3-none-any.whl.metadata (9.7 kB)\n",
            "Requirement already satisfied: joblib>=0.11 in /usr/local/lib/python3.11/dist-packages (from scikit-optimize) (1.4.2)\n",
            "Collecting pyaml>=16.9 (from scikit-optimize)\n",
            "  Downloading pyaml-25.1.0-py3-none-any.whl.metadata (12 kB)\n",
            "Requirement already satisfied: numpy>=1.20.3 in /usr/local/lib/python3.11/dist-packages (from scikit-optimize) (1.26.4)\n",
            "Requirement already satisfied: scipy>=1.1.0 in /usr/local/lib/python3.11/dist-packages (from scikit-optimize) (1.14.1)\n",
            "Requirement already satisfied: scikit-learn>=1.0.0 in /usr/local/lib/python3.11/dist-packages (from scikit-optimize) (1.6.1)\n",
            "Requirement already satisfied: packaging>=21.3 in /usr/local/lib/python3.11/dist-packages (from scikit-optimize) (24.2)\n",
            "Requirement already satisfied: PyYAML in /usr/local/lib/python3.11/dist-packages (from pyaml>=16.9->scikit-optimize) (6.0.2)\n",
            "Requirement already satisfied: threadpoolctl>=3.1.0 in /usr/local/lib/python3.11/dist-packages (from scikit-learn>=1.0.0->scikit-optimize) (3.6.0)\n",
            "Downloading scikit_optimize-0.10.2-py2.py3-none-any.whl (107 kB)\n",
            "\u001b[2K   \u001b[90m━━━━━━━━━━━━━━━━━━━━━━━━━━━━━━━━━━━━━━━━\u001b[0m \u001b[32m107.8/107.8 kB\u001b[0m \u001b[31m3.1 MB/s\u001b[0m eta \u001b[36m0:00:00\u001b[0m\n",
            "\u001b[?25hDownloading pyaml-25.1.0-py3-none-any.whl (26 kB)\n",
            "Installing collected packages: pyaml, scikit-optimize\n",
            "Successfully installed pyaml-25.1.0 scikit-optimize-0.10.2\n"
          ]
        }
      ]
    },
    {
      "cell_type": "code",
      "source": [
        "n_calls = 200"
      ],
      "metadata": {
        "id": "Hcyhl0ALVkPp"
      },
      "execution_count": 8,
      "outputs": []
    },
    {
      "cell_type": "code",
      "source": [
        "from skopt import forest_minimize, gp_minimize"
      ],
      "metadata": {
        "id": "JGtgayxlVn14"
      },
      "execution_count": 9,
      "outputs": []
    },
    {
      "cell_type": "code",
      "source": [
        "def CartPole_exam(numer_of_episodes_in_the_exam, agent):\n",
        "\n",
        "  environment = gym.make(\"CartPole-v1\")\n",
        "  error_history = []\n",
        "  for _ in range(numer_of_episodes_in_the_exam):\n",
        "      observation = env.reset()\n",
        "      observation = observation[0].tolist()\n",
        "      done = False\n",
        "\n",
        "      while not done and time<500:\n",
        "          action = agent.select_action(observation)\n",
        "          observation, reward, done, info, _ = env.step(action)\n",
        "          error = observation[2]\n",
        "          error_history.append(error)\n",
        "  return error_history"
      ],
      "metadata": {
        "id": "kfsl0-GEX3sC"
      },
      "execution_count": 10,
      "outputs": []
    },
    {
      "cell_type": "code",
      "source": [
        "def costPole(x):\n",
        "\n",
        "  a_tuned_PID_agent = PIDAgent(x)\n",
        "  error_history = CartPole_exam(1, a_tuned_PID_agent)\n",
        "\n",
        "  total_squared_error_history = np.mean(np.array(error_history)**2)\n",
        "  cost = total_squared_error_history\n",
        "  return cost"
      ],
      "metadata": {
        "id": "MQ8UNesaV1Q7"
      },
      "execution_count": 11,
      "outputs": []
    },
    {
      "cell_type": "code",
      "source": [
        "from skopt.learning import ExtraTreesRegressor, RandomForestRegressor"
      ],
      "metadata": {
        "id": "IrO-xT83V7eJ"
      },
      "execution_count": 12,
      "outputs": []
    },
    {
      "cell_type": "code",
      "source": [
        "forest_minimize_regressor = RandomForestRegressor(criterion='mse')"
      ],
      "metadata": {
        "id": "GOKSJ4WOV8DL"
      },
      "execution_count": 13,
      "outputs": []
    },
    {
      "cell_type": "code",
      "source": [
        "tuned_PID_config = gp_minimize(costPole, [(0.0, 1.0),(0.0, 1.0),(0.0, 1.0)], n_calls=n_calls)"
      ],
      "metadata": {
        "id": "-EXHeHg_WaDh"
      },
      "execution_count": 14,
      "outputs": []
    },
    {
      "cell_type": "code",
      "source": [
        "tuned_PID_config.x"
      ],
      "metadata": {
        "colab": {
          "base_uri": "https://localhost:8080/"
        },
        "id": "DHEOkndXWffJ",
        "outputId": "4632ccc0-afe8-4f1f-bf7e-da2bba5ff11b"
      },
      "execution_count": 15,
      "outputs": [
        {
          "output_type": "execute_result",
          "data": {
            "text/plain": [
              "[0.16508693719422002, 0.0, 1.0]"
            ]
          },
          "metadata": {},
          "execution_count": 15
        }
      ]
    },
    {
      "cell_type": "code",
      "execution_count": 16,
      "metadata": {
        "id": "cpzqTUOfpm_1"
      },
      "outputs": [],
      "source": [
        "PID_agent = PIDAgent(tuned_PID_config.x)"
      ]
    },
    {
      "cell_type": "code",
      "source": [
        "env.reset()"
      ],
      "metadata": {
        "colab": {
          "base_uri": "https://localhost:8080/"
        },
        "id": "N7Z__2FaFEHO",
        "outputId": "85ac87ee-3e6e-48af-d0a1-9a6e2dd6bff5"
      },
      "execution_count": 17,
      "outputs": [
        {
          "output_type": "execute_result",
          "data": {
            "text/plain": [
              "(array([ 0.04818618,  0.01361409,  0.00049066, -0.04891969], dtype=float32),\n",
              " {})"
            ]
          },
          "metadata": {},
          "execution_count": 17
        }
      ]
    },
    {
      "cell_type": "code",
      "execution_count": 18,
      "metadata": {
        "colab": {
          "base_uri": "https://localhost:8080/",
          "height": 472
        },
        "id": "eqa8erm2pkUo",
        "outputId": "72e47481-9426-4f8c-c221-d8272cafbf7a"
      },
      "outputs": [
        {
          "output_type": "display_data",
          "data": {
            "text/plain": [
              "<Figure size 640x480 with 1 Axes>"
            ],
            "image/png": "[encoded data removed]"
          },
          "metadata": {}
        }
      ],
      "source": [
        "episode_results = np.array([])\n",
        "\n",
        "for _ in range(100):\n",
        "\n",
        "  observation = env.reset()\n",
        "  observation = observation[0].tolist()\n",
        "  cumulative_reward = 0\n",
        "  done = False\n",
        "  time = 0\n",
        "\n",
        "  while not done and time<500:\n",
        "      #action = policy(observation)\n",
        "      action = PID_agent.select_action(observation)\n",
        "      observation, reward, done, info, _ = env.step(action)\n",
        "      cumulative_reward += reward\n",
        "      time += 1\n",
        "\n",
        "  episode_results = np.append(episode_results, cumulative_reward)\n",
        "\n",
        "plt.plot(episode_results)\n",
        "plt.title('Cumulative reward for each episode')\n",
        "plt.ylabel('Cumulative reward')\n",
        "plt.xlabel('episode')\n",
        "plt.show()"
      ]
    },
    {
      "cell_type": "markdown",
      "metadata": {
        "id": "Yg0DCT38lFA6"
      },
      "source": [
        "## Step 2: Render one episode played by the agent"
      ]
    },
    {
      "cell_type": "markdown",
      "metadata": {
        "id": "vx1awMr9lc_w"
      },
      "source": [
        "Plug your agent to the code below to obtain rendered result."
      ]
    },
    {
      "cell_type": "code",
      "source": [
        "\"\"\"\n",
        "Utility functions to enable video recording of gym environment and displaying it\n",
        "To enable video, just do \"env = wrap_env(env)\"\"\n",
        "\"\"\"\n",
        "\n",
        "def show_video(folder_name):\n",
        "  mp4list = glob.glob(f'{folder_name}/*.mp4')\n",
        "  if len(mp4list) > 0:\n",
        "    mp4 = mp4list[0]\n",
        "    video = io.open(mp4, 'r+b').read()\n",
        "    encoded = base64.b64encode(video)\n",
        "    ipythondisplay.display(HTML(data='''<video alt=\"test\" autoplay\n",
        "                loop controls style=\"height: 400px;\">\n",
        "                <source src=\"data:video/mp4;base64,{0}\" type=\"video/mp4\" />\n",
        "             </video>'''.format(encoded.decode('ascii'))))\n",
        "  else:\n",
        "    print(\"Could not find video\")\n",
        "\n",
        "\n",
        "def wrap_env(env, folder_name):\n",
        "  env = RecordVideo(env, folder_name, step_trigger = lambda episode_number: True)\n",
        "  return env"
      ],
      "metadata": {
        "id": "AU_ZbXMANEDb"
      },
      "execution_count": 19,
      "outputs": []
    },
    {
      "cell_type": "code",
      "source": [
        "def create_environment(name):\n",
        "    folder_name = f\"./video/{name}/{uuid.uuid4()}\"\n",
        "    env = wrap_env(gym.make(name, render_mode=\"rgb_array\"), folder_name)\n",
        "    spec = gym.spec(name)\n",
        "    print(f\"Action Space: {env.action_space}\")\n",
        "    print(f\"Observation Space: {env.observation_space}\")\n",
        "    print(f\"Max Episode Steps: {spec.max_episode_steps}\")\n",
        "    print(f\"Nondeterministic: {spec.nondeterministic}\")\n",
        "    #print(f\"Reward Range: {env.reward_range}\")\n",
        "    print(f\"Reward Threshold: {spec.reward_threshold}\")\n",
        "    return env, folder_name"
      ],
      "metadata": {
        "id": "lNk5AbxkNQ4F"
      },
      "execution_count": 20,
      "outputs": []
    },
    {
      "cell_type": "code",
      "source": [
        "import uuid"
      ],
      "metadata": {
        "id": "MYD5YkruNfbj"
      },
      "execution_count": 21,
      "outputs": []
    },
    {
      "cell_type": "code",
      "source": [
        "env, folder_name = create_environment(\"CartPole-v1\")\n",
        "\n",
        "observation = env.reset()\n",
        "observation = observation[0].tolist()\n",
        "\n",
        "for _ in range(1000):\n",
        "    # action = env.action_space.sample()  # agent policy that uses the observation and info\n",
        "    # observation, reward, terminated, truncated = env.step(action)\n",
        "    action = PID_agent.select_action(observation)\n",
        "    observation, reward, done, info = env.step(action)\n",
        "\n",
        "    if done:\n",
        "        observation, info = env.reset()\n",
        "\n",
        "env.close()\n",
        "show_video(folder_name)"
      ],
      "metadata": {
        "colab": {
          "base_uri": "https://localhost:8080/",
          "height": 731
        },
        "id": "uZkvS7CRNKri",
        "outputId": "bd05bc16-742e-4a43-f36b-be462061e446"
      },
      "execution_count": 22,
      "outputs": [
        {
          "output_type": "stream",
          "name": "stdout",
          "text": [
            "Action Space: Discrete(2)\n",
            "Observation Space: Box([-4.8               -inf -0.41887903        -inf], [4.8               inf 0.41887903        inf], (4,), float32)\n",
            "Max Episode Steps: 500\n",
            "Nondeterministic: False\n",
            "Reward Threshold: 475.0\n"
          ]
        },
        {
          "output_type": "stream",
          "name": "stderr",
          "text": [
            "/usr/local/lib/python3.11/dist-packages/pygame/pkgdata.py:25: DeprecationWarning: pkg_resources is deprecated as an API. See https://setuptools.pypa.io/en/latest/pkg_resources.html\n",
            "  from pkg_resources import resource_stream, resource_exists\n",
            "/usr/local/lib/python3.11/dist-packages/pkg_resources/__init__.py:3147: DeprecationWarning: Deprecated call to `pkg_resources.declare_namespace('google')`.\n",
            "Implementing implicit namespace packages (as specified in PEP 420) is preferred to `pkg_resources.declare_namespace`. See https://setuptools.pypa.io/en/latest/references/keywords.html#keyword-namespace-packages\n",
            "  declare_namespace(pkg)\n",
            "/usr/local/lib/python3.11/dist-packages/pkg_resources/__init__.py:3147: DeprecationWarning: Deprecated call to `pkg_resources.declare_namespace('google.cloud')`.\n",
            "Implementing implicit namespace packages (as specified in PEP 420) is preferred to `pkg_resources.declare_namespace`. See https://setuptools.pypa.io/en/latest/references/keywords.html#keyword-namespace-packages\n",
            "  declare_namespace(pkg)\n",
            "/usr/local/lib/python3.11/dist-packages/pkg_resources/__init__.py:3147: DeprecationWarning: Deprecated call to `pkg_resources.declare_namespace('sphinxcontrib')`.\n",
            "Implementing implicit namespace packages (as specified in PEP 420) is preferred to `pkg_resources.declare_namespace`. See https://setuptools.pypa.io/en/latest/references/keywords.html#keyword-namespace-packages\n",
            "  declare_namespace(pkg)\n"
          ]
        },
        {
          "output_type": "display_data",
          "data": {
            "text/plain": [
              "<IPython.core.display.HTML object>"
            ],
            "text/html": [
              "<video alt=\"test\" autoplay\n",
              "                loop controls style=\"height: 400px;\">\n",
              "                <source src=\"data:video/mp4;base64,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\" type=\"video/mp4\" />\n",
              "             </video>"
            ]
          },
          "metadata": {}
        }
      ]
    },
    {
      "cell_type": "code",
      "execution_count": null,
      "metadata": {
        "id": "UKD8kiXj3i-M"
      },
      "outputs": [],
      "source": [
        "!pip freeze"
      ]
    },
    {
      "cell_type": "markdown",
      "metadata": {
        "id": "YqjYx8d63zms"
      },
      "source": [
        "A working set of packages: absl-py==1.4.0\n",
        "accelerate==1.3.0\n",
        "aiohappyeyeballs==2.4.6\n",
        "aiohttp==3.11.13\n",
        "aiosignal==1.3.2\n",
        "alabaster==1.0.0\n",
        "albucore==0.0.23\n",
        "albumentations==2.0.4\n",
        "ale-py==0.10.2\n",
        "altair==5.5.0\n",
        "annotated-types==0.7.0\n",
        "anyio==3.7.1\n",
        "argon2-cffi==23.1.0\n",
        "argon2-cffi-bindings==21.2.0\n",
        "array_record==0.6.0\n",
        "arviz==0.20.0\n",
        "astropy==7.0.1\n",
        "astropy-iers-data==0.2025.2.24.0.34.4\n",
        "astunparse==1.6.3\n",
        "atpublic==4.1.0\n",
        "attrs==25.1.0\n",
        "audioread==3.0.1\n",
        "autograd==1.7.0\n",
        "babel==2.17.0\n",
        "backcall==0.2.0\n",
        "beautifulsoup4==4.13.3\n",
        "betterproto==2.0.0b6\n",
        "bigframes==1.38.0\n",
        "bigquery-magics==0.6.0\n",
        "bleach==6.2.0\n",
        "blinker==1.9.0\n",
        "blis==0.7.11\n",
        "blosc2==3.2.0\n",
        "bokeh==3.6.3\n",
        "Bottleneck==1.4.2\n",
        "bqplot==0.12.44\n",
        "branca==0.8.1\n",
        "CacheControl==0.14.2\n",
        "cachetools==5.5.2\n",
        "catalogue==2.0.10\n",
        "certifi==2025.1.31\n",
        "cffi==1.17.1\n",
        "chardet==5.2.0\n",
        "charset-normalizer==3.4.1\n",
        "chex==0.1.89\n",
        "clarabel==0.10.0\n",
        "click==8.1.8\n",
        "cloudpathlib==0.20.0\n",
        "cloudpickle==3.1.1\n",
        "cmake==3.31.4\n",
        "cmdstanpy==1.2.5\n",
        "colorcet==3.1.0\n",
        "colorlover==0.3.0\n",
        "colour==0.1.5\n",
        "community==1.0.0b1\n",
        "confection==0.1.5\n",
        "cons==0.4.6\n",
        "contourpy==1.3.1\n",
        "cramjam==2.9.1\n",
        "cryptography==43.0.3\n",
        "cuda-python==12.6.0\n",
        "cudf-cu12 @ https://pypi.nvidia.com/cudf-cu12/cudf_cu12-24.12.0-cp311-cp311-manylinux_2_24_x86_64.manylinux_2_28_x86_64.whl\n",
        "cudf-polars-cu12==24.12.0\n",
        "cufflinks==0.17.3\n",
        "cuml-cu12==24.12.0\n",
        "cupy-cuda12x==13.3.0\n",
        "cuvs-cu12==24.12.0\n",
        "cvxopt==1.3.2\n",
        "cvxpy==1.6.2\n",
        "cycler==0.12.1\n",
        "cyipopt==1.5.0\n",
        "cymem==2.0.11\n",
        "Cython==3.0.12\n",
        "dask==2024.11.2\n",
        "dask-cuda==24.12.0\n",
        "dask-cudf-cu12==24.12.0\n",
        "dask-expr==1.1.19\n",
        "datascience==0.17.6\n",
        "db-dtypes==1.4.1\n",
        "dbus-python==1.2.18\n",
        "debugpy==1.8.0\n",
        "decorator==4.4.2\n",
        "defusedxml==0.7.1\n",
        "Deprecated==1.2.18\n",
        "diffusers==0.32.2\n",
        "distributed==2024.11.2\n",
        "distributed-ucxx-cu12==0.41.0\n",
        "distro==1.9.0\n",
        "dlib==19.24.2\n",
        "dm-tree==0.1.9\n",
        "docker-pycreds==0.4.0\n",
        "docstring_parser==0.16\n",
        "docutils==0.21.2\n",
        "dopamine_rl==4.1.2\n",
        "duckdb==1.1.3\n",
        "earthengine-api==1.5.4\n",
        "easydict==1.13\n",
        "editdistance==0.8.1\n",
        "eerepr==0.1.1\n",
        "einops==0.8.1\n",
        "en-core-web-sm @ https://github.com/explosion/spacy-models/releases/download/en_core_web_sm-3.7.1/en_core_web_sm-3.7.1-py3-none-any.whl#sha256=86cc141f63942d4b2c5fcee06630fd6f904788d2f0ab005cce45aadb8fb73889\n",
        "entrypoints==0.4\n",
        "et_xmlfile==2.0.0\n",
        "etils==1.12.0\n",
        "etuples==0.3.9\n",
        "ez_setup==0.9\n",
        "Farama-Notifications==0.0.4\n",
        "fastai==2.7.18\n",
        "fastcore==1.7.29\n",
        "fastdownload==0.0.7\n",
        "fastjsonschema==2.21.1\n",
        "fastprogress==1.0.3\n",
        "fastrlock==0.8.3\n",
        "filelock==3.17.0\n",
        "firebase-admin==6.6.0\n",
        "Flask==3.1.0\n",
        "flatbuffers==25.2.10\n",
        "flax==0.10.4\n",
        "folium==0.19.4\n",
        "fonttools==4.56.0\n",
        "frozendict==2.4.6\n",
        "frozenlist==1.5.0\n",
        "fsspec==2024.10.0\n",
        "future==1.0.0\n",
        "gast==0.6.0\n",
        "gcsfs==2024.10.0\n",
        "GDAL==3.6.4\n",
        "gdown==5.2.0\n",
        "geemap==0.35.2\n",
        "gensim==4.3.3\n",
        "geocoder==1.38.1\n",
        "geographiclib==2.0\n",
        "geopandas==1.0.1\n",
        "geopy==2.4.1\n",
        "gin-config==0.5.0\n",
        "gitdb==4.0.12\n",
        "GitPython==3.1.44\n",
        "glob2==0.7\n",
        "google==2.0.3\n",
        "google-ai-generativelanguage==0.6.15\n",
        "google-api-core==2.24.1\n",
        "google-api-python-client==2.160.0\n",
        "google-auth==2.38.0\n",
        "google-auth-httplib2==0.2.0\n",
        "google-auth-oauthlib==1.2.1\n",
        "google-cloud-aiplatform==1.79.0\n",
        "google-cloud-bigquery==3.29.0\n",
        "google-cloud-bigquery-connection==1.18.1\n",
        "google-cloud-bigquery-storage==2.28.0\n",
        "google-cloud-bigtable==2.29.0\n",
        "google-cloud-core==2.4.2\n",
        "google-cloud-dataproc==5.18.0\n",
        "google-cloud-datastore==2.20.2\n",
        "google-cloud-firestore==2.20.1\n",
        "google-cloud-functions==1.19.0\n",
        "google-cloud-iam==2.18.1\n",
        "google-cloud-language==2.16.0\n",
        "google-cloud-pubsub==2.25.0\n",
        "google-cloud-resource-manager==1.14.1\n",
        "google-cloud-spanner==3.52.0\n",
        "google-cloud-storage==2.19.0\n",
        "google-cloud-translate==3.19.0\n",
        "google-colab @ file:///colabtools/dist/google_colab-1.0.0.tar.gz\n",
        "google-crc32c==1.6.0\n",
        "google-genai==1.2.0\n",
        "google-generativeai==0.8.4\n",
        "google-pasta==0.2.0\n",
        "google-resumable-media==2.7.2\n",
        "google-spark-connect==0.5.2\n",
        "googleapis-common-protos==1.68.0\n",
        "googledrivedownloader==1.1.0\n",
        "graphviz==0.20.3\n",
        "greenlet==3.1.1\n",
        "grpc-google-iam-v1==0.14.0\n",
        "grpc-interceptor==0.15.4\n",
        "grpcio==1.70.0\n",
        "grpcio-status==1.62.3\n",
        "grpclib==0.4.7\n",
        "gspread==6.1.4\n",
        "gspread-dataframe==4.0.0\n",
        "gym==0.25.2\n",
        "gym-notices==0.0.8\n",
        "gymnasium==1.1.0\n",
        "h11==0.14.0\n",
        "h2==4.2.0\n",
        "h5netcdf==1.5.0\n",
        "h5py==3.12.1\n",
        "hdbscan==0.8.40\n",
        "highspy==1.9.0\n",
        "holidays==0.67\n",
        "holoviews==1.20.1\n",
        "hpack==4.1.0\n",
        "html5lib==1.1\n",
        "httpcore==1.0.7\n",
        "httpimport==1.4.0\n",
        "httplib2==0.22.0\n",
        "httpx==0.28.1\n",
        "huggingface-hub==0.28.1\n",
        "humanize==4.11.0\n",
        "hyperframe==6.1.0\n",
        "hyperopt==0.2.7\n",
        "ibis-framework==9.2.0\n",
        "idna==3.10\n",
        "imageio==2.37.0\n",
        "imageio-ffmpeg==0.6.0\n",
        "imagesize==1.4.1\n",
        "imbalanced-learn==0.13.0\n",
        "imgaug==0.4.0\n",
        "immutabledict==4.2.1\n",
        "importlib_metadata==8.6.1\n",
        "importlib_resources==6.5.2\n",
        "imutils==0.5.4\n",
        "inflect==7.5.0\n",
        "iniconfig==2.0.0\n",
        "intel-cmplr-lib-ur==2025.0.4\n",
        "intel-openmp==2025.0.4\n",
        "ipyevents==2.0.2\n",
        "ipyfilechooser==0.6.0\n",
        "ipykernel==6.17.1\n",
        "ipyleaflet==0.19.2\n",
        "ipyparallel==8.8.0\n",
        "ipython==7.34.0\n",
        "ipython-genutils==0.2.0\n",
        "ipython-sql==0.5.0\n",
        "ipytree==0.2.2\n",
        "ipywidgets==7.7.1\n",
        "itsdangerous==2.2.0\n",
        "jax==0.4.33\n",
        "jax-cuda12-pjrt==0.4.33\n",
        "jax-cuda12-plugin==0.4.33\n",
        "jaxlib==0.4.33\n",
        "jeepney==0.7.1\n",
        "jellyfish==1.1.0\n",
        "jieba==0.42.1\n",
        "Jinja2==3.1.5\n",
        "jiter==0.8.2\n",
        "joblib==1.4.2\n",
        "jsonpatch==1.33\n",
        "jsonpickle==4.0.2\n",
        "jsonpointer==3.0.0\n",
        "jsonschema==4.23.0\n",
        "jsonschema-specifications==2024.10.1\n",
        "jupyter-client==6.1.12\n",
        "jupyter-console==6.1.0\n",
        "jupyter-leaflet==0.19.2\n",
        "jupyter-server==1.24.0\n",
        "jupyter_core==5.7.2\n",
        "jupyterlab_pygments==0.3.0\n",
        "jupyterlab_widgets==3.0.13\n",
        "kaggle==1.6.17\n",
        "kagglehub==0.3.10\n",
        "keras==3.8.0\n",
        "keras-hub==0.18.1\n",
        "keras-nlp==0.18.1\n",
        "keyring==23.5.0\n",
        "kiwisolver==1.4.8\n",
        "langchain==0.3.19\n",
        "langchain-core==0.3.40\n",
        "langchain-text-splitters==0.3.6\n",
        "langcodes==3.5.0\n",
        "langsmith==0.3.11\n",
        "language_data==1.3.0\n",
        "launchpadlib==1.10.16\n",
        "lazr.restfulclient==0.14.4\n",
        "lazr.uri==1.0.6\n",
        "lazy_loader==0.4\n",
        "libclang==18.1.1\n",
        "libcudf-cu12 @ https://pypi.nvidia.com/libcudf-cu12/libcudf_cu12-24.12.0-py3-none-manylinux_2_28_x86_64.whl\n",
        "libkvikio-cu12==24.12.1\n",
        "librosa==0.10.2.post1\n",
        "libucx-cu12==1.17.0.post1\n",
        "libucxx-cu12==0.41.0\n",
        "lightgbm==4.5.0\n",
        "linkify-it-py==2.0.3\n",
        "llvmlite==0.44.0\n",
        "locket==1.0.0\n",
        "logical-unification==0.4.6\n",
        "lxml==5.3.1\n",
        "marisa-trie==1.2.1\n",
        "Markdown==3.7\n",
        "markdown-it-py==3.0.0\n",
        "MarkupSafe==3.0.2\n",
        "matplotlib==3.10.0\n",
        "matplotlib-inline==0.1.7\n",
        "matplotlib-venn==1.1.2\n",
        "mdit-py-plugins==0.4.2\n",
        "mdurl==0.1.2\n",
        "miniKanren==1.0.3\n",
        "missingno==0.5.2\n",
        "mistune==3.1.2\n",
        "mizani==0.13.1\n",
        "mkl==2025.0.1\n",
        "ml-dtypes==0.4.1\n",
        "mlxtend==0.23.4\n",
        "more-itertools==10.6.0\n",
        "moviepy==1.0.3\n",
        "mpmath==1.3.0\n",
        "msgpack==1.1.0\n",
        "multidict==6.1.0\n",
        "multipledispatch==1.0.0\n",
        "multitasking==0.0.11\n",
        "murmurhash==1.0.12\n",
        "music21==9.3.0\n",
        "namex==0.0.8\n",
        "narwhals==1.28.0\n",
        "natsort==8.4.0\n",
        "nbclassic==1.2.0\n",
        "nbclient==0.10.2\n",
        "nbconvert==7.16.6\n",
        "nbformat==5.10.4\n",
        "ndindex==1.9.2\n",
        "nest-asyncio==1.6.0\n",
        "networkx==3.4.2\n",
        "nibabel==5.3.2\n",
        "nltk==3.9.1\n",
        "notebook==6.5.5\n",
        "notebook_shim==0.2.4\n",
        "numba==0.61.0\n",
        "numba-cuda==0.0.17.1\n",
        "numexpr==2.10.2\n",
        "numpy==1.26.4\n",
        "nvidia-cublas-cu12==12.5.3.2\n",
        "nvidia-cuda-cupti-cu12==12.5.82\n",
        "nvidia-cuda-nvcc-cu12==12.5.82\n",
        "nvidia-cuda-nvrtc-cu12==12.5.82\n",
        "nvidia-cuda-runtime-cu12==12.5.82\n",
        "nvidia-cudnn-cu12==9.3.0.75\n",
        "nvidia-cufft-cu12==11.2.3.61\n",
        "nvidia-curand-cu12==10.3.6.82\n",
        "nvidia-cusolver-cu12==11.6.3.83\n",
        "nvidia-cusparse-cu12==12.5.1.3\n",
        "nvidia-nccl-cu12==2.21.5\n",
        "nvidia-nvcomp-cu12==4.1.0.6\n",
        "nvidia-nvjitlink-cu12==12.5.82\n",
        "nvidia-nvtx-cu12==12.4.127\n",
        "nvtx==0.2.11\n",
        "nx-cugraph-cu12 @ https://pypi.nvidia.com/nx-cugraph-cu12/nx_cugraph_cu12-24.12.0-py3-none-any.whl\n",
        "oauth2client==4.1.3\n",
        "oauthlib==3.2.2\n",
        "openai==1.61.1\n",
        "opencv-contrib-python==4.11.0.86\n",
        "opencv-python==4.11.0.86\n",
        "opencv-python-headless==4.11.0.86\n",
        "openpyxl==3.1.5\n",
        "opentelemetry-api==1.16.0\n",
        "opentelemetry-sdk==1.16.0\n",
        "opentelemetry-semantic-conventions==0.37b0\n",
        "opt_einsum==3.4.0\n",
        "optax==0.2.4\n",
        "optree==0.14.0\n",
        "orbax-checkpoint==0.6.4\n",
        "orjson==3.10.15\n",
        "osqp==0.6.7.post3\n",
        "packaging==24.2\n",
        "pandas==2.2.2\n",
        "pandas-datareader==0.10.0\n",
        "pandas-gbq==0.28.0\n",
        "pandas-stubs==2.2.2.240909\n",
        "pandocfilters==1.5.1\n",
        "panel==1.6.1\n",
        "param==2.2.0\n",
        "parso==0.8.4\n",
        "parsy==2.1\n",
        "partd==1.4.2\n",
        "pathlib==1.0.1\n",
        "patsy==1.0.1\n",
        "peewee==3.17.9\n",
        "peft==0.14.0\n",
        "pexpect==4.9.0\n",
        "pickleshare==0.7.5\n",
        "pillow==11.1.0\n",
        "platformdirs==4.3.6\n",
        "plotly==5.24.1\n",
        "plotnine==0.14.5\n",
        "pluggy==1.5.0\n",
        "ply==3.11\n",
        "polars==1.14.0\n",
        "pooch==1.8.2\n",
        "portpicker==1.5.2\n",
        "preshed==3.0.9\n",
        "prettytable==3.15.0\n",
        "proglog==0.1.10\n",
        "progressbar2==4.5.0\n",
        "prometheus_client==0.21.1\n",
        "promise==2.3\n",
        "prompt_toolkit==3.0.50\n",
        "propcache==0.3.0\n",
        "prophet==1.1.6\n",
        "proto-plus==1.26.0\n",
        "protobuf==4.25.6\n",
        "psutil==5.9.5\n",
        "psycopg2==2.9.10\n",
        "ptyprocess==0.7.0\n",
        "py-cpuinfo==9.0.0\n",
        "py4j==0.10.9.7\n",
        "pyarrow==18.1.0\n",
        "pyasn1==0.6.1\n",
        "pyasn1_modules==0.4.1\n",
        "pycocotools==2.0.8\n",
        "pycparser==2.22\n",
        "pydantic==2.10.6\n",
        "pydantic_core==2.27.2\n",
        "pydata-google-auth==1.9.1\n",
        "pydot==3.0.4\n",
        "pydotplus==2.0.2\n",
        "PyDrive==1.3.1\n",
        "PyDrive2==1.21.3\n",
        "pyerfa==2.0.1.5\n",
        "pygame==2.6.1\n",
        "pygit2==1.17.0\n",
        "Pygments==2.18.0\n",
        "PyGObject==3.42.1\n",
        "PyJWT==2.10.1\n",
        "pylibcudf-cu12 @ https://pypi.nvidia.com/pylibcudf-cu12/pylibcudf_cu12-24.12.0-cp311-cp311-manylinux_2_24_x86_64.manylinux_2_28_x86_64.whl\n",
        "pylibcugraph-cu12==24.12.0\n",
        "pylibraft-cu12==24.12.0\n",
        "pymc==5.20.1\n",
        "pymystem3==0.2.0\n",
        "pynndescent==0.5.13\n",
        "pynvjitlink-cu12==0.5.0\n",
        "pynvml==11.4.1\n",
        "pyogrio==0.10.0\n",
        "Pyomo==6.8.2\n",
        "PyOpenGL==3.1.9\n",
        "pyOpenSSL==24.2.1\n",
        "pyparsing==3.2.1\n",
        "pyperclip==1.9.0\n",
        "pyproj==3.7.1\n",
        "pyshp==2.3.1\n",
        "PySocks==1.7.1\n",
        "pyspark==3.5.5\n",
        "pytensor==2.27.1\n",
        "pytest==8.3.4\n",
        "python-apt==0.0.0\n",
        "python-box==7.3.2\n",
        "python-dateutil==2.8.2\n",
        "python-louvain==0.16\n",
        "python-slugify==8.0.4\n",
        "python-snappy==0.7.3\n",
        "python-utils==3.9.1\n",
        "pytz==2025.1\n",
        "PyVirtualDisplay==3.0\n",
        "pyviz_comms==3.0.4\n",
        "PyYAML==6.0.2\n",
        "pyzmq==24.0.1\n",
        "qdldl==0.1.7.post5\n",
        "raft-dask-cu12==24.12.0\n",
        "rapids-dask-dependency==24.12.0\n",
        "ratelim==0.1.6\n",
        "referencing==0.36.2\n",
        "regex==2024.11.6\n",
        "requests==2.32.3\n",
        "requests-oauthlib==2.0.0\n",
        "requests-toolbelt==1.0.0\n",
        "requirements-parser==0.9.0\n",
        "rich==13.9.4\n",
        "rmm-cu12==24.12.1\n",
        "rpds-py==0.23.1\n",
        "rpy2==3.5.17\n",
        "rsa==4.9\n",
        "safetensors==0.5.3\n",
        "scikit-image==0.25.2\n",
        "scikit-learn==1.6.1\n",
        "scipy==1.13.1\n",
        "scooby==0.10.0\n",
        "scs==3.2.7.post2\n",
        "seaborn==0.13.2\n",
        "SecretStorage==3.3.1\n",
        "Send2Trash==1.8.3\n",
        "sentence-transformers==3.4.1\n",
        "sentencepiece==0.2.0\n",
        "sentry-sdk==2.22.0\n",
        "setproctitle==1.3.5\n",
        "shap==0.46.0\n",
        "shapely==2.0.7\n",
        "shellingham==1.5.4\n",
        "simple-parsing==0.1.7\n",
        "simsimd==6.2.1\n",
        "six==1.17.0\n",
        "sklearn-compat==0.1.3\n",
        "sklearn-pandas==2.2.0\n",
        "slicer==0.0.8\n",
        "smart-open==7.1.0\n",
        "smmap==5.0.2\n",
        "sniffio==1.3.1\n",
        "snowballstemmer==2.2.0\n",
        "sortedcontainers==2.4.0\n",
        "soundfile==0.13.1\n",
        "soupsieve==2.6\n",
        "soxr==0.5.0.post1\n",
        "spacy==3.7.5\n",
        "spacy-legacy==3.0.12\n",
        "spacy-loggers==1.0.5\n",
        "spanner-graph-notebook==1.1.1\n",
        "Sphinx==8.1.3\n",
        "sphinxcontrib-applehelp==2.0.0\n",
        "sphinxcontrib-devhelp==2.0.0\n",
        "sphinxcontrib-htmlhelp==2.1.0\n",
        "sphinxcontrib-jsmath==1.0.1\n",
        "sphinxcontrib-qthelp==2.0.0\n",
        "sphinxcontrib-serializinghtml==2.0.0\n",
        "SQLAlchemy==2.0.38\n",
        "sqlglot==25.6.1\n",
        "sqlparse==0.5.3\n",
        "srsly==2.5.1\n",
        "stanio==0.5.1\n",
        "statsmodels==0.14.4\n",
        "stringzilla==3.12.1\n",
        "sympy==1.13.1\n",
        "tables==3.10.2\n",
        "tabulate==0.9.0\n",
        "tbb==2022.0.0\n",
        "tblib==3.0.0\n",
        "tcmlib==1.2.0\n",
        "tenacity==9.0.0\n",
        "tensorboard==2.18.0\n",
        "tensorboard-data-server==0.7.2\n",
        "tensorflow==2.18.0\n",
        "tensorflow-datasets==4.9.7\n",
        "tensorflow-hub==0.16.1\n",
        "tensorflow-io-gcs-filesystem==0.37.1\n",
        "tensorflow-metadata==1.16.1\n",
        "tensorflow-probability==0.25.0\n",
        "tensorflow-text==2.18.1\n",
        "tensorstore==0.1.72\n",
        "termcolor==2.5.0\n",
        "terminado==0.18.1\n",
        "text-unidecode==1.3\n",
        "textblob==0.19.0\n",
        "tf-slim==1.1.0\n",
        "tf_keras==2.18.0\n",
        "thinc==8.2.5\n",
        "threadpoolctl==3.5.0\n",
        "tifffile==2025.2.18\n",
        "timm==1.0.15\n",
        "tinycss2==1.4.0\n",
        "tokenizers==0.21.0\n",
        "toml==0.10.2\n",
        "toolz==0.12.1\n",
        "torch @ https://download.pytorch.org/whl/cu124/torch-2.5.1%2Bcu124-cp311-cp311-linux_x86_64.whl\n",
        "torchaudio @ https://download.pytorch.org/whl/cu124/torchaudio-2.5.1%2Bcu124-cp311-cp311-linux_x86_64.whl\n",
        "torchsummary==1.5.1\n",
        "torchvision @ https://download.pytorch.org/whl/cu124/torchvision-0.20.1%2Bcu124-cp311-cp311-linux_x86_64.whl\n",
        "tornado==6.4.2\n",
        "tqdm==4.67.1\n",
        "traitlets==5.7.1\n",
        "traittypes==0.2.1\n",
        "transformers==4.48.3\n",
        "treelite==4.3.0\n",
        "treescope==0.1.9\n",
        "triton==3.1.0\n",
        "tweepy==4.15.0\n",
        "typeguard==4.4.2\n",
        "typer==0.15.1\n",
        "types-pytz==2025.1.0.20250204\n",
        "types-setuptools==75.8.2.20250301\n",
        "typing_extensions==4.12.2\n",
        "tzdata==2025.1\n",
        "tzlocal==5.3\n",
        "uc-micro-py==1.0.3\n",
        "ucx-py-cu12==0.41.0\n",
        "ucxx-cu12==0.41.0\n",
        "umap-learn==0.5.7\n",
        "umf==0.9.1\n",
        "uritemplate==4.1.1\n",
        "urllib3==2.3.0\n",
        "vega-datasets==0.9.0\n",
        "wadllib==1.3.6\n",
        "wandb==0.19.7\n",
        "wasabi==1.1.3\n",
        "wcwidth==0.2.13\n",
        "weasel==0.4.1\n",
        "webcolors==24.11.1\n",
        "webencodings==0.5.1\n",
        "websocket-client==1.8.0\n",
        "websockets==14.2\n",
        "Werkzeug==3.1.3\n",
        "widgetsnbextension==3.6.10\n",
        "wordcloud==1.9.4\n",
        "wrapt==1.17.2\n",
        "xarray==2025.1.2\n",
        "xarray-einstats==0.8.0\n",
        "xgboost==2.1.4\n",
        "xlrd==2.0.1\n",
        "xyzservices==2025.1.0\n",
        "yarl==1.18.3\n",
        "yellowbrick==1.5\n",
        "yfinance==0.2.54\n",
        "zict==3.0.0\n",
        "zipp==3.21.0\n",
        "zstandard==0.23.0"
      ]
    },
    {
      "cell_type": "code",
      "execution_count": null,
      "metadata": {
        "id": "dW2pnuzc3p6I"
      },
      "outputs": [],
      "source": [
        "import datetime\n",
        "datetime.datetime.now()"
      ]
    }
  ],
  "metadata": {
    "colab": {
      "provenance": []
    },
    "kernelspec": {
      "display_name": "Python 3",
      "name": "python3"
    },
    "language_info": {
      "name": "python"
    }
  },
  "nbformat": 4,
  "nbformat_minor": 0
}