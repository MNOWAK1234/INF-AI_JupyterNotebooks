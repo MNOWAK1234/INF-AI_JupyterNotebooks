{
  "nbformat": 4,
  "nbformat_minor": 0,
  "metadata": {
    "colab": {
      "provenance": [],
      "collapsed_sections": [
        "pmmZh-IZ3o43"
      ],
      "toc_visible": true
    },
    "kernelspec": {
      "display_name": "Python 3",
      "name": "python3"
    }
  },
  "cells": [
    {
      "cell_type": "markdown",
      "metadata": {
        "id": "S_r0j8Xuqsga"
      },
      "source": [
        "# Widzenie komputerowe - Laboratoria nr 11"
      ]
    },
    {
      "cell_type": "markdown",
      "metadata": {
        "id": "qVWBS5p-r5j9"
      },
      "source": [
        "## Opis laboratoriów"
      ]
    },
    {
      "cell_type": "markdown",
      "metadata": {
        "id": "cd2FzMMMr9kr"
      },
      "source": [
        "Wprowadzenie do biblioteki TensorFlow oraz neuronowych modeli wizyjnych."
      ]
    },
    {
      "cell_type": "markdown",
      "metadata": {
        "id": "WMJXpBTXtET5"
      },
      "source": [
        "## Funkcje pomocnicze"
      ]
    },
    {
      "cell_type": "markdown",
      "metadata": {
        "id": "WfiyoH2V2Htn"
      },
      "source": [
        "### Niezbędne biblioteki\n"
      ]
    },
    {
      "cell_type": "code",
      "metadata": {
        "id": "XE5KwNqA3Ots"
      },
      "source": [
        "%matplotlib inline\n",
        "import matplotlib.pyplot as plt\n",
        "import tensorflow as tf\n",
        "import numpy as np\n",
        "import cv2\n",
        "import PIL\n",
        "\n",
        "from pprint import pprint"
      ],
      "execution_count": 1,
      "outputs": []
    },
    {
      "cell_type": "markdown",
      "metadata": {
        "id": "pmmZh-IZ3o43"
      },
      "source": [
        "### Zbiory danych"
      ]
    },
    {
      "cell_type": "markdown",
      "metadata": {
        "id": "33K8aecMdVem"
      },
      "source": [
        "- MNIST - popularny zbiór danych przedstawiający obrazki o rozmiarze 28x28 zawierające odręczne pismo w postaci cyfr. Więcej informacji pod [linkiem](http://yann.lecun.com/exdb/mnist/)."
      ]
    },
    {
      "cell_type": "markdown",
      "metadata": {
        "id": "b3desh1dBMaw"
      },
      "source": [
        "### Wizualizacja\n",
        "\n"
      ]
    },
    {
      "cell_type": "markdown",
      "metadata": {
        "id": "W5MYAXSgem6O"
      },
      "source": [
        "Skrypt do wyżwietlania obrazów BGR oraz Grayscale."
      ]
    },
    {
      "cell_type": "code",
      "metadata": {
        "id": "VCHL_RVqunsJ"
      },
      "source": [
        "def imshow(a):\n",
        "  a = a.clip(0, 255).astype('uint8')\n",
        "  if a.ndim == 3:\n",
        "    if a.shape[2] == 4:\n",
        "      a = cv2.cvtColor(a, cv2.COLOR_BGRA2RGBA)\n",
        "    else:\n",
        "      a = cv2.cvtColor(a, cv2.COLOR_BGR2RGB)\n",
        "  display(PIL.Image.fromarray(a))"
      ],
      "execution_count": 2,
      "outputs": []
    },
    {
      "cell_type": "markdown",
      "metadata": {
        "id": "PNVsm5gkl3-3"
      },
      "source": [
        "# TensorFlow"
      ]
    },
    {
      "cell_type": "markdown",
      "metadata": {
        "id": "AJo4VkFzlL0V"
      },
      "source": [
        "TensorFlow to jedna z wiodących bibliotek do uczenia maszynowego raz przetwarzania big data. Biblioteka wspierana i rozwijana jest przez zespół Google Brain.\n",
        "\n",
        "Architektura TensorFlow jest bardzo podobna do popularnej biblioteki NumPy, do tego stopnia, że niektóre podstawowe operacje działają analogicznie w obu z nich.\n",
        "\n",
        "Najczęstszym zastosowaniem TensorFlow są prace z sieciami neuronowymi zarówno w postaci badawczej jak i komercyjnej. Oprócz podstawowych operacji metematycznych potrzebnych do przetwarzania sieci neuronowych biblioteka TensorFlow zawiera szereg funkcjonalności pozwalających na wykorzystanie systemów opartych na TensorFlow w środowiskach produkcyjnych na różnych platformach - od urządzeń webowych przez wewnętrzne zastosowania klastrowe po urządzenia mobilne."
      ]
    },
    {
      "cell_type": "markdown",
      "metadata": {
        "id": "TOXQRqo-lV9O"
      },
      "source": [
        "## Wstęp do TensorFlow 2.0"
      ]
    },
    {
      "cell_type": "markdown",
      "metadata": {
        "id": "pZyiuUJqlZKQ"
      },
      "source": [
        "Wiele operacji w TensorFlow i NumPy wygląda bardzo podobnie, zaczynając od alokacji danych:"
      ]
    },
    {
      "cell_type": "code",
      "metadata": {
        "colab": {
          "base_uri": "https://localhost:8080/"
        },
        "id": "YJ0OFOFmqjQK",
        "outputId": "1869d026-e7f9-4b1e-b41a-18a14ebb0d72"
      },
      "source": [
        "np_arr = np.zeros([5, 5])\n",
        "tf_arr = tf.zeros([5, 5])\n",
        "\n",
        "np_arr = np.ones([5, 5])\n",
        "tf_arr = tf.ones([5, 5])\n",
        "\n",
        "np_arr = np.array([1, 2, 3, 4, 5])\n",
        "tf_arr = tf.constant([1, 2, 3, 4, 5])\n",
        "\n",
        "np_arr = np.random.normal(0, 1, [5, 5])\n",
        "tf_arr = tf.random.normal([5, 5], 0, 1)\n",
        "\n",
        "print('NumPy array:\\n', np_arr, '\\n')\n",
        "print('Tensorflow array:\\n', tf_arr, '\\n')"
      ],
      "execution_count": 3,
      "outputs": [
        {
          "output_type": "stream",
          "name": "stdout",
          "text": [
            "NumPy array:\n",
            " [[ 1.83257344 -1.70358252 -1.19424449  0.21385333  0.29955904]\n",
            " [-0.31709054 -1.65094666 -0.11534278  1.95228623  0.21077164]\n",
            " [ 0.03154216 -1.7671787   0.83347173  1.28494197  0.40281671]\n",
            " [ 0.87430994 -1.96609837 -1.08892906  0.06231425 -1.42325882]\n",
            " [ 1.86159029  0.46164797  1.03601147  2.16197793  0.06223517]] \n",
            "\n",
            "Tensorflow array:\n",
            " tf.Tensor(\n",
            "[[-0.02390992  1.7142501  -1.4630088   0.2784384   0.9156381 ]\n",
            " [ 0.62760437 -0.9811709  -0.5727828   0.13520549 -1.5953867 ]\n",
            " [ 0.66936976  1.1630323   0.42523926  0.37416306 -0.7343716 ]\n",
            " [ 0.23985566  0.27071923 -0.05507223  0.01051528  1.783367  ]\n",
            " [-0.70189977  1.4547762   0.17748678 -0.26194933 -0.28426996]], shape=(5, 5), dtype=float32) \n",
            "\n"
          ]
        }
      ]
    },
    {
      "cell_type": "markdown",
      "metadata": {
        "id": "0RoI1AEDqlMA"
      },
      "source": [
        "przez operacje na danych:"
      ]
    },
    {
      "cell_type": "code",
      "metadata": {
        "colab": {
          "base_uri": "https://localhost:8080/"
        },
        "id": "rYhJNWNUqpQy",
        "outputId": "7a034f66-f569-489a-d693-e48b2aee8f63"
      },
      "source": [
        "np_a = np.ones([5, 5])\n",
        "tf_a = tf.ones([5, 5])\n",
        "\n",
        "np_a = np_a + np_a\n",
        "np_a = np_a * np_a\n",
        "np_a = np_a ** 2 + np_a ** 3\n",
        "\n",
        "tf_a = tf_a + tf_a\n",
        "tf_a = tf_a * tf_a\n",
        "tf_a = tf_a ** 2 + tf_a ** 3\n",
        "\n",
        "print('NumPy array:\\n', np.sqrt(np_a), '\\n')\n",
        "print('Tensorflow array:\\n', tf.sqrt(tf_a), '\\n')"
      ],
      "execution_count": 4,
      "outputs": [
        {
          "output_type": "stream",
          "name": "stdout",
          "text": [
            "NumPy array:\n",
            " [[8.94427191 8.94427191 8.94427191 8.94427191 8.94427191]\n",
            " [8.94427191 8.94427191 8.94427191 8.94427191 8.94427191]\n",
            " [8.94427191 8.94427191 8.94427191 8.94427191 8.94427191]\n",
            " [8.94427191 8.94427191 8.94427191 8.94427191 8.94427191]\n",
            " [8.94427191 8.94427191 8.94427191 8.94427191 8.94427191]] \n",
            "\n",
            "Tensorflow array:\n",
            " tf.Tensor(\n",
            "[[8.944272 8.944272 8.944272 8.944272 8.944272]\n",
            " [8.944272 8.944272 8.944272 8.944272 8.944272]\n",
            " [8.944272 8.944272 8.944272 8.944272 8.944272]\n",
            " [8.944272 8.944272 8.944272 8.944272 8.944272]\n",
            " [8.944272 8.944272 8.944272 8.944272 8.944272]], shape=(5, 5), dtype=float32) \n",
            "\n"
          ]
        }
      ]
    },
    {
      "cell_type": "markdown",
      "metadata": {
        "id": "SzW5f_zvstsZ"
      },
      "source": [
        "TensorFlow zawiera implementacje funkcji redukcji wymiarowości, m.in. suma, średnia, minimum, maximum."
      ]
    },
    {
      "cell_type": "code",
      "metadata": {
        "colab": {
          "base_uri": "https://localhost:8080/"
        },
        "id": "vZ6OgEFss40E",
        "outputId": "188158e8-38f1-4fe6-ca64-437e205dc27d"
      },
      "source": [
        "print('TensorFlow sum:', tf.reduce_sum(tf_a))\n",
        "print('TensorFlow mean:', tf.reduce_mean(tf_a))\n",
        "print('TensorFlow min:', tf.reduce_min(tf_a))\n",
        "print('TensorFlow max:', tf.reduce_max(tf_a))\n",
        "\n",
        "print('TensorFlow sum:', np_a.sum())\n",
        "print('TensorFlow mean:', np_a.mean())\n",
        "print('TensorFlow min:', np_a.min())\n",
        "print('TensorFlow max:', np_a.max())"
      ],
      "execution_count": 5,
      "outputs": [
        {
          "output_type": "stream",
          "name": "stdout",
          "text": [
            "TensorFlow sum: tf.Tensor(2000.0, shape=(), dtype=float32)\n",
            "TensorFlow mean: tf.Tensor(80.0, shape=(), dtype=float32)\n",
            "TensorFlow min: tf.Tensor(80.0, shape=(), dtype=float32)\n",
            "TensorFlow max: tf.Tensor(80.0, shape=(), dtype=float32)\n",
            "TensorFlow sum: 2000.0\n",
            "TensorFlow mean: 80.0\n",
            "TensorFlow min: 80.0\n",
            "TensorFlow max: 80.0\n"
          ]
        }
      ]
    },
    {
      "cell_type": "markdown",
      "metadata": {
        "id": "3l7XlqCAtWuJ"
      },
      "source": [
        "Analogicznie do NumPy, redukcję można wykonać względem ustalonych wymiarów:"
      ]
    },
    {
      "cell_type": "code",
      "metadata": {
        "colab": {
          "base_uri": "https://localhost:8080/"
        },
        "id": "Lb0L9t11tWJ2",
        "outputId": "6ef7f336-b500-4030-90d8-1911f0348c66"
      },
      "source": [
        "print('TensorFlow sum:', tf.reduce_sum(tf_a, 0))\n",
        "print('TensorFlow mean:', tf.reduce_mean(tf_a, 1))\n",
        "print('TensorFlow min:', tf.reduce_min(tf_a, 0))\n",
        "print('TensorFlow max:', tf.reduce_max(tf_a, 1))\n",
        "\n",
        "print('TensorFlow sum:', np_a.sum(0))\n",
        "print('TensorFlow mean:', np_a.mean(1))\n",
        "print('TensorFlow min:', np_a.min(0))\n",
        "print('TensorFlow max:', np_a.max(1))"
      ],
      "execution_count": 6,
      "outputs": [
        {
          "output_type": "stream",
          "name": "stdout",
          "text": [
            "TensorFlow sum: tf.Tensor([400. 400. 400. 400. 400.], shape=(5,), dtype=float32)\n",
            "TensorFlow mean: tf.Tensor([80. 80. 80. 80. 80.], shape=(5,), dtype=float32)\n",
            "TensorFlow min: tf.Tensor([80. 80. 80. 80. 80.], shape=(5,), dtype=float32)\n",
            "TensorFlow max: tf.Tensor([80. 80. 80. 80. 80.], shape=(5,), dtype=float32)\n",
            "TensorFlow sum: [400. 400. 400. 400. 400.]\n",
            "TensorFlow mean: [80. 80. 80. 80. 80.]\n",
            "TensorFlow min: [80. 80. 80. 80. 80.]\n",
            "TensorFlow max: [80. 80. 80. 80. 80.]\n"
          ]
        }
      ]
    },
    {
      "cell_type": "markdown",
      "metadata": {
        "id": "FbxeBF5pumux"
      },
      "source": [
        "### Zmienne"
      ]
    },
    {
      "cell_type": "markdown",
      "metadata": {
        "id": "5zPvYZe0uzyk"
      },
      "source": [
        "Ważnym elementem biblioteki TensorFlow są **zmienne**, czyli obiekty, które przechowują pewną wartość i mogą być uaktualniane. Pozostałe wyniki operacji w TensorFlow to **Tensory**."
      ]
    },
    {
      "cell_type": "code",
      "metadata": {
        "colab": {
          "base_uri": "https://localhost:8080/"
        },
        "id": "oFu7WdxYu-56",
        "outputId": "55666c42-6e14-4582-80ec-2c37b9f49629"
      },
      "source": [
        "# inicjalizacja zmiennej z losowymi wartościami\n",
        "b = tf.Variable(tf.random.uniform([5]))\n",
        "\n",
        "print(b.numpy())\n",
        "\n",
        "# wykonanie operacji dodawania na zmiennej\n",
        "b.assign_add([1, 0, 0, 1, 0])\n",
        "\n",
        "print(b.numpy())\n",
        "\n",
        "# wykonanie operacji odejmowania na zmiennej\n",
        "b.assign_sub([1, 0, 0, 1, 0])\n",
        "\n",
        "print(b.numpy())\n",
        "\n",
        "# wykonanie operacji przypisania na zmiennej\n",
        "b.assign([1, 2, 3, 4, 5])\n",
        "\n",
        "print(b.numpy())"
      ],
      "execution_count": 7,
      "outputs": [
        {
          "output_type": "stream",
          "name": "stdout",
          "text": [
            "[0.5036434 0.6469215 0.6194267 0.8410704 0.0745703]\n",
            "[1.5036434 0.6469215 0.6194267 1.8410704 0.0745703]\n",
            "[0.5036434 0.6469215 0.6194267 0.8410704 0.0745703]\n",
            "[1. 2. 3. 4. 5.]\n"
          ]
        }
      ]
    },
    {
      "cell_type": "markdown",
      "metadata": {
        "id": "PxnkivWhvCSH"
      },
      "source": [
        "Istnienie zmiennych w TensorFlow jest bardzo ważne ze względu na automatyczne uaktualnianie zmiannych w kontekście uczenia sieci neuronowych."
      ]
    },
    {
      "cell_type": "markdown",
      "metadata": {
        "id": "SvCRcHUvlddR"
      },
      "source": [
        "## Podstawowe operacje neuronowe"
      ]
    },
    {
      "cell_type": "markdown",
      "metadata": {
        "id": "f3iiIeq9vhWj"
      },
      "source": [
        "Jedną z podstawowych operacji neuronowych jest warstwa **w pełni połączona**, czyli warstwa składająca się z **neuronów**. Każdy neuron wykonuje operację **kombinacji liniowej** z następującą **funkcją aktywacji**:\n",
        "\n",
        "$$z_j = \\sum x_i * w_{ij} + b_j$$\n",
        "$$y_j = f(z_j)$$\n",
        "\n",
        "lub innymi słowy, neuron pobiera wektor danych wejściowych, przemnaża go przez wektor **zmiennych uczonych**, sumuje, dodaje wyraz wolny (funkcja liniowa) oraz aplikuje pewną funkcję aktywacji.\n"
      ]
    },
    {
      "cell_type": "code",
      "metadata": {
        "colab": {
          "base_uri": "https://localhost:8080/"
        },
        "id": "aOXubibDw7mr",
        "outputId": "dfc1d9c7-93c4-4d38-bbee-ca651e90f06e"
      },
      "source": [
        "w = tf.Variable(tf.random.uniform([10, 5], dtype=tf.float32))\n",
        "b = tf.Variable(tf.random.uniform([5], dtype=tf.float32))\n",
        "\n",
        "print(f'w: {w}\\nb: {b}')"
      ],
      "execution_count": 8,
      "outputs": [
        {
          "output_type": "stream",
          "name": "stdout",
          "text": [
            "w: <tf.Variable 'Variable:0' shape=(10, 5) dtype=float32, numpy=\n",
            "array([[0.9615675 , 0.07248032, 0.93729174, 0.09889793, 0.36765695],\n",
            "       [0.6029054 , 0.4771347 , 0.7471566 , 0.9015112 , 0.81431127],\n",
            "       [0.16819489, 0.04842067, 0.3128711 , 0.10318923, 0.8617321 ],\n",
            "       [0.72092307, 0.16987908, 0.43566084, 0.13633406, 0.6897756 ],\n",
            "       [0.58888626, 0.80742323, 0.9070953 , 0.45287085, 0.12577868],\n",
            "       [0.6313671 , 0.52571654, 0.05327344, 0.18125343, 0.8393214 ],\n",
            "       [0.45720446, 0.24305928, 0.7063868 , 0.085132  , 0.35874403],\n",
            "       [0.5271816 , 0.25629616, 0.06294894, 0.552578  , 0.94414246],\n",
            "       [0.0217061 , 0.18760645, 0.9317018 , 0.07265723, 0.12096715],\n",
            "       [0.32452428, 0.69310236, 0.73828304, 0.6247289 , 0.4651935 ]],\n",
            "      dtype=float32)>\n",
            "b: <tf.Variable 'Variable:0' shape=(5,) dtype=float32, numpy=\n",
            "array([0.13336301, 0.617605  , 0.34903884, 0.4237982 , 0.41536748],\n",
            "      dtype=float32)>\n"
          ]
        }
      ]
    },
    {
      "cell_type": "code",
      "metadata": {
        "id": "adC3DrJjxOAm"
      },
      "source": [
        "def neuron(x, f=tf.identity):\n",
        "  return f(x @ w + b)"
      ],
      "execution_count": 9,
      "outputs": []
    },
    {
      "cell_type": "code",
      "metadata": {
        "colab": {
          "base_uri": "https://localhost:8080/"
        },
        "id": "yiAOEv2Axpu5",
        "outputId": "ad48ae63-f985-4fc0-f690-581fea2280cf"
      },
      "source": [
        "x = tf.random.normal([1, 10])\n",
        "y = neuron(x)\n",
        "\n",
        "print(f'x{x.shape}: {x}\\ny{y.shape}: {y}')"
      ],
      "execution_count": 10,
      "outputs": [
        {
          "output_type": "stream",
          "name": "stdout",
          "text": [
            "x(1, 10): [[-0.67101866  1.6775793   2.1856256  -0.40617266 -1.2570071  -0.25623453\n",
            "   0.82447004 -0.6113902  -0.4807323  -0.01019818]]\n",
            "y(1, 5): [[-0.28677228  0.20302758  0.414983    1.1152931   2.4204597 ]]\n"
          ]
        }
      ]
    },
    {
      "cell_type": "markdown",
      "metadata": {
        "id": "uhTIx70pyD7Y"
      },
      "source": [
        "Jak widać na powyższym przykładzie operację kombinacji liniowej dla wielu wektorów (tzn. przetwarzanie można zoptymalizować wykonując operacje neuronu na wielu przykładach na raz) można zrealizować jako mnożenie macierzy."
      ]
    },
    {
      "cell_type": "code",
      "metadata": {
        "colab": {
          "base_uri": "https://localhost:8080/"
        },
        "id": "g9NZGPPby7_h",
        "outputId": "d7e66fdc-9bc5-498e-8ae6-6a00bc313edc"
      },
      "source": [
        "x = tf.random.normal([5, 10])\n",
        "y = neuron(x)\n",
        "\n",
        "print(f'x{x.shape}: {x}\\ny{y.shape}: {y}')"
      ],
      "execution_count": 11,
      "outputs": [
        {
          "output_type": "stream",
          "name": "stdout",
          "text": [
            "x(5, 10): [[-0.00942136  0.51492167  0.14211647  0.26166892 -1.7389237   0.7452151\n",
            "   0.7997611   1.3509794   1.029847   -0.861303  ]\n",
            " [-1.8457037  -1.4852324  -0.5728773   0.4605293  -1.1429447   0.03936009\n",
            "   2.5412645  -1.3509401   0.4385016  -0.6087838 ]\n",
            " [-1.7731847   0.05703396  0.13129383  0.6556252   0.2794445   0.13898113\n",
            "  -0.01125485  1.0163432  -0.5212233  -0.1778185 ]\n",
            " [-0.3013292  -0.8858095  -0.92689574 -1.267235   -0.9319315  -0.9213843\n",
            "   0.52181286  0.90174115 -0.6299863  -0.4355193 ]\n",
            " [-0.03139424 -0.40508288 -1.1239228  -0.51269305  1.8914359  -0.63436204\n",
            "   1.1443144   0.19619995 -0.73065704  0.6904039 ]]\n",
            "y(5, 5): [[ 0.91448134  0.03854215  0.31933746  0.6363301   2.8272567 ]\n",
            " [-2.687783   -1.1447273  -1.8347168  -2.4831142  -2.3533611 ]\n",
            " [-0.32860863  0.96944386 -1.2436217   0.96621764  1.3368237 ]\n",
            " [-2.3315108  -1.3859982  -2.814883   -1.0371807  -2.2203798 ]\n",
            " [ 0.84843534  2.1440942   1.7735059   1.1952895  -0.7141906 ]]\n"
          ]
        }
      ]
    },
    {
      "cell_type": "markdown",
      "metadata": {
        "id": "chhTjiKNzDNJ"
      },
      "source": [
        "Powyższa implementacja neuronu wykorzystuje funkcję aktywacji **identity**, czyli brak modyfikacji, a więc jest to funkcja liniowa. Do innych funkcji aktywacji można zaliczyć:\n",
        "- relu - jedna z ważniejszych operacji ze względu na jej prostą pochodną.,\n",
        "- sigmoid - jedna z pierwszych aplikowanych funkcji aktywacji w neuronach,\n",
        "- tangens hiperboliczny - najczęściej wykorzystywana w sieciach rekurencyjnych,\n",
        "- elu, selu, relu6, itp. - różne modyfikacje funkcji relu.\n"
      ]
    },
    {
      "cell_type": "code",
      "metadata": {
        "colab": {
          "base_uri": "https://localhost:8080/",
          "height": 872
        },
        "id": "DiTcMBpg0kBX",
        "outputId": "7b6f2ae9-4bf0-483f-b665-422c7e8027af"
      },
      "source": [
        "x = tf.range(-5, 8, 0.1, tf.float32)\n",
        "\n",
        "plt.figure(figsize=(15, 10))\n",
        "plt.title('Funkcje aktywacji')\n",
        "plt.xlabel('x')\n",
        "plt.ylabel('y')\n",
        "plt.plot(x, tf.nn.relu(x), label='relu')\n",
        "plt.plot(x, tf.nn.relu6(x), label='relu6')\n",
        "plt.plot(x, tf.nn.leaky_relu(x), label='leaky relu')\n",
        "plt.plot(x, tf.nn.elu(x), label='elu')\n",
        "plt.plot(x, tf.nn.selu(x), label='selu')\n",
        "plt.grid()\n",
        "plt.legend()\n",
        "plt.show()"
      ],
      "execution_count": 12,
      "outputs": [
        {
          "output_type": "display_data",
          "data": {
            "text/plain": [
              "<Figure size 1500x1000 with 1 Axes>"
            ],
            "image/png": "[encoded data removed]"
          },
          "metadata": {}
        }
      ]
    },
    {
      "cell_type": "code",
      "metadata": {
        "colab": {
          "base_uri": "https://localhost:8080/",
          "height": 872
        },
        "id": "PyZfi7D32Ljv",
        "outputId": "22195fef-edb6-4de0-be89-7e0ba7d7e684"
      },
      "source": [
        "x = tf.range(-3, 3, 0.1, tf.float32)\n",
        "plt.figure(figsize=(15, 10))\n",
        "plt.title('Funkcje aktywacji')\n",
        "plt.xlabel('x')\n",
        "plt.ylabel('y')\n",
        "plt.plot(x, tf.nn.sigmoid(x), label='sigmoid')\n",
        "plt.plot(x, tf.nn.tanh(x), label='tanh')\n",
        "plt.grid()\n",
        "plt.legend()\n",
        "plt.show()"
      ],
      "execution_count": 13,
      "outputs": [
        {
          "output_type": "display_data",
          "data": {
            "text/plain": [
              "<Figure size 1500x1000 with 1 Axes>"
            ],
            "image/png": "[encoded data removed]"
          },
          "metadata": {}
        }
      ]
    },
    {
      "cell_type": "code",
      "metadata": {
        "colab": {
          "base_uri": "https://localhost:8080/"
        },
        "id": "EsKi-Xa90ab9",
        "outputId": "5363e393-71dd-46a9-bbbc-582c6327c4e2"
      },
      "source": [
        "x = tf.random.normal([5, 10])\n",
        "y = neuron(x, tf.nn.relu)\n",
        "\n",
        "print(f'x{x.shape}: {x}\\ny{y.shape}: {y}')"
      ],
      "execution_count": 14,
      "outputs": [
        {
          "output_type": "stream",
          "name": "stdout",
          "text": [
            "x(5, 10): [[-0.8163597   1.6504574   1.976765   -0.48628384  1.8111439  -0.43018737\n",
            "   0.99190986  0.5091462   1.4006219  -0.5303027 ]\n",
            " [ 0.20735586  0.532539   -2.0183537  -0.33208507  0.22567463 -0.45599303\n",
            "   1.7884369  -0.9376047   1.0165662   1.6786798 ]\n",
            " [ 0.42985976  1.726931   -1.4883845  -0.69776297 -0.96131796  0.920662\n",
            "  -2.5585537  -0.3448977  -0.13074724  0.83084124]\n",
            " [ 1.1009495  -0.64869267  0.8385646  -1.1366658  -0.432946    0.20025618\n",
            "   0.531135    0.20392041  1.2263248  -0.55544835]\n",
            " [ 0.12358975 -0.35201955  0.6132152  -0.60176843  0.7185743  -1.2224889\n",
            "  -0.39633882 -0.9855078   0.37861243  0.6780962 ]]\n",
            "y(5, 5): [[1.700532   2.862032   4.489773   2.847149   3.4532504 ]\n",
            " [0.8101648  2.2236776  3.7363212  1.4471337  0.        ]\n",
            " [0.         0.8310058  0.         1.6071173  0.        ]\n",
            " [0.1906755  0.01754904 1.4018959  0.         0.61712444]\n",
            " [0.         0.515682   1.22962    0.07657236 0.        ]]\n"
          ]
        }
      ]
    },
    {
      "cell_type": "code",
      "metadata": {
        "colab": {
          "base_uri": "https://localhost:8080/"
        },
        "id": "P0ZY3XET2gbV",
        "outputId": "6cc064ec-a582-4034-959e-467668a905e4"
      },
      "source": [
        "x = tf.random.normal([5, 10])\n",
        "y = neuron(x, tf.nn.tanh)\n",
        "\n",
        "print(f'x{x.shape}: {x}\\ny{y.shape}: {y}')"
      ],
      "execution_count": 15,
      "outputs": [
        {
          "output_type": "stream",
          "name": "stdout",
          "text": [
            "x(5, 10): [[ 0.8977056  -0.55281705 -0.0171643   1.1037612  -1.1034666   0.11681365\n",
            "   0.26727426  1.3749442  -1.6994033   0.8133446 ]\n",
            " [ 0.57648     0.78229684 -1.3932219  -0.60271424  0.37247887 -0.7287673\n",
            "   0.8647513  -1.267315   -0.9501235   1.0609677 ]\n",
            " [-0.2743424   1.3558064  -0.39442986 -1.4039329   1.0104289  -0.8891478\n",
            "  -0.43738833 -1.0833033   0.22345027  0.12425048]\n",
            " [-0.9793484  -0.75285196  1.7198756   0.62155104  1.2771856   0.44728595\n",
            "  -0.6121339  -0.7073013  -1.2896767  -0.03347332]\n",
            " [ 0.12747169 -0.7386203   1.6591341   0.89822954  0.5022291  -0.7872623\n",
            "   1.8332213  -0.68098044 -0.8667815  -1.2037681 ]]\n",
            "y(5, 5): [[ 0.9606412   0.41222793 -0.42134747  0.691866    0.98830354]\n",
            " [ 0.2919277   0.8405107   0.9057922   0.74597996 -0.89052856]\n",
            " [-0.7945795   0.7930176   0.82162756  0.8148452  -0.9222388 ]\n",
            " [-0.17998298  0.78080714 -0.6875986   0.01235357  0.68054956]\n",
            " [ 0.54103965 -0.2230992   0.6620716  -0.7095565   0.57992744]]\n"
          ]
        }
      ]
    },
    {
      "cell_type": "markdown",
      "metadata": {
        "id": "2fdOAlTX9lik"
      },
      "source": [
        "Funkcje aktywacji mogą być również zaimplementowane z wykorzystaniem **Keras API**:"
      ]
    },
    {
      "cell_type": "code",
      "metadata": {
        "colab": {
          "base_uri": "https://localhost:8080/"
        },
        "id": "2D4bsZpn9ygx",
        "outputId": "3fe6dce3-0d92-49ea-e4c4-a634798f4827"
      },
      "source": [
        "x = tf.random.normal([5, 10])\n",
        "y = neuron(x, tf.keras.layers.Activation('relu'))\n",
        "\n",
        "print(f'x{x.shape}: {x}\\ny{y.shape}: {y}')"
      ],
      "execution_count": 16,
      "outputs": [
        {
          "output_type": "stream",
          "name": "stdout",
          "text": [
            "x(5, 10): [[-1.9803818   0.39877245 -1.4935621  -0.9149695   0.85481274 -0.10721581\n",
            "   0.06764392 -0.56755906  0.21366356  0.8704178 ]\n",
            " [-0.14750732  1.1703076   0.6372065  -0.4012488  -1.1300418   0.07308294\n",
            "  -0.01839826 -0.90072316  0.03817759 -0.4442446 ]\n",
            " [ 0.21580122 -0.33783692  0.55056053 -0.09051444 -0.18748352  0.4703719\n",
            "  -1.2106811  -1.8657315  -0.3540745  -0.07229342]\n",
            " [ 1.5759164  -1.1429645  -0.6452268  -0.56446546  1.0375868  -0.1123205\n",
            "  -0.12096976 -0.29645878  0.41134292 -0.40212333]\n",
            " [ 0.06778701  0.06249717 -1.4804976  -0.43916586  0.7716361  -1.0152718\n",
            "  -0.3984393  -1.5109183   0.420758   -0.6521509 ]]\n",
            "y(5, 5): [[0.         1.5847632  0.         0.92770326 0.        ]\n",
            " [0.         0.         0.         0.20274346 0.44661194]\n",
            " [0.         0.         0.         0.         0.        ]\n",
            " [0.6510931  0.5311435  1.4418321  0.         0.        ]\n",
            " [0.         0.         0.         0.         0.        ]]\n"
          ]
        }
      ]
    },
    {
      "cell_type": "code",
      "metadata": {
        "colab": {
          "base_uri": "https://localhost:8080/"
        },
        "id": "mRlv8V6F91jV",
        "outputId": "78fe2fdc-af93-4cea-d77f-d7e19f70cef7"
      },
      "source": [
        "x = tf.random.normal([5, 10])\n",
        "y = neuron(x, tf.keras.layers.Activation('tanh'))\n",
        "\n",
        "print(f'x{x.shape}: {x}\\ny{y.shape}: {y}')"
      ],
      "execution_count": 17,
      "outputs": [
        {
          "output_type": "stream",
          "name": "stdout",
          "text": [
            "x(5, 10): [[ 2.6805403   0.29233053 -0.17264496  3.6570482  -0.06525793 -1.4514017\n",
            "  -1.0991721  -1.7999235   0.19033663 -0.38579133]\n",
            " [ 0.84432393 -0.01120892  0.22630408 -0.3110049  -1.8481616   1.1922287\n",
            "   0.68316156  0.04923407  0.57533586  1.0242969 ]\n",
            " [-1.0396311  -0.81788     0.7295728   1.3906581  -0.9736577  -0.15136279\n",
            "   0.78665584 -1.4362296  -1.0220615  -0.11798513]\n",
            " [ 0.8694705  -0.51699597 -0.41705823  0.5577841  -0.9159076   0.1565107\n",
            "   1.4245615  -1.0793567  -0.83586204 -1.6119041 ]\n",
            " [-0.60930127 -0.5203204   0.32794815 -0.03341581 -0.6149668  -0.20413472\n",
            "   0.94307834  0.7150287  -0.3649008  -0.2840668 ]]\n",
            "y(5, 5): [[ 0.9947208  -0.2085068   0.9981238  -0.17302267  0.4900714 ]\n",
            " [ 0.80046546  0.6426356   0.84325856  0.5541415   0.98021483]\n",
            " [-0.87663716 -0.71265674 -0.9533867  -0.9041445  -0.49808577]\n",
            " [ 0.08995032 -0.87479365 -0.7454867  -0.9519891  -0.76302654]\n",
            " [-0.47628117 -0.12074307 -0.7305883  -0.11975548  0.5480894 ]]\n"
          ]
        }
      ]
    },
    {
      "cell_type": "markdown",
      "metadata": {
        "id": "KRpHCqyz-Kwb"
      },
      "source": [
        "Analogicznie, operacja neuronu jest zaimplementowana w **Keras API**.\n",
        "\n",
        "**Uwaga:** podczas pierwszego wywołania neuronu w zaalokowane zostaną wewnątrzne zmienne uczące się."
      ]
    },
    {
      "cell_type": "code",
      "metadata": {
        "id": "wVJ3vqAB-UKy"
      },
      "source": [
        "neurons = tf.keras.layers.Dense(5, activation='relu')"
      ],
      "execution_count": 18,
      "outputs": []
    },
    {
      "cell_type": "code",
      "metadata": {
        "colab": {
          "base_uri": "https://localhost:8080/"
        },
        "id": "y0QpcG-X-YVJ",
        "outputId": "286d4cc4-6653-46d9-cf5d-a19a2ef4ef11"
      },
      "source": [
        "x = tf.random.normal([5, 10])\n",
        "y = neurons(x)\n",
        "\n",
        "print(f'x{x.shape}: {x}\\ny{y.shape}: {y}')\n",
        "print('\\n\\nZmienne wewnętrzne:\\n', neurons.trainable_variables)"
      ],
      "execution_count": 19,
      "outputs": [
        {
          "output_type": "stream",
          "name": "stdout",
          "text": [
            "x(5, 10): [[-0.2706221   1.4203218  -0.75881654  1.1885319   0.4199261   0.92751294\n",
            "   0.9296195   0.65161467 -0.2387607  -0.5719697 ]\n",
            " [ 0.7370986   1.3871061   0.6373178  -1.2209059   1.1105742   1.4119703\n",
            "   0.14376348 -1.2831984   0.13969077 -0.43154287]\n",
            " [-1.190171    0.23677406  1.736422   -0.9256066  -0.7351454  -0.6074921\n",
            "   0.5373716   0.13733561 -1.0532467   0.19426133]\n",
            " [-0.08268031  2.173471    1.1194636  -1.0142117   0.22878815 -0.8417079\n",
            "  -1.8773522  -1.2967583   0.5793104  -0.58531284]\n",
            " [ 0.08200646 -0.7956759   1.1014816   1.1459706   0.58046037  0.18441206\n",
            "   0.79440147  0.4919588   0.10300004  0.5837507 ]]\n",
            "y(5, 5): [[0.         0.         0.         0.5386479  0.        ]\n",
            " [0.         0.         0.24756607 0.93892217 0.        ]\n",
            " [0.         0.9923049  0.28975403 0.6757584  0.7140506 ]\n",
            " [0.         1.2606995  0.1473102  1.3744942  0.        ]\n",
            " [1.3008914  0.9256792  0.         0.8309048  1.1442821 ]]\n",
            "\n",
            "\n",
            "Zmienne wewnętrzne:\n",
            " [<Variable path=dense/kernel, shape=(10, 5), dtype=float32, value=[[ 6.2502271e-01 -3.9946383e-01  2.0867664e-01 -3.0825132e-01\n",
            "  -3.3329368e-02]\n",
            " [-4.6284187e-01 -3.8954735e-02 -8.2503855e-02  5.8790928e-01\n",
            "  -3.6782840e-01]\n",
            " [ 2.8809518e-01  5.7434028e-01 -2.6176620e-01  5.1542538e-01\n",
            "   4.6208638e-01]\n",
            " [ 4.6701890e-01  4.7460133e-01 -5.6191063e-01  3.4734100e-01\n",
            "   4.7814846e-04]\n",
            " [-1.2416071e-01  5.1515740e-01  3.6745131e-01 -1.3000542e-01\n",
            "   5.3951091e-01]\n",
            " [-9.2509389e-03 -6.0959303e-01 -5.1325911e-01  1.9098997e-01\n",
            "  -4.1757858e-01]\n",
            " [ 5.4489374e-03 -2.8931192e-01  1.6466761e-01  2.1319067e-01\n",
            "   2.4545711e-01]\n",
            " [-2.4228227e-01  1.2675911e-01  8.8218570e-02 -3.7381008e-01\n",
            "   1.8045282e-01]\n",
            " [ 5.6445092e-01 -1.8739909e-01 -3.9644939e-01  5.3701288e-01\n",
            "  -3.7451386e-03]\n",
            " [ 2.7296621e-01 -4.2638481e-01 -3.4878194e-01  6.1270076e-01\n",
            "  -2.9931223e-01]]>, <Variable path=dense/bias, shape=(5,), dtype=float32, value=[0. 0. 0. 0. 0.]>]\n"
          ]
        }
      ]
    },
    {
      "cell_type": "markdown",
      "metadata": {
        "id": "NjsDVCL62n7-"
      },
      "source": [
        "Operując biblioteką TensorFlow w kontekście Widzenia Komputerowego, można zauważyć, że posiada ona wiele operacji poznanych wcześniej w ramach klasycznego przetwarzania obrazów. Są to m.in. konwolucja oraz pooling.\n",
        "\n",
        "**Uwaga:** formalnie, konwolucja jest operacją ''przemnożenia'' **odwróconym** filtrem danych wejściowych. ''Przemnożenie'' **nieodwróconym** filtrem nazywa się operacją **koralacji**. Ze względu na fakt, że w przetwarzaniu neuronowym filtrem są zmienne uczące się, nie ma znaczenia czy odwrócimy czy nie filtr. Dlatego w celach optymalizacyjnych implementacja konwolucji w TensorFlow jest formalnie operacją korelacji.\n",
        "\n",
        "Poniżej zaprezentowana została implementacja konwolucji w kontekście laboratoriów dotyczących operacji splotowych.\n",
        "\n",
        "Dla podanych tablic **f** i **g** wykonaj operację konwolucji. Zastosuj uzupełnienie zerami, przesunięcie jednostkowe oraz rozszerzenie równe 1.\n",
        "\n",
        "$f = [1, 2, 3]$  \n",
        "$g = [1, 0, 1]$\n",
        "\n",
        "**1. Uzupełnienie:**\n",
        "\n",
        "$f = [0, 1, 2, 3, 0]$\n",
        "\n",
        "**2. Wykonanie konwolucji:**\n",
        "\n",
        "Konwolucja zostanie wykonana dla $t \\in <0, 1, 2>$\n",
        "\n",
        "$(f \\ast g)(0) = 0 * 1 + 1 * 0 + 2 * 1 = 2$  \n",
        "$(f \\ast g)(1) = 1 * 1 + 2 * 0 + 3 * 1 = 4$  \n",
        "$(f \\ast g)(2) = 2 * 1 + 3 * 0 + 0 * 1 = 2$  \n",
        "\n",
        "$f \\ast g = [2, 4, 2]$"
      ]
    },
    {
      "cell_type": "code",
      "metadata": {
        "colab": {
          "base_uri": "https://localhost:8080/"
        },
        "id": "LGHhoDCe4AZq",
        "outputId": "c10f4ff6-2901-4058-ed4f-4cdb596c7ff8"
      },
      "source": [
        "a = tf.constant([1, 2, 3])[tf.newaxis, :, tf.newaxis]\n",
        "f = tf.constant([1, 0, 1])[:, tf.newaxis, tf.newaxis]\n",
        "\n",
        "y = tf.nn.conv1d(a, f, 1, 'SAME')\n",
        "\n",
        "print(f'a: {a[0, :, 0]}')\n",
        "print(f'f: {f[:, 0, 0]}')\n",
        "print(f'y: {y[0, :, 0]}')"
      ],
      "execution_count": 20,
      "outputs": [
        {
          "output_type": "stream",
          "name": "stdout",
          "text": [
            "a: [1 2 3]\n",
            "f: [1 0 1]\n",
            "y: [2 4 2]\n"
          ]
        }
      ]
    },
    {
      "cell_type": "markdown",
      "metadata": {
        "id": "i_vvxLPE5O39"
      },
      "source": [
        "TensorFlow zawiera gotową implementację warstwy konwolucyjnej zawierającą również zarządzanie zmiennymi uczącymi. Domyślną konfiguracją biblioteki TensorFlow jest wspieranie **wielu operacji na raz**, np. zamiast wykonując konwolucję jednego filtru, może być ich wykonanych N.\n",
        "\n",
        "Dla poniższego przykładu danymi wejściowymi jest tensor 4 wymiarowy **(pierwszy wymiar zazwyczaj traktowany jest jako liczna równoległych przykładów przetwarzanych na raz)**, który może oznaczać np. 3 obrazy o rozmiarze 128x128, 3 kanałach (float).\n",
        "\n",
        "Pojedynczą operacją konwolucji byłoby stworzenie filtru np. 5x5 który obsługuje dane wejściowe 3-wymiarowe. Czyli pojedynczy filtr miałby rozmiar \\[5, 5, 3\\]. Efektem wykonania konwolucji na obrazach wejściowych byłby **batch** obrazów o rozmiarze \\[3, 128, 128, 1\\] (ponieważ każdy filtr produkuje jedną wartość.\n",
        "\n",
        "Jeśli wykonamy N takich niezależnych filtrów, otrzymamy tensor \\[3, 128, 128, N\\]."
      ]
    },
    {
      "cell_type": "code",
      "metadata": {
        "id": "ju-hP5tu5YoZ"
      },
      "source": [
        "N = 10\n",
        "kernel_size = (5, 5)\n",
        "\n",
        "conv1 = tf.keras.layers.Conv2D(N, kernel_size, 1, 'same')"
      ],
      "execution_count": 21,
      "outputs": []
    },
    {
      "cell_type": "code",
      "metadata": {
        "colab": {
          "base_uri": "https://localhost:8080/"
        },
        "id": "JTkHXsRj7Zdc",
        "outputId": "f00e341e-6a3a-4209-ab8d-6b49ce9e074d"
      },
      "source": [
        "images = tf.ones([1, 128, 128, 3], tf.float32)\n",
        "images_filtered = conv1(images)\n",
        "\n",
        "print(f'Rozmiar obrazów wejściowych: {images.shape}')\n",
        "print(f'Rozmiar przefiltrowanych obrazów: {images_filtered.shape}')"
      ],
      "execution_count": 22,
      "outputs": [
        {
          "output_type": "stream",
          "name": "stdout",
          "text": [
            "Rozmiar obrazów wejściowych: (1, 128, 128, 3)\n",
            "Rozmiar przefiltrowanych obrazów: (1, 128, 128, 10)\n"
          ]
        }
      ]
    },
    {
      "cell_type": "markdown",
      "metadata": {
        "id": "E52fORay7sa0"
      },
      "source": [
        "**W ten sposób, każdy z pikseli opisaliśmy N cechami.**\n",
        "\n",
        "Podobnymi operacjami są operacjie **poolingu**, czyli operacji które nie zawierają zmiennych uczących się, np. wybranie największej/najmniejszej/średniej/mediany wartości z danego okna."
      ]
    },
    {
      "cell_type": "code",
      "metadata": {
        "colab": {
          "base_uri": "https://localhost:8080/"
        },
        "id": "BCtyYQZw8Fkt",
        "outputId": "c6251057-2cfb-4764-85ba-75419249cc31"
      },
      "source": [
        "f_max = tf.keras.layers.MaxPooling2D((2, 2), 2, 'same')\n",
        "f_ave = tf.keras.layers.AveragePooling2D((2, 2), 2, 'same')\n",
        "\n",
        "images_max = f_max(images_filtered)\n",
        "images_ave = f_ave(images_filtered)\n",
        "\n",
        "print(f'Rozmiar obrazów po max poolingu: {images_max.shape}')\n",
        "print(f'Rozmiar obrazów po average poolingu: {images_ave.shape}')"
      ],
      "execution_count": 23,
      "outputs": [
        {
          "output_type": "stream",
          "name": "stdout",
          "text": [
            "Rozmiar obrazów po max poolingu: (1, 64, 64, 10)\n",
            "Rozmiar obrazów po average poolingu: (1, 64, 64, 10)\n"
          ]
        }
      ]
    },
    {
      "cell_type": "markdown",
      "metadata": {
        "id": "RKuI8Wtn8y96"
      },
      "source": [
        "W powyższym przykładzie zostosowane zostało przesunięcie z krokiem równym 2 (stąd rozmiar wynikowy jest 2-krotnie mniejszy).\n",
        "\n",
        "Ostatnim przykładem podstawowej operacji w TensorFlow jest funkcja wykonująca sekwencję operacji przekazując między sobą wyniki.\n",
        "\n",
        "W ten sposób, można znacznie uprościć swój model przetwarzania, pod warunkiem, że wszelkie warstwy i pod-modele zaimplementowane będą w Keras API."
      ]
    },
    {
      "cell_type": "code",
      "metadata": {
        "id": "ooZ-AGp09Wh4"
      },
      "source": [
        "model = tf.keras.Sequential([\n",
        "  tf.keras.layers.Conv2D(8, (3, 3), 2, 'same'),\n",
        "  tf.keras.layers.Activation('relu'),\n",
        "  tf.keras.layers.Conv2D(16, (3, 3), 2, 'same'),\n",
        "  tf.keras.layers.Activation('relu'),\n",
        "  tf.keras.layers.Conv2D(32, (3, 3), 2, 'same'),\n",
        "  tf.keras.layers.Activation('relu'),\n",
        "  tf.keras.layers.Flatten(),\n",
        "  tf.keras.layers.Dense(10)\n",
        "])"
      ],
      "execution_count": 24,
      "outputs": []
    },
    {
      "cell_type": "code",
      "metadata": {
        "colab": {
          "base_uri": "https://localhost:8080/"
        },
        "id": "ZiA0x2i3_AZf",
        "outputId": "a425088e-ad07-4c2f-9069-bfcf7720da94"
      },
      "source": [
        "images = tf.ones([1, 128, 128, 3], tf.float32)\n",
        "y = model(images)\n",
        "\n",
        "print(f'Rozmiar danych wejściowych: {images.shape}')\n",
        "print(f'Rozmiar danych wyjściowych: {y.shape}')"
      ],
      "execution_count": 25,
      "outputs": [
        {
          "output_type": "stream",
          "name": "stdout",
          "text": [
            "Rozmiar danych wejściowych: (1, 128, 128, 3)\n",
            "Rozmiar danych wyjściowych: (1, 10)\n"
          ]
        }
      ]
    },
    {
      "cell_type": "markdown",
      "metadata": {
        "id": "XT-gk_ST9Bq9"
      },
      "source": [
        "**W powyższym przykładzie każdy obraz opisaliśmy jako 10 wartości.**"
      ]
    },
    {
      "cell_type": "markdown",
      "metadata": {
        "id": "L846W54vl2HZ"
      },
      "source": [
        "## Proces uczenia"
      ]
    },
    {
      "cell_type": "markdown",
      "metadata": {
        "id": "88NHfn4EAd0e"
      },
      "source": [
        "### Przygotowanie danych wejściowych"
      ]
    },
    {
      "cell_type": "markdown",
      "metadata": {
        "id": "i2O6uVokAowp"
      },
      "source": [
        "Jako dane wejściowe pobieramy obrazy pochodzące ze zbioru MNIST. Jeśli to możliwe najlepszym rozwiązaniem jest wykorzystanie **TensorFlow Dataset API** do wczytania i preprocessingu danych.\n",
        "\n",
        "Poniższy przykład wczytuje najpierw dane do postaci tablic NumPy, następnie transformuje je do postaci potoku danych (**tf.data.Dataset.from_tensor_slices**), który jest modyfikowany według architektury strumieniowej:\n",
        "- mieszanie danych (tak aby kolejność danych była losowa),\n",
        "- grupowanie (aby przyspieszyć przetwarzanie danych),\n",
        "- wstępne pobieranie (aby w czasie bezczynności potoku mógł wcześniej pobrać dane o które dopiero będziemy pytać w przyszłości)"
      ]
    },
    {
      "cell_type": "code",
      "metadata": {
        "id": "4ga5w3kCAmrf"
      },
      "source": [
        "def preprocess(image, label):\n",
        "  return tf.cast(image, tf.float32)[..., tf.newaxis], label\n",
        "\n",
        "def mnist(batch_size=16):\n",
        "    train_ds, val_ds = tf.keras.datasets.mnist.load_data()\n",
        "\n",
        "    train_ds = tf.data.Dataset.from_tensor_slices(train_ds) \\\n",
        "        .map(preprocess, num_parallel_calls=8) \\\n",
        "        .shuffle(1024) \\\n",
        "        .batch(batch_size) \\\n",
        "        .prefetch(8)\n",
        "\n",
        "    val_ds = tf.data.Dataset.from_tensor_slices(val_ds) \\\n",
        "    .map(preprocess, num_parallel_calls=8) \\\n",
        "        .shuffle(1024) \\\n",
        "        .batch(batch_size) \\\n",
        "        .prefetch(8)\n",
        "\n",
        "    return train_ds, val_ds"
      ],
      "execution_count": 26,
      "outputs": []
    },
    {
      "cell_type": "markdown",
      "metadata": {
        "id": "gv0JB85ABolW"
      },
      "source": [
        "Dane składają się z listy par: obraz, klasa przyporządkowana do obrazu."
      ]
    },
    {
      "cell_type": "code",
      "metadata": {
        "colab": {
          "base_uri": "https://localhost:8080/"
        },
        "id": "P6W7GkKgBYg6",
        "outputId": "56e0dd8a-e628-45e5-e7c3-08a866ae9b07"
      },
      "source": [
        "train_ds, val_ds = mnist(128)\n",
        "\n",
        "first_train_batch = next(iter(train_ds))\n",
        "images, labels = first_train_batch\n",
        "\n",
        "print(images.shape, labels.shape)"
      ],
      "execution_count": 27,
      "outputs": [
        {
          "output_type": "stream",
          "name": "stdout",
          "text": [
            "Downloading data from https://storage.googleapis.com/tensorflow/tf-keras-datasets/mnist.npz\n",
            "\u001b[1m11490434/11490434\u001b[0m \u001b[32m━━━━━━━━━━━━━━━━━━━━\u001b[0m\u001b[37m\u001b[0m \u001b[1m1s\u001b[0m 0us/step\n",
            "(128, 28, 28, 1) (128,)\n"
          ]
        }
      ]
    },
    {
      "cell_type": "code",
      "metadata": {
        "colab": {
          "base_uri": "https://localhost:8080/",
          "height": 129
        },
        "id": "uJbS2QgUBwro",
        "outputId": "f17708e9-83ab-4c66-fe9c-a6deba8f4abc"
      },
      "source": [
        "imshow(images.numpy()[0])\n",
        "imshow(images.numpy()[1])\n",
        "imshow(images.numpy()[2])\n",
        "imshow(images.numpy()[3])"
      ],
      "execution_count": 28,
      "outputs": [
        {
          "output_type": "display_data",
          "data": {
            "text/plain": [
              "<PIL.Image.Image image mode=RGB size=28x28>"
            ],
            "image/png": "[encoded data removed]",
            "image/jpeg": "[encoded data removed]"
          },
          "metadata": {}
        },
        {
          "output_type": "display_data",
          "data": {
            "text/plain": [
              "<PIL.Image.Image image mode=RGB size=28x28>"
            ],
            "image/png": "[encoded data removed]",
            "image/jpeg": "[encoded data removed]"
          },
          "metadata": {}
        },
        {
          "output_type": "display_data",
          "data": {
            "text/plain": [
              "<PIL.Image.Image image mode=RGB size=28x28>"
            ],
            "image/png": "[encoded data removed]",
            "image/jpeg": "[encoded data removed]"
          },
          "metadata": {}
        },
        {
          "output_type": "display_data",
          "data": {
            "text/plain": [
              "<PIL.Image.Image image mode=RGB size=28x28>"
            ],
            "image/png": "[encoded data removed]",
            "image/jpeg": "[encoded data removed]"
          },
          "metadata": {}
        }
      ]
    },
    {
      "cell_type": "markdown",
      "metadata": {
        "id": "2j7zBoaJAh2t"
      },
      "source": [
        "### Przygotowanie modelu przetwarzanie"
      ]
    },
    {
      "cell_type": "code",
      "metadata": {
        "id": "g5oaN8RCCWqL"
      },
      "source": [
        "model = tf.keras.Sequential([\n",
        "  tf.keras.layers.Conv2D(8, (3, 3), 2, 'same'),\n",
        "  tf.keras.layers.Activation('relu'),\n",
        "  tf.keras.layers.Conv2D(16, (3, 3), 2, 'same'),\n",
        "  tf.keras.layers.Activation('relu'),\n",
        "  tf.keras.layers.Conv2D(32, (3, 3), 2, 'same'),\n",
        "  tf.keras.layers.Activation('relu'),\n",
        "  tf.keras.layers.Flatten(),\n",
        "  tf.keras.layers.Dense(10)\n",
        "])"
      ],
      "execution_count": 29,
      "outputs": []
    },
    {
      "cell_type": "code",
      "metadata": {
        "colab": {
          "base_uri": "https://localhost:8080/"
        },
        "id": "NWDx8VmtCZKq",
        "outputId": "024850fe-d223-4fea-db8a-89d5d0f98bcc"
      },
      "source": [
        "y = model(images)\n",
        "\n",
        "print(f'Rozmiar danych wejściowych: {images.shape}')\n",
        "print(f'Rozmiar danych wyjściowych: {y.shape}')"
      ],
      "execution_count": 30,
      "outputs": [
        {
          "output_type": "stream",
          "name": "stdout",
          "text": [
            "Rozmiar danych wejściowych: (128, 28, 28, 1)\n",
            "Rozmiar danych wyjściowych: (128, 10)\n"
          ]
        }
      ]
    },
    {
      "cell_type": "markdown",
      "metadata": {
        "id": "-Uye2FmNCyuB"
      },
      "source": [
        "### (Uproszczona) definicja sposobu uczenia"
      ]
    },
    {
      "cell_type": "code",
      "metadata": {
        "id": "Pg6k3kVWC31T"
      },
      "source": [
        "model.compile(optimizer='Adam', loss=tf.keras.losses.SparseCategoricalCrossentropy(True), metrics=['accuracy'])"
      ],
      "execution_count": 31,
      "outputs": []
    },
    {
      "cell_type": "markdown",
      "metadata": {
        "id": "jBsAl97pDLar"
      },
      "source": [
        "### Wywołanie pętli uczenia modelu"
      ]
    },
    {
      "cell_type": "code",
      "metadata": {
        "colab": {
          "base_uri": "https://localhost:8080/"
        },
        "id": "vitHWCtFDOBh",
        "outputId": "cacab584-0488-4838-a0ce-aeabd7f5ae5a"
      },
      "source": [
        "model.fit(train_ds, epochs=3)\n",
        "model.evaluate(val_ds)"
      ],
      "execution_count": 32,
      "outputs": [
        {
          "output_type": "stream",
          "name": "stdout",
          "text": [
            "Epoch 1/3\n",
            "\u001b[1m469/469\u001b[0m \u001b[32m━━━━━━━━━━━━━━━━━━━━\u001b[0m\u001b[37m\u001b[0m \u001b[1m11s\u001b[0m 18ms/step - accuracy: 0.7202 - loss: 1.6937\n",
            "Epoch 2/3\n",
            "\u001b[1m469/469\u001b[0m \u001b[32m━━━━━━━━━━━━━━━━━━━━\u001b[0m\u001b[37m\u001b[0m \u001b[1m8s\u001b[0m 13ms/step - accuracy: 0.9489 - loss: 0.1661\n",
            "Epoch 3/3\n",
            "\u001b[1m469/469\u001b[0m \u001b[32m━━━━━━━━━━━━━━━━━━━━\u001b[0m\u001b[37m\u001b[0m \u001b[1m6s\u001b[0m 14ms/step - accuracy: 0.9692 - loss: 0.1053\n",
            "\u001b[1m79/79\u001b[0m \u001b[32m━━━━━━━━━━━━━━━━━━━━\u001b[0m\u001b[37m\u001b[0m \u001b[1m1s\u001b[0m 7ms/step - accuracy: 0.9630 - loss: 0.1205\n"
          ]
        },
        {
          "output_type": "execute_result",
          "data": {
            "text/plain": [
              "[0.09769190847873688, 0.9697999954223633]"
            ]
          },
          "metadata": {},
          "execution_count": 32
        }
      ]
    },
    {
      "cell_type": "code",
      "metadata": {
        "colab": {
          "base_uri": "https://localhost:8080/",
          "height": 320
        },
        "id": "QwTiXVA2EXSF",
        "outputId": "325246c2-768e-49e9-dd4f-85df509a32c2"
      },
      "source": [
        "images, labels = next(iter(val_ds))\n",
        "\n",
        "predictions = model.predict(images)\n",
        "\n",
        "print(labels)\n",
        "print(tf.argmax(predictions, -1))\n",
        "\n",
        "imshow(images.numpy()[0])\n",
        "imshow(images.numpy()[1])\n",
        "imshow(images.numpy()[2])\n",
        "imshow(images.numpy()[3])"
      ],
      "execution_count": 33,
      "outputs": [
        {
          "output_type": "stream",
          "name": "stdout",
          "text": [
            "\u001b[1m4/4\u001b[0m \u001b[32m━━━━━━━━━━━━━━━━━━━━\u001b[0m\u001b[37m\u001b[0m \u001b[1m0s\u001b[0m 8ms/step \n",
            "tf.Tensor(\n",
            "[0 6 1 2 5 4 4 2 3 4 6 9 0 6 4 3 1 3 0 6 6 7 1 2 1 9 7 8 6 3 4 2 1 5 0 2 0\n",
            " 7 0 2 6 4 4 9 7 7 9 4 1 9 8 9 1 2 3 6 5 2 9 1 1 1 2 1 0 6 1 7 8 0 6 9 8 8\n",
            " 7 4 1 1 9 2 9 6 9 8 2 9 8 3 6 4 4 6 5 3 2 2 9 7 7 2 2 8 0 8 1 1 5 5 4 4 8\n",
            " 0 4 1 2 6 3 8 1 1 1 3 5 0 7 4 7 8], shape=(128,), dtype=uint8)\n",
            "tf.Tensor(\n",
            "[0 6 1 2 5 4 4 2 3 4 6 9 0 6 4 3 1 3 0 6 6 7 1 2 1 9 7 8 6 3 4 1 1 5 7 2 0\n",
            " 7 0 2 6 4 4 9 7 7 9 4 1 9 8 9 1 2 3 6 5 2 4 1 1 1 2 1 0 6 1 7 8 0 6 9 8 8\n",
            " 7 4 1 1 9 2 9 6 9 8 2 9 8 3 6 4 4 6 5 3 2 2 9 7 7 2 2 8 0 8 1 1 5 5 4 4 8\n",
            " 0 4 1 8 6 3 8 1 1 1 3 5 0 7 4 7 8], shape=(128,), dtype=int64)\n"
          ]
        },
        {
          "output_type": "display_data",
          "data": {
            "text/plain": [
              "<PIL.Image.Image image mode=RGB size=28x28>"
            ],
            "image/png": "[encoded data removed]",
            "image/jpeg": "[encoded data removed]"
          },
          "metadata": {}
        },
        {
          "output_type": "display_data",
          "data": {
            "text/plain": [
              "<PIL.Image.Image image mode=RGB size=28x28>"
            ],
            "image/png": "[encoded data removed]",
            "image/jpeg": "[encoded data removed]"
          },
          "metadata": {}
        },
        {
          "output_type": "display_data",
          "data": {
            "text/plain": [
              "<PIL.Image.Image image mode=RGB size=28x28>"
            ],
            "image/png": "[encoded data removed]",
            "image/jpeg": "[encoded data removed]"
          },
          "metadata": {}
        },
        {
          "output_type": "display_data",
          "data": {
            "text/plain": [
              "<PIL.Image.Image image mode=RGB size=28x28>"
            ],
            "image/png": "[encoded data removed]",
            "image/jpeg": "[encoded data removed]"
          },
          "metadata": {}
        }
      ]
    }
  ]
}