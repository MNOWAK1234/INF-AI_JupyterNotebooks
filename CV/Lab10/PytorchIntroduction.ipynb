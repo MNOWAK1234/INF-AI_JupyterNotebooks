{
  "nbformat": 4,
  "nbformat_minor": 0,
  "metadata": {
    "colab": {
      "provenance": [],
      "toc_visible": true
    },
    "kernelspec": {
      "display_name": "Python 3",
      "name": "python3"
    }
  },
  "cells": [
    {
      "cell_type": "markdown",
      "metadata": {
        "id": "S_r0j8Xuqsga"
      },
      "source": [
        "# Widzenie komputerowe - Laboratoria nr 11"
      ]
    },
    {
      "cell_type": "markdown",
      "metadata": {
        "id": "qVWBS5p-r5j9"
      },
      "source": [
        "## Opis laboratoriów"
      ]
    },
    {
      "cell_type": "markdown",
      "metadata": {
        "id": "cd2FzMMMr9kr"
      },
      "source": [
        "Wprowadzenie do biblioteki PyTorch oraz neuronowych modeli wizyjnych."
      ]
    },
    {
      "cell_type": "markdown",
      "metadata": {
        "id": "WMJXpBTXtET5"
      },
      "source": [
        "## Funkcje pomocnicze"
      ]
    },
    {
      "cell_type": "markdown",
      "metadata": {
        "id": "WfiyoH2V2Htn"
      },
      "source": [
        "### Niezbędne biblioteki\n"
      ]
    },
    {
      "cell_type": "code",
      "metadata": {
        "id": "XE5KwNqA3Ots"
      },
      "source": [
        "%matplotlib inline\n",
        "import matplotlib.pyplot as plt\n",
        "import torch\n",
        "import numpy as np\n",
        "import cv2\n",
        "import PIL\n",
        "\n",
        "from torch.utils.data import DataLoader\n",
        "from torchvision import datasets\n",
        "from torchvision.transforms import ToTensor\n",
        "\n",
        "from pprint import pprint"
      ],
      "execution_count": 1,
      "outputs": []
    },
    {
      "cell_type": "markdown",
      "metadata": {
        "id": "pmmZh-IZ3o43"
      },
      "source": [
        "### Zbiory danych"
      ]
    },
    {
      "cell_type": "markdown",
      "metadata": {
        "id": "33K8aecMdVem"
      },
      "source": [
        "- MNIST - popularny zbiór danych przedstawiający obrazki o rozmiarze 28x28 zawierające odręczne pismo w postaci cyfr. Więcej informacji pod [linkiem](http://yann.lecun.com/exdb/mnist/)."
      ]
    },
    {
      "cell_type": "markdown",
      "metadata": {
        "id": "b3desh1dBMaw"
      },
      "source": [
        "### Wizualizacja\n",
        "\n"
      ]
    },
    {
      "cell_type": "markdown",
      "metadata": {
        "id": "W5MYAXSgem6O"
      },
      "source": [
        "Skrypt do wyżwietlania obrazów BGR oraz Grayscale."
      ]
    },
    {
      "cell_type": "code",
      "metadata": {
        "id": "VCHL_RVqunsJ"
      },
      "source": [
        "def imshow(a):\n",
        "  a = a.clip(0, 255).astype('uint8')\n",
        "  if a.ndim == 3:\n",
        "    if a.shape[2] == 4:\n",
        "      a = cv2.cvtColor(a, cv2.COLOR_BGRA2RGBA)\n",
        "    else:\n",
        "      a = cv2.cvtColor(a, cv2.COLOR_BGR2RGB)\n",
        "  display(PIL.Image.fromarray(a))"
      ],
      "execution_count": 2,
      "outputs": []
    },
    {
      "cell_type": "markdown",
      "metadata": {
        "id": "PNVsm5gkl3-3"
      },
      "source": [
        "# PyTorch"
      ]
    },
    {
      "cell_type": "markdown",
      "metadata": {
        "id": "TOXQRqo-lV9O"
      },
      "source": [
        "## Wstęp do PyTorch"
      ]
    },
    {
      "cell_type": "code",
      "metadata": {
        "colab": {
          "base_uri": "https://localhost:8080/"
        },
        "id": "YJ0OFOFmqjQK",
        "outputId": "4a251ff0-e4f8-47d5-e871-438004e8d69d"
      },
      "source": [
        "np_arr = np.zeros([5, 5])\n",
        "torch_arr = torch.zeros([5, 5])\n",
        "\n",
        "print('NumPy array:\\n', np_arr, '\\n')\n",
        "print('PyTorch array:\\n', torch_arr, '\\n')\n",
        "\n",
        "np_arr = np.ones([5, 5])\n",
        "torch_arr = torch.ones([5, 5])\n",
        "\n",
        "print('NumPy array:\\n', np_arr, '\\n')\n",
        "print('PyTorch array:\\n', torch_arr, '\\n')\n",
        "\n",
        "np_arr = np.array([1, 2, 3, 4, 5])\n",
        "torch_arr = torch.tensor([1, 2, 3, 4, 5])\n",
        "\n",
        "print('NumPy array:\\n', np_arr, '\\n')\n",
        "print('PyTorch array:\\n', torch_arr, '\\n')\n",
        "\n",
        "np_arr = np.random.normal(0, 1, [5, 5])\n",
        "torch_arr = torch.randn(5, 5)\n",
        "\n",
        "print('NumPy array:\\n', np_arr, '\\n')\n",
        "print('PyTorch array:\\n', torch_arr, '\\n')"
      ],
      "execution_count": 3,
      "outputs": [
        {
          "output_type": "stream",
          "name": "stdout",
          "text": [
            "NumPy array:\n",
            " [[0. 0. 0. 0. 0.]\n",
            " [0. 0. 0. 0. 0.]\n",
            " [0. 0. 0. 0. 0.]\n",
            " [0. 0. 0. 0. 0.]\n",
            " [0. 0. 0. 0. 0.]] \n",
            "\n",
            "PyTorch array:\n",
            " tensor([[0., 0., 0., 0., 0.],\n",
            "        [0., 0., 0., 0., 0.],\n",
            "        [0., 0., 0., 0., 0.],\n",
            "        [0., 0., 0., 0., 0.],\n",
            "        [0., 0., 0., 0., 0.]]) \n",
            "\n",
            "NumPy array:\n",
            " [[1. 1. 1. 1. 1.]\n",
            " [1. 1. 1. 1. 1.]\n",
            " [1. 1. 1. 1. 1.]\n",
            " [1. 1. 1. 1. 1.]\n",
            " [1. 1. 1. 1. 1.]] \n",
            "\n",
            "PyTorch array:\n",
            " tensor([[1., 1., 1., 1., 1.],\n",
            "        [1., 1., 1., 1., 1.],\n",
            "        [1., 1., 1., 1., 1.],\n",
            "        [1., 1., 1., 1., 1.],\n",
            "        [1., 1., 1., 1., 1.]]) \n",
            "\n",
            "NumPy array:\n",
            " [1 2 3 4 5] \n",
            "\n",
            "PyTorch array:\n",
            " tensor([1, 2, 3, 4, 5]) \n",
            "\n",
            "NumPy array:\n",
            " [[ 0.60176327 -0.48932308  1.71391211  0.01732194 -0.58114946]\n",
            " [ 0.51840877 -0.96576105  1.32396019 -0.42044411 -0.12346452]\n",
            " [ 0.6943384   0.56733944  0.23967553 -1.96481108 -0.57257569]\n",
            " [-1.09212128  1.47791751  0.7182701  -0.71784117  0.90289806]\n",
            " [ 0.15103583  2.23072586  0.81366487 -1.14054584 -0.77247689]] \n",
            "\n",
            "PyTorch array:\n",
            " tensor([[-0.9184,  0.6721, -1.8653,  0.4530, -0.7581],\n",
            "        [ 0.5900, -0.0556,  0.8449,  2.1336,  0.4000],\n",
            "        [-0.9534,  0.0672, -0.2294,  0.4648,  1.2176],\n",
            "        [ 0.2128, -0.6555,  0.4797,  0.0170, -0.6751],\n",
            "        [ 0.1288,  1.4207,  0.4113, -0.7340,  0.8468]]) \n",
            "\n"
          ]
        }
      ]
    },
    {
      "cell_type": "markdown",
      "metadata": {
        "id": "0RoI1AEDqlMA"
      },
      "source": [
        "przez operacje na danych:"
      ]
    },
    {
      "cell_type": "code",
      "metadata": {
        "colab": {
          "base_uri": "https://localhost:8080/"
        },
        "id": "rYhJNWNUqpQy",
        "outputId": "56738576-0823-4590-b86b-76639acde2f5"
      },
      "source": [
        "np_a = np.ones([5, 5])\n",
        "torch_a = torch.ones([5, 5])\n",
        "\n",
        "np_a = np_a + np_a\n",
        "np_a = np_a * np_a\n",
        "np_a = np_a ** 2 + np_a ** 3\n",
        "\n",
        "torch_a = torch_a + torch_a\n",
        "torch_a = torch_a * torch_a\n",
        "torch_a = torch_a ** 2 + torch_a ** 3\n",
        "\n",
        "print('NumPy array:\\n', np.sqrt(np_a), '\\n')\n",
        "print('PyTorch array:\\n', torch.sqrt(torch_a), '\\n')"
      ],
      "execution_count": 4,
      "outputs": [
        {
          "output_type": "stream",
          "name": "stdout",
          "text": [
            "NumPy array:\n",
            " [[8.94427191 8.94427191 8.94427191 8.94427191 8.94427191]\n",
            " [8.94427191 8.94427191 8.94427191 8.94427191 8.94427191]\n",
            " [8.94427191 8.94427191 8.94427191 8.94427191 8.94427191]\n",
            " [8.94427191 8.94427191 8.94427191 8.94427191 8.94427191]\n",
            " [8.94427191 8.94427191 8.94427191 8.94427191 8.94427191]] \n",
            "\n",
            "PyTorch array:\n",
            " tensor([[8.9443, 8.9443, 8.9443, 8.9443, 8.9443],\n",
            "        [8.9443, 8.9443, 8.9443, 8.9443, 8.9443],\n",
            "        [8.9443, 8.9443, 8.9443, 8.9443, 8.9443],\n",
            "        [8.9443, 8.9443, 8.9443, 8.9443, 8.9443],\n",
            "        [8.9443, 8.9443, 8.9443, 8.9443, 8.9443]]) \n",
            "\n"
          ]
        }
      ]
    },
    {
      "cell_type": "markdown",
      "metadata": {
        "id": "SzW5f_zvstsZ"
      },
      "source": [
        "PyTorch zawiera implementacje funkcji redukcji wymiarowości, m.in. suma, średnia, minimum, maximum."
      ]
    },
    {
      "cell_type": "code",
      "metadata": {
        "colab": {
          "base_uri": "https://localhost:8080/"
        },
        "id": "vZ6OgEFss40E",
        "outputId": "1252bc5a-b9fe-4be1-f34f-82dbe37da66c"
      },
      "source": [
        "print('NumPy sum:', np_a.sum())\n",
        "print('NumPy mean:', np_a.mean())\n",
        "print('NumPy min:', np_a.min())\n",
        "print('NumPy max:', np_a.max())\n",
        "\n",
        "print('PyTorch sum:', torch_a.sum())\n",
        "print('PyTorch mean:', torch_a.mean())\n",
        "print('PyTorch min:', torch_a.min())\n",
        "print('PyTorch max:', torch_a.max())"
      ],
      "execution_count": 5,
      "outputs": [
        {
          "output_type": "stream",
          "name": "stdout",
          "text": [
            "NumPy sum: 2000.0\n",
            "NumPy mean: 80.0\n",
            "NumPy min: 80.0\n",
            "NumPy max: 80.0\n",
            "PyTorch sum: tensor(2000.)\n",
            "PyTorch mean: tensor(80.)\n",
            "PyTorch min: tensor(80.)\n",
            "PyTorch max: tensor(80.)\n"
          ]
        }
      ]
    },
    {
      "cell_type": "markdown",
      "metadata": {
        "id": "3l7XlqCAtWuJ"
      },
      "source": [
        "Analogicznie do NumPy, redukcję można wykonać względem ustalonych wymiarów:"
      ]
    },
    {
      "cell_type": "code",
      "metadata": {
        "colab": {
          "base_uri": "https://localhost:8080/"
        },
        "id": "Lb0L9t11tWJ2",
        "outputId": "875ddf43-f069-44ac-d761-4f4091374a46"
      },
      "source": [
        "print('NumPy sum:', np_a.sum(0))\n",
        "print('NumPy mean:', np_a.mean(1))\n",
        "print('NumPy min:', np_a.min(0))\n",
        "print('NumPy max:', np_a.max(1))\n",
        "\n",
        "print('PyTorch sum:', torch_a.sum(0))\n",
        "print('PyTorch mean:', torch_a.mean(1))\n",
        "# amin, amax vs min, max: https://pytorch.org/docs/stable/generated/torch.amax.html\n",
        "print('PyTorch min:', torch_a.amin(0))\n",
        "print('PyTorch max:', torch_a.amax(1))"
      ],
      "execution_count": 6,
      "outputs": [
        {
          "output_type": "stream",
          "name": "stdout",
          "text": [
            "NumPy sum: [400. 400. 400. 400. 400.]\n",
            "NumPy mean: [80. 80. 80. 80. 80.]\n",
            "NumPy min: [80. 80. 80. 80. 80.]\n",
            "NumPy max: [80. 80. 80. 80. 80.]\n",
            "PyTorch sum: tensor([400., 400., 400., 400., 400.])\n",
            "PyTorch mean: tensor([80., 80., 80., 80., 80.])\n",
            "PyTorch min: tensor([80., 80., 80., 80., 80.])\n",
            "PyTorch max: tensor([80., 80., 80., 80., 80.])\n"
          ]
        }
      ]
    },
    {
      "cell_type": "markdown",
      "metadata": {
        "id": "FbxeBF5pumux"
      },
      "source": [
        "### Zmienne"
      ]
    },
    {
      "cell_type": "markdown",
      "metadata": {
        "id": "5zPvYZe0uzyk"
      },
      "source": [
        "W PyTorch w przeciwieństwie do TensorFlow **nie** rozróżniamy pomiędzy **Variable** a **Constant**. Wszystkie wartości przechowujemy w **Tensorach**. Wartości te mogą być uaktualniane."
      ]
    },
    {
      "cell_type": "code",
      "source": [
        "# inicjalizacja zmiennej z losowymi wartościami z rozkładu jednostajnego\n",
        "b = torch.rand(5)\n",
        "\n",
        "print(b.numpy())\n",
        "\n",
        "# wykonanie operacji dodawania na zmiennej\n",
        "b += torch.tensor([1, 0, 0, 1, 0])\n",
        "\n",
        "print(b.numpy())\n",
        "\n",
        "# wykonanie operacji odejmowania na zmiennej\n",
        "b -= torch.tensor([1, 0, 0, 1, 0])\n",
        "\n",
        "print(b.numpy())\n",
        "\n",
        "# wykonanie operacji przypisania na zmiennej\n",
        "b = torch.tensor([1, 2, 3, 4, 5])\n",
        "\n",
        "print(b.numpy())"
      ],
      "metadata": {
        "colab": {
          "base_uri": "https://localhost:8080/"
        },
        "id": "XUs8x4TAaX1v",
        "outputId": "f62a3b8f-0f17-4930-d2e2-87760edc2d21"
      },
      "execution_count": 7,
      "outputs": [
        {
          "output_type": "stream",
          "name": "stdout",
          "text": [
            "[0.01641738 0.2197622  0.6109646  0.27812588 0.8272006 ]\n",
            "[1.0164174 0.2197622 0.6109646 1.2781259 0.8272006]\n",
            "[0.01641738 0.2197622  0.6109646  0.27812588 0.8272006 ]\n",
            "[1 2 3 4 5]\n"
          ]
        }
      ]
    },
    {
      "cell_type": "markdown",
      "metadata": {
        "id": "SvCRcHUvlddR"
      },
      "source": [
        "## Podstawowe operacje neuronowe"
      ]
    },
    {
      "cell_type": "markdown",
      "metadata": {
        "id": "f3iiIeq9vhWj"
      },
      "source": [
        "Jedną z podstawowych operacji neuronowych jest warstwa **w pełni połączona**, czyli warstwa składająca się z **neuronów**. Każdy neuron wykonuje operację **kombinacji liniowej** z następującą **funkcją aktywacji**:\n",
        "\n",
        "$$z_j = \\sum x_i * w_{ij} + b_j$$\n",
        "$$y_j = f(z_j)$$\n",
        "\n",
        "lub innymi słowy, neuron pobiera wektor danych wejściowych, przemnaża go przez wektor **zmiennych uczonych**, sumuje, dodaje wyraz wolny (funkcja liniowa) oraz aplikuje pewną funkcję aktywacji.\n"
      ]
    },
    {
      "cell_type": "code",
      "source": [
        "w = torch.rand(10, 5, dtype=torch.float32)\n",
        "b = torch.rand(5, dtype=torch.float32)\n",
        "\n",
        "print(f'w: {w}\\nb: {b}')"
      ],
      "metadata": {
        "colab": {
          "base_uri": "https://localhost:8080/"
        },
        "id": "q5jOTJIQbFLn",
        "outputId": "daa3dcfc-4c2a-4a0b-bdae-0c6c44e8265f"
      },
      "execution_count": 8,
      "outputs": [
        {
          "output_type": "stream",
          "name": "stdout",
          "text": [
            "w: tensor([[0.6610, 0.5896, 0.2715, 0.6405, 0.7488],\n",
            "        [0.5482, 0.0127, 0.3423, 0.9317, 0.1987],\n",
            "        [0.3624, 0.9143, 0.5728, 0.8678, 0.1115],\n",
            "        [0.5249, 0.1871, 0.0571, 0.4529, 0.0541],\n",
            "        [0.2916, 0.8800, 0.4680, 0.3343, 0.9806],\n",
            "        [0.5912, 0.4143, 0.2569, 0.7727, 0.2670],\n",
            "        [0.8996, 0.6703, 0.8206, 0.9663, 0.2147],\n",
            "        [0.8915, 0.3151, 0.0647, 0.3061, 0.4216],\n",
            "        [0.2855, 0.9759, 0.4446, 0.6163, 0.0646],\n",
            "        [0.8581, 0.3206, 0.1551, 0.8564, 0.9388]])\n",
            "b: tensor([0.7430, 0.8245, 0.8921, 0.7959, 0.0965])\n"
          ]
        }
      ]
    },
    {
      "cell_type": "code",
      "metadata": {
        "id": "adC3DrJjxOAm"
      },
      "source": [
        "def neuron(x, f=lambda x: x):\n",
        "  return f(x @ w + b)"
      ],
      "execution_count": 9,
      "outputs": []
    },
    {
      "cell_type": "code",
      "metadata": {
        "colab": {
          "base_uri": "https://localhost:8080/"
        },
        "id": "yiAOEv2Axpu5",
        "outputId": "4de5b121-5ac1-4676-a0cb-09718dfed23b"
      },
      "source": [
        "x = torch.randn(1, 10)\n",
        "y = neuron(x)\n",
        "\n",
        "print(f'{x.shape = }: {x}\\n{y.shape = }: {y}')"
      ],
      "execution_count": 10,
      "outputs": [
        {
          "output_type": "stream",
          "name": "stdout",
          "text": [
            "x.shape = torch.Size([1, 10]): tensor([[ 0.0859,  2.1992,  1.9051,  1.5618,  0.4257, -1.6073,  0.0069,  0.4614,\n",
            "          0.1647,  0.4541]])\n",
            "y.shape = torch.Size([1, 5]): tensor([[3.5436, 3.1024, 2.8142, 4.7990, 1.5158]])\n"
          ]
        }
      ]
    },
    {
      "cell_type": "markdown",
      "metadata": {
        "id": "uhTIx70pyD7Y"
      },
      "source": [
        "Jak widać na powyższym przykładzie operację kombinacji liniowej dla wielu wektorów (tzn. przetwarzanie można zoptymalizować wykonując operacje neuronu na wielu przykładach na raz) można zrealizować jako mnożenie macierzy."
      ]
    },
    {
      "cell_type": "code",
      "source": [
        "x = torch.randn(5, 10)\n",
        "y = neuron(x)\n",
        "\n",
        "print(f'{x.shape = }: {x}\\n{y.shape = }: {y}')"
      ],
      "metadata": {
        "colab": {
          "base_uri": "https://localhost:8080/"
        },
        "id": "Cgpu5CpWbhWI",
        "outputId": "50380a3e-dd96-4c9e-9680-a0a31d87cfbf"
      },
      "execution_count": 11,
      "outputs": [
        {
          "output_type": "stream",
          "name": "stdout",
          "text": [
            "x.shape = torch.Size([5, 10]): tensor([[ 0.9325,  0.1939, -0.8496,  1.8460,  0.8352, -0.8438,  0.5481, -0.1653,\n",
            "          0.1064, -0.0421],\n",
            "        [ 1.8039,  0.1282, -0.9255, -1.4170,  1.0640,  1.8938,  0.7436, -0.0865,\n",
            "         -1.0344,  0.2753],\n",
            "        [ 0.2779,  2.2173, -1.2534,  0.6866,  0.3514,  0.7531, -1.0720, -0.4952,\n",
            "         -0.7388,  0.4825],\n",
            "        [ 1.2229,  0.5880,  1.6723, -0.1674, -1.7892, -0.2140,  1.0274,  2.1544,\n",
            "         -0.0869,  0.2819],\n",
            "        [-0.8553,  0.4126,  0.0339, -0.7518, -1.0451,  1.2967,  0.9356, -0.1592,\n",
            "          1.0469,  0.3143]])\n",
            "y.shape = torch.Size([5, 5]): tensor([[ 2.2114,  1.7364,  1.4844,  1.8083,  1.4474],\n",
            "        [ 2.8892,  2.0493,  1.9865,  2.7353,  3.1566],\n",
            "        [ 1.3933, -0.8207,  0.2403,  1.7328,  1.1545],\n",
            "        [ 4.8056,  2.7606,  2.4689,  4.5789,  0.8827],\n",
            "        [ 1.7518,  1.5327,  1.8931,  2.7438, -0.6811]])\n"
          ]
        }
      ]
    },
    {
      "cell_type": "markdown",
      "metadata": {
        "id": "chhTjiKNzDNJ"
      },
      "source": [
        "Powyższa implementacja neuronu wykorzystuje funkcję aktywacji **identity**, czyli brak modyfikacji, a więc jest to funkcja liniowa. Do innych funkcji aktywacji można zaliczyć:\n",
        "- relu - jedna z ważniejszych operacji ze względu na jej prostą pochodną.,\n",
        "- sigmoid - jedna z pierwszych aplikowanych funkcji aktywacji w neuronach,\n",
        "- tangens hiperboliczny - najczęściej wykorzystywana w sieciach rekurencyjnych,\n",
        "- elu, selu, relu6, itp. - różne modyfikacje funkcji relu.\n"
      ]
    },
    {
      "cell_type": "code",
      "source": [
        "x = torch.range(-5, 8, 0.1, dtype=torch.float32)\n",
        "\n",
        "plt.figure(figsize=(15, 10))\n",
        "plt.title('Funkcje aktywacji')\n",
        "plt.xlabel('x')\n",
        "plt.ylabel('y')\n",
        "plt.plot(x, torch.nn.functional.relu(x), label='relu')\n",
        "plt.plot(x, torch.nn.functional.relu6(x), label='relu6')\n",
        "plt.plot(x, torch.nn.functional.leaky_relu(x, 0.2), label='leaky relu')\n",
        "plt.plot(x, torch.nn.functional.elu(x), label='elu')\n",
        "plt.plot(x, torch.nn.functional.selu(x), label='selu')\n",
        "plt.grid()\n",
        "plt.legend()\n",
        "plt.show()"
      ],
      "metadata": {
        "colab": {
          "base_uri": "https://localhost:8080/",
          "height": 927
        },
        "id": "pPSz33ZRcV4Q",
        "outputId": "4c26f0a4-5e94-4fc9-a3a9-ce7dc6698c4e"
      },
      "execution_count": 12,
      "outputs": [
        {
          "output_type": "stream",
          "name": "stderr",
          "text": [
            "<ipython-input-12-cb76b6c6f5aa>:1: UserWarning: torch.range is deprecated and will be removed in a future release because its behavior is inconsistent with Python's range builtin. Instead, use torch.arange, which produces values in [start, end).\n",
            "  x = torch.range(-5, 8, 0.1, dtype=torch.float32)\n"
          ]
        },
        {
          "output_type": "display_data",
          "data": {
            "text/plain": [
              "<Figure size 1500x1000 with 1 Axes>"
            ],
            "image/png": "[encoded data removed]"
          },
          "metadata": {}
        }
      ]
    },
    {
      "cell_type": "code",
      "source": [
        "x = torch.range(-3, 3, 0.1, dtype=torch.float32)\n",
        "plt.figure(figsize=(15, 10))\n",
        "plt.title('Funkcje aktywacji')\n",
        "plt.xlabel('x')\n",
        "plt.ylabel('y')\n",
        "plt.plot(x, torch.nn.functional.sigmoid(x), label='sigmoid')\n",
        "plt.plot(x, torch.nn.functional.tanh(x), label='tanh')\n",
        "plt.grid()\n",
        "plt.legend()\n",
        "plt.show()"
      ],
      "metadata": {
        "colab": {
          "base_uri": "https://localhost:8080/",
          "height": 927
        },
        "id": "hHlj3uxYdbSO",
        "outputId": "c2b285e8-dcdb-4137-a763-03e30884fc70"
      },
      "execution_count": 13,
      "outputs": [
        {
          "output_type": "stream",
          "name": "stderr",
          "text": [
            "<ipython-input-13-69e13d9b6914>:1: UserWarning: torch.range is deprecated and will be removed in a future release because its behavior is inconsistent with Python's range builtin. Instead, use torch.arange, which produces values in [start, end).\n",
            "  x = torch.range(-3, 3, 0.1, dtype=torch.float32)\n"
          ]
        },
        {
          "output_type": "display_data",
          "data": {
            "text/plain": [
              "<Figure size 1500x1000 with 1 Axes>"
            ],
            "image/png": "[encoded data removed]"
          },
          "metadata": {}
        }
      ]
    },
    {
      "cell_type": "code",
      "source": [
        "x = torch.randn(5, 10)\n",
        "y = neuron(x, torch.nn.functional.relu)\n",
        "\n",
        "print(f'{x.shape = }: {x}\\n{y.shape = }: {y}')"
      ],
      "metadata": {
        "colab": {
          "base_uri": "https://localhost:8080/"
        },
        "id": "StFAJY07dz6z",
        "outputId": "2295dfa3-9295-43ab-f56a-900ca3d79716"
      },
      "execution_count": 14,
      "outputs": [
        {
          "output_type": "stream",
          "name": "stdout",
          "text": [
            "x.shape = torch.Size([5, 10]): tensor([[ 0.3064,  0.6666,  1.2570, -2.3650, -2.8470,  1.6940,  0.0804, -0.4840,\n",
            "         -0.2906,  0.4261],\n",
            "        [-0.2641,  0.1454,  0.7432, -0.8449, -0.6000, -0.2798,  1.3720, -1.3261,\n",
            "         -1.0833, -1.5523],\n",
            "        [ 0.0871,  1.4930,  0.2699, -2.0987,  0.4904,  0.9206,  1.5325, -0.5421,\n",
            "          0.4670, -0.0466],\n",
            "        [-0.0106,  0.8876,  1.5654, -0.6540, -0.4914,  1.3087,  1.8104,  0.9114,\n",
            "          0.3907,  0.2320],\n",
            "        [-0.3354, -1.3501,  0.6918,  0.0555,  0.8402,  0.0899, -0.8285,  0.6306,\n",
            "         -0.6217, -1.6537]])\n",
            "y.shape = torch.Size([5, 5]): tensor([[0.6201, 0.0000, 0.8626, 2.1054, 0.0000],\n",
            "        [0.0000, 0.0000, 1.2126, 0.0000, 0.0000],\n",
            "        [2.2913, 2.8592, 3.3504, 3.9646, 1.1884],\n",
            "        [4.8287, 4.2047, 3.9128, 5.9931, 1.2874],\n",
            "        [0.0000, 0.5357, 0.0000, 0.0000, 0.0000]])\n"
          ]
        }
      ]
    },
    {
      "cell_type": "code",
      "source": [
        "x = torch.randn(5, 10)\n",
        "y = neuron(x, torch.nn.functional.tanh)\n",
        "\n",
        "print(f'{x.shape = }: {x}\\n{y.shape = }: {y}')"
      ],
      "metadata": {
        "colab": {
          "base_uri": "https://localhost:8080/"
        },
        "id": "UvYwn7wWeAS3",
        "outputId": "730b21ac-3a0d-4e75-f137-3715732cbe55"
      },
      "execution_count": 15,
      "outputs": [
        {
          "output_type": "stream",
          "name": "stdout",
          "text": [
            "x.shape = torch.Size([5, 10]): tensor([[ 2.0176, -0.4981, -0.1387, -0.8864, -1.5479, -0.2335,  0.8335, -0.3036,\n",
            "          0.1251, -0.4995],\n",
            "        [-2.0608, -0.4040,  0.0428, -1.6234, -0.9263,  1.0431,  1.0883, -0.8922,\n",
            "          1.1860, -1.1710],\n",
            "        [-0.4261, -1.1131,  2.3832,  0.9503, -0.2843, -0.4483,  0.0077,  0.6156,\n",
            "          0.7414, -0.4079],\n",
            "        [ 1.0576, -1.0216, -1.2129,  0.3084,  0.5223, -0.4053,  0.1617,  0.3201,\n",
            "         -0.1367, -1.0595],\n",
            "        [-0.5565, -1.1631,  0.2434, -0.9103, -0.4523,  0.6490,  1.0989,  0.4080,\n",
            "         -0.7998, -0.6548]])\n",
            "y.shape = torch.Size([5, 5]): tensor([[ 6.5558e-01,  5.9221e-01,  7.6046e-01,  6.4466e-01, -4.9687e-01],\n",
            "        [-9.4816e-01,  1.8486e-01,  8.1490e-01, -5.3393e-01, -9.9780e-01],\n",
            "        [ 8.5728e-01,  9.9713e-01,  9.5440e-01,  9.5140e-01, -5.3631e-01],\n",
            "        [-1.6147e-04,  3.8994e-01,  2.1759e-01, -8.5308e-01,  1.3624e-01],\n",
            "        [ 1.6056e-01,  2.7240e-01,  6.9434e-01, -3.4690e-01, -8.0125e-01]])\n"
          ]
        }
      ]
    },
    {
      "cell_type": "markdown",
      "metadata": {
        "id": "KRpHCqyz-Kwb"
      },
      "source": [
        "Poniżej zaprezentowana jest implementacja neuronu w **PyTorch API**.\n",
        "\n",
        "**Uwaga:** podczas pierwszego wywołania neuronu w zaalokowane zostaną wewnątrzne zmienne uczące się."
      ]
    },
    {
      "cell_type": "code",
      "source": [
        "neurons = torch.nn.Sequential(\n",
        "    torch.nn.Linear(10, 5),\n",
        "    torch.nn.ReLU(),\n",
        ")"
      ],
      "metadata": {
        "id": "HMkv0CeSfYLq"
      },
      "execution_count": 16,
      "outputs": []
    },
    {
      "cell_type": "code",
      "source": [
        "x = torch.randn(5, 10)\n",
        "y = neurons(x)\n",
        "\n",
        "print(f'{x.shape = }: {x}\\n{y.shape = }: {y}')\n",
        "print('\\n\\nZmienne wewnętrzne:')\n",
        "for p in neurons.parameters():\n",
        "  print(f'{p.shape}, {p.data}')"
      ],
      "metadata": {
        "colab": {
          "base_uri": "https://localhost:8080/"
        },
        "id": "kkAeaiYtfwSL",
        "outputId": "d9a5e413-91bd-4569-b56f-d6551ae33ff7"
      },
      "execution_count": 17,
      "outputs": [
        {
          "output_type": "stream",
          "name": "stdout",
          "text": [
            "x.shape = torch.Size([5, 10]): tensor([[-0.3591, -2.9151,  1.8426,  0.4234, -0.0156, -0.2535, -0.3971, -0.8604,\n",
            "          0.3638, -1.2252],\n",
            "        [-0.2921,  1.1428, -0.2321,  0.1796,  1.8960,  0.9399,  1.1728,  0.7648,\n",
            "          0.9488,  0.7125],\n",
            "        [ 1.8655,  1.7306,  0.9594,  0.0475, -0.1520, -0.9700,  1.0199, -0.1565,\n",
            "         -2.0389, -0.8021],\n",
            "        [-0.7838,  0.4283,  2.2944, -0.1742, -0.8162, -1.6695, -1.9211, -1.1536,\n",
            "         -0.2603,  0.3845],\n",
            "        [-1.4167, -0.8550, -0.6683, -1.9726,  0.2934, -0.0265,  0.4630, -0.7072,\n",
            "          0.2166,  0.6159]])\n",
            "y.shape = torch.Size([5, 5]): tensor([[0.0000, 0.7289, 0.0000, 0.0000, 0.0000],\n",
            "        [0.6016, 0.0280, 0.5713, 0.3224, 0.0000],\n",
            "        [1.8695, 0.3953, 0.0000, 0.9866, 0.7499],\n",
            "        [0.2558, 0.0000, 0.0700, 0.7168, 0.0392],\n",
            "        [0.0000, 0.0000, 0.6674, 0.2458, 0.0000]], grad_fn=<ReluBackward0>)\n",
            "\n",
            "\n",
            "Zmienne wewnętrzne:\n",
            "torch.Size([5, 10]), tensor([[ 0.2184,  0.2064,  0.2378, -0.0965,  0.0296,  0.0247,  0.2098,  0.1178,\n",
            "         -0.2814,  0.1406],\n",
            "        [ 0.2294, -0.1940,  0.2410,  0.1775,  0.1681, -0.0906,  0.2890,  0.0813,\n",
            "          0.0520, -0.1112],\n",
            "        [-0.0554, -0.0438, -0.1064, -0.1281,  0.2632, -0.1043, -0.0868,  0.1262,\n",
            "         -0.1221,  0.2102],\n",
            "        [-0.0201,  0.3134,  0.2640, -0.1706,  0.0231,  0.2790,  0.0506, -0.2817,\n",
            "         -0.3143,  0.2803],\n",
            "        [ 0.0898, -0.0310, -0.2820,  0.2453, -0.2041, -0.1174, -0.0401, -0.1166,\n",
            "         -0.2975, -0.0042]])\n",
            "torch.Size([5]), tensor([ 0.2532, -0.2641,  0.1740, -0.0012,  0.1626])\n"
          ]
        }
      ]
    },
    {
      "cell_type": "markdown",
      "metadata": {
        "id": "NjsDVCL62n7-"
      },
      "source": [
        "Operując biblioteką PyTorch w kontekście Widzenia Komputerowego, można zauważyć, że posiada ona wiele operacji poznanych wcześniej w ramach klasycznego przetwarzania obrazów. Są to m.in. konwolucja oraz pooling.\n",
        "\n",
        "**Uwaga:** formalnie, konwolucja jest operacją ''przemnożenia'' **odwróconym** filtrem danych wejściowych. ''Przemnożenie'' **nieodwróconym** filtrem nazywa się operacją **koralacji**. Ze względu na fakt, że w przetwarzaniu neuronowym filtrem są zmienne uczące się, nie ma znaczenia czy odwrócimy czy nie filtr. Dlatego w celach optymalizacyjnych implementacja konwolucji w PyTorch jest formalnie operacją korelacji.\n",
        "\n",
        "Poniżej zaprezentowana została implementacja konwolucji w kontekście laboratoriów dotyczących operacji splotowych.\n",
        "\n",
        "Dla podanych tablic **f** i **g** wykonaj operację konwolucji. Zastosuj uzupełnienie zerami, przesunięcie jednostkowe oraz rozszerzenie równe 1.\n",
        "\n",
        "$f = [1, 2, 3]$  \n",
        "$g = [1, 0, 1]$\n",
        "\n",
        "**1. Uzupełnienie:**\n",
        "\n",
        "$f = [0, 1, 2, 3, 0]$\n",
        "\n",
        "**2. Wykonanie konwolucji:**\n",
        "\n",
        "Konwolucja zostanie wykonana dla $t \\in <0, 1, 2>$\n",
        "\n",
        "$(f \\ast g)(0) = 0 * 1 + 1 * 0 + 2 * 1 = 2$  \n",
        "$(f \\ast g)(1) = 1 * 1 + 2 * 0 + 3 * 1 = 4$  \n",
        "$(f \\ast g)(2) = 2 * 1 + 3 * 0 + 0 * 1 = 2$  \n",
        "\n",
        "$f \\ast g = [2, 4, 2]$"
      ]
    },
    {
      "cell_type": "code",
      "source": [
        "torch.tensor([1, 2, 3]).reshape(1, -1, 1)"
      ],
      "metadata": {
        "colab": {
          "base_uri": "https://localhost:8080/"
        },
        "id": "BAIESBL1hHHo",
        "outputId": "09f06b5f-31eb-42dd-e1e5-e9a8215b9003"
      },
      "execution_count": 18,
      "outputs": [
        {
          "output_type": "execute_result",
          "data": {
            "text/plain": [
              "tensor([[[1],\n",
              "         [2],\n",
              "         [3]]])"
            ]
          },
          "metadata": {},
          "execution_count": 18
        }
      ]
    },
    {
      "cell_type": "code",
      "source": [
        "a = torch.tensor([1, 2, 3])\n",
        "f = torch.tensor([1, 0, 1])\n",
        "\n",
        "y = torch.nn.functional.conv1d(a.reshape(1, 1, -1), f.reshape(1, 1, -1), stride=1, padding='same')\n",
        "\n",
        "print(f'a: {a}')\n",
        "print(f'f: {f}')\n",
        "print(f'y: {y[0, 0]}')"
      ],
      "metadata": {
        "colab": {
          "base_uri": "https://localhost:8080/"
        },
        "id": "l2S_V1tKgimM",
        "outputId": "40d2b701-28f0-4a24-df46-41d0d7174951"
      },
      "execution_count": 19,
      "outputs": [
        {
          "output_type": "stream",
          "name": "stdout",
          "text": [
            "a: tensor([1, 2, 3])\n",
            "f: tensor([1, 0, 1])\n",
            "y: tensor([2, 4, 2])\n"
          ]
        }
      ]
    },
    {
      "cell_type": "markdown",
      "metadata": {
        "id": "i_vvxLPE5O39"
      },
      "source": [
        "PyTorch zawiera gotową implementację warstwy konwolucyjnej zawierającą również zarządzanie zmiennymi uczącymi. Domyślną konfiguracją biblioteki PyTorch jest wspieranie **wielu operacji na raz**, np. zamiast wykonując konwolucję jednego filtru, może być ich wykonanych N.\n",
        "\n",
        "Dla poniższego przykładu danymi wejściowymi jest tensor 4 wymiarowy **(pierwszy wymiar zazwyczaj traktowany jest jako liczna równoległych przykładów przetwarzanych na raz)**, który może oznaczać np. 3 obrazy o rozmiarze 128x128, 3 kanałach (float).\n",
        "\n",
        "Pojedynczą operacją konwolucji byłoby stworzenie filtru np. 5x5 który obsługuje dane wejściowe 3-wymiarowe. Czyli pojedynczy filtr miałby rozmiar \\[5, 5, 3\\]. Efektem wykonania konwolucji na obrazach wejściowych byłby **batch** obrazów o rozmiarze \\[3, 128, 128, 1\\] (ponieważ każdy filtr produkuje jedną wartość.\n",
        "\n",
        "Jeśli wykonamy N takich niezależnych filtrów, otrzymamy tensor \\[3, 128, 128, N\\]."
      ]
    },
    {
      "cell_type": "code",
      "metadata": {
        "id": "ju-hP5tu5YoZ"
      },
      "source": [
        "N = 10\n",
        "kernel_size = (5, 5)\n",
        "\n",
        "conv1 = torch.nn.Conv2d(3, N, kernel_size, stride=1, padding='same')"
      ],
      "execution_count": 20,
      "outputs": []
    },
    {
      "cell_type": "code",
      "source": [
        "images = torch.ones(size=(1, 3, 128, 128), dtype=torch.float32)\n",
        "images_filtered = conv1(images)\n",
        "\n",
        "print(f'Rozmiar obrazów wejściowych: {images.shape}')\n",
        "print(f'Rozmiar przefiltrowanych obrazów: {images_filtered.shape}')"
      ],
      "metadata": {
        "colab": {
          "base_uri": "https://localhost:8080/"
        },
        "id": "RLfYzCyziv6N",
        "outputId": "f3be40cf-ce23-4f00-d18b-c642b0922d68"
      },
      "execution_count": 21,
      "outputs": [
        {
          "output_type": "stream",
          "name": "stdout",
          "text": [
            "Rozmiar obrazów wejściowych: torch.Size([1, 3, 128, 128])\n",
            "Rozmiar przefiltrowanych obrazów: torch.Size([1, 10, 128, 128])\n"
          ]
        }
      ]
    },
    {
      "cell_type": "markdown",
      "source": [
        "**W ten sposób, każdy z pikseli opisaliśmy N cechami.**\n",
        "\n",
        "W przeciwieństwie do TensorFlow, w PyTorch najczęściej stosuje się konfigurację **Channel first**, oznacza do że wymiar liczby filtrów/kanałów występuje przed wymiarem obrazka."
      ],
      "metadata": {
        "id": "SY9cvyWvjERU"
      }
    },
    {
      "cell_type": "markdown",
      "metadata": {
        "id": "E52fORay7sa0"
      },
      "source": [
        "\n",
        "\n",
        "Podobnymi operacjami są operacjie **poolingu**, czyli operacji które nie zawierają zmiennych uczących się, np. wybranie największej/najmniejszej/średniej/mediany wartości z danego okna."
      ]
    },
    {
      "cell_type": "code",
      "source": [
        "f_max = torch.nn.MaxPool2d((2, 2), stride=2)\n",
        "f_ave = torch.nn.AvgPool2d((2, 2), stride=2)\n",
        "\n",
        "images_max = f_max(images_filtered)\n",
        "images_ave = f_ave(images_filtered)\n",
        "\n",
        "print(f'Rozmiar obrazów po max poolingu: {images_max.shape}')\n",
        "print(f'Rozmiar obrazów po average poolingu: {images_ave.shape}')"
      ],
      "metadata": {
        "colab": {
          "base_uri": "https://localhost:8080/"
        },
        "id": "HnA6ivV9jmjY",
        "outputId": "11140f4c-26c0-4879-fb50-fb433ff08851"
      },
      "execution_count": 22,
      "outputs": [
        {
          "output_type": "stream",
          "name": "stdout",
          "text": [
            "Rozmiar obrazów po max poolingu: torch.Size([1, 10, 64, 64])\n",
            "Rozmiar obrazów po average poolingu: torch.Size([1, 10, 64, 64])\n"
          ]
        }
      ]
    },
    {
      "cell_type": "markdown",
      "metadata": {
        "id": "RKuI8Wtn8y96"
      },
      "source": [
        "W powyższym przykładzie zostosowane zostało przesunięcie z krokiem równym 2 (stąd rozmiar wynikowy jest 2-krotnie mniejszy).\n",
        "\n",
        "Ostatnim przykładem podstawowej operacji w PyTorch jest funkcja wykonująca sekwencję operacji przekazując między sobą wyniki.\n",
        "\n",
        "W ten sposób, można znacznie uprościć swój model przetwarzania, pod warunkiem, że wszelkie warstwy i pod-modele zaimplementowane będą w PyTorch API."
      ]
    },
    {
      "cell_type": "code",
      "source": [
        "model = torch.nn.Sequential(\n",
        "  torch.nn.Conv2d(3, 8, (3, 3), 2),\n",
        "  torch.nn.ReLU(),\n",
        "  torch.nn.Conv2d(8, 16, (3, 3), 2),\n",
        "  torch.nn.ReLU(),\n",
        "  torch.nn.Conv2d(16, 32, (3, 3), 2),\n",
        "  torch.nn.ReLU(),\n",
        "  torch.nn.Flatten(),\n",
        "  torch.nn.Linear(7200, 10)\n",
        ")"
      ],
      "metadata": {
        "id": "U2LQxwyOkj-b"
      },
      "execution_count": 23,
      "outputs": []
    },
    {
      "cell_type": "code",
      "source": [
        "images = torch.ones(size=(1, 3, 128, 128), dtype=torch.float32)\n",
        "y = model(images)\n",
        "\n",
        "print(f'Rozmiar danych wejściowych: {images.shape}')\n",
        "print(f'Rozmiar danych wyjściowych: {y.shape}')"
      ],
      "metadata": {
        "colab": {
          "base_uri": "https://localhost:8080/"
        },
        "id": "rIipHd6fmAP9",
        "outputId": "81f8ee6a-e705-4ea5-e6ca-8ccfa6e28cdb"
      },
      "execution_count": 24,
      "outputs": [
        {
          "output_type": "stream",
          "name": "stdout",
          "text": [
            "Rozmiar danych wejściowych: torch.Size([1, 3, 128, 128])\n",
            "Rozmiar danych wyjściowych: torch.Size([1, 10])\n"
          ]
        }
      ]
    },
    {
      "cell_type": "markdown",
      "metadata": {
        "id": "XT-gk_ST9Bq9"
      },
      "source": [
        "**W powyższym przykładzie każdy obraz opisaliśmy jako 10 wartości.**"
      ]
    },
    {
      "cell_type": "markdown",
      "metadata": {
        "id": "L846W54vl2HZ"
      },
      "source": [
        "## Proces uczenia"
      ]
    },
    {
      "cell_type": "markdown",
      "metadata": {
        "id": "88NHfn4EAd0e"
      },
      "source": [
        "### Przygotowanie danych wejściowych"
      ]
    },
    {
      "cell_type": "markdown",
      "metadata": {
        "id": "i2O6uVokAowp"
      },
      "source": [
        "Jako dane wejściowe pobieramy obrazy pochodzące ze zbioru MNIST. Jeśli to możliwe najlepszym rozwiązaniem jest wykorzystanie **PyTorch Dataset API** do wczytania i preprocessingu danych."
      ]
    },
    {
      "cell_type": "code",
      "source": [
        "def mnist(batch_size=16):\n",
        "    training_data = datasets.MNIST(\n",
        "        root=\"data\",\n",
        "        train=True,\n",
        "        download=True,\n",
        "        transform=ToTensor()\n",
        "    )\n",
        "\n",
        "    test_data = datasets.MNIST(\n",
        "        root=\"data\",\n",
        "        train=False,\n",
        "        download=True,\n",
        "        transform=ToTensor()\n",
        "    )\n",
        "    train_dataloader = DataLoader(training_data, batch_size=64, shuffle=True)\n",
        "    test_dataloader = DataLoader(test_data, batch_size=64, shuffle=True)\n",
        "\n",
        "    return train_dataloader, test_dataloader"
      ],
      "metadata": {
        "id": "Ydj_v68ammUQ"
      },
      "execution_count": 25,
      "outputs": []
    },
    {
      "cell_type": "markdown",
      "metadata": {
        "id": "gv0JB85ABolW"
      },
      "source": [
        "Dane składają się z listy par: obraz, klasa przyporządkowana do obrazu."
      ]
    },
    {
      "cell_type": "code",
      "source": [
        "train_ds, val_ds = mnist(128)\n",
        "\n",
        "first_train_batch = next(iter(train_ds))\n",
        "images, labels = first_train_batch\n",
        "\n",
        "print(images.shape, labels.shape)"
      ],
      "metadata": {
        "colab": {
          "base_uri": "https://localhost:8080/"
        },
        "id": "9KA1XlYynVbX",
        "outputId": "5fb880cd-bfb0-440c-facf-922ae42c1caa"
      },
      "execution_count": 26,
      "outputs": [
        {
          "output_type": "stream",
          "name": "stderr",
          "text": [
            "100%|██████████| 9.91M/9.91M [00:00<00:00, 22.1MB/s]\n",
            "100%|██████████| 28.9k/28.9k [00:00<00:00, 612kB/s]\n",
            "100%|██████████| 1.65M/1.65M [00:00<00:00, 5.55MB/s]\n",
            "100%|██████████| 4.54k/4.54k [00:00<00:00, 6.57MB/s]"
          ]
        },
        {
          "output_type": "stream",
          "name": "stdout",
          "text": [
            "torch.Size([64, 1, 28, 28]) torch.Size([64])\n"
          ]
        },
        {
          "output_type": "stream",
          "name": "stderr",
          "text": [
            "\n"
          ]
        }
      ]
    },
    {
      "cell_type": "code",
      "source": [
        "imshow(images.numpy()[0, 0] * 255.)\n",
        "imshow(images.numpy()[1, 0] * 255.)\n",
        "imshow(images.numpy()[2, 0] * 255.)\n",
        "imshow(images.numpy()[3, 0] * 255.)"
      ],
      "metadata": {
        "colab": {
          "base_uri": "https://localhost:8080/",
          "height": 129
        },
        "id": "CnEGDlfUnuI-",
        "outputId": "cb157c11-badf-4756-ffb1-0779ba5281d6"
      },
      "execution_count": 27,
      "outputs": [
        {
          "output_type": "display_data",
          "data": {
            "text/plain": [
              "<PIL.Image.Image image mode=L size=28x28>"
            ],
            "image/png": "[encoded data removed]",
            "image/jpeg": "[encoded data removed]"
          },
          "metadata": {}
        },
        {
          "output_type": "display_data",
          "data": {
            "text/plain": [
              "<PIL.Image.Image image mode=L size=28x28>"
            ],
            "image/png": "[encoded data removed]",
            "image/jpeg": "[encoded data removed]"
          },
          "metadata": {}
        },
        {
          "output_type": "display_data",
          "data": {
            "text/plain": [
              "<PIL.Image.Image image mode=L size=28x28>"
            ],
            "image/png": "[encoded data removed]",
            "image/jpeg": "[encoded data removed]"
          },
          "metadata": {}
        },
        {
          "output_type": "display_data",
          "data": {
            "text/plain": [
              "<PIL.Image.Image image mode=L size=28x28>"
            ],
            "image/png": "[encoded data removed]",
            "image/jpeg": "[encoded data removed]"
          },
          "metadata": {}
        }
      ]
    },
    {
      "cell_type": "markdown",
      "metadata": {
        "id": "2j7zBoaJAh2t"
      },
      "source": [
        "### Przygotowanie modelu przetwarzanie"
      ]
    },
    {
      "cell_type": "code",
      "source": [
        "model = torch.nn.Sequential(\n",
        "  torch.nn.Conv2d(1, 8, (3, 3), 2),\n",
        "  torch.nn.ReLU(),\n",
        "  torch.nn.Conv2d(8, 16, (3, 3), 2),\n",
        "  torch.nn.ReLU(),\n",
        "  torch.nn.Conv2d(16, 32, (3, 3), 2),\n",
        "  torch.nn.ReLU(),\n",
        "  torch.nn.Flatten(),\n",
        "  torch.nn.Linear(128, 10)\n",
        ")"
      ],
      "metadata": {
        "id": "lvaGGoPeot6w"
      },
      "execution_count": 28,
      "outputs": []
    },
    {
      "cell_type": "code",
      "metadata": {
        "colab": {
          "base_uri": "https://localhost:8080/"
        },
        "id": "NWDx8VmtCZKq",
        "outputId": "f2a9e602-a8e9-467d-cb21-d16a5ac436e6"
      },
      "source": [
        "y = model(images)\n",
        "\n",
        "print(f'Rozmiar danych wejściowych: {images.shape}')\n",
        "print(f'Rozmiar danych wyjściowych: {y.shape}')"
      ],
      "execution_count": 29,
      "outputs": [
        {
          "output_type": "stream",
          "name": "stdout",
          "text": [
            "Rozmiar danych wejściowych: torch.Size([64, 1, 28, 28])\n",
            "Rozmiar danych wyjściowych: torch.Size([64, 10])\n"
          ]
        }
      ]
    },
    {
      "cell_type": "markdown",
      "source": [
        "### Pętla uczenia modelu"
      ],
      "metadata": {
        "id": "WAEqVFsWrXMm"
      }
    },
    {
      "cell_type": "code",
      "source": [
        "optimizer = torch.optim.Adam(model.parameters())\n",
        "loss_fn = torch.nn.CrossEntropyLoss()\n",
        "epochs = 3\n",
        "\n",
        "for epoch in range(epochs):\n",
        "  model.train()\n",
        "  for train_batch in train_ds:\n",
        "    images, labels = train_batch\n",
        "    optimizer.zero_grad()\n",
        "    outputs = model(images)\n",
        "    loss = loss_fn(outputs, labels)\n",
        "    accuracy = (outputs.argmax(1) == labels).sum() / labels.shape[0]\n",
        "    loss.backward()\n",
        "    optimizer.step()\n",
        "  print(f'Epoch: {epoch + 1}/{epochs}, Loss: {loss.item():.5f}, Accuracy: {accuracy:.2f}')\n",
        "\n",
        "  model.eval()\n",
        "  val_loss, val_acc = [], []\n",
        "  with torch.no_grad():\n",
        "    for val_batch in val_ds:\n",
        "      images, labels = val_batch\n",
        "      outputs = model(images)\n",
        "      val_loss.append(loss_fn(outputs, labels).item())\n",
        "      val_acc.append((outputs.argmax(1) == labels).sum() / labels.shape[0])\n",
        "  val_loss = np.mean(val_loss)\n",
        "  val_acc = np.mean(val_acc)\n",
        "  print(f'Validation loss: {val_loss:.5f}, Validation accuracy: {val_acc:.2f}')"
      ],
      "metadata": {
        "colab": {
          "base_uri": "https://localhost:8080/"
        },
        "id": "Npo3CAmIo5pu",
        "outputId": "0cb10507-9efc-40f8-d5f6-14a6fe11c6e7"
      },
      "execution_count": 30,
      "outputs": [
        {
          "output_type": "stream",
          "name": "stdout",
          "text": [
            "Epoch: 1/3, Loss: 0.04955, Accuracy: 1.00\n",
            "Validation loss: 0.18351, Validation accuracy: 0.94\n",
            "Epoch: 2/3, Loss: 0.19548, Accuracy: 0.94\n",
            "Validation loss: 0.11884, Validation accuracy: 0.96\n",
            "Epoch: 3/3, Loss: 0.04282, Accuracy: 0.97\n",
            "Validation loss: 0.09406, Validation accuracy: 0.97\n"
          ]
        }
      ]
    },
    {
      "cell_type": "code",
      "source": [
        "images, labels = next(iter(val_ds))\n",
        "\n",
        "predictions = model(images)\n",
        "\n",
        "print(labels[:4])\n",
        "print(torch.argmax(predictions[:4], -1))\n",
        "\n",
        "imshow(images.numpy()[0, 0] * 255.)\n",
        "imshow(images.numpy()[1, 0] * 255.)\n",
        "imshow(images.numpy()[2, 0] * 255.)\n",
        "imshow(images.numpy()[3, 0] * 255.)"
      ],
      "metadata": {
        "colab": {
          "base_uri": "https://localhost:8080/",
          "height": 164
        },
        "id": "PaOXE9QF1PI9",
        "outputId": "4b6d280d-dbaa-4173-c981-bf20bb76b859"
      },
      "execution_count": 31,
      "outputs": [
        {
          "output_type": "stream",
          "name": "stdout",
          "text": [
            "tensor([6, 8, 5, 2])\n",
            "tensor([6, 8, 5, 2])\n"
          ]
        },
        {
          "output_type": "display_data",
          "data": {
            "text/plain": [
              "<PIL.Image.Image image mode=L size=28x28>"
            ],
            "image/png": "[encoded data removed]",
            "image/jpeg": "[encoded data removed]"
          },
          "metadata": {}
        },
        {
          "output_type": "display_data",
          "data": {
            "text/plain": [
              "<PIL.Image.Image image mode=L size=28x28>"
            ],
            "image/png": "[encoded data removed]",
            "image/jpeg": "[encoded data removed]"
          },
          "metadata": {}
        },
        {
          "output_type": "display_data",
          "data": {
            "text/plain": [
              "<PIL.Image.Image image mode=L size=28x28>"
            ],
            "image/png": "[encoded data removed]",
            "image/jpeg": "[encoded data removed]"
          },
          "metadata": {}
        },
        {
          "output_type": "display_data",
          "data": {
            "text/plain": [
              "<PIL.Image.Image image mode=L size=28x28>"
            ],
            "image/png": "[encoded data removed]",
            "image/jpeg": "[encoded data removed]"
          },
          "metadata": {}
        }
      ]
    }
  ]
}