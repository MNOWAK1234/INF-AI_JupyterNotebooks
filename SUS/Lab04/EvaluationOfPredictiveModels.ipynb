{
 "cells": [
  {
   "cell_type": "markdown",
   "id": "69e52298440c6e3b",
   "metadata": {
    "collapsed": false
   },
   "source": [
    "# Systemy uczące się - Zad. dom. 4: Ocena modeli predykcyjnych\n",
    "\n",
    "### Autor rozwiązania\n",
    "Uzupełnij poniższe informacje umieszczając swoje imię i nazwisko oraz numer indeksu:"
   ]
  },
  {
   "cell_type": "code",
   "execution_count": 1,
   "id": "e47ff80fe053b100",
   "metadata": {
    "collapsed": false
   },
   "outputs": [],
   "source": [
    "NAME = \"Mikołaj Nowak\"\n",
    "ID = \"151813\""
   ]
  },
  {
   "cell_type": "markdown",
   "id": "bdd51e80a7d4374d",
   "metadata": {
    "collapsed": false
   },
   "source": [
    "Ten notebook zawiera zadania związane z oceną modeli predykcyjnych. Oprócz zadań programistycznych, notebook zawira również pytania, na które trzeba odpowiedzieć. Odpowiedzi nie muszą być długie, ale powinny być merytoryczne i odnosić się do omawianych zagadnień. W tym zadaniu domowym należy odpowiedzieć na WSZYSTKIE pytania.\n",
    "\n",
    "\n",
    "## Format danych\n",
    "W tym zadaniu domyślnym typem danych będą macierze (`np.ndarray`) o rozmiarze `(n, c)`, gdzie `n` to liczba obserwacji, a `c` to liczba klas. Wartości w macierzy będą reprezentować:\n",
    "\n",
    "- w przypadku `y` - prawdziwe klasy (wartości binarne). Na przykład:\n",
    "    ```\n",
    "    [\n",
    "        [1, 0, 0],\n",
    "        [0, 0, 1],\n",
    "        [1, 0, 0],\n",
    "    ]\n",
    "    ```\n",
    "    oznacza, że pierwsza i trzecia obserwacja należą do klasy 0, a druga do klasy 2. \n",
    "\n",
    "- w przypadku `y_hat` - predykcje modelu. Wartości w macierzy mogą reprezentować:\n",
    "    * prawdopodobieństwa przynależności do danej klasy (wartości z przedziału `[0, 1]`). Na przykład:\n",
    "        ```\n",
    "        [\n",
    "            [0.9, 0.1, 0.0],\n",
    "            [0.1, 0.2, 0.7],\n",
    "            [0.8, 0.2, 0.0],\n",
    "        ]\n",
    "        ```\n",
    "        oznacza, że model przewiduje, że pierwsza obserwacja należy do klasy 0 z prawdopodobieństwem 0.9, a do klasy 1 z prawdopodobieństwem 0.1.\n",
    "    \n",
    "    * predykcje (wartości binarne), gdzie wartość `1` oznacza przynależność do danej klasy, a wartość `0` jej brak.\n",
    "        ```\n",
    "        [\n",
    "            [0, 1, 0],\n",
    "            [0, 0, 1],\n",
    "            [0, 1, 0],\n",
    "        ]\n",
    "        ```\n",
    "        oznacza, że model przewiduje, że pierwsza obserwacja należy do klasy 1, a druga do klasy 2."
   ]
  },
  {
   "cell_type": "markdown",
   "id": "c19a9bbaf859afd4",
   "metadata": {
    "collapsed": false
   },
   "source": [
    "# Zadanie 1: Punktowe miary oceny klasyfikatorów\n",
    "\n",
    "Zadanie polega na zaimplementowaniu funkcji obliczających punktowe miary oceny klasyfikatorów, takich jak:\n",
    "- dokładność (accuracy),\n",
    "- precyzja (precision),\n",
    "- czułość (recall),\n",
    "- specyficzność (specificity),\n",
    "- F1,\n",
    "- G-mean,\n",
    "- balanced accuracy.\n",
    "\n",
    "Uwagi:\n",
    "- Do rozwiązania zadania można wykorzystać wyłącznie bibliotekę `numpy`.\n",
    "- Na potrzeby zadania domowego można założyć, że klasyfikacja jest wieloklasowa, ale jednoetykietowa (tj. każda obserwacja należy do dokładnie jednej klasy).\n",
    "- W przypadku, gdy mianownik w równaniu miary oceny jest równy 0, wartość miary powinna wynosić 0.\n",
    "- Podpowiedź: przy obliczaniu wielu miar warto zaimplementować funkcję pomocniczą, która oblicza macierz pomyłek."
   ]
  },
  {
   "cell_type": "code",
   "execution_count": 2,
   "id": "cd9fa7c6262a1e77",
   "metadata": {
    "collapsed": false
   },
   "outputs": [],
   "source": [
    "from typing import Literal\n",
    "\n",
    "import numpy as np"
   ]
  },
  {
   "cell_type": "code",
   "execution_count": 3,
   "id": "4816126ba546c472",
   "metadata": {
    "collapsed": false
   },
   "outputs": [],
   "source": [
    "y = np.eye(2, dtype=int)[np.repeat([0, 1], 50)]\n",
    "y_hat_0 = np.tile([1, 0], (100, 1))\n",
    "y_hat_1 = np.tile([0, 1], (100, 1))"
   ]
  },
  {
   "cell_type": "code",
   "execution_count": 4,
   "id": "551cb44f628f171f",
   "metadata": {
    "collapsed": false
   },
   "outputs": [],
   "source": [
    "def accuracy(y_hat: np.ndarray, y: np.ndarray) -> float:\n",
    "    \"\"\"Funkcja obliczająca dokładność klasyfikacji (accuracy). Funkcja powinna wspierać klasyfikację wieloklasową.\n",
    "    \n",
    "    Args:\n",
    "        y_hat (np.ndarray): Macierz z predykacjami modelu o wymiarach `(n, c)`.\n",
    "        y (np.ndarray): Macierz z prawdziwymi klasami o wymiarach `(n, c)`.\n",
    "        \n",
    "    Returns:\n",
    "        float: Dokładność klasyfikacji.\n",
    "    \"\"\"\n",
    "    y_pred_labels = np.argmax(y_hat, axis=1)\n",
    "    y_true_labels = np.argmax(y, axis=1)\n",
    "    \n",
    "    return np.mean(y_pred_labels == y_true_labels)"
   ]
  },
  {
   "cell_type": "code",
   "execution_count": 5,
   "id": "c540cf06bcdebb6d",
   "metadata": {
    "collapsed": false
   },
   "outputs": [],
   "source": [
    "def precision(y_hat: np.ndarray, y: np.ndarray, average: Literal[\"micro\", \"macro\"] = \"micro\") -> float:\n",
    "    \"\"\"Funkcja obliczająca precyzję klasyfikacji (precision). \n",
    "    Funkcja wspiera klasyfikację wieloklasową.\n",
    "\n",
    "    Args:\n",
    "        y_hat (np.ndarray): Macierz z predykcjami modelu o wymiarach `(n, c)`. \n",
    "        y (np.ndarray): Macierz z prawdziwymi klasami o wymiarach `(n, c)`. \n",
    "        average (\"micro\" | \"macro\"): Typ uśredniania wyników. Domyślnie \"micro\".\n",
    "        \n",
    "    Returns:\n",
    "        float: Precyzja klasyfikacji.\n",
    "    \"\"\"\n",
    "    y_pred_labels = np.argmax(y_hat, axis=1)\n",
    "    y_true_labels = np.argmax(y, axis=1)\n",
    "    num_classes = y.shape[1]\n",
    "\n",
    "    TP = np.zeros(num_classes)\n",
    "    FP = np.zeros(num_classes)\n",
    "\n",
    "    for c in range(num_classes):\n",
    "        TP[c] = np.sum((y_pred_labels == c) & (y_true_labels == c)) \n",
    "        FP[c] = np.sum((y_pred_labels == c) & (y_true_labels != c))\n",
    "\n",
    "    precision_per_class = TP / (TP + FP + 1e-9)  # Avoid division by 0\n",
    "    if average == \"micro\":\n",
    "        return np.sum(TP) / (np.sum(TP) + np.sum(FP) + 1e-9)\n",
    "    elif average == \"macro\":\n",
    "        return np.mean(precision_per_class)"
   ]
  },
  {
   "cell_type": "code",
   "execution_count": 6,
   "id": "f9c8d8ce619ceca9",
   "metadata": {
    "collapsed": false
   },
   "outputs": [],
   "source": [
    "def recall(y_hat: np.ndarray, y: np.ndarray, average: Literal[\"micro\", \"macro\"] = \"micro\") -> float:\n",
    "    \"\"\"Funkcja obliczająca czułość klasyfikacji (recall). Funkcja powinna wspierać klasyfikację wieloklasową.\n",
    "    \n",
    "    Args:\n",
    "        y_hat (np.ndarray): Macierz z predykacjami modelu o wymiarach `(n, c)`. \n",
    "        y (np.ndarray): Macierz z prawdziwymi klasami o wymiarach `(n, c)`. \n",
    "        average (\"micro\" | \"macro\"): Typ uśredniania wyników. Domyślnie \"micro\".\n",
    "        \n",
    "    Returns:\n",
    "        float: Precyzja klasyfikacji.\n",
    "    \"\"\"\n",
    "    y_pred_labels = np.argmax(y_hat, axis=1)\n",
    "    y_true_labels = np.argmax(y, axis=1)\n",
    "    num_classes = y.shape[1]\n",
    "\n",
    "    TP = np.zeros(num_classes)\n",
    "    FN = np.zeros(num_classes)\n",
    "\n",
    "    for c in range(num_classes):\n",
    "        TP[c] = np.sum((y_pred_labels == c) & (y_true_labels == c)) \n",
    "        FN[c] = np.sum((y_pred_labels != c) & (y_true_labels == c))\n",
    "\n",
    "    recall_per_class = TP / (TP + FN + 1e-9)  # Avoid division by 0\n",
    "    if average == \"micro\":\n",
    "        return np.sum(TP) / (np.sum(TP) + np.sum(FN) + 1e-9)\n",
    "    elif average == \"macro\":\n",
    "        return np.mean(recall_per_class)"
   ]
  },
  {
   "cell_type": "code",
   "execution_count": 7,
   "id": "acd7d74d04dea13f",
   "metadata": {
    "collapsed": false
   },
   "outputs": [],
   "source": [
    "def specificity(y_hat: np.ndarray, y: np.ndarray, average: Literal[\"micro\", \"macro\"] = \"micro\") -> float:\n",
    "    \"\"\"Funkcja obliczająca specyficzność klasyfikacji (specificity). Funkcja powinna wspierać klasyfikację wieloklasową.\n",
    "    \n",
    "    Args:\n",
    "        y_hat (np.ndarray): Macierz z predykacjami modelu o wymiarach `(n, c)`. \n",
    "        y (np.ndarray): Macierz z prawdziwymi klasami o wymiarach `(n, c)`. \n",
    "        average (\"micro\" | \"macro\"): Typ uśredniania wyników. Domyślnie \"micro\".\n",
    "        \n",
    "    Returns:\n",
    "        float: Specyficzność klasyfikacji.\n",
    "    \"\"\"\n",
    "    y_pred_labels = np.argmax(y_hat, axis=1)\n",
    "    y_true_labels = np.argmax(y, axis=1)\n",
    "    num_classes = y.shape[1]\n",
    "    TN = np.zeros(num_classes)\n",
    "    FP = np.zeros(num_classes)\n",
    "\n",
    "    for c in range(num_classes):\n",
    "        TN[c] = np.sum((y_pred_labels != c) & (y_true_labels != c))\n",
    "        FP[c] = np.sum((y_pred_labels == c) & (y_true_labels != c))\n",
    "\n",
    "    specificity_per_class = TN / (TN + FP + 1e-9)  # Avoid division by 0\n",
    "    if average == \"micro\":\n",
    "        return np.sum(TN) / (np.sum(TN) + np.sum(FP) + 1e-9)\n",
    "    elif average == \"macro\":\n",
    "        return np.mean(specificity_per_class) \n"
   ]
  },
  {
   "cell_type": "markdown",
   "id": "a3319f698d1d7d77",
   "metadata": {
    "collapsed": false
   },
   "source": [
    "Zatrzymaj się w tym miejscu na chwilę i poeksperymentuj z dotychczas zaimplementowanymi funkcjami i danymi testowymi. Spróbuj zrozumieć, jak działają poszczególne miary oceny klasyfikatorów. Możesz ograniczyć się do uśredniania wyników \"micro\"."
   ]
  },
  {
   "cell_type": "code",
   "execution_count": 8,
   "id": "a46197729b7aadf5",
   "metadata": {
    "collapsed": false
   },
   "outputs": [
    {
     "name": "stdout",
     "output_type": "stream",
     "text": [
      "        Metric  y_hat_0  y_hat_1\n",
      "0     Accuracy      0.5      0.5\n",
      "1    Precision      0.5      0.5\n",
      "2       Recall      0.5      0.5\n",
      "3  Specificity      0.5      0.5\n"
     ]
    }
   ],
   "source": [
    "import pandas as pd\n",
    "\n",
    "metrics = [\"Accuracy\", \"Precision\", \"Recall\", \"Specificity\"]\n",
    "values_0 = [\n",
    "    accuracy(y_hat_0, y),\n",
    "    precision(y_hat_0, y),\n",
    "    recall(y_hat_0, y),\n",
    "    specificity(y_hat_0, y)\n",
    "]\n",
    "\n",
    "values_1 = [\n",
    "    accuracy(y_hat_1, y),\n",
    "    precision(y_hat_1, y),\n",
    "    recall(y_hat_1, y),\n",
    "    specificity(y_hat_1, y)\n",
    "]\n",
    "\n",
    "df = pd.DataFrame({\"Metric\": metrics, \"y_hat_0\": values_0, \"y_hat_1\": values_1})\n",
    "print(df)"
   ]
  },
  {
   "cell_type": "markdown",
   "id": "ba83186dc89ad616",
   "metadata": {
    "collapsed": false
   },
   "source": [
    "Odpowiedz na pytanie\n",
    "\n",
    "1. Czy zaimplementowane funkcje mogą być wystarczające do oceny modeli klasyfikacyjnych? Jeśli nie, to dlaczego? Jeśli tak, to w jakich przypadkach?\n",
    "\n",
    "Nie, zaimplementowane funkcje z reguły są niewystarczające do pełnej oceny modeli klasyfikacyjnych. Podstawowe metryki, takie jak accuracy, precision, recall i specificity, dają ogólny obraz działania modelu, ale mogą nie odzwierciedlać jego skuteczności w każdym przypadku. Bardzo uwypuklają one wady podejścia micro i macro averaging. Micro-averaging faworyzuje dominujące klasy, co może prowadzić do zawyżonej oceny modelu w nierównomiernych zbiorach danych. Macro-averaging traktuje każdą klasę jednakowo, ale nie uwzględnia różnic w rozkładzie klas."
   ]
  },
  {
   "cell_type": "code",
   "execution_count": 9,
   "id": "c66035216d71904e",
   "metadata": {
    "collapsed": false
   },
   "outputs": [],
   "source": [
    "def f1(y_hat: np.ndarray, y: np.ndarray, average: Literal[\"micro\", \"macro\"] = \"micro\") -> float:\n",
    "    \"\"\"Funkcja obliczająca miarę F1. Funkcja powinna wspierać klasyfikację wieloklasową.\n",
    "    \n",
    "    Args:\n",
    "        y_hat (np.ndarray): Macierz z predykacjami modelu o wymiarach `(n, c)`. \n",
    "        y (np.ndarray): Macierz z prawdziwymi klasami o wymiarach `(n, c)`. \n",
    "        average (\"micro\" | \"macro\"): Typ uśredniania wyników. Domyślnie \"micro\".\n",
    "        \n",
    "    Returns:\n",
    "        float: Specyficzność klasyfikacji.\n",
    "    \"\"\"\n",
    "\n",
    "    y_pred_labels = np.argmax(y_hat, axis=1)\n",
    "    y_true_labels = np.argmax(y, axis=1)\n",
    "    num_classes = y.shape[1]\n",
    "\n",
    "    TP = np.zeros(num_classes)\n",
    "    FP = np.zeros(num_classes)\n",
    "    FN = np.zeros(num_classes)\n",
    "\n",
    "    for c in range(num_classes):\n",
    "        TP[c] = np.sum((y_pred_labels == c) & (y_true_labels == c))\n",
    "        FP[c] = np.sum((y_pred_labels == c) & (y_true_labels != c))\n",
    "        FN[c] = np.sum((y_pred_labels != c) & (y_true_labels == c))\n",
    "\n",
    "    precision_per_class = TP / (TP + FP + 1e-9)  # Avoid division by 0\n",
    "    recall_per_class = TP / (TP + FN + 1e-9)\n",
    "\n",
    "    f1_per_class = 2 * (precision_per_class * recall_per_class) / (precision_per_class + recall_per_class + 1e-9)\n",
    "\n",
    "    if average == \"micro\":\n",
    "        precision_micro = np.sum(TP) / (np.sum(TP) + np.sum(FP) + 1e-9)\n",
    "        recall_micro = np.sum(TP) / (np.sum(TP) + np.sum(FN) + 1e-9)\n",
    "        return 2 * (precision_micro * recall_micro) / (precision_micro + recall_micro + 1e-9)\n",
    "    elif average == \"macro\":\n",
    "        return np.mean(f1_per_class)"
   ]
  },
  {
   "cell_type": "code",
   "execution_count": 10,
   "id": "dde129f8a3d82ffa",
   "metadata": {
    "collapsed": false
   },
   "outputs": [],
   "source": [
    "def g_mean(y_hat: np.ndarray, y: np.ndarray) -> float:\n",
    "    \"\"\"Funkcja obliczająca miarę G-mean. Funkcja powinna wspierać klasyfikację wieloklasową.\n",
    "    \n",
    "    Args:\n",
    "        y_hat (np.ndarray): Macierz z predykacjami modelu o wymiarach `(n, c)`. \n",
    "        y (np.ndarray): Macierz z prawdziwymi klasami o wymiarach `(n, c)`. \n",
    "        \n",
    "    Returns:\n",
    "        float: Specyficzność klasyfikacji.\n",
    "    \"\"\"\n",
    "    y_pred_labels = np.argmax(y_hat, axis=1)\n",
    "    y_true_labels = np.argmax(y, axis=1)\n",
    "    num_classes = y.shape[1]\n",
    "\n",
    "    TP = np.zeros(num_classes)\n",
    "    FN = np.zeros(num_classes)\n",
    "    TN = np.zeros(num_classes)\n",
    "    FP = np.zeros(num_classes)\n",
    "\n",
    "    for c in range(num_classes):\n",
    "        TP[c] = np.sum((y_pred_labels == c) & (y_true_labels == c))\n",
    "        FN[c] = np.sum((y_pred_labels != c) & (y_true_labels == c))\n",
    "        TN[c] = np.sum((y_pred_labels != c) & (y_true_labels != c))\n",
    "        FP[c] = np.sum((y_pred_labels == c) & (y_true_labels != c))\n",
    "\n",
    "    sensitivity_per_class = TP / (TP + FN + 1e-9)  # Avoid division by 0\n",
    "    specificity_per_class = TN / (TN + FP + 1e-9)  # Avoid division by 0\n",
    "    g_mean_per_class = np.sqrt(sensitivity_per_class * specificity_per_class)\n",
    "    return np.mean(g_mean_per_class)"
   ]
  },
  {
   "cell_type": "code",
   "execution_count": 11,
   "id": "8df6ca37c55b18c9",
   "metadata": {
    "collapsed": false
   },
   "outputs": [],
   "source": [
    "def balanced_accuracy(y_hat: np.ndarray, y: np.ndarray) -> float:\n",
    "    \"\"\"Funkcja obliczająca zbalansowaną dokładność klasyfikacji. Funkcja powinna wspierać klasyfikację wieloklasową.\n",
    "    \n",
    "    Args:\n",
    "        y_hat (np.ndarray): Macierz z predykacjami modelu o wymiarach `(n, c)`. \n",
    "        y (np.ndarray): Macierz z prawdziwymi klasami o wymiarach `(n, c)`. \n",
    "        \n",
    "    Returns:\n",
    "        float: Zbalansowana dokładność klasyfikacji.\n",
    "    \"\"\"\n",
    "    y_pred_labels = np.argmax(y_hat, axis=1)\n",
    "    y_true_labels = np.argmax(y, axis=1)\n",
    "    num_classes = y.shape[1]\n",
    "\n",
    "    TP = np.zeros(num_classes)\n",
    "    FN = np.zeros(num_classes)\n",
    "    TN = np.zeros(num_classes)\n",
    "    FP = np.zeros(num_classes)\n",
    "\n",
    "    for c in range(num_classes):\n",
    "        TP[c] = np.sum((y_pred_labels == c) & (y_true_labels == c))\n",
    "        FN[c] = np.sum((y_pred_labels != c) & (y_true_labels == c))\n",
    "        TN[c] = np.sum((y_pred_labels != c) & (y_true_labels != c))\n",
    "        FP[c] = np.sum((y_pred_labels == c) & (y_true_labels != c))\n",
    "\n",
    "    sensitivity_per_class = TP / (TP + FN + 1e-9)  # Avoid division by 0\n",
    "    specificity_per_class = TN / (TN + FP + 1e-9)  # Avoid division by 0\n",
    "\n",
    "    balanced_acc_per_class = (sensitivity_per_class + specificity_per_class) / 2\n",
    "    return np.mean(balanced_acc_per_class)"
   ]
  },
  {
   "cell_type": "markdown",
   "id": "c62385205b51daab",
   "metadata": {
    "collapsed": false
   },
   "source": [
    "Sprawdź jak zaimplementowane funkcje działają na 3 zbiorach testowych o różnej charakterystyce.\n",
    "\n",
    "### Scenariusz 1"
   ]
  },
  {
   "cell_type": "code",
   "execution_count": 12,
   "id": "e16a90ee7ed90e28",
   "metadata": {
    "collapsed": false
   },
   "outputs": [],
   "source": [
    "# dane silnie niezbalansowane: 80% klasa 0, 10% klasa 1, 5% klasa 2, 5% klasa 3\n",
    "y = np.eye(4)[np.array([0] * 80 + [1] * 10 + [2] * 5 + [3] * 5)]\n",
    "\n",
    "# model przewiduje zawsze klasę 0\n",
    "y_hat_all_0 = np.eye(4)[np.array([0] * 100)]\n",
    "\n",
    "# model poprawnie przewiduje klasy 0 i 1, ale zawsze myli klasy 2 i 3\n",
    "y_hat_partial = np.eye(4)[np.array([0] * 80 + [1] * 10 + [3] * 5 + [2] * 5)]"
   ]
  },
  {
   "cell_type": "code",
   "execution_count": 13,
   "id": "57e1f5c9796f78e3",
   "metadata": {
    "collapsed": false
   },
   "outputs": [
    {
     "name": "stdout",
     "output_type": "stream",
     "text": [
      "              Metric  y_hat_all_0  y_hat_partial\n",
      "0   F1-score (micro)     0.800000       0.900000\n",
      "1   F1-score (macro)     0.222222       0.500000\n",
      "2             G-mean     0.000000       0.500000\n",
      "3  Balanced Accuracy     0.500000       0.736842\n"
     ]
    }
   ],
   "source": [
    "metrics = [\"F1-score (micro)\", \"F1-score (macro)\", \"G-mean\", \"Balanced Accuracy\"]\n",
    "values_all_0 = [\n",
    "    f1(y_hat_all_0, y, average=\"micro\"),\n",
    "    f1(y_hat_all_0, y, average=\"macro\"),\n",
    "    g_mean(y_hat_all_0, y),\n",
    "    balanced_accuracy(y_hat_all_0, y),\n",
    "]\n",
    "\n",
    "values_partial = [\n",
    "    f1(y_hat_partial, y, average=\"micro\"),\n",
    "    f1(y_hat_partial, y, average=\"macro\"),\n",
    "    g_mean(y_hat_partial, y),\n",
    "    balanced_accuracy(y_hat_partial, y),\n",
    "]\n",
    "\n",
    "df = pd.DataFrame({\"Metric\": metrics, \"y_hat_all_0\": values_all_0, \"y_hat_partial\": values_partial})\n",
    "print(df)\n"
   ]
  },
  {
   "cell_type": "markdown",
   "id": "c1487d4cd26ef875",
   "metadata": {
    "collapsed": false
   },
   "source": [
    "### Scenariusz 2"
   ]
  },
  {
   "cell_type": "code",
   "execution_count": 14,
   "id": "8b8c265d49fd7bf7",
   "metadata": {
    "collapsed": false
   },
   "outputs": [],
   "source": [
    "# dane niezbalansowane: 50 próbek klasy 0, 25 klasy 1, 15 klasy 2, 10 klasy 3\n",
    "y = np.eye(4)[np.array([0] * 50 + [1] * 25 + [2] * 15 + [3] * 10)]\n",
    "\n",
    "# Model przewiduje 60 próbek jako klasa 0, reszta losowo\n",
    "np.random.seed(42)\n",
    "y_hat = np.eye(4)[np.array([0] * 60 + list(np.random.choice([1, 2, 3], size=40)))]"
   ]
  },
  {
   "cell_type": "code",
   "execution_count": 15,
   "id": "e984b110f3685b18",
   "metadata": {
    "collapsed": false
   },
   "outputs": [
    {
     "name": "stdout",
     "output_type": "stream",
     "text": [
      "              Metric     y_hat\n",
      "0   F1-score (micro)  0.650000\n",
      "1   F1-score (macro)  0.486532\n",
      "2             G-mean  0.635827\n",
      "3  Balanced Accuracy  0.695343\n"
     ]
    }
   ],
   "source": [
    "values_scenario_2 = [\n",
    "    f1(y_hat, y, average=\"micro\"),\n",
    "    f1(y_hat, y, average=\"macro\"),\n",
    "    g_mean(y_hat, y),\n",
    "    balanced_accuracy(y_hat, y),\n",
    "]\n",
    "\n",
    "df_scenario_2 = pd.DataFrame({\"Metric\": metrics, \"y_hat\": values_scenario_2})\n",
    "print(df_scenario_2)\n"
   ]
  },
  {
   "cell_type": "markdown",
   "id": "cec7fae84b99b8c2",
   "metadata": {
    "collapsed": false
   },
   "source": [
    "### Scenariusz 3"
   ]
  },
  {
   "cell_type": "code",
   "execution_count": 16,
   "id": "d57f67d7fb780945",
   "metadata": {
    "collapsed": false
   },
   "outputs": [],
   "source": [
    "# dane niezbalansowane jak w Scenariuszu 2\n",
    "y = np.eye(4)[np.array([0] * 50 + [1] * 25 + [2] * 15 + [3] * 10)]\n",
    "\n",
    "# model losowy\n",
    "np.random.seed(0)\n",
    "y_hat = np.eye(4)[np.random.choice([0, 1, 2, 3], size=100)]"
   ]
  },
  {
   "cell_type": "code",
   "execution_count": 17,
   "id": "d8bd935c809a3a9c",
   "metadata": {
    "collapsed": false
   },
   "outputs": [
    {
     "name": "stdout",
     "output_type": "stream",
     "text": [
      "              Metric     y_hat\n",
      "0   F1-score (micro)  0.240000\n",
      "1   F1-score (macro)  0.222757\n",
      "2             G-mean  0.433932\n",
      "3  Balanced Accuracy  0.503415\n"
     ]
    }
   ],
   "source": [
    "values_scenario_3 = [\n",
    "    f1(y_hat, y, average=\"micro\"),\n",
    "    f1(y_hat, y, average=\"macro\"),\n",
    "    g_mean(y_hat, y),\n",
    "    balanced_accuracy(y_hat, y),\n",
    "]\n",
    "\n",
    "df_scenario_3 = pd.DataFrame({\"Metric\": metrics, \"y_hat\": values_scenario_3})\n",
    "print(df_scenario_3)"
   ]
  },
  {
   "cell_type": "markdown",
   "id": "ea9722a8773175ca",
   "metadata": {
    "collapsed": false
   },
   "source": [
    "### Pytania\n",
    "\n",
    "Odpowiedz na pytania:\n",
    "1. Jakie różnice daje uśrednianie wyników \"micro\" w porównaniu do \"macro\"? Dla jakich danych warto użyć jednego, a dla jakich drugiego sposobu uśredniania wyników?\n",
    "2. Dlaczego warto stosować zbalansowaną dokładność (balanced accuracy) zamiast zwykłej dokładności (accuracy)? \n",
    "3. Dlaczego warto stosować miarę G-mean zamiast F1? Dla jakich scenariuszy miara G-mean pozwala na bardziej adekwatną ocenę modelu?"
   ]
  },
  {
   "cell_type": "markdown",
   "id": "ce3ed0e4",
   "metadata": {},
   "source": [
    "1. Micro averaging sumuje wszystkie prawdziwe pozytywy, fałszywe pozytywy i fałszywe negatywy przed obliczeniem miary, więc lepiej sprawdza się w przypadku niezbalansowanych danych, gdy zależy nam na ogólnej skuteczności modelu. Macro averaging liczy miary dla każdej klasy osobno i następnie uśrednia wyniki, co daje równą wagę wszystkim klasom, nawet tym rzadkim, więc jest bardziej odpowiednie, gdy chcemy ocenić model dla każdej klasy niezależnie.\n",
    "2. Zwykła dokładność może być myląca w przypadku niezbalansowanych danych, ponieważ model może osiągać wysoką dokładność, przewidując tylko najczęstszą klasę. Zbalansowana dokładność koryguje ten problem, uwzględniając wyniki dla każdej klasy osobno, dzięki czemu lepiej odzwierciedla jakość klasyfikacji w przypadku nierównomiernego rozkładu klas.\n",
    "3. G-mean lepiej oddaje jakość modelu w przypadku niezbalansowanych danych, ponieważ uwzględnia zarówno czułość (recall) dla każdej klasy, jak i specyficzność, co zapobiega faworyzowaniu większościowej klasy. Jest bardziej odpowiedni w zadaniach, gdzie ważne jest, aby model dobrze rozpoznawał również klasy mniejszościowe, np. w wykrywaniu chorób czy anomalii."
   ]
  },
  {
   "cell_type": "markdown",
   "id": "390faf8e900a486c",
   "metadata": {
    "collapsed": false
   },
   "source": [
    "# Zadanie 2: k-folds cross-validation\n",
    "\n",
    "Zaimplementuj funkcję `split_to_k_folds`, która dokona podziału danych na `k` zbiorów treningowych i testowych. Następnie dokonaj analizy wpływu stratyfikacji na postrzegane ryzyko modelu."
   ]
  },
  {
   "cell_type": "code",
   "execution_count": 18,
   "id": "c243ea61ae1867c7",
   "metadata": {
    "collapsed": false
   },
   "outputs": [],
   "source": [
    "def split_to_k_folds(x: np.ndarray, y: np.ndarray, k: int = 5, stratify: bool = True\n",
    "                     ) -> list[tuple[tuple[np.ndarray, np.ndarray], tuple[np.ndarray, np.ndarray]]]:\n",
    "    \"\"\"Funkcja implementująca k-krotną walidację krzyżową.\n",
    "    \n",
    "    W przypadku stratyfikacji, funkcja powinna zachować proporcje klas w podziałach. W tym celu można \n",
    "    wykorzystać prosty algorytm zaproponowany podczas laboratorium.\n",
    "    \n",
    "    Funkcja powinna zwracać listę krotek, gdzie każda krotka zawiera dane podzielone na zbiór treningowy i testowy.\n",
    "    Rozwiązanie to w oczywisty sposób nie jest optymalne pod względem pamięciowym, ale taki format zwracania danych\n",
    "    pomoże w dalszej części zadania.\n",
    "    \n",
    "    Args:\n",
    "        x (np.ndarray): Macierz z danymi o wymiarach `(n, d)`.\n",
    "        y (np.ndarray): Macierz z etykietami o wymiarach `(n, c)`.\n",
    "        k (int): Liczba podziałów zbioru danych. Domyślnie 5.\n",
    "        stratify (bool): Czy zachować proporcje klas w podziałach. Domyślnie `True`.\n",
    "    \n",
    "    Returns:\n",
    "        list[tuple[np.ndarray]]: Lista krotek z podziałami danych na zbiór treningowy i testowy.\n",
    "    \"\"\"\n",
    "    if stratify:\n",
    "        indices = np.argsort(y, axis=0).flatten()\n",
    "        x_sorted = x[indices]\n",
    "        y_sorted = y[indices]\n",
    "        folds = []\n",
    "        \n",
    "        for i in range(k):\n",
    "            test_indices = np.arange(i, len(x_sorted), k)\n",
    "            x_test = x_sorted[test_indices]\n",
    "            y_test = y_sorted[test_indices]\n",
    "            # The rest belongs to the train set\n",
    "            train_indices = np.setdiff1d(np.arange(len(x_sorted)), test_indices)\n",
    "            x_train = x_sorted[train_indices]\n",
    "            y_train = y_sorted[train_indices]\n",
    "            folds.append(((x_train, y_train), (x_test, y_test)))\n",
    "    \n",
    "        return folds\n",
    "\n",
    "    else:\n",
    "        folds = []\n",
    "\n",
    "        for i in range(k):\n",
    "            test_indices = np.arange(i, len(x), k)\n",
    "            x_test = x[test_indices]\n",
    "            y_test = y[test_indices]\n",
    "            # The rest belongs to the train set\n",
    "            train_indices = np.setdiff1d(np.arange(len(x)), test_indices)\n",
    "            x_train = x[train_indices]\n",
    "            y_train = y[train_indices]\n",
    "            folds.append(((x_train, y_train), (x_test, y_test)))\n",
    "        \n",
    "        return folds"
   ]
  },
  {
   "cell_type": "markdown",
   "id": "caf14d0ff078642e",
   "metadata": {
    "collapsed": false
   },
   "source": [
    "Przykładowe dane testowe. Zwróć uwagę, że dane te są niezbalansowane. Możesz dokonać modyfikacji danych, aby zobaczyć, jak zachowuje się algorytm w zależności od charakterystyki danych."
   ]
  },
  {
   "cell_type": "code",
   "execution_count": 19,
   "id": "903fbfac641dfd6a",
   "metadata": {
    "collapsed": false
   },
   "outputs": [
    {
     "data": {
      "image/png": "[encoded data removed]",
      "text/plain": [
       "<Figure size 640x480 with 1 Axes>"
      ]
     },
     "metadata": {},
     "output_type": "display_data"
    }
   ],
   "source": [
    "import matplotlib.pyplot as plt\n",
    "\n",
    "n0 = 1000\n",
    "n1 = 50\n",
    "\n",
    "np.random.seed(42)\n",
    "x1 = np.random.randn(n0, 2) * 1.2\n",
    "x2 = np.random.randn(n1, 2) + [2, 2]\n",
    "\n",
    "x = np.vstack([x1, x2])\n",
    "y = np.array([0] * n0 + [1] * n1)\n",
    "\n",
    "plt.scatter(x[:, 0], x[:, 1], c=y)\n",
    "plt.show()"
   ]
  },
  {
   "cell_type": "code",
   "execution_count": 20,
   "id": "ccc424be6e2c6b1d",
   "metadata": {
    "collapsed": false
   },
   "outputs": [],
   "source": [
    "splits_stratified = split_to_k_folds(x, y, k=5, stratify=True)\n",
    "splits = split_to_k_folds(x, y, k=5, stratify=False)"
   ]
  },
  {
   "cell_type": "markdown",
   "id": "bdb42ca701f371e1",
   "metadata": {
    "collapsed": false
   },
   "source": [
    "Przeprowadź walidację krzyżową dla klasyfikatora `GaussianNB` na danych z poprzedniego kroku. Porównaj wyniki dla obu wariantów podziału danych. Na podstawie obserwacji z poprzedniego zadania, wybierz miary oceny klasyfikatora, które uznasz za najbardziej adekwatne do tego zadania. \n",
    "\n",
    "Poniższą komórkę możesz dowolnie modyfikować, aby np. obliczać kilka miar jednocześnie. "
   ]
  },
  {
   "cell_type": "code",
   "execution_count": 21,
   "id": "e1c837ad",
   "metadata": {},
   "outputs": [],
   "source": [
    "def to_one_hot(y, num_classes=None):\n",
    "    \"\"\"\n",
    "    Funkcja konwertująca etykiety na format one-hot.\n",
    "    \n",
    "    Args:\n",
    "    - y (np.ndarray): Wektory etykiet (1D, np.array) z wartościami klas.\n",
    "    - num_classes (int): Liczba klas. Jeśli None, funkcja ustali liczbę klas na podstawie danych wejściowych.\n",
    "    \n",
    "    Returns:\n",
    "    - np.ndarray: Macierz one-hot o wymiarach (n_samples, num_classes).\n",
    "    \"\"\"\n",
    "    if num_classes is None:\n",
    "        num_classes = np.max(y) + 1\n",
    "    \n",
    "    one_hot = np.zeros((y.shape[0], num_classes), dtype=int)\n",
    "    one_hot[np.arange(y.shape[0]), y] = 1\n",
    "    \n",
    "    return one_hot"
   ]
  },
  {
   "cell_type": "code",
   "execution_count": 22,
   "id": "988b351a93bcdb86",
   "metadata": {
    "collapsed": false
   },
   "outputs": [
    {
     "name": "stdout",
     "output_type": "stream",
     "text": [
      "Splits:  0.8449 +/-  0.0144\n",
      "Splits stratified:  0.8700 +/-  0.1066\n"
     ]
    }
   ],
   "source": [
    "from sklearn.naive_bayes import GaussianNB\n",
    "\n",
    "metrics = []\n",
    "\n",
    "for (x_train, y_train), (x_test, y_test) in splits:\n",
    "    model = GaussianNB()\n",
    "    model.fit(x_train, y_train)\n",
    "    y_hat = model.predict(x_test)\n",
    "    # Convert to the appropriate type\n",
    "    y_test_one_hot = to_one_hot(y_test)\n",
    "    y_hat_one_hot = to_one_hot(y_hat)\n",
    "    metrics.append(\n",
    "        balanced_accuracy(y_test_one_hot, y_hat_one_hot)\n",
    "    )\n",
    "\n",
    "print(f\"Splits: {np.mean(metrics): .4f} +/- {np.std(metrics): .4f}\")\n",
    "\n",
    "metrics = []\n",
    "\n",
    "for (x_train, y_train), (x_test, y_test) in splits_stratified:\n",
    "    model = GaussianNB()\n",
    "    model.fit(x_train, y_train)\n",
    "    y_hat = model.predict(x_test)\n",
    "    y_test_one_hot = to_one_hot(y_test)\n",
    "    y_hat_one_hot = to_one_hot(y_hat)\n",
    "    metrics.append(\n",
    "        balanced_accuracy(y_test_one_hot, y_hat_one_hot)\n",
    "    )\n",
    "\n",
    "print(f\"Splits stratified: {np.mean(metrics): .4f} +/- {np.std(metrics): .4f}\")"
   ]
  },
  {
   "cell_type": "markdown",
   "id": "fa6234ff28d28cd1",
   "metadata": {
    "collapsed": false
   },
   "source": [
    "### Pytania\n",
    "\n",
    "Odpowiedz na pytania:\n",
    "1. Jaka była Twoja motywacja do wybrania konkretnych miar klasyfikacji?\n",
    "2. Dla jakich danych warto zastosować stratyfikację podczas walidacji krzyżowej?\n",
    "3. Jakie ryzyko niesie za sobą losowy podział danych na dwa zbiory (treningowy i testowy), zamiast używania walidacji krzyżowej ze stratyfikacją?"
   ]
  },
  {
   "cell_type": "markdown",
   "id": "cd56af26",
   "metadata": {},
   "source": [
    "1. Balanced Accuracy i G-mean to dobre miary, szczególnie w przypadku niezbilansowanych danych. Balanced Accuracy uwzględnia dokładność dla każdej klasy, traktując je równorzędnie, co pomaga uniknąć błędnych wniosków przy dominacji jednej klasy. G-mean jest również odpowiedni, ponieważ łączy dokładność w obu klasach, minimalizując błędy zarówno dla klasy pozytywnej, jak i negatywnej. Obie miary pomagają uzyskać bardziej sprawiedliwą ocenę modelu w przypadku niezbilansowanych zbiorów danych (jak wykazano w badaniu danych ze scenariuszy 1-3 z zadania 1).\n",
    "2. Stratyfikacja jest szczególnie ważna, gdy dane są niezbilansowane. Pomaga utrzymać odpowiednią proporcję klas w zbiorach treningowym i testowym, zapewniając wiarygodniejsze wyniki.\n",
    "3. Ryzyko losowego podziału może prowadzić do nierównomiernej reprezentacji klas w zbiorze testowym, co daje niestabilne i nierealistyczne wyniki, szczególnie dla danych niezbilansowanych. Może prowadzić to do przeuczenia. Przykładowo model może nauczyć się zawsze przewidywać najczęściej występującą klasę, jeśli w zbiorze testowym pojawiło się zbyt mało kontrprzykładów należących do innych klas. Walidacja krzyżowa ze stratyfikacją zmniejsza to ryzyko."
   ]
  }
 ],
 "metadata": {
  "kernelspec": {
   "display_name": "Python 3",
   "language": "python",
   "name": "python3"
  },
  "language_info": {
   "codemirror_mode": {
    "name": "ipython",
    "version": 3
   },
   "file_extension": ".py",
   "mimetype": "text/x-python",
   "name": "python",
   "nbconvert_exporter": "python",
   "pygments_lexer": "ipython3",
   "version": "3.11.3"
  }
 },
 "nbformat": 4,
 "nbformat_minor": 5
}
